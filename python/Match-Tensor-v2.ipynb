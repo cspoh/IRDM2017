{
 "cells": [
  {
   "cell_type": "markdown",
   "metadata": {},
   "source": [
    "# Match tensor v2\n",
    "## NOTE: no where close to fully functional."
   ]
  },
  {
   "cell_type": "code",
   "execution_count": 197,
   "metadata": {
    "collapsed": false
   },
   "outputs": [],
   "source": [
    "import json\n",
    "import os\n",
    "import sys\n",
    "import numpy as np\n",
    "from gensim.models import Word2Vec\n",
    "from keras.preprocessing import sequence\n",
    "from keras.layers import merge, Dense, Input,Dropout, Embedding, LSTM, Bidirectional, Activation\n",
    "from keras.layers import Conv2D\n",
    "from keras.layers.merge import dot, multiply, add, concatenate\n",
    "from keras.layers import Merge\n",
    "from keras.layers.core import Lambda,Reshape, Flatten\n",
    "from keras.layers.pooling import GlobalMaxPooling2D\n",
    "from keras.models import Model\n",
    "from keras.backend import transpose,batch_dot,expand_dims\n",
    "from keras import optimizers\n",
    "from HomeDepotCSVReader import HomeDepotReader\n",
    "import Utilities\n",
    "from DataPreprocessing import DataPreprocessing\n",
    "from Feature_Word2Vec import Feature_Word2Vec\n",
    "from AutomaticQueryExpansion import Word2VecQueryExpansion\n",
    "import re\n",
    "from nltk.corpus import stopwords\n",
    "from keras.utils.np_utils import to_categorical\n",
    "import pandas as pd\n",
    "from FeatureEngineering import HomeDepotFeature\n",
    "from keras.layers.wrappers import TimeDistributed"
   ]
  },
  {
   "cell_type": "code",
   "execution_count": 2,
   "metadata": {
    "collapsed": true
   },
   "outputs": [],
   "source": [
    "# train_filename = '../data/train_play.csv'\n",
    "# test_filename = '../data/test_play.csv'\n",
    "# attribute_filename = '../data/attributes_play.csv'\n",
    "# description_filename = '../data/product_descriptions_play.csv'\n",
    "# word2vec_model_path='model/word2vec_play.model'\n",
    "# vocab_path='model/word2vec_play_vocab.json'\n",
    "# embeddings_path='model/embeddings_play.npz'\n",
    "\n",
    "train_filename = '../data/train.csv'\n",
    "test_filename = '../data/test.csv'\n",
    "soln_filename = '../data/solution.csv'\n",
    "attribute_filename = '../data/attributes.csv'\n",
    "description_filename = '../data/product_descriptions.csv'\n",
    "word2vec_model_path='model/word2vec.model'\n",
    "vocab_path='model/word2vec_vocab.json'\n",
    "embeddings_path='model/embeddings.npz'"
   ]
  },
  {
   "cell_type": "code",
   "execution_count": 3,
   "metadata": {
    "collapsed": false
   },
   "outputs": [
    {
     "name": "stdout",
     "output_type": "stream",
     "text": [
      "===========Tranforming labels...\n",
      "showing current values\n",
      "trainDF: ['id', 'product_uid', 'search_term', 'relevance']\n",
      "trainDF:    id  product_uid    search_term  relevance\n",
      "0   2       100001  angle bracket        3.0\n",
      "self.mergedLabelDF: ['relevance'] \n",
      " <class 'pandas.core.frame.DataFrame'> (74067, 1)    relevance\n",
      "0        3.0\n",
      "Old unique Labels: [ 1.    1.25  1.33  1.5   1.67  1.75  2.    2.25  2.33  2.5   2.67  2.75\n",
      "  3.  ]\n",
      "newLabels: [ 0  1  2  3  4  5  6  7  8  9 10 11 12]\n",
      "Creating new column for training:  relevance_int\n",
      "===========Transform labels completed\n",
      "train_query_df: ['id', 'product_uid', 'search_term', 'relevance', 'relevance_int', 'product_idx']\n",
      "product_df: ['product_title', 'product_uid', 'product_description']\n",
      "attribute_df: ['product_uid', 'name', 'value']\n",
      "test_query_df: ['id', 'product_uid', 'search_term']\n"
     ]
    }
   ],
   "source": [
    "reader = HomeDepotReader()\n",
    "\n",
    "train_query_df, product_df, attribute_df, test_query_df = reader.getQueryProductAttributeDataFrame(train_filename,\n",
    "                                              test_filename,\n",
    "                                              attribute_filename,\n",
    "                                              description_filename)\n",
    "print(\"train_query_df:\",list(train_query_df))\n",
    "print(\"product_df:\", list(product_df))\n",
    "print(\"attribute_df:\", list(attribute_df))\n",
    "print(\"test_query_df:\", list(test_query_df))"
   ]
  },
  {
   "cell_type": "code",
   "execution_count": 5,
   "metadata": {
    "collapsed": false
   },
   "outputs": [],
   "source": [
    "#transform attribute into doc\n",
    "dp = DataPreprocessing()\n",
    "attribute_doc_df = dp.getAttributeDoc(attribute_df)\n",
    "#attribute_doc_df\n",
    "product_df=product_df.join(attribute_doc_df.set_index('product_uid'), on = 'product_uid')"
   ]
  },
  {
   "cell_type": "code",
   "execution_count": 6,
   "metadata": {
    "collapsed": true
   },
   "outputs": [],
   "source": [
    "# product_df['content'] = train_query_df['search_term'].map(str) + \" \" + \\\n",
    "#                         product_df['product_title'].map(str) + \" \" + \\\n",
    "#                         product_df['product_description'].map(str) + \" \" + \\\n",
    "#                         product_df['attr_json'].map(str)\n",
    "\n",
    "product_df['content'] = product_df['product_title'].map(str) + \" \" + \\\n",
    "                        product_df['product_description'].map(str) \n",
    "\n",
    "# ## no attribute\n",
    "# product_df['content'] = product_df['product_title'].map(str) + \" \" + \\\n",
    "#                         product_df['product_description'].map(str) \n",
    "        \n",
    "#product_df['content']"
   ]
  },
  {
   "cell_type": "code",
   "execution_count": 9,
   "metadata": {
    "collapsed": false
   },
   "outputs": [],
   "source": [
    "### test data\n",
    "soln_df = pd.read_csv(soln_filename, delimiter=',', low_memory=False, encoding=\"ISO-8859-1\")\n",
    "test_private_df = dp.getGoldTestSet(test_query_df, soln_df, testsetoption='Private')#,savepath='../data/test_private_gold.csv')\n",
    "test_public_df = dp.getGoldTestSet(test_query_df, soln_df, testsetoption='Public')# savepath='../data/test_public_gold.csv')"
   ]
  },
  {
   "cell_type": "code",
   "execution_count": 118,
   "metadata": {
    "collapsed": false
   },
   "outputs": [
    {
     "name": "stdout",
     "output_type": "stream",
     "text": [
      "Performing spell correction\n",
      "Performing non-ascii removal\n",
      "Non-ascii clean on search_term took: 0.01 minutes\n",
      "Non-ascii clean on product_title took: 0.03 minutes\n",
      "<class 'pandas.core.frame.DataFrame'>\n",
      "RangeIndex: 74067 entries, 0 to 74066\n",
      "Data columns (total 6 columns):\n",
      "id               74067 non-null int64\n",
      "product_uid      74067 non-null int64\n",
      "search_term      74067 non-null object\n",
      "relevance        74067 non-null float64\n",
      "relevance_int    74067 non-null int64\n",
      "product_idx      74067 non-null object\n",
      "dtypes: float64(1), int64(3), object(2)\n",
      "memory usage: 3.4+ MB\n",
      "None\n"
     ]
    }
   ],
   "source": [
    "\n",
    "train_query_df = HomeDepotFeature().getFeature(train_query_df, product_df, attribute_df, test_private_df,\n",
    "                        features=\"spelling,nonascii\")\n",
    "#,stopwords,stemming\n",
    "#\"spelling,nonascii\" no diff."
   ]
  },
  {
   "cell_type": "code",
   "execution_count": 119,
   "metadata": {
    "collapsed": false
   },
   "outputs": [
    {
     "name": "stdout",
     "output_type": "stream",
     "text": [
      "Performing spell correction\n",
      "Performing non-ascii removal\n",
      "Non-ascii clean on search_term took: 0.01 minutes\n",
      "Non-ascii clean on product_title took: 0.03 minutes\n",
      "<class 'pandas.core.frame.DataFrame'>\n",
      "Int64Index: 78419 entries, 2 to 147405\n",
      "Data columns (total 4 columns):\n",
      "id             78419 non-null int64\n",
      "product_uid    78419 non-null int64\n",
      "search_term    78419 non-null object\n",
      "relevance      78419 non-null float64\n",
      "dtypes: float64(1), int64(2), object(1)\n",
      "memory usage: 3.0+ MB\n",
      "None\n"
     ]
    }
   ],
   "source": [
    "test_private_df = HomeDepotFeature().getFeature(test_private_df, product_df, attribute_df, test_private_df,\n",
    "                        features=\"spelling,nonascii\")"
   ]
  },
  {
   "cell_type": "code",
   "execution_count": 120,
   "metadata": {
    "collapsed": false
   },
   "outputs": [
    {
     "name": "stdout",
     "output_type": "stream",
     "text": [
      "Performing spell correction\n",
      "Performing non-ascii removal\n",
      "Non-ascii clean on search_term took: 0.0 minutes\n",
      "Non-ascii clean on product_title took: 0.03 minutes\n",
      "<class 'pandas.core.frame.DataFrame'>\n",
      "Int64Index: 33648 entries, 1 to 147404\n",
      "Data columns (total 4 columns):\n",
      "id             33648 non-null int64\n",
      "product_uid    33648 non-null int64\n",
      "search_term    33648 non-null object\n",
      "relevance      33648 non-null float64\n",
      "dtypes: float64(1), int64(2), object(1)\n",
      "memory usage: 1.3+ MB\n",
      "None\n"
     ]
    }
   ],
   "source": [
    "test_public_df = HomeDepotFeature().getFeature(test_public_df, product_df, attribute_df, test_public_df,\n",
    "                        features=\"spelling,nonascii\")"
   ]
  },
  {
   "cell_type": "code",
   "execution_count": 124,
   "metadata": {
    "collapsed": false
   },
   "outputs": [
    {
     "data": {
      "text/plain": [
       "33648"
      ]
     },
     "execution_count": 124,
     "metadata": {},
     "output_type": "execute_result"
    }
   ],
   "source": [
    "len(test_public_df)"
   ]
  },
  {
   "cell_type": "code",
   "execution_count": 125,
   "metadata": {
    "collapsed": false
   },
   "outputs": [],
   "source": [
    "#https://www.kaggle.com/c/word2vec-nlp-tutorial/details/part-2-word-vectors\n",
    "def doc_to_wordlist( doc, remove_stopwords=False, remove_non_letters=False, remove_non_letters_numbers=True):\n",
    "    # Function to convert a document to a sequence of words,\n",
    "    # optionally removing stop words.  Returns a list of words.\n",
    "    #\n",
    "    # 1. Remove HTML\n",
    "    #review_text = BeautifulSoup(review).get_text()\n",
    "    #  \n",
    "    # 2. Remove non-letters\n",
    "    if remove_non_letters:\n",
    "        doc = re.sub(\"[^a-zA-Z]\",\" \", doc)\n",
    "    # 2a. remove non-letters, numbers\n",
    "    if remove_non_letters_numbers:\n",
    "        doc = re.sub(\"[^a-zA-Z0-9]\",\" \", doc)\n",
    "    #\n",
    "    # 3. Convert words to lower case and split them\n",
    "    words = doc.lower().split()\n",
    "    #\n",
    "    # 4. Optionally remove stop words (false by default)\n",
    "    if remove_stopwords:\n",
    "        stops = set(stopwords.words(\"english\"))\n",
    "        words = [w for w in words if not w in stops]\n",
    "    #\n",
    "    # 5. Return a list of words\n",
    "    return(words)\n",
    "\n",
    "#print(len(doc_to_wordlist(product_df['content'][0],remove_stopwords=True)))\n",
    "#print(len(doc_to_wordlist(product_df['content'][0],remove_stopwords=False)))\n",
    "#product_df['content'][0]"
   ]
  },
  {
   "cell_type": "code",
   "execution_count": 126,
   "metadata": {
    "collapsed": false
   },
   "outputs": [],
   "source": [
    "# # Download the punkt tokenizer for sentence splitting\n",
    "import nltk.data\n",
    "# nltk.download()   \n",
    "\n",
    "# Load the punkt tokenizer\n",
    "tokenizer = nltk.data.load('tokenizers/punkt/english.pickle')"
   ]
  },
  {
   "cell_type": "code",
   "execution_count": 127,
   "metadata": {
    "collapsed": false
   },
   "outputs": [],
   "source": [
    "# Define a function to split a doc into parsed sentences\n",
    "def doc_to_sentences( doc, tokenizer, remove_stopwords=False ):\n",
    "    # Function to split a doc into parsed sentences. Returns a \n",
    "    # list of sentences, where each sentence is a list of words\n",
    "    #\n",
    "    # 1. Use the NLTK tokenizer to split the paragraph into sentences\n",
    "    raw_sentences = tokenizer.tokenize(doc.strip())\n",
    "    #\n",
    "    # 2. Loop over each sentence\n",
    "    sentences = []\n",
    "    for raw_sentence in raw_sentences:\n",
    "        # If a sentence is empty, skip it\n",
    "        if len(raw_sentence) > 0:\n",
    "            # Otherwise, call review_to_wordlist to get a list of words\n",
    "            sentences.append( doc_to_wordlist( raw_sentence, \\\n",
    "              remove_stopwords ))\n",
    "    #\n",
    "    # Return the list of sentences (each sentence is a list of words,\n",
    "    # so this returns a list of lists\n",
    "    return sentences\n"
   ]
  },
  {
   "cell_type": "code",
   "execution_count": 128,
   "metadata": {
    "collapsed": false
   },
   "outputs": [
    {
     "name": "stdout",
     "output_type": "stream",
     "text": [
      "Pelican Water 10 GPM Whole House Carbon Water Filter System for Homes with 1-3 Bathrooms The PC600 Pelican Premium 10 GPM Whole House Carbon Water Filter System For Homes With 1-3 Bathrooms is a deluxe, high-capacity, virtually maintenance-free system that is easily installed in any home and has a 600,000/5-year capacity. Only the top rated valves and tanks are used in manufacturing each Pelican system, backed by an industry-leading limited lifetime parts warranty. Imagine spring-like water through every faucet of your home. Drink, bathe and shower in sparkling clean water with no more dry itchy skin or unpleasant odors from chemicals. The large diameter of the tank holds a significant amount of water filtration carbon media, increasing the overall performance and lifespan, and the replacement cost is a fraction of the cost of similar items. When it comes time to replace the filter, all you have to do is replace the media inside the tank, with no plumbing required and no need to replace the entire tank.Wrapped in premium stainless steel to ensure long life, durability and unsurpassed qualityPelican Carbon series filter features preloaded design that makes it ready to install, minimizes steps and saves timeMinimal filter/media change with the sediment pre-filter every six to nine months; tank 1 media every five years or 1,000,000 gallons; tank 2 media is lifetime media that needs no replacementIncludes sediment pre-filter system with mounting hardwareBacterial static media inhibits bacterial growthEnergy efficient; does not waste water and requires no electricity\n",
      "164\n",
      "['pelican', 'water', 'gpm', 'whole', 'house', 'carbon', 'water', 'filter', 'system', 'homes', 'bathrooms', 'pc', 'pelican', 'premium', 'gpm', 'whole', 'house', 'carbon', 'water', 'filter', 'system', 'homes', 'bathrooms', 'deluxe', 'high', 'capacity', 'virtually', 'maintenance', 'free', 'system', 'easily', 'installed', 'home', 'year', 'capacity', 'top', 'rated', 'valves', 'tanks', 'used', 'manufacturing', 'pelican', 'system', 'backed', 'industry', 'leading', 'limited', 'lifetime', 'parts', 'warranty', 'imagine', 'spring', 'like', 'water', 'every', 'faucet', 'home', 'drink', 'bathe', 'shower', 'sparkling', 'clean', 'water', 'dry', 'itchy', 'skin', 'unpleasant', 'odors', 'chemicals', 'large', 'diameter', 'tank', 'holds', 'significant', 'amount', 'water', 'filtration', 'carbon', 'media', 'increasing', 'overall', 'performance', 'lifespan', 'replacement', 'cost', 'fraction', 'cost', 'similar', 'items', 'comes', 'time', 'replace', 'filter', 'replace', 'media', 'inside', 'tank', 'plumbing', 'required', 'need', 'replace', 'entire', 'tank', 'wrapped', 'premium', 'stainless', 'steel', 'ensure', 'long', 'life', 'durability', 'unsurpassed', 'qualitypelican', 'carbon', 'series', 'filter', 'features', 'preloaded', 'design', 'makes', 'ready', 'install', 'minimizes', 'steps', 'saves', 'timeminimal', 'filter', 'media', 'change', 'sediment', 'pre', 'filter', 'every', 'six', 'nine', 'months', 'tank', 'media', 'every', 'five', 'years', 'gallons', 'tank', 'media', 'lifetime', 'media', 'needs', 'replacementincludes', 'sediment', 'pre', 'filter', 'system', 'mounting', 'hardwarebacterial', 'static', 'media', 'inhibits', 'bacterial', 'growthenergy', 'efficient', 'waste', 'water', 'requires', 'electricity']\n"
     ]
    }
   ],
   "source": [
    "print(product_df['content'][100])\n",
    "print(len(doc_to_wordlist(product_df['content'][100],remove_stopwords=True)))\n",
    "#print(len(doc_to_wordlist(product_df['content'][0],remove_stopwords=False)))\n",
    "print(doc_to_wordlist(product_df['content'][100],remove_stopwords=True))"
   ]
  },
  {
   "cell_type": "code",
   "execution_count": 129,
   "metadata": {
    "collapsed": false
   },
   "outputs": [],
   "source": [
    "# print(len(doc_to_sentences(product_df['content'][0],tokenizer,remove_stopwords=True)))\n",
    "# print(len(doc_to_sentences(product_df['content'][0],tokenizer,remove_stopwords=False)))\n",
    "# product_df['content'][0]"
   ]
  },
  {
   "cell_type": "code",
   "execution_count": 130,
   "metadata": {
    "collapsed": false
   },
   "outputs": [
    {
     "name": "stdout",
     "output_type": "stream",
     "text": [
      "Parsing sentences from search string\n",
      "Parsing sentences from unlabeled set\n"
     ]
    }
   ],
   "source": [
    "sentences = []  # Initialize an empty list of sentences\n",
    "query_sentences = []\n",
    "doc_sentences = []\n",
    "\n",
    "print(\"Parsing sentences from search string\")\n",
    "for query in train_query_df[\"search_term\"]:\n",
    "    query_sentences += [doc_to_wordlist(query, remove_stopwords=True)]\n",
    "\n",
    "print(\"Parsing sentences from unlabeled set\")\n",
    "for doc in product_df['content']:\n",
    "    doc_sentences += [doc_to_wordlist(doc, remove_stopwords=True)]\n",
    "\n",
    "sentences = query_sentences+doc_sentences    "
   ]
  },
  {
   "cell_type": "code",
   "execution_count": 131,
   "metadata": {
    "collapsed": false
   },
   "outputs": [
    {
     "data": {
      "text/plain": [
       "198495"
      ]
     },
     "execution_count": 131,
     "metadata": {},
     "output_type": "execute_result"
    }
   ],
   "source": [
    "len(sentences)"
   ]
  },
  {
   "cell_type": "code",
   "execution_count": 132,
   "metadata": {
    "collapsed": false
   },
   "outputs": [
    {
     "name": "stderr",
     "output_type": "stream",
     "text": [
      "2017-04-04 14:37:34,664 : INFO : collecting all words and their counts\n",
      "2017-04-04 14:37:34,665 : INFO : PROGRESS: at sentence #0, processed 0 words, keeping 0 word types\n",
      "2017-04-04 14:37:34,675 : INFO : PROGRESS: at sentence #10000, processed 27305 words, keeping 3158 word types\n",
      "2017-04-04 14:37:34,683 : INFO : PROGRESS: at sentence #20000, processed 54948 words, keeping 4257 word types\n",
      "2017-04-04 14:37:34,702 : INFO : PROGRESS: at sentence #30000, processed 82693 words, keeping 4718 word types\n",
      "2017-04-04 14:37:34,711 : INFO : PROGRESS: at sentence #40000, processed 109758 words, keeping 4991 word types\n",
      "2017-04-04 14:37:34,720 : INFO : PROGRESS: at sentence #50000, processed 136925 words, keeping 5192 word types\n",
      "2017-04-04 14:37:34,730 : INFO : PROGRESS: at sentence #60000, processed 168240 words, keeping 5608 word types\n",
      "2017-04-04 14:37:34,744 : INFO : PROGRESS: at sentence #70000, processed 201592 words, keeping 5829 word types\n"
     ]
    },
    {
     "name": "stdout",
     "output_type": "stream",
     "text": [
      "Training model...\n"
     ]
    },
    {
     "name": "stderr",
     "output_type": "stream",
     "text": [
      "2017-04-04 14:37:34,881 : INFO : PROGRESS: at sentence #80000, processed 820201 words, keeping 40419 word types\n",
      "2017-04-04 14:37:35,104 : INFO : PROGRESS: at sentence #90000, processed 1805194 words, keeping 72669 word types\n",
      "2017-04-04 14:37:35,318 : INFO : PROGRESS: at sentence #100000, processed 2783421 words, keeping 95967 word types\n",
      "2017-04-04 14:37:35,530 : INFO : PROGRESS: at sentence #110000, processed 3744111 words, keeping 115166 word types\n",
      "2017-04-04 14:37:35,746 : INFO : PROGRESS: at sentence #120000, processed 4723634 words, keeping 132548 word types\n",
      "2017-04-04 14:37:35,961 : INFO : PROGRESS: at sentence #130000, processed 5687008 words, keeping 146974 word types\n",
      "2017-04-04 14:37:36,181 : INFO : PROGRESS: at sentence #140000, processed 6625643 words, keeping 162974 word types\n",
      "2017-04-04 14:37:36,395 : INFO : PROGRESS: at sentence #150000, processed 7569832 words, keeping 176778 word types\n",
      "2017-04-04 14:37:36,609 : INFO : PROGRESS: at sentence #160000, processed 8509922 words, keeping 189195 word types\n",
      "2017-04-04 14:37:36,823 : INFO : PROGRESS: at sentence #170000, processed 9473773 words, keeping 200380 word types\n",
      "2017-04-04 14:37:37,039 : INFO : PROGRESS: at sentence #180000, processed 10432628 words, keeping 209884 word types\n",
      "2017-04-04 14:37:37,245 : INFO : PROGRESS: at sentence #190000, processed 11361881 words, keeping 220412 word types\n",
      "2017-04-04 14:37:37,422 : INFO : collected 228804 word types from a corpus of 12146266 raw words and 198495 sentences\n",
      "2017-04-04 14:37:37,423 : INFO : Loading a fresh vocabulary\n",
      "2017-04-04 14:37:39,885 : INFO : min_count=1 retains 228804 unique words (100% of original 228804, drops 0)\n",
      "2017-04-04 14:37:39,886 : INFO : min_count=1 leaves 12146266 word corpus (100% of original 12146266, drops 0)\n",
      "2017-04-04 14:37:40,950 : INFO : deleting the raw counts dictionary of 228804 items\n",
      "2017-04-04 14:37:40,955 : INFO : sample=0 downsamples 0 most-common words\n",
      "2017-04-04 14:37:40,956 : INFO : downsampling leaves estimated 12146266 word corpus (100.0% of prior 12146266)\n",
      "2017-04-04 14:37:40,957 : INFO : estimated required memory for 228804 words and 100 dimensions: 297445200 bytes\n",
      "2017-04-04 14:37:41,796 : INFO : resetting layer weights\n",
      "2017-04-04 14:37:46,228 : INFO : training model with 4 workers on 228804 vocabulary and 100 features, using sg=0 hs=0 sample=0 negative=5 window=10\n",
      "2017-04-04 14:37:46,229 : INFO : expecting 198495 sentences, matching count from corpus used for vocabulary survey\n",
      "2017-04-04 14:37:47,263 : INFO : PROGRESS: at 7.81% examples, 553150 words/s, in_qsize 7, out_qsize 0\n",
      "2017-04-04 14:37:48,272 : INFO : PROGRESS: at 8.43% examples, 581862 words/s, in_qsize 7, out_qsize 0\n",
      "2017-04-04 14:37:49,280 : INFO : PROGRESS: at 9.04% examples, 585019 words/s, in_qsize 7, out_qsize 0\n",
      "2017-04-04 14:37:50,286 : INFO : PROGRESS: at 9.67% examples, 589546 words/s, in_qsize 7, out_qsize 0\n",
      "2017-04-04 14:37:51,292 : INFO : PROGRESS: at 10.31% examples, 594108 words/s, in_qsize 7, out_qsize 0\n",
      "2017-04-04 14:37:52,308 : INFO : PROGRESS: at 10.95% examples, 596193 words/s, in_qsize 7, out_qsize 0\n",
      "2017-04-04 14:37:53,321 : INFO : PROGRESS: at 11.60% examples, 599375 words/s, in_qsize 7, out_qsize 0\n",
      "2017-04-04 14:37:54,322 : INFO : PROGRESS: at 12.22% examples, 600156 words/s, in_qsize 7, out_qsize 0\n",
      "2017-04-04 14:37:55,338 : INFO : PROGRESS: at 12.88% examples, 601923 words/s, in_qsize 8, out_qsize 0\n",
      "2017-04-04 14:37:56,341 : INFO : PROGRESS: at 13.54% examples, 603155 words/s, in_qsize 7, out_qsize 0\n",
      "2017-04-04 14:37:57,367 : INFO : PROGRESS: at 14.20% examples, 602999 words/s, in_qsize 7, out_qsize 0\n",
      "2017-04-04 14:37:58,372 : INFO : PROGRESS: at 14.87% examples, 604627 words/s, in_qsize 7, out_qsize 0\n",
      "2017-04-04 14:37:59,389 : INFO : PROGRESS: at 15.53% examples, 604775 words/s, in_qsize 7, out_qsize 0\n",
      "2017-04-04 14:38:00,409 : INFO : PROGRESS: at 16.19% examples, 605463 words/s, in_qsize 7, out_qsize 0\n",
      "2017-04-04 14:38:01,410 : INFO : PROGRESS: at 16.84% examples, 606114 words/s, in_qsize 7, out_qsize 0\n",
      "2017-04-04 14:38:02,411 : INFO : PROGRESS: at 17.49% examples, 606724 words/s, in_qsize 7, out_qsize 0\n",
      "2017-04-04 14:38:03,435 : INFO : PROGRESS: at 18.14% examples, 607026 words/s, in_qsize 8, out_qsize 0\n",
      "2017-04-04 14:38:04,438 : INFO : PROGRESS: at 18.81% examples, 607456 words/s, in_qsize 7, out_qsize 0\n",
      "2017-04-04 14:38:05,479 : INFO : PROGRESS: at 19.49% examples, 607148 words/s, in_qsize 7, out_qsize 0\n",
      "2017-04-04 14:38:06,498 : INFO : PROGRESS: at 27.41% examples, 610011 words/s, in_qsize 7, out_qsize 0\n",
      "2017-04-04 14:38:07,531 : INFO : PROGRESS: at 28.09% examples, 610286 words/s, in_qsize 7, out_qsize 0\n",
      "2017-04-04 14:38:08,545 : INFO : PROGRESS: at 28.73% examples, 610621 words/s, in_qsize 7, out_qsize 0\n",
      "2017-04-04 14:38:09,548 : INFO : PROGRESS: at 29.36% examples, 610813 words/s, in_qsize 7, out_qsize 0\n",
      "2017-04-04 14:38:10,563 : INFO : PROGRESS: at 30.02% examples, 611497 words/s, in_qsize 7, out_qsize 0\n",
      "2017-04-04 14:38:11,605 : INFO : PROGRESS: at 30.68% examples, 611090 words/s, in_qsize 7, out_qsize 0\n",
      "2017-04-04 14:38:12,608 : INFO : PROGRESS: at 31.33% examples, 611574 words/s, in_qsize 7, out_qsize 0\n",
      "2017-04-04 14:38:13,608 : INFO : PROGRESS: at 31.98% examples, 612123 words/s, in_qsize 7, out_qsize 0\n",
      "2017-04-04 14:38:14,625 : INFO : PROGRESS: at 32.62% examples, 612272 words/s, in_qsize 7, out_qsize 0\n",
      "2017-04-04 14:38:15,626 : INFO : PROGRESS: at 33.29% examples, 612741 words/s, in_qsize 7, out_qsize 0\n",
      "2017-04-04 14:38:16,638 : INFO : PROGRESS: at 33.96% examples, 612920 words/s, in_qsize 7, out_qsize 0\n",
      "2017-04-04 14:38:17,639 : INFO : PROGRESS: at 34.62% examples, 613019 words/s, in_qsize 7, out_qsize 0\n",
      "2017-04-04 14:38:18,645 : INFO : PROGRESS: at 35.29% examples, 613295 words/s, in_qsize 7, out_qsize 0\n",
      "2017-04-04 14:38:19,662 : INFO : PROGRESS: at 35.96% examples, 613376 words/s, in_qsize 7, out_qsize 0\n",
      "2017-04-04 14:38:20,671 : INFO : PROGRESS: at 36.61% examples, 613588 words/s, in_qsize 7, out_qsize 0\n",
      "2017-04-04 14:38:21,679 : INFO : PROGRESS: at 37.25% examples, 613243 words/s, in_qsize 7, out_qsize 0\n",
      "2017-04-04 14:38:22,684 : INFO : PROGRESS: at 37.90% examples, 613527 words/s, in_qsize 7, out_qsize 0\n",
      "2017-04-04 14:38:23,689 : INFO : PROGRESS: at 38.58% examples, 613789 words/s, in_qsize 7, out_qsize 0\n",
      "2017-04-04 14:38:24,700 : INFO : PROGRESS: at 39.26% examples, 613934 words/s, in_qsize 7, out_qsize 0\n",
      "2017-04-04 14:38:25,735 : INFO : PROGRESS: at 39.94% examples, 613721 words/s, in_qsize 7, out_qsize 0\n",
      "2017-04-04 14:38:26,736 : INFO : PROGRESS: at 47.87% examples, 615524 words/s, in_qsize 7, out_qsize 0\n",
      "2017-04-04 14:38:27,758 : INFO : PROGRESS: at 48.50% examples, 615232 words/s, in_qsize 6, out_qsize 1\n",
      "2017-04-04 14:38:28,770 : INFO : PROGRESS: at 49.14% examples, 615307 words/s, in_qsize 7, out_qsize 0\n",
      "2017-04-04 14:38:29,772 : INFO : PROGRESS: at 49.78% examples, 615288 words/s, in_qsize 7, out_qsize 0\n",
      "2017-04-04 14:38:30,788 : INFO : PROGRESS: at 50.43% examples, 615322 words/s, in_qsize 7, out_qsize 0\n",
      "2017-04-04 14:38:31,795 : INFO : PROGRESS: at 51.09% examples, 615456 words/s, in_qsize 7, out_qsize 0\n",
      "2017-04-04 14:38:32,804 : INFO : PROGRESS: at 51.73% examples, 615579 words/s, in_qsize 7, out_qsize 0\n",
      "2017-04-04 14:38:33,807 : INFO : PROGRESS: at 52.38% examples, 615758 words/s, in_qsize 7, out_qsize 0\n",
      "2017-04-04 14:38:34,813 : INFO : PROGRESS: at 53.02% examples, 615707 words/s, in_qsize 7, out_qsize 0\n",
      "2017-04-04 14:38:35,817 : INFO : PROGRESS: at 53.70% examples, 615858 words/s, in_qsize 7, out_qsize 0\n",
      "2017-04-04 14:38:36,820 : INFO : PROGRESS: at 54.37% examples, 616012 words/s, in_qsize 7, out_qsize 0\n",
      "2017-04-04 14:38:37,822 : INFO : PROGRESS: at 55.02% examples, 615982 words/s, in_qsize 7, out_qsize 0\n",
      "2017-04-04 14:38:38,823 : INFO : PROGRESS: at 55.68% examples, 615970 words/s, in_qsize 7, out_qsize 0\n",
      "2017-04-04 14:38:39,851 : INFO : PROGRESS: at 56.36% examples, 616042 words/s, in_qsize 7, out_qsize 0\n",
      "2017-04-04 14:38:40,860 : INFO : PROGRESS: at 57.01% examples, 616123 words/s, in_qsize 7, out_qsize 0\n",
      "2017-04-04 14:38:41,894 : INFO : PROGRESS: at 57.69% examples, 616291 words/s, in_qsize 7, out_qsize 0\n",
      "2017-04-04 14:38:42,923 : INFO : PROGRESS: at 58.35% examples, 616142 words/s, in_qsize 7, out_qsize 0\n",
      "2017-04-04 14:38:43,948 : INFO : PROGRESS: at 59.05% examples, 616382 words/s, in_qsize 7, out_qsize 0\n",
      "2017-04-04 14:38:44,951 : INFO : PROGRESS: at 59.69% examples, 615669 words/s, in_qsize 7, out_qsize 0\n",
      "2017-04-04 14:38:45,970 : INFO : PROGRESS: at 67.63% examples, 616511 words/s, in_qsize 7, out_qsize 0\n",
      "2017-04-04 14:38:46,987 : INFO : PROGRESS: at 68.26% examples, 616663 words/s, in_qsize 7, out_qsize 0\n",
      "2017-04-04 14:38:47,994 : INFO : PROGRESS: at 68.92% examples, 616910 words/s, in_qsize 7, out_qsize 0\n",
      "2017-04-04 14:38:49,006 : INFO : PROGRESS: at 69.56% examples, 616936 words/s, in_qsize 7, out_qsize 0\n",
      "2017-04-04 14:38:50,008 : INFO : PROGRESS: at 70.21% examples, 617053 words/s, in_qsize 7, out_qsize 0\n",
      "2017-04-04 14:38:51,012 : INFO : PROGRESS: at 70.87% examples, 617167 words/s, in_qsize 7, out_qsize 0\n",
      "2017-04-04 14:38:52,025 : INFO : PROGRESS: at 71.52% examples, 617176 words/s, in_qsize 7, out_qsize 0\n",
      "2017-04-04 14:38:53,045 : INFO : PROGRESS: at 72.15% examples, 616977 words/s, in_qsize 7, out_qsize 0\n",
      "2017-04-04 14:38:54,055 : INFO : PROGRESS: at 72.82% examples, 617176 words/s, in_qsize 7, out_qsize 0\n",
      "2017-04-04 14:38:55,064 : INFO : PROGRESS: at 73.48% examples, 617221 words/s, in_qsize 7, out_qsize 0\n",
      "2017-04-04 14:38:56,078 : INFO : PROGRESS: at 74.12% examples, 616802 words/s, in_qsize 7, out_qsize 0\n",
      "2017-04-04 14:38:57,090 : INFO : PROGRESS: at 74.72% examples, 615832 words/s, in_qsize 7, out_qsize 0\n",
      "2017-04-04 14:38:58,102 : INFO : PROGRESS: at 75.39% examples, 615868 words/s, in_qsize 7, out_qsize 0\n",
      "2017-04-04 14:38:59,110 : INFO : PROGRESS: at 76.06% examples, 616083 words/s, in_qsize 7, out_qsize 0\n",
      "2017-04-04 14:39:00,112 : INFO : PROGRESS: at 76.72% examples, 616207 words/s, in_qsize 7, out_qsize 0\n",
      "2017-04-04 14:39:01,124 : INFO : PROGRESS: at 77.39% examples, 616370 words/s, in_qsize 7, out_qsize 0\n",
      "2017-04-04 14:39:02,138 : INFO : PROGRESS: at 78.05% examples, 616518 words/s, in_qsize 7, out_qsize 0\n",
      "2017-04-04 14:39:03,155 : INFO : PROGRESS: at 78.74% examples, 616633 words/s, in_qsize 7, out_qsize 0\n",
      "2017-04-04 14:39:04,199 : INFO : PROGRESS: at 79.44% examples, 616664 words/s, in_qsize 7, out_qsize 0\n",
      "2017-04-04 14:39:05,203 : INFO : PROGRESS: at 86.06% examples, 617402 words/s, in_qsize 7, out_qsize 0\n",
      "2017-04-04 14:39:06,208 : INFO : PROGRESS: at 88.02% examples, 617227 words/s, in_qsize 7, out_qsize 0\n",
      "2017-04-04 14:39:07,220 : INFO : PROGRESS: at 88.66% examples, 617251 words/s, in_qsize 7, out_qsize 0\n",
      "2017-04-04 14:39:08,221 : INFO : PROGRESS: at 89.30% examples, 617344 words/s, in_qsize 7, out_qsize 0\n",
      "2017-04-04 14:39:09,225 : INFO : PROGRESS: at 89.93% examples, 617297 words/s, in_qsize 7, out_qsize 0\n",
      "2017-04-04 14:39:10,250 : INFO : PROGRESS: at 90.57% examples, 617099 words/s, in_qsize 7, out_qsize 0\n",
      "2017-04-04 14:39:11,254 : INFO : PROGRESS: at 91.23% examples, 617183 words/s, in_qsize 7, out_qsize 0\n",
      "2017-04-04 14:39:12,256 : INFO : PROGRESS: at 91.88% examples, 617272 words/s, in_qsize 7, out_qsize 0\n",
      "2017-04-04 14:39:13,269 : INFO : PROGRESS: at 92.53% examples, 617391 words/s, in_qsize 7, out_qsize 0\n",
      "2017-04-04 14:39:14,278 : INFO : PROGRESS: at 93.19% examples, 617442 words/s, in_qsize 7, out_qsize 0\n",
      "2017-04-04 14:39:15,286 : INFO : PROGRESS: at 93.86% examples, 617477 words/s, in_qsize 7, out_qsize 0\n",
      "2017-04-04 14:39:16,294 : INFO : PROGRESS: at 94.54% examples, 617513 words/s, in_qsize 7, out_qsize 0\n",
      "2017-04-04 14:39:17,297 : INFO : PROGRESS: at 95.21% examples, 617683 words/s, in_qsize 7, out_qsize 0\n",
      "2017-04-04 14:39:18,314 : INFO : PROGRESS: at 95.89% examples, 617668 words/s, in_qsize 7, out_qsize 0\n",
      "2017-04-04 14:39:19,315 : INFO : PROGRESS: at 96.55% examples, 617861 words/s, in_qsize 7, out_qsize 0\n",
      "2017-04-04 14:39:20,329 : INFO : PROGRESS: at 97.20% examples, 617754 words/s, in_qsize 7, out_qsize 0\n",
      "2017-04-04 14:39:21,335 : INFO : PROGRESS: at 97.86% examples, 617910 words/s, in_qsize 7, out_qsize 0\n",
      "2017-04-04 14:39:22,340 : INFO : PROGRESS: at 98.55% examples, 618060 words/s, in_qsize 7, out_qsize 0\n",
      "2017-04-04 14:39:23,348 : INFO : PROGRESS: at 99.23% examples, 618095 words/s, in_qsize 7, out_qsize 0\n",
      "2017-04-04 14:39:24,351 : INFO : PROGRESS: at 99.91% examples, 618159 words/s, in_qsize 7, out_qsize 0\n",
      "2017-04-04 14:39:24,431 : INFO : worker thread finished; awaiting finish of 3 more threads\n",
      "2017-04-04 14:39:24,463 : INFO : worker thread finished; awaiting finish of 2 more threads\n",
      "2017-04-04 14:39:24,472 : INFO : worker thread finished; awaiting finish of 1 more threads\n",
      "2017-04-04 14:39:24,482 : INFO : worker thread finished; awaiting finish of 0 more threads\n",
      "2017-04-04 14:39:24,483 : INFO : training on 60731330 raw words (60731330 effective words) took 98.2s, 618154 effective words/s\n",
      "2017-04-04 14:39:24,605 : INFO : precomputing L2-norms of word weight vectors\n",
      "2017-04-04 14:39:27,080 : INFO : saving Word2Vec object under model/word2vec.model, separately None\n",
      "2017-04-04 14:39:27,081 : INFO : storing np array 'syn0' to model/word2vec.model.wv.syn0.npy\n",
      "2017-04-04 14:39:27,151 : INFO : not storing attribute syn0norm\n",
      "2017-04-04 14:39:27,152 : INFO : storing np array 'syn1neg' to model/word2vec.model.syn1neg.npy\n",
      "2017-04-04 14:39:27,775 : INFO : not storing attribute cum_table\n",
      "2017-04-04 14:39:28,627 : INFO : saved model/word2vec.model\n"
     ]
    }
   ],
   "source": [
    "# Import the built-in logging module and configure it so that Word2Vec \n",
    "# creates nice output messages\n",
    "import logging\n",
    "logging.basicConfig(format='%(asctime)s : %(levelname)s : %(message)s',\\\n",
    "    level=logging.INFO)\n",
    "\n",
    "# Set values for various parameters\n",
    "num_features = 100#50#300    # Word vector dimensionality                      \n",
    "min_word_count = 1#5#40   # Minimum word count                        \n",
    "num_workers = 4       # Number of threads to run in parallel\n",
    "context = 10          # Context window size                                                                                    \n",
    "downsampling = 0 #1e-3   # Downsample setting for frequent words\n",
    "\n",
    "# Initialize and train the model (this will take some time)\n",
    "from gensim.models import word2vec\n",
    "print(\"Training model...\")\n",
    "word2vec_model = word2vec.Word2Vec(sentences, workers=num_workers, \\\n",
    "            size=num_features, min_count = min_word_count, \\\n",
    "            window = context, sample = downsampling)\n",
    "\n",
    "# If you don't plan to train the model any further, calling \n",
    "# init_sims will make the model much more memory-efficient.\n",
    "word2vec_model.init_sims(replace=True)\n",
    "\n",
    "# It can be helpful to create a meaningful model name and \n",
    "# save the model for later use. You can load it later using Word2Vec.load()\n",
    "#model_name = \"300features_40minwords_10context\"\n",
    "word2vec_model.save(word2vec_model_path)"
   ]
  },
  {
   "cell_type": "code",
   "execution_count": 133,
   "metadata": {
    "collapsed": false
   },
   "outputs": [
    {
     "name": "stdout",
     "output_type": "stream",
     "text": [
      "228804\n"
     ]
    }
   ],
   "source": [
    "print(len(word2vec_model.wv.vocab))\n",
    "#word2vec_model.wv.vocab"
   ]
  },
  {
   "cell_type": "code",
   "execution_count": 134,
   "metadata": {
    "collapsed": false
   },
   "outputs": [
    {
     "name": "stdout",
     "output_type": "stream",
     "text": [
      "[('hardwoods', 0.5958949327468872), ('pine', 0.5781776905059814), ('hardwood', 0.5520675778388977)]\n"
     ]
    }
   ],
   "source": [
    "print(word2vec_model.most_similar('wood', [], 3))\n",
    "#print(word2vec_model.most_similar('temperature'))"
   ]
  },
  {
   "cell_type": "code",
   "execution_count": 135,
   "metadata": {
    "collapsed": false
   },
   "outputs": [],
   "source": [
    "# #w2v=Feature_Word2Vec(modelFilename=word2vec_model_path)#modelFilename=word2vec_model_path\n",
    "# w2v=Feature_Word2Vec()\n",
    "# #sentences=w2v.convertDFIntoSentences(product_df,'content')\n",
    "# #print(sentences)\n",
    "# w2v.trainModel(sentences)"
   ]
  },
  {
   "cell_type": "code",
   "execution_count": 136,
   "metadata": {
    "collapsed": false
   },
   "outputs": [],
   "source": [
    "# len(w2v.model.wv.vocab)"
   ]
  },
  {
   "cell_type": "code",
   "execution_count": 137,
   "metadata": {
    "collapsed": false
   },
   "outputs": [],
   "source": [
    "# w2vExpand=Word2VecQueryExpansion(modelFilename=word2vec_model_path)\n",
    "# query=\"cooking\"\n",
    "# print(\"Expanding query: \")\n",
    "# print(w2vExpand.getExpandedQuery(query,maxNoOfAdditionalWords=2,minSimilarityLevel=0.65,))"
   ]
  },
  {
   "cell_type": "code",
   "execution_count": 138,
   "metadata": {
    "collapsed": false
   },
   "outputs": [],
   "source": [
    "# print(w2v.getVectorFromWord('wood'))\n",
    "# print(w2v.getSimilarWordVectors('wood',5))\n",
    "# print(len(w2v.getVectorFromWord('wood')))"
   ]
  },
  {
   "cell_type": "markdown",
   "metadata": {},
   "source": [
    "# embeddings to keras\n",
    "http://ben.bolte.cc/resources/embeddings/embeddings.html"
   ]
  },
  {
   "cell_type": "code",
   "execution_count": 139,
   "metadata": {
    "collapsed": true
   },
   "outputs": [],
   "source": [
    "#vocab = dict([(k, v.index) for k, v in w2v.model.wv.vocab.items()])\n",
    "#vocab = dict([(k, v.index) for k, v in word2vec_model.wv.vocab.items()])\n",
    "vocab = dict([(k, v.index+1) for k, v in word2vec_model.wv.vocab.items()]) # Leave room for <pad>\n",
    "vocab['<PAD>']=0\n",
    "with open(vocab_path, 'w') as f:\n",
    "    f.write(json.dumps(vocab))"
   ]
  },
  {
   "cell_type": "code",
   "execution_count": 140,
   "metadata": {
    "collapsed": true
   },
   "outputs": [],
   "source": [
    "#weights = w2v.model.wv.syn0\n",
    "weights = word2vec_model.wv.syn0\n",
    "np.save(open(embeddings_path, 'wb'), weights)"
   ]
  },
  {
   "cell_type": "code",
   "execution_count": 141,
   "metadata": {
    "collapsed": true
   },
   "outputs": [],
   "source": [
    "def load_vocab(vocab_path):\n",
    "    \"\"\"\n",
    "    Load word -> index and index -> word mappings\n",
    "    :param vocab_path: where the word-index map is saved\n",
    "    :return: word2idx, idx2word\n",
    "    \"\"\"\n",
    "\n",
    "    with open(vocab_path, 'r') as f:\n",
    "        data = json.loads(f.read())\n",
    "    word2idx = data\n",
    "    idx2word = dict([(v, k) for k, v in data.items()])\n",
    "    return word2idx, idx2word"
   ]
  },
  {
   "cell_type": "code",
   "execution_count": 142,
   "metadata": {
    "collapsed": false
   },
   "outputs": [],
   "source": [
    "word2idx, idx2word = load_vocab(vocab_path)"
   ]
  },
  {
   "cell_type": "code",
   "execution_count": 143,
   "metadata": {
    "collapsed": true
   },
   "outputs": [],
   "source": [
    "def word2vec_embedding_layer(embeddings_path):\n",
    "    \"\"\"\n",
    "    Generate an embedding layer word2vec embeddings\n",
    "    :param embeddings_path: where the embeddings are saved (as a numpy file)\n",
    "    :return: the generated embedding layer\n",
    "    \"\"\"\n",
    "\n",
    "    saved_weights = np.load(open(embeddings_path, 'rb'))\n",
    "    padding_weight = np.zeros(num_features)\n",
    "    padding_weight=np.expand_dims(padding_weight,axis=0)\n",
    "    weights=np.concatenate((padding_weight,saved_weights), axis=0)\n",
    "    layer = Embedding(input_dim=weights.shape[0], output_dim=weights.shape[1], weights=[weights],mask_zero=True, trainable=False)\n",
    "    return layer"
   ]
  },
  {
   "cell_type": "code",
   "execution_count": 144,
   "metadata": {
    "collapsed": false
   },
   "outputs": [],
   "source": [
    "# a = np.load(open(embeddings_path, 'rb'))\n",
    "# b = np.zeros(50)\n",
    "# b=np.expand_dims(b,axis=0)\n",
    "# b.shape"
   ]
  },
  {
   "cell_type": "code",
   "execution_count": 145,
   "metadata": {
    "collapsed": false
   },
   "outputs": [],
   "source": [
    "# c=np.concatenate((b,a), axis=0)\n",
    "# c[0:2]"
   ]
  },
  {
   "cell_type": "code",
   "execution_count": 146,
   "metadata": {
    "collapsed": false
   },
   "outputs": [],
   "source": [
    "# idx2word = []\n",
    "# idx2word=[dict([(v, k) for k, v in word2idx.items()])]\n",
    "# idx2word.insert(0, '<PAD>')"
   ]
  },
  {
   "cell_type": "code",
   "execution_count": 147,
   "metadata": {
    "collapsed": false
   },
   "outputs": [
    {
     "data": {
      "text/plain": [
       "'<PAD>'"
      ]
     },
     "execution_count": 147,
     "metadata": {},
     "output_type": "execute_result"
    }
   ],
   "source": [
    "idx2word[0]"
   ]
  },
  {
   "cell_type": "code",
   "execution_count": 148,
   "metadata": {
    "collapsed": false
   },
   "outputs": [],
   "source": [
    "print_tokens=False"
   ]
  },
  {
   "cell_type": "code",
   "execution_count": 149,
   "metadata": {
    "collapsed": false
   },
   "outputs": [],
   "source": [
    "# variable arguments are passed to gensim's word2vec model\n",
    "# if options.train:\n",
    "#     print('Training Word2Vec...')\n",
    "#     create_embeddings(options.data, options.embeddings, options.vocab, size=100, min_count=5, window=5, sg=1, iter=25)\n",
    "\n",
    "word2idx, idx2word = load_vocab(vocab_path)\n",
    "\n",
    "if print_tokens:\n",
    "    print('Tokens:', ', '.join(word2idx.keys()))\n",
    "\n"
   ]
  },
  {
   "cell_type": "markdown",
   "metadata": {},
   "source": [
    "# convert to idx"
   ]
  },
  {
   "cell_type": "code",
   "execution_count": 150,
   "metadata": {
    "collapsed": false
   },
   "outputs": [
    {
     "data": {
      "text/plain": [
       "228805"
      ]
     },
     "execution_count": 150,
     "metadata": {},
     "output_type": "execute_result"
    }
   ],
   "source": [
    "len(word2idx.keys())"
   ]
  },
  {
   "cell_type": "code",
   "execution_count": 151,
   "metadata": {
    "collapsed": true
   },
   "outputs": [],
   "source": [
    "#todo need to pass in word2idx\n",
    "def convert_word2idx(word,verbose=False):\n",
    "    if verbose:\n",
    "        print(\"word: {}\".format(word))\n",
    "    if word not in word2idx.keys():\n",
    "        return 0\n",
    "    else:\n",
    "        return word2idx[word]"
   ]
  },
  {
   "cell_type": "code",
   "execution_count": 152,
   "metadata": {
    "collapsed": false
   },
   "outputs": [
    {
     "name": "stdout",
     "output_type": "stream",
     "text": [
      "8649\n",
      "10\n",
      "1290\n",
      "1448\n",
      "519\n",
      "1013\n",
      "10\n",
      "231\n",
      "38\n",
      "1184\n",
      "1098\n",
      "2808\n",
      "8649\n",
      "166\n",
      "1290\n",
      "1448\n",
      "519\n",
      "1013\n",
      "10\n",
      "231\n",
      "38\n",
      "1184\n",
      "1098\n",
      "1510\n",
      "16\n",
      "240\n",
      "880\n",
      "253\n",
      "69\n",
      "38\n",
      "86\n",
      "212\n",
      "11\n",
      "49\n",
      "240\n",
      "52\n",
      "481\n",
      "1284\n",
      "3007\n",
      "20\n",
      "1238\n",
      "8649\n",
      "38\n",
      "990\n",
      "603\n",
      "1395\n",
      "126\n",
      "136\n",
      "399\n",
      "48\n",
      "6117\n",
      "609\n",
      "268\n",
      "10\n",
      "356\n",
      "128\n",
      "11\n",
      "5660\n",
      "8138\n",
      "53\n",
      "4088\n",
      "32\n",
      "10\n",
      "252\n",
      "14905\n",
      "1864\n",
      "8362\n",
      "1632\n",
      "1393\n",
      "133\n",
      "429\n",
      "550\n",
      "847\n",
      "4095\n",
      "1263\n",
      "10\n",
      "1344\n",
      "1013\n",
      "1382\n",
      "3682\n",
      "1088\n",
      "103\n",
      "5542\n",
      "270\n",
      "487\n",
      "2983\n",
      "487\n",
      "1913\n",
      "342\n",
      "159\n",
      "98\n",
      "948\n",
      "231\n",
      "948\n",
      "1382\n",
      "318\n",
      "550\n",
      "788\n",
      "214\n",
      "138\n",
      "948\n",
      "1015\n",
      "550\n",
      "2363\n",
      "166\n",
      "73\n",
      "7\n",
      "401\n",
      "76\n",
      "140\n",
      "102\n",
      "4998\n",
      "52414\n",
      "1013\n",
      "195\n",
      "231\n",
      "18\n",
      "23255\n",
      "8\n",
      "161\n",
      "261\n",
      "122\n",
      "2460\n",
      "1811\n",
      "1533\n",
      "52415\n",
      "231\n",
      "1382\n",
      "792\n",
      "3014\n",
      "190\n",
      "231\n",
      "356\n",
      "1788\n",
      "5935\n",
      "1830\n",
      "550\n",
      "1382\n",
      "356\n",
      "1396\n",
      "206\n",
      "3147\n",
      "550\n",
      "1382\n",
      "136\n",
      "1382\n",
      "384\n",
      "34142\n",
      "3014\n",
      "190\n",
      "231\n",
      "38\n",
      "204\n",
      "52416\n",
      "3850\n",
      "1382\n",
      "4064\n",
      "5466\n",
      "40914\n",
      "331\n",
      "972\n",
      "10\n",
      "515\n",
      "2130\n"
     ]
    }
   ],
   "source": [
    "#convert_word2idx('bracket')\n",
    "for word in doc_sentences[100]:\n",
    "    idx=convert_word2idx(word)\n",
    "    print(idx)"
   ]
  },
  {
   "cell_type": "code",
   "execution_count": 153,
   "metadata": {
    "collapsed": false
   },
   "outputs": [],
   "source": [
    "def query_sent2idx(sentences):\n",
    "    query_word2vec_idx_list=[]\n",
    "    queries=sentences #w2v.convertDFIntoSentences(df,col)\n",
    "    print(len(queries))\n",
    "    for query in queries:\n",
    "        idx_list = []\n",
    "        for word in query:\n",
    "#             if word not in word2idx.keys():\n",
    "#                 idx_list+=[0]#[len(word2idx.keys())] # use last as special key #TODO: well we need to fix this. Using 0 for now so it's in range To OOV or something random\n",
    "#             else:\n",
    "#                 idx_list+=[word2idx[word]]\n",
    "            idx_list+=[convert_word2idx(word)]\n",
    "        query_word2vec_idx_list+=[idx_list]\n",
    "        #print(\"=====\")\n",
    "        #print(idx_list)\n",
    "        #print(\"=====\")\n",
    "    return query_word2vec_idx_list\n"
   ]
  },
  {
   "cell_type": "code",
   "execution_count": 154,
   "metadata": {
    "collapsed": false
   },
   "outputs": [
    {
     "name": "stdout",
     "output_type": "stream",
     "text": [
      "74067\n"
     ]
    }
   ],
   "source": [
    "#query_word2vec_idx_list = query_sent2idx(train_query_df['search_term'])\n",
    "query_word2vec_idx_list = query_sent2idx(query_sentences)\n",
    "#print(query_word2vec_idx_list)"
   ]
  },
  {
   "cell_type": "code",
   "execution_count": 155,
   "metadata": {
    "collapsed": false
   },
   "outputs": [],
   "source": [
    "# def doc_sent2idx(df,col):\n",
    "#     doc_word2vec_idx_list=[]\n",
    "#     for row in df.iteritems():\n",
    "#         a=w2v.convertDFIntoSentences(row,col)\n",
    "#         print(a)\n",
    "# #    print(len(queries))\n",
    "# #     for query in queries:\n",
    "# #         idx_list = []\n",
    "# #         for word in query:\n",
    "# #             if word not in word2idx.keys():\n",
    "# #                 idx_list+=[len(word2idx.keys())] # use last as special key\n",
    "# #             else:\n",
    "# #                 idx_list+=[word2idx[word]]\n",
    "# #         query_word2vec_idx_list+=[idx_list]\n",
    "# #         print(\"=====\")\n",
    "# #         print(idx_list)\n",
    "# #         print(\"=====\")\n",
    "#     return doc_word2vec_idx_list"
   ]
  },
  {
   "cell_type": "code",
   "execution_count": 156,
   "metadata": {
    "collapsed": false
   },
   "outputs": [
    {
     "name": "stdout",
     "output_type": "stream",
     "text": [
      "74067\n"
     ]
    }
   ],
   "source": [
    "#TODO: this is fucked. just bodge for testing nn\n",
    "#doc_word2vec_idx_list = query_sent2idx(product_df,'product_title')\n",
    "joined_df=train_query_df.join(product_df.set_index('product_uid'), on='product_uid')\n",
    "\n",
    "joined_doc_sentences=[]\n",
    "for doc in joined_df['content']:\n",
    "    joined_doc_sentences += [doc_to_wordlist(doc, remove_stopwords=True)]\n",
    "    \n",
    "doc_word2vec_idx_list = query_sent2idx(joined_doc_sentences)\n",
    "#print(doc_word2vec_idx_list)"
   ]
  },
  {
   "cell_type": "code",
   "execution_count": 157,
   "metadata": {
    "collapsed": false
   },
   "outputs": [
    {
     "data": {
      "text/plain": [
       "74067"
      ]
     },
     "execution_count": 157,
     "metadata": {},
     "output_type": "execute_result"
    }
   ],
   "source": [
    "len(joined_doc_sentences)"
   ]
  },
  {
   "cell_type": "code",
   "execution_count": 158,
   "metadata": {
    "collapsed": false
   },
   "outputs": [
    {
     "data": {
      "text/plain": [
       "[5293,\n",
       " 4227,\n",
       " 87,\n",
       " 2435,\n",
       " 173,\n",
       " 769,\n",
       " 1792,\n",
       " 1189,\n",
       " 2435,\n",
       " 1792,\n",
       " 473,\n",
       " 926,\n",
       " 356,\n",
       " 11,\n",
       " 968,\n",
       " 1104,\n",
       " 877,\n",
       " 1595,\n",
       " 810,\n",
       " 55,\n",
       " 2342,\n",
       " 506,\n",
       " 15,\n",
       " 87,\n",
       " 325,\n",
       " 801,\n",
       " 849,\n",
       " 98,\n",
       " 77,\n",
       " 4,\n",
       " 1572,\n",
       " 59,\n",
       " 598,\n",
       " 21598,\n",
       " 55,\n",
       " 2342,\n",
       " 1595,\n",
       " 810,\n",
       " 55,\n",
       " 2342,\n",
       " 801,\n",
       " 849,\n",
       " 98,\n",
       " 139,\n",
       " 114539,\n",
       " 114540,\n",
       " 1572,\n",
       " 59,\n",
       " 1887,\n",
       " 1053,\n",
       " 24184,\n",
       " 94,\n",
       " 35,\n",
       " 176]"
      ]
     },
     "execution_count": 158,
     "metadata": {},
     "output_type": "execute_result"
    }
   ],
   "source": [
    "doc_word2vec_idx_list[100]\n",
    "#query_word2vec_idx_list[100]"
   ]
  },
  {
   "cell_type": "code",
   "execution_count": 159,
   "metadata": {
    "collapsed": false
   },
   "outputs": [],
   "source": [
    "# # cosine similarity model\n",
    "# print('Building model...')\n",
    "# input_a = Input(shape=(1,), dtype='int32', name='input_a')\n",
    "# input_b = Input(shape=(1,), dtype='int32', name='input_b')\n",
    "# embeddings = word2vec_embedding_layer(embeddings_path)\n",
    "# embedding_a = embeddings(input_a)\n",
    "# embedding_b = embeddings(input_b)\n",
    "# similarity = merge([embedding_a, embedding_b], mode='cos', dot_axes=2)\n",
    "# model = Model(input=[input_a, input_b], output=similarity)\n",
    "# model.compile(optimizer='sgd', loss='mse') # optimizer and loss don't matter\n",
    "\n",
    "\n",
    "# word_a = 'wood'#raw_input('First word: ')\n",
    "# if word_a not in word2idx:\n",
    "#     print('\"%s\" is not in the index' % word_a)\n",
    "# word_b = 'fan'#raw_input('Second word: ')\n",
    "# if word_b not in word2idx:\n",
    "#     print('\"%s\" is not in the index' % word_b)\n",
    "# output = model.predict([np.asarray([word2idx[word_a]]), np.asarray([word2idx[word_b]])])\n",
    "# print('%f' % output)"
   ]
  },
  {
   "cell_type": "markdown",
   "metadata": {},
   "source": [
    "# Define model"
   ]
  },
  {
   "cell_type": "code",
   "execution_count": 160,
   "metadata": {
    "collapsed": false
   },
   "outputs": [
    {
     "name": "stdout",
     "output_type": "stream",
     "text": [
      "100\n",
      "6\n",
      "21\n",
      "0\n"
     ]
    }
   ],
   "source": [
    "query_min_len = len(min(query_word2vec_idx_list,key=len)) #400 # todo: confirm this is sensible\n",
    "doc_min_len = len(min(doc_word2vec_idx_list,key=len)) #400 # todo: confirm this is sensible\n",
    "query_max_len = 6 #covers 95.74% of the search lengths (see data exploration)\n",
    "# find longest sub list\n",
    "doc_max_len = 100 #len(max(doc_word2vec_idx_list,key=len)) #400 # todo: confirm this is sensible\n",
    "print(doc_max_len)\n",
    "print(query_max_len)\n",
    "print(doc_min_len)\n",
    "print(query_min_len)"
   ]
  },
  {
   "cell_type": "code",
   "execution_count": 161,
   "metadata": {
    "collapsed": false
   },
   "outputs": [],
   "source": [
    "lengths=[]\n",
    "for i in doc_word2vec_idx_list:\n",
    "    lengths+=[len(i)]"
   ]
  },
  {
   "cell_type": "code",
   "execution_count": 162,
   "metadata": {
    "collapsed": false
   },
   "outputs": [
    {
     "data": {
      "text/plain": [
       "(array([  3.56000000e+02,   3.86600000e+03,   7.71000000e+03,\n",
       "          1.03650000e+04,   8.56200000e+03,   8.24900000e+03,\n",
       "          6.47000000e+03,   6.07100000e+03,   4.60200000e+03,\n",
       "          3.24100000e+03,   3.14600000e+03,   2.23600000e+03,\n",
       "          1.99000000e+03,   1.55000000e+03,   1.20900000e+03,\n",
       "          1.04300000e+03,   7.84000000e+02,   5.66000000e+02,\n",
       "          3.57000000e+02,   3.56000000e+02,   2.65000000e+02,\n",
       "          2.18000000e+02,   1.43000000e+02,   1.29000000e+02,\n",
       "          1.28000000e+02,   7.30000000e+01,   8.70000000e+01,\n",
       "          6.10000000e+01,   2.60000000e+01,   5.30000000e+01,\n",
       "          3.60000000e+01,   1.30000000e+01,   2.60000000e+01,\n",
       "          7.00000000e+00,   1.00000000e+01,   1.70000000e+01,\n",
       "          2.00000000e+00,   1.40000000e+01,   2.00000000e+00,\n",
       "          0.00000000e+00,   1.00000000e+00,   3.00000000e+00,\n",
       "          0.00000000e+00,   8.00000000e+00,   2.00000000e+00,\n",
       "          0.00000000e+00,   6.00000000e+00,   1.00000000e+00,\n",
       "          6.00000000e+00,   1.00000000e+00]),\n",
       " array([  21.  ,   32.56,   44.12,   55.68,   67.24,   78.8 ,   90.36,\n",
       "         101.92,  113.48,  125.04,  136.6 ,  148.16,  159.72,  171.28,\n",
       "         182.84,  194.4 ,  205.96,  217.52,  229.08,  240.64,  252.2 ,\n",
       "         263.76,  275.32,  286.88,  298.44,  310.  ,  321.56,  333.12,\n",
       "         344.68,  356.24,  367.8 ,  379.36,  390.92,  402.48,  414.04,\n",
       "         425.6 ,  437.16,  448.72,  460.28,  471.84,  483.4 ,  494.96,\n",
       "         506.52,  518.08,  529.64,  541.2 ,  552.76,  564.32,  575.88,\n",
       "         587.44,  599.  ]),\n",
       " <a list of 50 Patch objects>)"
      ]
     },
     "execution_count": 162,
     "metadata": {},
     "output_type": "execute_result"
    },
    {
     "data": {
      "image/png": "[encoded data removed]",
      "text/plain": [
       "<matplotlib.figure.Figure at 0x7f48d30cac88>"
      ]
     },
     "metadata": {},
     "output_type": "display_data"
    }
   ],
   "source": [
    "import matplotlib.pyplot as plt\n",
    "%matplotlib inline\n",
    "plt.hist(lengths,bins=50)"
   ]
  },
  {
   "cell_type": "code",
   "execution_count": 324,
   "metadata": {
    "collapsed": false
   },
   "outputs": [
    {
     "name": "stdout",
     "output_type": "stream",
     "text": [
      "Building model...\n",
      "____________________________________________________________________________________________________\n",
      "Layer (type)                     Output Shape          Param #     Connected to                     \n",
      "====================================================================================================\n",
      "input_query (InputLayer)         (None, 6)             0                                            \n",
      "____________________________________________________________________________________________________\n",
      "input_doc (InputLayer)           (None, 100)           0                                            \n",
      "____________________________________________________________________________________________________\n",
      "embedding_10 (Embedding)         multiple              22880500                                     \n",
      "____________________________________________________________________________________________________\n",
      "dense_42 (Dense)                 multiple              4040                                         \n",
      "____________________________________________________________________________________________________\n",
      "bidirectional_17 (Bidirectional) (None, 6, 30)         17040                                        \n",
      "____________________________________________________________________________________________________\n",
      "bidirectional_18 (Bidirectional) (None, 100, 30)       17040                                        \n",
      "____________________________________________________________________________________________________\n",
      "dense_43 (Dense)                 (None, 6, 50)         1550                                         \n",
      "____________________________________________________________________________________________________\n",
      "dense_44 (Dense)                 (None, 100, 50)       1550                                         \n",
      "____________________________________________________________________________________________________\n",
      "input_exact_match (InputLayer)   (None, 6, 100)        0                                            \n",
      "____________________________________________________________________________________________________\n",
      "dot_9 (Dot)                      (None, 6, 100)        0                                            \n",
      "____________________________________________________________________________________________________\n",
      "dense_45 (Dense)                 (None, 6, 100)        10100                                        \n",
      "____________________________________________________________________________________________________\n",
      "lambda_17 (Lambda)               (None, 6, 100, 1)     0                                            \n",
      "____________________________________________________________________________________________________\n",
      "lambda_18 (Lambda)               (None, 6, 100, 1)     0                                            \n",
      "____________________________________________________________________________________________________\n",
      "concatenate_9 (Concatenate)      (None, 6, 100, 2)     0                                            \n",
      "____________________________________________________________________________________________________\n",
      "conv2d_49 (Conv2D)               (None, 4, 98, 18)     342                                          \n",
      "____________________________________________________________________________________________________\n",
      "conv2d_50 (Conv2D)               (None, 4, 97, 18)     450                                          \n",
      "____________________________________________________________________________________________________\n",
      "conv2d_51 (Conv2D)               (None, 4, 96, 18)     558                                          \n",
      "____________________________________________________________________________________________________\n",
      "conv2d_52 (Conv2D)               (None, 4, 98, 20)     380                                          \n",
      "____________________________________________________________________________________________________\n",
      "conv2d_53 (Conv2D)               (None, 4, 97, 20)     380                                          \n",
      "____________________________________________________________________________________________________\n",
      "conv2d_54 (Conv2D)               (None, 4, 96, 20)     380                                          \n",
      "____________________________________________________________________________________________________\n",
      "global_max_pooling2d_25 (GlobalM (None, 20)            0                                            \n",
      "____________________________________________________________________________________________________\n",
      "global_max_pooling2d_26 (GlobalM (None, 20)            0                                            \n",
      "____________________________________________________________________________________________________\n",
      "global_max_pooling2d_27 (GlobalM (None, 20)            0                                            \n",
      "____________________________________________________________________________________________________\n",
      "add_9 (Add)                      (None, 20)            0                                            \n",
      "____________________________________________________________________________________________________\n",
      "dense_46 (Dense)                 (None, 13)            273                                          \n",
      "====================================================================================================\n",
      "Total params: 22,934,583\n",
      "Trainable params: 54,083\n",
      "Non-trainable params: 22,880,500\n",
      "____________________________________________________________________________________________________\n"
     ]
    }
   ],
   "source": [
    "#TODO testing\n",
    "#doc_max_len=doc_min_len\n",
    "print('Building model...')\n",
    "\n",
    "def get_R(x):\n",
    "    a, b = x.values()\n",
    "    return K.dot(a, b)\n",
    "\n",
    "\n",
    "embeddings = word2vec_embedding_layer(embeddings_path)\n",
    "\n",
    "#embedding lookup\n",
    "# TODO: replace this with embedding with mask zero rather than padding, need to change index for encoding too, imput dim too.\n",
    "# TODO: OOV embedding\n",
    "input_query = Input(shape=(query_max_len,), dtype='int32', name='input_query')\n",
    "input_doc = Input(shape=(doc_max_len,), dtype='int32', name='input_doc')\n",
    "input_exact_match = Input(shape=(query_max_len,doc_max_len), dtype='float32', name='input_exact_match')\n",
    "input_doc = Input(shape=(doc_max_len,), dtype='int32', name='input_doc')\n",
    "embedding_query = embeddings(input_query)  # (None, 6, 100)\n",
    "embedding_doc = embeddings(input_doc)      # (None, 400, 100)\n",
    "\n",
    "#shared linear projection\n",
    "shared_lp = Dense(40,activation='linear')\n",
    "query_output = shared_lp(embedding_query) # (None, 6, 40) \n",
    "doc_output = shared_lp(embedding_doc) #(None, 400, 40) \n",
    "\n",
    "#query: bi LSTM, lp -- implementation = 0 for CPU option, 1 or 2 for GPU\n",
    "query_output = Bidirectional(LSTM(30, dropout=0.0, implementation=2, return_sequences=True, go_backwards=True,use_bias=True,unit_forget_bias=True,)\\\n",
    "                             ,merge_mode='mul'#TODO: alts are 'sum','mul','ave','concat'<--default, None\n",
    "                            )(query_output) #(None, 6, 30) unless concat (None, 6, 60)  \n",
    "query_output = Dense(50,activation='linear')(query_output) #(None, 50)\n",
    "\n",
    "#doc: bi LSTM, lp\n",
    "doc_output = Bidirectional(LSTM(30, dropout=0.0, implementation=2, return_sequences=True, go_backwards=True,use_bias=True,unit_forget_bias=True,)\\\n",
    "                             ,merge_mode='mul'#TODO: alts are 'sum','mul','ave','concat'<--default, None\n",
    "                            )(doc_output) #(None, 6, 400) unless concat (None, 6, 800)  \n",
    "doc_output = Dense(50,activation='linear')(doc_output) #(None, 50)\n",
    "\n",
    "#2d product\n",
    "#mt_input = batch_dot(query_output,doc_output,axes=None) #axes=[2,2])\n",
    "#query_output = Flatten()(query_output)\n",
    "#doc_output = Flatten()(doc_output)\n",
    "#mt_input = multiply([query_output, doc_output])\n",
    "#mt_input = dot([query_output, doc_output], axes=(0), normalize=False)  \n",
    "dot_product_output = dot([query_output, doc_output], axes=(2), normalize=True)  \n",
    "#output is (11, 6, 400), where did 50 go?\n",
    "def func_expand_dims(x):\n",
    "    return expand_dims(x, axis=-1)\n",
    "\n",
    "def expand_dims_output_shape(input_shape):\n",
    "    return (input_shape[0], input_shape[1],input_shape[2],1)\n",
    "\n",
    "mt_input_1 = Lambda(func_expand_dims, expand_dims_output_shape)(dot_product_output)\n",
    "\n",
    "#mt_input = dot([transpose(query_output), transpose(doc_output)], axes=(0), normalize=False)  \n",
    "######################################\n",
    "\n",
    "def state_layer_dot_prod(x):\n",
    "    output_list=[]\n",
    "#    output = dot([x[0], x[1]], axes=(2), normalize=False)  \n",
    "    for i in range(50):\n",
    "        print(i)\n",
    "        print(x[0][i])\n",
    "        print(x[1][i])\n",
    "        #output = multiply([transpose(x[0][i]), x[1][i]])\n",
    "        #output_list += output\n",
    "        #output = dot([x[0][i], transpose(x[1][i])])\n",
    "        #transpose(x[1][i])\n",
    "    print(output_list)\n",
    "    return output_list\n",
    "\n",
    "def state_layer_dot_prod_shape(input_shape):\n",
    "    'Merge output shape'\n",
    "    shape = list(input_shape)\n",
    "    #print(input_shape)\n",
    "    #print(shape)\n",
    "    outshape = (shape[0][0],shape[1][1],shape[0][1],shape[0][2])\n",
    "    #print(outshape)\n",
    "    return tuple(outshape)\n",
    "\n",
    "######################################\n",
    "#mt_input = Lambda(state_layer_dot_prod,output_shape=state_layer_dot_prod_shape)([transpose(query_output), transpose(doc_output)])\n",
    "#mt_input = Lambda(state_layer_dot_prod,output_shape=state_layer_dot_prod_shape)([query_output, doc_output])\n",
    "\n",
    "##TODO fix error:\n",
    "#InvalidArgumentError: Input to reshape is a tensor with 4800 values, but the requested shape requires a multiple of 120000\n",
    "#[[Node: reshape_23/Reshape = Reshape[T=DT_FLOAT, Tshape=DT_INT32, _device=\"/job:localhost/replica:0/task:0/cpu:0\"](lambda_40/dot_42/MatMul, reshape_23/Reshape/shape)]]\n",
    "#mt_input = Reshape((doc_max_len, query_max_len,50))(mt_input)\n",
    "\n",
    "#Append exact match channel\n",
    "output_exact_match = Dense(doc_max_len,activation='linear')(input_exact_match)\n",
    "mt_input_2 = Lambda(func_expand_dims, expand_dims_output_shape)(output_exact_match)\n",
    "# mt_input = concatenate([mt_input_1,mt_input_2],axis=0)\n",
    "mt_input = concatenate([mt_input_1,mt_input_2],axis=3)\n",
    "#TODO testing\n",
    "#mt_input = mt_input_1\n",
    "\n",
    "# Conv layers 1\n",
    "output1 = Conv2D(filters=18, kernel_size=(3, 3), strides=(1,1), padding='valid', data_format='channels_last', \\\n",
    "                dilation_rate=(1, 1), activation='relu', use_bias=True, kernel_initializer='glorot_uniform', \\\n",
    "                bias_initializer='zeros', kernel_regularizer=None, bias_regularizer=None, \\\n",
    "                activity_regularizer=None, kernel_constraint=None, bias_constraint=None)(mt_input)\n",
    "\n",
    "output2 = Conv2D(filters=18, kernel_size=(3, 4), strides=(1,1), padding='valid', data_format='channels_last', \\\n",
    "                dilation_rate=(1, 1), activation='relu', use_bias=True, kernel_initializer='glorot_uniform', \\\n",
    "                bias_initializer='zeros', kernel_regularizer=None, bias_regularizer=None, \\\n",
    "                activity_regularizer=None, kernel_constraint=None, bias_constraint=None)(mt_input)\n",
    "\n",
    "output3 = Conv2D(filters=18, kernel_size=(3, 5), strides=(1,1), padding='valid', data_format='channels_last', \\\n",
    "                dilation_rate=(1, 1), activation='relu', use_bias=True, kernel_initializer='glorot_uniform', \\\n",
    "                bias_initializer='zeros', kernel_regularizer=None, bias_regularizer=None, \\\n",
    "                activity_regularizer=None, kernel_constraint=None, bias_constraint=None)(mt_input)\n",
    "\n",
    "# Conv layers 2\n",
    "output1 = Conv2D(filters=20, kernel_size=(1, 1), strides=(1,1), padding='valid', data_format='channels_last', \\\n",
    "                dilation_rate=(1, 1), activation='relu', use_bias=True, kernel_initializer='glorot_uniform', \\\n",
    "                bias_initializer='zeros', kernel_regularizer=None, bias_regularizer=None, \\\n",
    "                activity_regularizer=None, kernel_constraint=None, bias_constraint=None)(output1)\n",
    "\n",
    "output2 = Conv2D(filters=20, kernel_size=(1, 1), strides=(1,1), padding='valid', data_format='channels_last', \\\n",
    "                dilation_rate=(1, 1), activation='relu', use_bias=True, kernel_initializer='glorot_uniform', \\\n",
    "                bias_initializer='zeros', kernel_regularizer=None, bias_regularizer=None, \\\n",
    "                activity_regularizer=None, kernel_constraint=None, bias_constraint=None)(output2)\n",
    "\n",
    "output3 = Conv2D(filters=20, kernel_size=(1, 1), strides=(1,1), padding='valid', data_format='channels_last', \\\n",
    "                dilation_rate=(1, 1), activation='relu', use_bias=True, kernel_initializer='glorot_uniform', \\\n",
    "                bias_initializer='zeros', kernel_regularizer=None, bias_regularizer=None, \\\n",
    "                activity_regularizer=None, kernel_constraint=None, bias_constraint=None)(output3)\n",
    "\n",
    "# Max pool layer\n",
    "output1 = GlobalMaxPooling2D(data_format='channels_last')(output1)\n",
    "output2 = GlobalMaxPooling2D(data_format='channels_last')(output2)\n",
    "output3 = GlobalMaxPooling2D(data_format='channels_last')(output3)\n",
    "\n",
    "# Merge\n",
    "output_combined = add([output1,output2,output3])\n",
    "#TODO testing\n",
    "#output_combined = output1\n",
    "\n",
    "# Final layer\n",
    "#output = Dense(1,activation='sigmoid')(output_combined)\n",
    "#categorical\n",
    "output = Dense(13, activation='softmax', kernel_initializer='glorot_uniform')(output_combined)\n",
    "\n",
    "\n",
    "# build model\n",
    "#model = Model([input_query], [query_output])\n",
    "#model = Model([input_doc], [encoded_doc])\n",
    "#model = Model([input_query,input_doc], [output1,output2,output3])\n",
    "#model = Model([input_query,input_doc], [output_combined])\n",
    "#model = Model([input_query,input_doc,input_exact_match], [query_output])\n",
    "#model = Model([input_query,input_doc], [query_output,doc_output])\n",
    "#model = Model([input_query,input_doc], [output])\n",
    "#model = Model([input_query,input_doc,input_exact_match], [mt_input])\n",
    "#model = Model([input_query,input_doc,input_exact_match], [mt_input_1,mt_input_2])\n",
    "model = Model([input_query,input_doc,input_exact_match], [output])\n",
    "#model = Model([input_query,input_doc,input_exact_match], [dot_product_output])\n",
    "\n",
    "\n",
    "model.summary()"
   ]
  },
  {
   "cell_type": "code",
   "execution_count": 325,
   "metadata": {
    "collapsed": false
   },
   "outputs": [],
   "source": [
    "# #TODO SSM\n",
    "# #doc_max_len=doc_min_len\n",
    "# print('Building model...')\n",
    "\n",
    "# def get_R(x):\n",
    "#     a, b = x.values()\n",
    "#     return K.dot(a, b)\n",
    "\n",
    "\n",
    "# embeddings = word2vec_embedding_layer(embeddings_path)\n",
    "\n",
    "# #embedding lookup\n",
    "# # TODO: replace this with embedding with mask zero rather than padding, need to change index for encoding too, imput dim too.\n",
    "# # TODO: OOV embedding\n",
    "# input_query = Input(shape=(query_max_len,), dtype='int32', name='input_query')\n",
    "# input_doc = Input(shape=(doc_max_len,), dtype='int32', name='input_doc')\n",
    "# input_exact_match = Input(shape=(query_max_len,doc_max_len), dtype='float32', name='input_exact_match')\n",
    "# input_doc = Input(shape=(doc_max_len,), dtype='int32', name='input_doc')\n",
    "# embedding_query = embeddings(input_query)  # (None, 6, 100)\n",
    "# embedding_doc = embeddings(input_doc)      # (None, 400, 100)\n",
    "\n",
    "# #shared linear projection\n",
    "# shared_lp = Dense(40,activation='linear')\n",
    "# query_output = shared_lp(embedding_query) # (None, 6, 40) \n",
    "# doc_output = shared_lp(embedding_doc) #(None, 400, 40) \n",
    "\n",
    "# #query: bi LSTM, lp -- implementation = 0 for CPU option, 1 or 2 for GPU\n",
    "# query_output = Bidirectional(LSTM(16, dropout=0.0, implementation=0, return_sequences=True, go_backwards=True)\\\n",
    "#                              ,merge_mode='mul'#TODO: alts are 'sum','mul','ave','concat'<--default, None\n",
    "#                             )(query_output) #(None, 6, 30) unless concat (None, 6, 60)  \n",
    "# query_output = Dense(50,activation='linear')(query_output) #(None, 50)\n",
    "\n",
    "# #doc: bi LSTM, lp\n",
    "# doc_output = Bidirectional(LSTM(64, dropout=0.0, implementation=0, return_sequences=True, go_backwards=True)\\\n",
    "#                              ,merge_mode='mul'#TODO: alts are 'sum','mul','ave','concat'<--default, None\n",
    "#                             )(doc_output) #(None, 6, 400) unless concat (None, 6, 800)  \n",
    "# doc_output = Dense(50,activation='linear')(doc_output) #(None, 50)\n",
    "\n",
    "# #2d product\n",
    "# #mt_input = batch_dot(query_output,doc_output,axes=None) #axes=[2,2])\n",
    "# #query_output = Flatten()(query_output)\n",
    "# #doc_output = Flatten()(doc_output)\n",
    "# #mt_input = multiply([query_output, doc_output])\n",
    "# #mt_input = dot([query_output, doc_output], axes=(0), normalize=False)  \n",
    "# dot_product_output = dot([query_output, doc_output], axes=(2), normalize=True)  \n",
    "# #output is (11, 6, 400), where did 50 go?\n",
    "# def func_expand_dims(x):\n",
    "#     return expand_dims(x, axis=-1)\n",
    "\n",
    "# def expand_dims_output_shape(input_shape):\n",
    "#     return (input_shape[0], input_shape[1],input_shape[2],1)\n",
    "\n",
    "# mt_input_1 = Lambda(func_expand_dims, expand_dims_output_shape)(dot_product_output)\n",
    "\n",
    "\n",
    "# # Merge\n",
    "# #output_combined = add([output1,output2,output3])\n",
    "# #TODO testing\n",
    "# output1 = GlobalMaxPooling2D(data_format='channels_last')(mt_input_1)\n",
    "# output_combined = output1\n",
    "\n",
    "\n",
    "# # Final layer\n",
    "# output = Dense(1,activation='sigmoid')(output_combined)\n",
    "# #categorical\n",
    "# #output = Dense(13, activation='softmax', kernel_initializer='glorot_uniform', use_bias=True)(output_combined)\n",
    "\n",
    "\n",
    "# # build model\n",
    "# #model = Model([input_query], [query_output])\n",
    "# #model = Model([input_doc], [encoded_doc])\n",
    "# #model = Model([input_query,input_doc], [output1,output2,output3])\n",
    "# #model = Model([input_query,input_doc], [output_combined])\n",
    "# #model = Model([input_query,input_doc,input_exact_match], [query_output])\n",
    "# #model = Model([input_query,input_doc], [query_output,doc_output])\n",
    "# #model = Model([input_query,input_doc], [output])\n",
    "# #model = Model([input_query,input_doc,input_exact_match], [mt_input])\n",
    "# #model = Model([input_query,input_doc,input_exact_match], [mt_input_1,mt_input_2])\n",
    "# model = Model([input_query,input_doc,input_exact_match], [output])\n",
    "\n",
    "\n",
    "# model.summary()"
   ]
  },
  {
   "cell_type": "code",
   "execution_count": 326,
   "metadata": {
    "collapsed": false
   },
   "outputs": [],
   "source": [
    "# # from keras.layers import Input, merge\n",
    "# # from keras.models import Model\n",
    "# # import numpy as np\n",
    "\n",
    "# # input_a = np.reshape([[1, 2, 3],[1, 2, 3],],[[1, 2, 3],[1, 2, 3]])\n",
    "# # input_b = np.reshape([4, 5, 6], (1, 1, 3))\n",
    "\n",
    "# # print(input_a)\n",
    "# # print(input_b)\n",
    "# # a = Input(shape=(1, 3))\n",
    "# # b = Input(shape=(1, 3))\n",
    "\n",
    "# # concat = merge([a, b], mode='concat', concat_axis=-1)\n",
    "# # dot = merge([a, b], mode='dot', dot_axes=2)\n",
    "# # cos = merge([a, b], mode='cos', dot_axes=2)\n",
    "\n",
    "# # model_concat = Model(input=[a, b], output=concat)\n",
    "# # model_dot = Model(input=[a, b], output=dot)\n",
    "# # model_cos = Model(input=[a, b], output=cos)\n",
    "\n",
    "# # print(model_concat.predict([input_a, input_b]))\n",
    "# # print(model_dot.predict([input_a, input_b]))\n",
    "# # print(model_cos.predict([input_a, input_b]))\n",
    "\n",
    "# from keras import backend as K\n",
    "# x_batch = K.ones(shape=(11, 6,50 ))\n",
    "# y_batch = K.ones(shape=(11, 400,50))\n",
    "# x_batch=K.batch_flatten(x_batch)\n",
    "# y_batch=K.batch_flatten(y_batch)\n",
    "# #xy_batch_dot = K.dot(transpose(y_batch),x_batch )#, axes=[0,0])\n",
    "# xy_batch_dot = K.batch_dot(x_batch,y_batch, axes=[0,0])\n",
    "# K.int_shape(xy_batch_dot)\n",
    "# # K.int_shape(x_batch)\n",
    "# # K.int_shape(y_batch)\n",
    "\n"
   ]
  },
  {
   "cell_type": "code",
   "execution_count": null,
   "metadata": {
    "collapsed": false
   },
   "outputs": [],
   "source": []
  },
  {
   "cell_type": "code",
   "execution_count": 327,
   "metadata": {
    "collapsed": false
   },
   "outputs": [],
   "source": [
    "optimizer = optimizers.Adam(lr=0.001)\n",
    "#optimizer = optimizers.SGD(lr = 0.001, momentum = 0.9, decay = 0.0, nesterov = True)\n",
    "model.compile(optimizer=optimizer, loss='mse', metrics=['accuracy'])\n",
    "#model.compile(optimizer=optimizer, loss='categorical_crossentropy', metrics=['accuracy'])"
   ]
  },
  {
   "cell_type": "code",
   "execution_count": 328,
   "metadata": {
    "collapsed": false
   },
   "outputs": [
    {
     "name": "stdout",
     "output_type": "stream",
     "text": [
      "Pad sequences (samples x time)\n",
      "x_query_train shape: (74067, 6)\n",
      "x_doc_train shape: (74067, 100)\n",
      "y_train shape: (74067, 13)\n"
     ]
    }
   ],
   "source": [
    "x_query_train=np.array(query_word2vec_idx_list)[0:74067]\n",
    "x_doc_train=np.array(doc_word2vec_idx_list)[0:74067]#[0:len(x_query_train)]\n",
    "\n",
    "# TODO: replace this with embedding with mask zero rather than padding, need to change index for encoding too, imput dim too.\n",
    "print(\"Pad sequences (samples x time)\")\n",
    "x_query_train = sequence.pad_sequences(x_query_train, maxlen=query_max_len,padding='post', truncating='post', value=0.)\n",
    "x_doc_train = sequence.pad_sequences(x_doc_train, maxlen=doc_max_len,padding='post', truncating='post', value=0.)\n",
    "# x_query_test = sequence.pad_sequences(x_query_test, maxlen=query_max_len)\n",
    "# x_doc_test = sequence.pad_sequences(x_doc_test, maxlen=doc_max_len)\n",
    "\n",
    "print('x_query_train shape:', x_query_train.shape)\n",
    "print('x_doc_train shape:', x_doc_train.shape)\n",
    "# print('x_query_test shape:', x_query_test.shape)\n",
    "# print('x_doc_test shape:', x_doc_test.shape)\n",
    "\n",
    "#TODO: y label on 0-1 scale from 1-3\n",
    "#y_train=(train_query_df['relevance'].as_matrix()-1)/3\n",
    "\n",
    "# TODO: as categorical\n",
    "y_train=to_categorical(train_query_df['relevance_int'].as_matrix(),13)\n",
    "# y_test=test_query_df['relevance_int'].as_matrix()\n",
    "print('y_train shape:', y_train.shape)"
   ]
  },
  {
   "cell_type": "code",
   "execution_count": 329,
   "metadata": {
    "collapsed": false
   },
   "outputs": [
    {
     "data": {
      "text/plain": [
       "6"
      ]
     },
     "execution_count": 329,
     "metadata": {},
     "output_type": "execute_result"
    }
   ],
   "source": [
    "len(max(query_word2vec_idx_list,key=len)) \n",
    "len(max(x_query_train,key=len)) "
   ]
  },
  {
   "cell_type": "code",
   "execution_count": 330,
   "metadata": {
    "collapsed": false
   },
   "outputs": [
    {
     "data": {
      "text/plain": [
       "array([ 0.,  0.,  0.,  0.,  0.,  0.,  0.,  0.,  1.,  0.,  0.,  0.,  0.])"
      ]
     },
     "execution_count": 330,
     "metadata": {},
     "output_type": "execute_result"
    }
   ],
   "source": [
    "x_doc_train[100]\n",
    "y_train[100]"
   ]
  },
  {
   "cell_type": "code",
   "execution_count": 331,
   "metadata": {
    "collapsed": false
   },
   "outputs": [],
   "source": [
    "exact_match_list=[]\n",
    "for i in range(x_query_train.shape[0]):\n",
    "    #print(i)\n",
    "    c1=x_query_train[i]\n",
    "    c2=x_doc_train[i]\n",
    "    #print(c1.shape[0])\n",
    "    #print(c2.shape[0])\n",
    "\n",
    "    c1_inp=np.repeat(c1,c2.shape[0],axis=0)\n",
    "    c1_inp=c1_inp.reshape((c1.shape[0],c2.shape[0]))\n",
    "    #print(c1_inp.shape)\n",
    "    #print(c1_inp)\n",
    "\n",
    "    #print(c2)\n",
    "    c2_inp=np.tile(c2,(c1.shape[0],1))\n",
    "    #print(c2_inp.shape)\n",
    "    #print(c2_inp)    \n",
    "    #print(c1_inp == c2_inp)\n",
    "    exact_match_list+=[(c1_inp == c2_inp).astype(int)]"
   ]
  },
  {
   "cell_type": "code",
   "execution_count": 332,
   "metadata": {
    "collapsed": false
   },
   "outputs": [],
   "source": [
    "exact_match_inp_train=np.array(exact_match_list)"
   ]
  },
  {
   "cell_type": "code",
   "execution_count": 333,
   "metadata": {
    "collapsed": false
   },
   "outputs": [
    {
     "data": {
      "text/plain": [
       "(74067, 6, 100)"
      ]
     },
     "execution_count": 333,
     "metadata": {},
     "output_type": "execute_result"
    }
   ],
   "source": [
    "exact_match_inp_train.shape"
   ]
  },
  {
   "cell_type": "code",
   "execution_count": 334,
   "metadata": {
    "collapsed": false
   },
   "outputs": [
    {
     "name": "stdout",
     "output_type": "stream",
     "text": [
      "angle bracket\n",
      "simpson strong tie 12 gauge angle\n",
      "[ 882 4970 1440 2326    0    0]\n",
      "[16197   777   457 13755 15331 15855   711  4970  1440   108    70     1\n",
      "   411 13755 15331 15855   711   626  4970  1440  2065    90   388  3839\n",
      "   873   180   169   799  1483   896   584     6  2513   231    32   271\n",
      "    50  1474   622    52     8    20    54   193  1440   456  1394   433\n",
      "  3643  6746    46  4970   108  2513  1027 16894  3113   622    52 23494\n",
      " 40170  2276   109   510 40171  1440   108     0     0     0     0     0\n",
      "     0     0     0     0     0     0     0     0     0     0     0     0\n",
      "     0     0     0     0     0     0     0     0     0     0     0     0\n",
      "     0     0     0     0]\n",
      "[[0 0 0 0 1 0 0 0 0 0 0 0 0 0 0 0 0 0 0 0 0 0 0 0 0 0 0 0 0 0 0 0 0 0 0 0 0\n",
      "  0 0 0 0 0 0 0 0 0 0 0 0 0 0 0 0 0 0 0 0 0 0 0 0 0 0 0 0 0 0 0 0 0 0 0 0 0\n",
      "  0 0 0 0 0 0 0 0 0 0 0 0 0 0 0 0 0 0 0 0 0 0 0 0 0 0]\n",
      " [0 0 0 0 0 0 0 0 0 0 0 0 0 0 0 0 0 0 0 0 0 0 0 0 0 0 0 0 0 0 0 0 0 0 0 0 0\n",
      "  0 0 0 0 0 0 0 0 0 0 0 0 0 0 0 0 0 0 0 0 0 0 0 0 0 0 0 0 0 0 0 0 0 0 0 0 0\n",
      "  0 0 0 0 0 0 0 0 0 0 0 0 0 0 0 0 0 0 0 0 0 0 0 0 0 0]\n",
      " [0 0 0 0 0 0 0 0 0 0 0 0 0 0 0 0 0 0 0 0 0 0 0 0 0 0 0 0 0 0 0 0 0 0 0 0 0\n",
      "  0 0 0 0 0 0 0 0 0 0 0 0 0 0 0 0 0 0 0 0 0 0 0 0 0 0 0 0 0 0 0 0 0 0 0 0 0\n",
      "  0 0 0 0 0 0 0 0 0 0 0 0 1 1 1 1 1 1 1 1 1 1 1 1 1 1]\n",
      " [0 0 0 0 0 0 0 0 0 0 0 0 0 0 0 0 0 0 0 0 0 0 0 0 0 0 0 0 0 0 0 0 0 0 0 0 0\n",
      "  0 0 0 0 0 0 0 0 0 0 0 0 0 0 0 0 0 0 0 0 0 0 0 0 0 0 0 0 0 0 0 0 0 0 0 0 0\n",
      "  0 0 0 0 0 0 0 0 0 0 0 0 1 1 1 1 1 1 1 1 1 1 1 1 1 1]\n",
      " [0 0 0 0 0 0 0 0 0 0 0 0 0 0 0 0 0 0 0 0 0 0 0 0 0 0 0 0 0 0 0 0 0 0 0 0 0\n",
      "  0 0 0 0 0 0 0 0 0 0 0 0 0 0 0 0 0 0 0 0 0 0 0 0 0 0 0 0 0 0 0 0 0 0 0 0 0\n",
      "  0 0 0 0 0 0 0 0 0 0 0 0 1 1 1 1 1 1 1 1 1 1 1 1 1 1]\n",
      " [0 0 0 0 0 0 0 0 0 0 0 0 0 0 0 0 0 0 0 0 0 0 0 0 0 0 0 0 0 0 0 0 0 0 0 0 0\n",
      "  0 0 0 0 0 0 0 0 0 0 0 0 0 0 0 0 0 0 0 0 0 0 0 0 0 0 0 0 0 0 0 0 0 0 0 0 0\n",
      "  0 0 0 0 0 0 0 0 0 0 0 0 1 1 1 1 1 1 1 1 1 1 1 1 1 1]]\n"
     ]
    }
   ],
   "source": [
    "print(train_query_df['search_term'][0])\n",
    "print(product_df['product_title'][0])\n",
    "print(x_query_train[i])\n",
    "print(x_doc_train[i])\n",
    "print(exact_match_inp_train[0])\n"
   ]
  },
  {
   "cell_type": "code",
   "execution_count": null,
   "metadata": {
    "collapsed": false
   },
   "outputs": [],
   "source": []
  },
  {
   "cell_type": "code",
   "execution_count": 335,
   "metadata": {
    "collapsed": false
   },
   "outputs": [
    {
     "name": "stdout",
     "output_type": "stream",
     "text": [
      "Train...\n",
      "Train on 59253 samples, validate on 14814 samples\n",
      "Epoch 1/10\n",
      "99s - loss: 0.0626 - acc: 0.2709 - val_loss: 0.0653 - val_acc: 0.1844\n",
      "Epoch 2/10\n",
      "92s - loss: 0.0605 - acc: 0.3117 - val_loss: 0.0644 - val_acc: 0.2054\n",
      "Epoch 3/10\n",
      "90s - loss: 0.0600 - acc: 0.3202 - val_loss: 0.0649 - val_acc: 0.2037\n",
      "Epoch 4/10\n",
      "91s - loss: 0.0594 - acc: 0.3264 - val_loss: 0.0654 - val_acc: 0.1952\n",
      "Epoch 5/10\n",
      "96s - loss: 0.0590 - acc: 0.3353 - val_loss: 0.0642 - val_acc: 0.2147\n",
      "Epoch 6/10\n",
      "117s - loss: 0.0586 - acc: 0.3390 - val_loss: 0.0648 - val_acc: 0.2191\n",
      "Epoch 7/10\n",
      "104s - loss: 0.0582 - acc: 0.3435 - val_loss: 0.0638 - val_acc: 0.2338\n",
      "Epoch 8/10\n",
      "95s - loss: 0.0579 - acc: 0.3505 - val_loss: 0.0645 - val_acc: 0.2271\n",
      "Epoch 9/10\n",
      "110s - loss: 0.0575 - acc: 0.3559 - val_loss: 0.0640 - val_acc: 0.2332\n",
      "Epoch 10/10\n",
      "135s - loss: 0.0572 - acc: 0.3641 - val_loss: 0.0642 - val_acc: 0.2288\n"
     ]
    }
   ],
   "source": [
    "batch_size=300#2 #200\n",
    "print('Train...')\n",
    "hist=model.fit([x_query_train,x_doc_train,exact_match_inp_train], [y_train],\n",
    "          batch_size=batch_size,\n",
    "          epochs=10,\n",
    "          validation_split=0.2,\n",
    "          shuffle=True,\n",
    "          verbose=2,\n",
    "          #validation_data=[x_test, y_test])\n",
    "         )\n"
   ]
  },
  {
   "cell_type": "code",
   "execution_count": 336,
   "metadata": {
    "collapsed": false
   },
   "outputs": [
    {
     "data": {
      "image/png": "[encoded data removed]",
      "text/plain": [
       "<matplotlib.figure.Figure at 0x7f481a404fd0>"
      ]
     },
     "metadata": {},
     "output_type": "display_data"
    }
   ],
   "source": [
    "# summarize history for accuracy\n",
    "plt.figure(figsize=(15, 5))\n",
    "plt.subplot(1, 2, 1)\n",
    "plt.plot(hist.history['acc']); plt.plot(hist.history['val_acc']);\n",
    "plt.title('model accuracy'); plt.ylabel('accuracy');\n",
    "plt.xlabel('epoch'); plt.legend(['train', 'valid'], loc='upper left');\n",
    "\n",
    "# summarize history for loss\n",
    "plt.subplot(1, 2, 2)\n",
    "plt.plot(hist.history['loss']); plt.plot(hist.history['val_loss']);\n",
    "plt.title('model loss'); plt.ylabel('loss');\n",
    "plt.xlabel('epoch'); plt.legend(['train', 'valid'], loc='upper left');\n",
    "plt.show()"
   ]
  },
  {
   "cell_type": "code",
   "execution_count": 337,
   "metadata": {
    "collapsed": false
   },
   "outputs": [],
   "source": [
    "batch_size=200 #200\n",
    "prediction=model.predict([x_query_train,x_doc_train,exact_match_inp_train],\n",
    "          batch_size=batch_size,\n",
    "         )"
   ]
  },
  {
   "cell_type": "code",
   "execution_count": 338,
   "metadata": {
    "collapsed": false
   },
   "outputs": [
    {
     "data": {
      "text/plain": [
       "(74067, 13)"
      ]
     },
     "execution_count": 338,
     "metadata": {},
     "output_type": "execute_result"
    }
   ],
   "source": [
    "prediction.shape"
   ]
  },
  {
   "cell_type": "code",
   "execution_count": 339,
   "metadata": {
    "collapsed": false
   },
   "outputs": [
    {
     "data": {
      "text/plain": [
       "array([  2.49889530e-02,   3.30214709e-04,   2.22766008e-02,\n",
       "         9.46527289e-05,   4.52328771e-02,   7.59399671e-04,\n",
       "         8.27541351e-02,   1.66393176e-04,   1.50801823e-01,\n",
       "         2.23548905e-05,   2.54998535e-01,   3.12221207e-04,\n",
       "         4.17261809e-01], dtype=float32)"
      ]
     },
     "execution_count": 339,
     "metadata": {},
     "output_type": "execute_result"
    }
   ],
   "source": [
    "prediction[0]"
   ]
  },
  {
   "cell_type": "code",
   "execution_count": 340,
   "metadata": {
    "collapsed": true
   },
   "outputs": [],
   "source": [
    "def pred2relevance(prediction):\n",
    "    orig_labels = [ 1.  ,  1.25 , 1.33 , 1.5 ,  1.67,  1.75,  2. ,   2.25 , 2.33  ,2.5 ,  2.67  ,2.75 ,3.  ]\n",
    "    new_labels= [ 0 , 1 , 2 , 3 , 4 , 5,  6 , 7 , 8,  9, 10 ,11, 12]\n",
    "    orig_labels_prediction=[]\n",
    "    for preds in prediction:\n",
    "        #print(preds)\n",
    "        max_idx=np.argmax(preds)\n",
    "        orig_labels_prediction+=[orig_labels[max_idx]]\n",
    "    return np.array(orig_labels_prediction)"
   ]
  },
  {
   "cell_type": "code",
   "execution_count": 341,
   "metadata": {
    "collapsed": false
   },
   "outputs": [],
   "source": [
    "orig_labels_prediction =  pred2relevance(prediction)"
   ]
  },
  {
   "cell_type": "code",
   "execution_count": 342,
   "metadata": {
    "collapsed": false
   },
   "outputs": [
    {
     "data": {
      "text/plain": [
       "3.0"
      ]
     },
     "execution_count": 342,
     "metadata": {},
     "output_type": "execute_result"
    }
   ],
   "source": [
    "orig_labels_prediction[0]"
   ]
  },
  {
   "cell_type": "code",
   "execution_count": 343,
   "metadata": {
    "collapsed": true
   },
   "outputs": [],
   "source": [
    "from sklearn.metrics import mean_squared_error\n",
    "RMSE = mean_squared_error(train_query_df['relevance'].as_matrix(), orig_labels_prediction)**0.5"
   ]
  },
  {
   "cell_type": "code",
   "execution_count": 344,
   "metadata": {
    "collapsed": false
   },
   "outputs": [
    {
     "data": {
      "text/plain": [
       "0.59375040995940442"
      ]
     },
     "execution_count": 344,
     "metadata": {},
     "output_type": "execute_result"
    }
   ],
   "source": [
    "RMSE"
   ]
  },
  {
   "cell_type": "markdown",
   "metadata": {
    "collapsed": false
   },
   "source": [
    "# print(\"Predict\")\n",
    "word_a = 'wood'#raw_input('First word: ')\n",
    "if word_a not in word2idx:\n",
    "    print('\"%s\" is not in the index' % word_a)\n",
    "word_b = 'fan'#raw_input('Second word: ')\n",
    "if word_b not in word2idx:\n",
    "    print('\"%s\" is not in the index' % word_b)\n",
    "output = model.predict([np.asarray([word2idx[word_a]]), np.asarray([word2idx[word_b]])])\n",
    "print('%f' % output)"
   ]
  },
  {
   "cell_type": "code",
   "execution_count": 345,
   "metadata": {
    "collapsed": false
   },
   "outputs": [],
   "source": [
    "test_df=test_private_df"
   ]
  },
  {
   "cell_type": "code",
   "execution_count": 346,
   "metadata": {
    "collapsed": false
   },
   "outputs": [
    {
     "name": "stdout",
     "output_type": "stream",
     "text": [
      "Parsing sentences from search string\n"
     ]
    }
   ],
   "source": [
    "test_query_sentences = []\n",
    "\n",
    "print(\"Parsing sentences from search string\")\n",
    "for query in test_df[\"search_term\"]:\n",
    "    test_query_sentences += [doc_to_wordlist(query, remove_stopwords=True)]\n",
    "    "
   ]
  },
  {
   "cell_type": "code",
   "execution_count": 347,
   "metadata": {
    "collapsed": false
   },
   "outputs": [
    {
     "data": {
      "text/plain": [
       "78419"
      ]
     },
     "execution_count": 347,
     "metadata": {},
     "output_type": "execute_result"
    }
   ],
   "source": [
    "len(test_query_sentences)"
   ]
  },
  {
   "cell_type": "code",
   "execution_count": 348,
   "metadata": {
    "collapsed": false
   },
   "outputs": [
    {
     "name": "stdout",
     "output_type": "stream",
     "text": [
      "78419\n"
     ]
    }
   ],
   "source": [
    "test_query_word2vec_idx_list = query_sent2idx(test_query_sentences)"
   ]
  },
  {
   "cell_type": "code",
   "execution_count": 349,
   "metadata": {
    "collapsed": false
   },
   "outputs": [
    {
     "name": "stdout",
     "output_type": "stream",
     "text": [
      "78419\n"
     ]
    }
   ],
   "source": [
    "test_joined_df=test_df.join(product_df.set_index('product_uid'), on='product_uid')\n",
    "\n",
    "test_joined_doc_sentences=[]\n",
    "for doc in test_joined_df['content']:\n",
    "    test_joined_doc_sentences += [doc_to_wordlist(doc, remove_stopwords=True)]\n",
    "    \n",
    "test_doc_word2vec_idx_list = query_sent2idx(test_joined_doc_sentences)"
   ]
  },
  {
   "cell_type": "code",
   "execution_count": 350,
   "metadata": {
    "collapsed": false
   },
   "outputs": [
    {
     "name": "stdout",
     "output_type": "stream",
     "text": [
      "Pad sequences (samples x time)\n",
      "x_query_test shape: (78419, 6)\n",
      "x_doc_test shape: (78419, 100)\n"
     ]
    }
   ],
   "source": [
    "x_query_test=np.array(test_query_word2vec_idx_list)[0:78419]\n",
    "x_doc_test=np.array(test_doc_word2vec_idx_list)[0:78419]\n",
    "\n",
    "# TODO: replace this with embedding with mask zero rather than padding, need to change index for encoding too, imput dim too.\n",
    "print(\"Pad sequences (samples x time)\")\n",
    "x_query_test = sequence.pad_sequences(x_query_test, maxlen=query_max_len,padding='post', truncating='post', value=0.)\n",
    "x_doc_test = sequence.pad_sequences(x_doc_test, maxlen=doc_max_len,padding='post', truncating='post', value=0.)\n",
    "# x_query_test = sequence.pad_sequences(x_query_test, maxlen=query_max_len)\n",
    "# x_doc_test = sequence.pad_sequences(x_doc_test, maxlen=doc_max_len)\n",
    "\n",
    "print('x_query_test shape:', x_query_test.shape)\n",
    "print('x_doc_test shape:', x_doc_test.shape)\n",
    "\n",
    "#TODO: y label on 0-1 scale from 1-3\n",
    "#y_train=(train_query_df['relevance'].as_matrix()-1)/3\n",
    "\n",
    "# TODO: as categorical\n",
    "#y_test=to_categorical(train_query_df['relevance_int'].as_matrix(),13)\n",
    "# y_test=test_query_df['relevance_int'].as_matrix()\n",
    "#print('y_train shape:', y_train.shape)"
   ]
  },
  {
   "cell_type": "code",
   "execution_count": 351,
   "metadata": {
    "collapsed": false
   },
   "outputs": [
    {
     "data": {
      "text/plain": [
       "(78419, 6, 100)"
      ]
     },
     "execution_count": 351,
     "metadata": {},
     "output_type": "execute_result"
    }
   ],
   "source": [
    "exact_match_list_test=[]\n",
    "for i in range(x_query_test.shape[0]):\n",
    "    #print(i)\n",
    "    c1=x_query_test[i]\n",
    "    c2=x_doc_test[i]\n",
    "    #print(c1.shape[0])\n",
    "    #print(c2.shape[0])\n",
    "\n",
    "    c1_inp=np.repeat(c1,c2.shape[0],axis=0)\n",
    "    c1_inp=c1_inp.reshape((c1.shape[0],c2.shape[0]))\n",
    "    #print(c1_inp.shape)\n",
    "    #print(c1_inp)\n",
    "\n",
    "    #print(c2)\n",
    "    c2_inp=np.tile(c2,(c1.shape[0],1))\n",
    "    #print(c2_inp.shape)\n",
    "    #print(c2_inp)    \n",
    "    #print(c1_inp == c2_inp)\n",
    "    exact_match_list_test+=[(c1_inp == c2_inp).astype(int)]\n",
    "\n",
    "exact_match_inp_test=np.array(exact_match_list_test)\n",
    "exact_match_inp_test.shape"
   ]
  },
  {
   "cell_type": "code",
   "execution_count": 352,
   "metadata": {
    "collapsed": false
   },
   "outputs": [
    {
     "name": "stdout",
     "output_type": "stream",
     "text": [
      "90 degree bracket\n",
      "[1722 5130 1549    0    0    0]\n",
      "[ 1722   369  1045   272   572  2838   144  1369  1941    77    36  1164\n",
      "   813   981  1722   369  1045    58   117   158  2838  1006   389  5229\n",
      "    59     6    81  1655   520  1459   562   514  4694 12149   433   365\n",
      "    28   520   406  2411     2  9881   625   273  1093    36   264   361\n",
      "   310    46  1191   263   413  1064   483   722  1006  1228    11   794\n",
      " 34116  2010  2666   323  1241 34117   401  1369  4930   813 37211     1\n",
      "     1    29   272  5502   264   310  6226   673   649     1   369   394\n",
      "  3282   248     0     0     0     0     0     0     0     0     0     0\n",
      "     0     0     0     0]\n",
      "[[1 0 0 0 0 0 0 0 0 0 0 0 0 0 1 0 0 0 0 0 0 0 0 0 0 0 0 0 0 0 0 0 0 0 0 0 0\n",
      "  0 0 0 0 0 0 0 0 0 0 0 0 0 0 0 0 0 0 0 0 0 0 0 0 0 0 0 0 0 0 0 0 0 0 0 0 0\n",
      "  0 0 0 0 0 0 0 0 0 0 0 0 0 0 0 0 0 0 0 0 0 0 0 0 0 0]\n",
      " [0 0 0 0 0 0 0 0 0 0 0 0 0 0 0 0 0 0 0 0 0 0 0 0 0 0 0 0 0 0 0 0 0 0 0 0 0\n",
      "  0 0 0 0 0 0 0 0 0 0 0 0 0 0 0 0 0 0 0 0 0 0 0 0 0 0 0 0 0 0 0 0 0 0 0 0 0\n",
      "  0 0 0 0 0 0 0 0 0 0 0 0 0 0 0 0 0 0 0 0 0 0 0 0 0 0]\n",
      " [0 0 0 0 0 0 0 0 0 0 0 0 0 0 0 0 0 0 0 0 0 0 0 0 0 0 0 0 0 0 0 0 0 0 0 0 0\n",
      "  0 0 0 0 0 0 0 0 0 0 0 0 0 0 0 0 0 0 0 0 0 0 0 0 0 0 0 0 0 0 0 0 0 0 0 0 0\n",
      "  0 0 0 0 0 0 0 0 0 0 0 0 0 0 0 0 0 0 0 0 0 0 0 0 0 0]\n",
      " [0 0 0 0 0 0 0 0 0 0 0 0 0 0 0 0 0 0 0 0 0 0 0 0 0 0 0 0 0 0 0 0 0 0 0 0 0\n",
      "  0 0 0 0 0 0 0 0 0 0 0 0 0 0 0 0 0 0 0 0 0 0 0 0 0 0 0 0 0 0 0 0 0 0 0 0 0\n",
      "  0 0 0 0 0 0 0 0 0 0 0 0 1 1 1 1 1 1 1 1 1 1 1 1 1 1]\n",
      " [0 0 0 0 0 0 0 0 0 0 0 0 0 0 0 0 0 0 0 0 0 0 0 0 0 0 0 0 0 0 0 0 0 0 0 0 0\n",
      "  0 0 0 0 0 0 0 0 0 0 0 0 0 0 0 0 0 0 0 0 0 0 0 0 0 0 0 0 0 0 0 0 0 0 0 0 0\n",
      "  0 0 0 0 0 0 0 0 0 0 0 0 1 1 1 1 1 1 1 1 1 1 1 1 1 1]\n",
      " [0 0 0 0 0 0 0 0 0 0 0 0 0 0 0 0 0 0 0 0 0 0 0 0 0 0 0 0 0 0 0 0 0 0 0 0 0\n",
      "  0 0 0 0 0 0 0 0 0 0 0 0 0 0 0 0 0 0 0 0 0 0 0 0 0 0 0 0 0 0 0 0 0 0 0 0 0\n",
      "  0 0 0 0 0 0 0 0 0 0 0 0 1 1 1 1 1 1 1 1 1 1 1 1 1 1]]\n"
     ]
    }
   ],
   "source": [
    "print(test_query_df['search_term'][0])\n",
    "print(x_query_test[0])\n",
    "print(x_doc_test[0])\n",
    "print(exact_match_inp_test[0])"
   ]
  },
  {
   "cell_type": "code",
   "execution_count": 359,
   "metadata": {
    "collapsed": true
   },
   "outputs": [],
   "source": [
    "batch_size=300 #200\n",
    "test_prediction=model.predict([x_query_test,x_doc_test,exact_match_inp_test],\n",
    "          batch_size=batch_size,\n",
    "         )"
   ]
  },
  {
   "cell_type": "code",
   "execution_count": 360,
   "metadata": {
    "collapsed": false
   },
   "outputs": [
    {
     "data": {
      "text/plain": [
       "(78419, 13)"
      ]
     },
     "execution_count": 360,
     "metadata": {},
     "output_type": "execute_result"
    }
   ],
   "source": [
    "test_prediction.shape"
   ]
  },
  {
   "cell_type": "code",
   "execution_count": 361,
   "metadata": {
    "collapsed": false
   },
   "outputs": [
    {
     "data": {
      "text/plain": [
       "array([  2.42920481e-02,   4.53530311e-06,   3.65434587e-02,\n",
       "         3.24295579e-05,   1.39181674e-01,   3.93238530e-04,\n",
       "         4.35907900e-01,   4.15777176e-05,   2.15909958e-01,\n",
       "         4.11668907e-06,   1.27853900e-01,   1.73360822e-04,\n",
       "         1.96618717e-02], dtype=float32)"
      ]
     },
     "execution_count": 361,
     "metadata": {},
     "output_type": "execute_result"
    }
   ],
   "source": [
    "test_prediction[0]"
   ]
  },
  {
   "cell_type": "code",
   "execution_count": 362,
   "metadata": {
    "collapsed": true
   },
   "outputs": [],
   "source": [
    "test_orig_labels_prediction =  pred2relevance(test_prediction)"
   ]
  },
  {
   "cell_type": "code",
   "execution_count": 363,
   "metadata": {
    "collapsed": false
   },
   "outputs": [
    {
     "data": {
      "text/plain": [
       "2.0"
      ]
     },
     "execution_count": 363,
     "metadata": {},
     "output_type": "execute_result"
    }
   ],
   "source": [
    "test_orig_labels_prediction[0]"
   ]
  },
  {
   "cell_type": "code",
   "execution_count": 364,
   "metadata": {
    "collapsed": false
   },
   "outputs": [
    {
     "data": {
      "text/plain": [
       "0.63874448062914368"
      ]
     },
     "execution_count": 364,
     "metadata": {},
     "output_type": "execute_result"
    }
   ],
   "source": [
    "test_RMSE = mean_squared_error(test_df['relevance'].as_matrix(), test_orig_labels_prediction)**0.5\n",
    "test_RMSE "
   ]
  },
  {
   "cell_type": "code",
   "execution_count": null,
   "metadata": {
    "collapsed": true
   },
   "outputs": [],
   "source": []
  },
  {
   "cell_type": "code",
   "execution_count": null,
   "metadata": {
    "collapsed": true
   },
   "outputs": [],
   "source": []
  }
 ],
 "metadata": {
  "kernelspec": {
   "display_name": "Python 3",
   "language": "python",
   "name": "python3"
  },
  "language_info": {
   "codemirror_mode": {
    "name": "ipython",
    "version": 3
   },
   "file_extension": ".py",
   "mimetype": "text/x-python",
   "name": "python",
   "nbconvert_exporter": "python",
   "pygments_lexer": "ipython3",
   "version": "3.6.0"
  }
 },
 "nbformat": 4,
 "nbformat_minor": 2
}
