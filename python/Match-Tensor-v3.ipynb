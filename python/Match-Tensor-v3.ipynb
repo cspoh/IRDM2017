{
 "cells": [
  {
   "cell_type": "markdown",
   "metadata": {},
   "source": [
    "# Match tensor v3 "
   ]
  },
  {
   "cell_type": "code",
   "execution_count": 1,
   "metadata": {
    "collapsed": false
   },
   "outputs": [
    {
     "name": "stderr",
     "output_type": "stream",
     "text": [
      "Using TensorFlow backend.\n"
     ]
    }
   ],
   "source": [
    "import json\n",
    "import os\n",
    "import sys\n",
    "import numpy as np\n",
    "from gensim.models import Word2Vec\n",
    "from keras.preprocessing import sequence\n",
    "from keras.layers import merge, Dense, Input,Dropout, Embedding, LSTM, Bidirectional, Activation\n",
    "from keras.layers import Conv2D\n",
    "from keras.layers.merge import dot, multiply, add, concatenate\n",
    "from keras.layers import Merge\n",
    "from keras.layers.core import Lambda,Reshape, Flatten\n",
    "from keras.layers.pooling import GlobalMaxPooling2D\n",
    "from keras.models import Model\n",
    "from keras.backend import transpose,batch_dot,expand_dims\n",
    "from keras import optimizers\n",
    "from HomeDepotCSVReader import HomeDepotReader\n",
    "import Utilities\n",
    "from DataPreprocessing import DataPreprocessing\n",
    "from Feature_Word2Vec import Feature_Word2Vec\n",
    "from AutomaticQueryExpansion import Word2VecQueryExpansion\n",
    "import re\n",
    "from nltk.corpus import stopwords\n",
    "from keras.utils.np_utils import to_categorical\n",
    "import pandas as pd\n",
    "from FeatureEngineering import HomeDepotFeature\n",
    "from keras.layers.wrappers import TimeDistributed"
   ]
  },
  {
   "cell_type": "code",
   "execution_count": 2,
   "metadata": {
    "collapsed": true
   },
   "outputs": [],
   "source": [
    "# train_filename = '../data/train_play.csv'\n",
    "# test_filename = '../data/test_play.csv'\n",
    "# attribute_filename = '../data/attributes_play.csv'\n",
    "# description_filename = '../data/product_descriptions_play.csv'\n",
    "# word2vec_model_path='model/word2vec_play.model'\n",
    "# vocab_path='model/word2vec_play_vocab.json'\n",
    "# embeddings_path='model/embeddings_play.npz'\n",
    "\n",
    "train_filename = '../data/train.csv'\n",
    "test_filename = '../data/test.csv'\n",
    "soln_filename = '../data/solution.csv'\n",
    "attribute_filename = '../data/attributes.csv'\n",
    "description_filename = '../data/product_descriptions.csv'\n",
    "word2vec_model_path='model/word2vec.model'\n",
    "vocab_path='model/word2vec_vocab.json'\n",
    "embeddings_path='model/embeddings.npz'"
   ]
  },
  {
   "cell_type": "code",
   "execution_count": 3,
   "metadata": {
    "collapsed": false
   },
   "outputs": [
    {
     "name": "stdout",
     "output_type": "stream",
     "text": [
      "===========Tranforming labels...\n",
      "showing current values\n",
      "trainDF: ['id', 'product_uid', 'search_term', 'relevance']\n",
      "trainDF:    id  product_uid    search_term  relevance\n",
      "0   2       100001  angle bracket        3.0\n",
      "self.mergedLabelDF: ['relevance'] \n",
      " <class 'pandas.core.frame.DataFrame'> (74067, 1)    relevance\n",
      "0        3.0\n",
      "Old unique Labels: [ 1.    1.25  1.33  1.5   1.67  1.75  2.    2.25  2.33  2.5   2.67  2.75\n",
      "  3.  ]\n",
      "newLabels: [ 0  1  2  3  4  5  6  7  8  9 10 11 12]\n",
      "Creating new column for training:  relevance_int\n",
      "===========Transform labels completed\n",
      "train_query_df: ['id', 'product_uid', 'search_term', 'relevance', 'relevance_int', 'product_idx']\n",
      "product_df: ['product_title', 'product_uid', 'product_description']\n",
      "attribute_df: ['product_uid', 'name', 'value']\n",
      "test_query_df: ['id', 'product_uid', 'search_term']\n"
     ]
    }
   ],
   "source": [
    "reader = HomeDepotReader()\n",
    "\n",
    "train_query_df, product_df, attribute_df, test_query_df = reader.getQueryProductAttributeDataFrame(train_filename,\n",
    "                                              test_filename,\n",
    "                                              attribute_filename,\n",
    "                                              description_filename)\n",
    "print(\"train_query_df:\",list(train_query_df))\n",
    "print(\"product_df:\", list(product_df))\n",
    "print(\"attribute_df:\", list(attribute_df))\n",
    "print(\"test_query_df:\", list(test_query_df))"
   ]
  },
  {
   "cell_type": "code",
   "execution_count": 4,
   "metadata": {
    "collapsed": false
   },
   "outputs": [],
   "source": [
    "#transform attribute into doc\n",
    "dp = DataPreprocessing()\n",
    "attribute_doc_df = dp.getAttributeDoc(attribute_df)\n",
    "#attribute_doc_df\n",
    "product_df=product_df.join(attribute_doc_df.set_index('product_uid'), on = 'product_uid')"
   ]
  },
  {
   "cell_type": "code",
   "execution_count": 5,
   "metadata": {
    "collapsed": false
   },
   "outputs": [],
   "source": [
    "### test data\n",
    "soln_df = pd.read_csv(soln_filename, delimiter=',', low_memory=False, encoding=\"ISO-8859-1\")\n",
    "test_private_df = dp.getGoldTestSet(test_query_df, soln_df, testsetoption='Private')#,savepath='../data/test_private_gold.csv')\n",
    "test_public_df = dp.getGoldTestSet(test_query_df, soln_df, testsetoption='Public')# savepath='../data/test_public_gold.csv')"
   ]
  },
  {
   "cell_type": "code",
   "execution_count": 6,
   "metadata": {
    "collapsed": false
   },
   "outputs": [
    {
     "name": "stdout",
     "output_type": "stream",
     "text": [
      "Performing spell correction\n",
      "Performing non-ascii removal\n",
      "Non-ascii clean on search_term took: 0.01 minutes\n",
      "Non-ascii clean on product_title took: 0.03 minutes\n",
      "<class 'pandas.core.frame.DataFrame'>\n",
      "RangeIndex: 74067 entries, 0 to 74066\n",
      "Data columns (total 6 columns):\n",
      "id               74067 non-null int64\n",
      "product_uid      74067 non-null int64\n",
      "search_term      74067 non-null object\n",
      "relevance        74067 non-null float64\n",
      "relevance_int    74067 non-null int64\n",
      "product_idx      74067 non-null object\n",
      "dtypes: float64(1), int64(3), object(2)\n",
      "memory usage: 3.4+ MB\n",
      "None\n"
     ]
    }
   ],
   "source": [
    "\n",
    "train_query_df = HomeDepotFeature().getFeature(train_query_df, product_df, attribute_df, test_private_df,\n",
    "                        features=\"spelling,nonascii\")\n",
    "#,stopwords,stemming\n",
    "#\"spelling,nonascii\" no diff."
   ]
  },
  {
   "cell_type": "code",
   "execution_count": 7,
   "metadata": {
    "collapsed": false
   },
   "outputs": [
    {
     "name": "stdout",
     "output_type": "stream",
     "text": [
      "Performing spell correction\n",
      "Performing non-ascii removal\n",
      "Non-ascii clean on search_term took: 0.01 minutes\n",
      "Non-ascii clean on product_title took: 0.03 minutes\n",
      "<class 'pandas.core.frame.DataFrame'>\n",
      "Int64Index: 78419 entries, 2 to 147405\n",
      "Data columns (total 4 columns):\n",
      "id             78419 non-null int64\n",
      "product_uid    78419 non-null int64\n",
      "search_term    78419 non-null object\n",
      "relevance      78419 non-null float64\n",
      "dtypes: float64(1), int64(2), object(1)\n",
      "memory usage: 3.0+ MB\n",
      "None\n"
     ]
    }
   ],
   "source": [
    "test_private_df = HomeDepotFeature().getFeature(test_private_df, product_df, attribute_df, test_private_df,\n",
    "                        features=\"spelling,nonascii\")"
   ]
  },
  {
   "cell_type": "code",
   "execution_count": 8,
   "metadata": {
    "collapsed": false
   },
   "outputs": [
    {
     "name": "stdout",
     "output_type": "stream",
     "text": [
      "Performing spell correction\n",
      "Performing non-ascii removal\n",
      "Non-ascii clean on search_term took: 0.0 minutes\n",
      "Non-ascii clean on product_title took: 0.03 minutes\n",
      "<class 'pandas.core.frame.DataFrame'>\n",
      "Int64Index: 33648 entries, 1 to 147404\n",
      "Data columns (total 4 columns):\n",
      "id             33648 non-null int64\n",
      "product_uid    33648 non-null int64\n",
      "search_term    33648 non-null object\n",
      "relevance      33648 non-null float64\n",
      "dtypes: float64(1), int64(2), object(1)\n",
      "memory usage: 1.3+ MB\n",
      "None\n"
     ]
    }
   ],
   "source": [
    "test_public_df = HomeDepotFeature().getFeature(test_public_df, product_df, attribute_df, test_public_df,\n",
    "                        features=\"spelling,nonascii\")"
   ]
  },
  {
   "cell_type": "code",
   "execution_count": 9,
   "metadata": {
    "collapsed": true
   },
   "outputs": [],
   "source": [
    "# product_df['content'] = train_query_df['search_term'].map(str) + \" \" + \\\n",
    "#                         product_df['product_title'].map(str) + \" \" + \\\n",
    "#                         product_df['product_description'].map(str) + \" \" + \\\n",
    "#                         product_df['attr_json'].map(str)\n",
    "\n",
    "product_df['content'] = product_df['product_title'].map(str) + \" \" + \\\n",
    "                        product_df['product_description'].map(str) \n",
    "\n",
    "# ## no attribute\n",
    "# product_df['content'] = product_df['product_title'].map(str) + \" \" + \\\n",
    "#                         product_df['product_description'].map(str) \n",
    "        \n",
    "#product_df['content']"
   ]
  },
  {
   "cell_type": "code",
   "execution_count": 10,
   "metadata": {
    "collapsed": false
   },
   "outputs": [
    {
     "data": {
      "text/plain": [
       "33648"
      ]
     },
     "execution_count": 10,
     "metadata": {},
     "output_type": "execute_result"
    }
   ],
   "source": [
    "len(test_public_df)"
   ]
  },
  {
   "cell_type": "code",
   "execution_count": 39,
   "metadata": {
    "collapsed": false
   },
   "outputs": [],
   "source": [
    "#https://www.kaggle.com/c/word2vec-nlp-tutorial/details/part-2-word-vectors\n",
    "def doc_to_wordlist( doc, vocab=['<PAD>', '<OOV>'], remove_stopwords=False, remove_non_letters=False, remove_non_letters_numbers=True):\n",
    "    # Function to convert a document to a sequence of words,\n",
    "    # optionally removing stop words.  Returns a list of words.\n",
    "    #\n",
    "    # 1. Remove HTML\n",
    "    #review_text = BeautifulSoup(review).get_text()\n",
    "    #  \n",
    "    # 2. Remove non-letters\n",
    "    if remove_non_letters:\n",
    "        doc = re.sub(\"[^a-zA-Z]\",\" \", doc)\n",
    "    # 2a. remove non-letters, numbers\n",
    "    if remove_non_letters_numbers:\n",
    "        doc = re.sub(\"[^a-zA-Z0-9]\",\" \", doc)\n",
    "    #\n",
    "    # 3. Convert words to lower case and split them\n",
    "    words = doc.lower().split()\n",
    "    #\n",
    "    # 4. Optionally remove stop words (false by default)\n",
    "    if remove_stopwords:\n",
    "        stops = set(stopwords.words(\"english\"))\n",
    "        #words = [w for w in words if not w in stops]\n",
    "        new_words = []\n",
    "        for w in words:\n",
    "            if not w in stops:\n",
    "                new_words.append(w)\n",
    "                #if w not in vocab: #TODO: temp removal, too slow\n",
    "                #    vocab.append(w)\n",
    "    \n",
    "    # 5. Return a list of words\n",
    "    return new_words,vocab\n",
    "\n",
    "# words,vocab=doc_to_wordlist(product_df['content'][0],remove_stopwords=True, remove_non_letters=False, remove_non_letters_numbers=True)\n",
    "# print(len(words),len(vocab))\n",
    "# print(vocab)\n",
    "# words,vocab=doc_to_wordlist(product_df['content'][0],remove_stopwords=False, remove_non_letters=False, remove_non_letters_numbers=True)\n",
    "# print(len(words),len(vocab))\n",
    "# print(vocab)\n",
    "# product_df['content'][0]"
   ]
  },
  {
   "cell_type": "code",
   "execution_count": 40,
   "metadata": {
    "collapsed": false
   },
   "outputs": [],
   "source": [
    "# # Download the punkt tokenizer for sentence splitting\n",
    "import nltk.data\n",
    "# nltk.download()   \n",
    "\n",
    "# Load the punkt tokenizer\n",
    "tokenizer = nltk.data.load('tokenizers/punkt/english.pickle')"
   ]
  },
  {
   "cell_type": "code",
   "execution_count": 41,
   "metadata": {
    "collapsed": true
   },
   "outputs": [],
   "source": [
    "### tokenisation\n",
    "class alt_tokenizer():\n",
    "    def alt_tokenize(sentence):\n",
    "        token = re.compile(\"[\\w]+(?=n't)|n't|\\'s|\\'m|\\'ll|[\\w]+|[.?!;,\\-\\(\\)—\\:'\\\"]\")\n",
    "        return token.findall(sentence)\n",
    "\n",
    "#load alt tokenizer\n",
    "my_alt_tokenizer = alt_tokenizer()"
   ]
  },
  {
   "cell_type": "code",
   "execution_count": 42,
   "metadata": {
    "collapsed": false
   },
   "outputs": [],
   "source": [
    "# Define a function to split a doc into parsed sentences\n",
    "def doc_to_sentences( doc, tokenizer, vocab=None, remove_stopwords=False, remove_non_letters=False, remove_non_letters_numbers=True ):\n",
    "    if vocab is None:\n",
    "        vocab = ['<PAD>', '<OOV>']\n",
    "    \n",
    "    # Function to split a doc into parsed sentences. Returns a \n",
    "    # list of sentences, where each sentence is a list of words\n",
    "    #\n",
    "    # 1. Use the NLTK tokenizer to split the paragraph into sentences\n",
    "    raw_sentences = tokenizer.tokenize(doc.strip())\n",
    "    #\n",
    "    # 2. Loop over each sentence\n",
    "    sentences = []\n",
    "    for raw_sentence in raw_sentences:\n",
    "        # If a sentence is empty, skip it\n",
    "        if len(raw_sentence) > 0:\n",
    "            # Otherwise, call review_to_wordlist to get a list of words\n",
    "            (words,vocab) = doc_to_wordlist( raw_sentence, vocab, remove_stopwords )\n",
    "            sentences.append(words)\n",
    "    #\n",
    "    # Return the list of sentences (each sentence is a list of words,\n",
    "    # so this returns a list of lists\n",
    "    return sentences,vocab\n"
   ]
  },
  {
   "cell_type": "code",
   "execution_count": null,
   "metadata": {
    "collapsed": true
   },
   "outputs": [],
   "source": []
  },
  {
   "cell_type": "code",
   "execution_count": 43,
   "metadata": {
    "collapsed": false
   },
   "outputs": [
    {
     "name": "stdout",
     "output_type": "stream",
     "text": [
      "the pc600 pelican premium 10 gpm whole house carbon water filter system for homes with 1 3 bathrooms is a deluxe high capacity virtually maintenance free system that is easily installed in any home and has a 600 000 5 year capacity only the top rated valves and tanks are used in manufacturing each pelican system backed by an industry leading limited life time parts warranty imagine spring like water through every faucet of your home drink bathe and shower in sparkling clean water with no more dry itchy skin or unpleasant odors from chemicals the large diameter of the tank holds a significant amount of water filtration carbon media increasing the overall performance and life span and the replacement cost is a fraction of the cost of similar items when it comes time to replace the filter all you have to do is replace the media inside the tank with no plumbing required and no need to replace the entire tank wrapped in premium stainless steel to ensure long life durability and unsurpassed quality pelican carbon series filter features preloaded design that makes it ready to install minimizes steps and saves time minimal filter media change with the sediment pre filter every six to nine months tank 1 media every five years or 1 000 000 gallons tank 2 media is life time media that needs no replacement includes sediment pre filter system with mounting hardware bacterial static media inhibits bacterial growth energy efficient does not waste water and requires no electricity\n",
      "pelican water 10 gpm whole house carbon water filter system for homes with 1 3 bathrooms the pc600 pelican premium 10 gpm whole house carbon water filter system for homes with 1 3 bathrooms is a deluxe high capacity virtually maintenance free system that is easily installed in any home and has a 600 000 5 year capacity only the top rated valves and tanks are used in manufacturing each pelican system backed by an industry leading limited life time parts warranty imagine spring like water through every faucet of your home drink bathe and shower in sparkling clean water with no more dry itchy skin or unpleasant odors from chemicals the large diameter of the tank holds a significant amount of water filtration carbon media increasing the overall performance and life span and the replacement cost is a fraction of the cost of similar items when it comes time to replace the filter all you have to do is replace the media inside the tank with no plumbing required and no need to replace the entire tank wrapped in premium stainless steel to ensure long life durability and unsurpassed quality pelican carbon series filter features preloaded design that makes it ready to install minimizes steps and saves time minimal filter media change with the sediment pre filter every six to nine months tank 1 media every five years or 1 000 000 gallons tank 2 media is life time media that needs no replacement includes sediment pre filter system with mounting hardware bacterial static media inhibits bacterial growth energy efficient does not waste water and requires no electricity\n",
      "186\n",
      "2\n",
      "['<PAD>', '<OOV>']\n"
     ]
    }
   ],
   "source": [
    "print(product_df['product_description'][100])\n",
    "print(product_df['content'][100])\n",
    "vocab=['<PAD>', '<OOV>']\n",
    "words,vocab=doc_to_wordlist(product_df['content'][100],remove_stopwords=True, \\\n",
    "                            remove_non_letters=False, remove_non_letters_numbers=True)\n",
    "print(len(words))\n",
    "#print(len(doc_to_wordlist(product_df['content'][0],remove_stopwords=False)))\n",
    "print(len(vocab))\n",
    "print(vocab)"
   ]
  },
  {
   "cell_type": "code",
   "execution_count": 44,
   "metadata": {
    "collapsed": false
   },
   "outputs": [
    {
     "name": "stdout",
     "output_type": "stream",
     "text": [
      "1\n",
      "2\n"
     ]
    }
   ],
   "source": [
    "product_df['content'][100]\n",
    "vocab=None\n",
    "sentences,vocab = doc_to_sentences(product_df['content'][100],tokenizer,remove_stopwords=True, \\\n",
    "                            remove_non_letters=False, remove_non_letters_numbers=True)\n",
    "print(len(sentences))\n",
    "print(len(vocab))\n",
    "# print(len(doc_to_sentences(product_df['content'][0],tokenizer,remove_stopwords=True)))\n",
    "# print(len(doc_to_sentences(product_df['content'][0],tokenizer,remove_stopwords=False)))\n",
    "# product_df['content'][0]"
   ]
  },
  {
   "cell_type": "code",
   "execution_count": null,
   "metadata": {
    "collapsed": true
   },
   "outputs": [],
   "source": []
  },
  {
   "cell_type": "code",
   "execution_count": 45,
   "metadata": {
    "collapsed": false
   },
   "outputs": [
    {
     "name": "stdout",
     "output_type": "stream",
     "text": [
      "Parsing sentences from search string\n"
     ]
    }
   ],
   "source": [
    "sentences = []  # Initialize an empty list of sentences\n",
    "query_sentences = []\n",
    "doc_sentences = []\n",
    "vocab=['<PAD>', '<OOV>']\n",
    "print(\"Parsing sentences from search string\")\n",
    "for query in train_query_df[\"search_term\"]:\n",
    "    words,vocab=doc_to_wordlist(query,vocab, remove_stopwords=True, remove_non_letters=False, remove_non_letters_numbers=True)\n",
    "    query_sentences += [words]\n",
    " "
   ]
  },
  {
   "cell_type": "code",
   "execution_count": 46,
   "metadata": {
    "collapsed": false
   },
   "outputs": [
    {
     "name": "stdout",
     "output_type": "stream",
     "text": [
      "74067\n",
      "2\n"
     ]
    }
   ],
   "source": [
    "print(len(query_sentences))\n",
    "print(len(vocab))"
   ]
  },
  {
   "cell_type": "code",
   "execution_count": 47,
   "metadata": {
    "collapsed": false
   },
   "outputs": [
    {
     "name": "stdout",
     "output_type": "stream",
     "text": [
      "Parsing sentences from unlabeled set\n"
     ]
    }
   ],
   "source": [
    "print(\"Parsing sentences from unlabeled set\")\n",
    "for doc in product_df['content']:\n",
    "    words,vocab=doc_to_wordlist(doc,vocab, remove_stopwords=True,remove_non_letters=False, remove_non_letters_numbers=True)\n",
    "    doc_sentences += [words]\n",
    "\n",
    "sentences = query_sentences+doc_sentences   "
   ]
  },
  {
   "cell_type": "code",
   "execution_count": 48,
   "metadata": {
    "collapsed": false
   },
   "outputs": [
    {
     "name": "stdout",
     "output_type": "stream",
     "text": [
      "198495\n",
      "2\n"
     ]
    }
   ],
   "source": [
    "print(len(sentences))\n",
    "print(len(vocab))"
   ]
  },
  {
   "cell_type": "code",
   "execution_count": 49,
   "metadata": {
    "collapsed": false
   },
   "outputs": [
    {
     "name": "stderr",
     "output_type": "stream",
     "text": [
      "2017-04-04 17:44:42,913 : INFO : collecting all words and their counts\n",
      "2017-04-04 17:44:42,926 : INFO : PROGRESS: at sentence #0, processed 0 words, keeping 0 word types\n",
      "2017-04-04 17:44:42,942 : INFO : PROGRESS: at sentence #10000, processed 29172 words, keeping 3572 word types\n",
      "2017-04-04 17:44:42,956 : INFO : PROGRESS: at sentence #20000, processed 59500 words, keeping 4877 word types\n",
      "2017-04-04 17:44:42,971 : INFO : PROGRESS: at sentence #30000, processed 89924 words, keeping 5430 word types\n",
      "2017-04-04 17:44:42,984 : INFO : PROGRESS: at sentence #40000, processed 119667 words, keeping 5752 word types\n",
      "2017-04-04 17:44:42,998 : INFO : PROGRESS: at sentence #50000, processed 149568 words, keeping 6001 word types\n",
      "2017-04-04 17:44:43,012 : INFO : PROGRESS: at sentence #60000, processed 183701 words, keeping 6510 word types\n",
      "2017-04-04 17:44:43,029 : INFO : PROGRESS: at sentence #70000, processed 220154 words, keeping 6767 word types\n"
     ]
    },
    {
     "name": "stdout",
     "output_type": "stream",
     "text": [
      "Training model...\n"
     ]
    },
    {
     "name": "stderr",
     "output_type": "stream",
     "text": [
      "2017-04-04 17:44:43,194 : INFO : PROGRESS: at sentence #80000, processed 932103 words, keeping 25318 word types\n",
      "2017-04-04 17:44:43,437 : INFO : PROGRESS: at sentence #90000, processed 2064512 words, keeping 38929 word types\n",
      "2017-04-04 17:44:43,684 : INFO : PROGRESS: at sentence #100000, processed 3187550 words, keeping 48854 word types\n",
      "2017-04-04 17:44:43,934 : INFO : PROGRESS: at sentence #110000, processed 4289312 words, keeping 56824 word types\n",
      "2017-04-04 17:44:44,179 : INFO : PROGRESS: at sentence #120000, processed 5411786 words, keeping 64406 word types\n",
      "2017-04-04 17:44:44,461 : INFO : PROGRESS: at sentence #130000, processed 6515745 words, keeping 70725 word types\n",
      "2017-04-04 17:44:44,768 : INFO : PROGRESS: at sentence #140000, processed 7592124 words, keeping 77066 word types\n",
      "2017-04-04 17:44:45,058 : INFO : PROGRESS: at sentence #150000, processed 8675235 words, keeping 82516 word types\n",
      "2017-04-04 17:44:45,330 : INFO : PROGRESS: at sentence #160000, processed 9753858 words, keeping 87891 word types\n",
      "2017-04-04 17:44:45,574 : INFO : PROGRESS: at sentence #170000, processed 10857383 words, keeping 92619 word types\n",
      "2017-04-04 17:44:45,821 : INFO : PROGRESS: at sentence #180000, processed 11953951 words, keeping 96698 word types\n",
      "2017-04-04 17:44:46,059 : INFO : PROGRESS: at sentence #190000, processed 13018244 words, keeping 101095 word types\n",
      "2017-04-04 17:44:46,260 : INFO : collected 104590 word types from a corpus of 13915580 raw words and 198495 sentences\n",
      "2017-04-04 17:44:46,261 : INFO : Loading a fresh vocabulary\n",
      "2017-04-04 17:44:46,908 : INFO : min_count=1 retains 104590 unique words (100% of original 104590, drops 0)\n",
      "2017-04-04 17:44:46,909 : INFO : min_count=1 leaves 13915580 word corpus (100% of original 13915580, drops 0)\n",
      "2017-04-04 17:44:47,399 : INFO : deleting the raw counts dictionary of 104590 items\n",
      "2017-04-04 17:44:47,403 : INFO : sample=0 downsamples 0 most-common words\n",
      "2017-04-04 17:44:47,404 : INFO : downsampling leaves estimated 13915580 word corpus (100.0% of prior 13915580)\n",
      "2017-04-04 17:44:47,405 : INFO : estimated required memory for 104590 words and 100 dimensions: 135967000 bytes\n",
      "2017-04-04 17:44:47,826 : INFO : resetting layer weights\n",
      "2017-04-04 17:44:49,825 : INFO : training model with 4 workers on 104590 vocabulary and 100 features, using sg=0 hs=0 sample=0 negative=5 window=10\n",
      "2017-04-04 17:44:49,826 : INFO : expecting 198495 sentences, matching count from corpus used for vocabulary survey\n",
      "2017-04-04 17:44:50,868 : INFO : PROGRESS: at 7.74% examples, 548292 words/s, in_qsize 8, out_qsize 0\n",
      "2017-04-04 17:44:51,899 : INFO : PROGRESS: at 8.26% examples, 563079 words/s, in_qsize 7, out_qsize 0\n",
      "2017-04-04 17:44:52,919 : INFO : PROGRESS: at 8.64% examples, 512017 words/s, in_qsize 8, out_qsize 0\n",
      "2017-04-04 17:44:53,931 : INFO : PROGRESS: at 9.05% examples, 499472 words/s, in_qsize 6, out_qsize 1\n",
      "2017-04-04 17:44:54,952 : INFO : PROGRESS: at 9.56% examples, 510413 words/s, in_qsize 7, out_qsize 0\n",
      "2017-04-04 17:44:55,962 : INFO : PROGRESS: at 10.10% examples, 523611 words/s, in_qsize 7, out_qsize 0\n",
      "2017-04-04 17:44:57,008 : INFO : PROGRESS: at 10.63% examples, 528941 words/s, in_qsize 7, out_qsize 0\n",
      "2017-04-04 17:44:58,037 : INFO : PROGRESS: at 11.17% examples, 533961 words/s, in_qsize 7, out_qsize 0\n",
      "2017-04-04 17:44:59,055 : INFO : PROGRESS: at 11.70% examples, 539693 words/s, in_qsize 7, out_qsize 0\n",
      "2017-04-04 17:45:00,057 : INFO : PROGRESS: at 12.25% examples, 546068 words/s, in_qsize 7, out_qsize 0\n",
      "2017-04-04 17:45:01,086 : INFO : PROGRESS: at 12.76% examples, 546392 words/s, in_qsize 6, out_qsize 1\n",
      "2017-04-04 17:45:02,107 : INFO : PROGRESS: at 13.27% examples, 545492 words/s, in_qsize 8, out_qsize 0\n",
      "2017-04-04 17:45:03,124 : INFO : PROGRESS: at 13.77% examples, 544104 words/s, in_qsize 7, out_qsize 0\n",
      "2017-04-04 17:45:04,128 : INFO : PROGRESS: at 14.33% examples, 547596 words/s, in_qsize 7, out_qsize 0\n",
      "2017-04-04 17:45:05,142 : INFO : PROGRESS: at 14.90% examples, 551558 words/s, in_qsize 7, out_qsize 0\n",
      "2017-04-04 17:45:06,170 : INFO : PROGRESS: at 15.47% examples, 553946 words/s, in_qsize 7, out_qsize 0\n",
      "2017-04-04 17:45:07,176 : INFO : PROGRESS: at 16.04% examples, 557327 words/s, in_qsize 7, out_qsize 0\n",
      "2017-04-04 17:45:08,192 : INFO : PROGRESS: at 16.47% examples, 552463 words/s, in_qsize 6, out_qsize 1\n",
      "2017-04-04 17:45:09,217 : INFO : PROGRESS: at 16.90% examples, 547362 words/s, in_qsize 7, out_qsize 0\n",
      "2017-04-04 17:45:10,239 : INFO : PROGRESS: at 17.37% examples, 545258 words/s, in_qsize 6, out_qsize 1\n",
      "2017-04-04 17:45:11,241 : INFO : PROGRESS: at 17.87% examples, 544782 words/s, in_qsize 7, out_qsize 0\n",
      "2017-04-04 17:45:12,271 : INFO : PROGRESS: at 18.40% examples, 545035 words/s, in_qsize 7, out_qsize 0\n",
      "2017-04-04 17:45:13,281 : INFO : PROGRESS: at 18.91% examples, 544851 words/s, in_qsize 7, out_qsize 0\n",
      "2017-04-04 17:45:14,289 : INFO : PROGRESS: at 19.47% examples, 546365 words/s, in_qsize 7, out_qsize 0\n",
      "2017-04-04 17:45:15,292 : INFO : PROGRESS: at 21.79% examples, 548659 words/s, in_qsize 7, out_qsize 0\n",
      "2017-04-04 17:45:16,301 : INFO : PROGRESS: at 27.86% examples, 552523 words/s, in_qsize 7, out_qsize 0\n",
      "2017-04-04 17:45:17,326 : INFO : PROGRESS: at 28.40% examples, 553956 words/s, in_qsize 7, out_qsize 0\n",
      "2017-04-04 17:45:18,331 : INFO : PROGRESS: at 28.94% examples, 555676 words/s, in_qsize 7, out_qsize 0\n",
      "2017-04-04 17:45:19,338 : INFO : PROGRESS: at 29.51% examples, 558267 words/s, in_qsize 7, out_qsize 0\n",
      "2017-04-04 17:45:20,341 : INFO : PROGRESS: at 30.04% examples, 559454 words/s, in_qsize 7, out_qsize 0\n",
      "2017-04-04 17:45:21,350 : INFO : PROGRESS: at 30.60% examples, 560778 words/s, in_qsize 7, out_qsize 0\n",
      "2017-04-04 17:45:22,359 : INFO : PROGRESS: at 31.15% examples, 561986 words/s, in_qsize 7, out_qsize 0\n",
      "2017-04-04 17:45:23,381 : INFO : PROGRESS: at 31.70% examples, 563212 words/s, in_qsize 8, out_qsize 0\n",
      "2017-04-04 17:45:24,381 : INFO : PROGRESS: at 32.24% examples, 564160 words/s, in_qsize 8, out_qsize 0\n",
      "2017-04-04 17:45:25,392 : INFO : PROGRESS: at 32.80% examples, 565446 words/s, in_qsize 7, out_qsize 0\n",
      "2017-04-04 17:45:26,411 : INFO : PROGRESS: at 33.37% examples, 566273 words/s, in_qsize 7, out_qsize 0\n",
      "2017-04-04 17:45:27,415 : INFO : PROGRESS: at 33.94% examples, 567511 words/s, in_qsize 7, out_qsize 0\n",
      "2017-04-04 17:45:28,438 : INFO : PROGRESS: at 34.51% examples, 568182 words/s, in_qsize 7, out_qsize 0\n",
      "2017-04-04 17:45:29,459 : INFO : PROGRESS: at 35.10% examples, 569573 words/s, in_qsize 7, out_qsize 0\n",
      "2017-04-04 17:45:30,467 : INFO : PROGRESS: at 35.64% examples, 569849 words/s, in_qsize 8, out_qsize 0\n",
      "2017-04-04 17:45:31,477 : INFO : PROGRESS: at 36.19% examples, 570112 words/s, in_qsize 7, out_qsize 0\n",
      "2017-04-04 17:45:32,480 : INFO : PROGRESS: at 36.72% examples, 570431 words/s, in_qsize 7, out_qsize 0\n",
      "2017-04-04 17:45:33,493 : INFO : PROGRESS: at 37.27% examples, 570841 words/s, in_qsize 7, out_qsize 0\n",
      "2017-04-04 17:45:34,499 : INFO : PROGRESS: at 37.79% examples, 570652 words/s, in_qsize 7, out_qsize 0\n",
      "2017-04-04 17:45:35,501 : INFO : PROGRESS: at 38.38% examples, 572071 words/s, in_qsize 7, out_qsize 0\n",
      "2017-04-04 17:45:36,507 : INFO : PROGRESS: at 38.99% examples, 573578 words/s, in_qsize 7, out_qsize 0\n",
      "2017-04-04 17:45:37,533 : INFO : PROGRESS: at 39.56% examples, 573953 words/s, in_qsize 7, out_qsize 0\n",
      "2017-04-04 17:45:38,533 : INFO : PROGRESS: at 46.02% examples, 575237 words/s, in_qsize 7, out_qsize 0\n",
      "2017-04-04 17:45:39,534 : INFO : PROGRESS: at 47.90% examples, 575029 words/s, in_qsize 7, out_qsize 0\n",
      "2017-04-04 17:45:40,549 : INFO : PROGRESS: at 48.39% examples, 574486 words/s, in_qsize 8, out_qsize 0\n",
      "2017-04-04 17:45:41,564 : INFO : PROGRESS: at 48.81% examples, 572235 words/s, in_qsize 7, out_qsize 0\n",
      "2017-04-04 17:45:42,571 : INFO : PROGRESS: at 49.27% examples, 571111 words/s, in_qsize 7, out_qsize 0\n",
      "2017-04-04 17:45:43,607 : INFO : PROGRESS: at 49.78% examples, 570820 words/s, in_qsize 7, out_qsize 0\n",
      "2017-04-04 17:45:44,650 : INFO : PROGRESS: at 50.21% examples, 568473 words/s, in_qsize 7, out_qsize 0\n",
      "2017-04-04 17:45:45,657 : INFO : PROGRESS: at 50.68% examples, 567475 words/s, in_qsize 7, out_qsize 0\n",
      "2017-04-04 17:45:46,676 : INFO : PROGRESS: at 51.29% examples, 569007 words/s, in_qsize 7, out_qsize 0\n",
      "2017-04-04 17:45:47,704 : INFO : PROGRESS: at 51.84% examples, 569530 words/s, in_qsize 7, out_qsize 0\n",
      "2017-04-04 17:45:48,745 : INFO : PROGRESS: at 52.33% examples, 568735 words/s, in_qsize 7, out_qsize 0\n",
      "2017-04-04 17:45:49,766 : INFO : PROGRESS: at 52.92% examples, 569830 words/s, in_qsize 7, out_qsize 0\n",
      "2017-04-04 17:45:50,768 : INFO : PROGRESS: at 53.51% examples, 570897 words/s, in_qsize 7, out_qsize 0\n",
      "2017-04-04 17:45:51,781 : INFO : PROGRESS: at 54.11% examples, 571975 words/s, in_qsize 8, out_qsize 0\n",
      "2017-04-04 17:45:52,790 : INFO : PROGRESS: at 54.73% examples, 573224 words/s, in_qsize 7, out_qsize 0\n",
      "2017-04-04 17:45:53,795 : INFO : PROGRESS: at 55.30% examples, 573837 words/s, in_qsize 8, out_qsize 1\n",
      "2017-04-04 17:45:54,795 : INFO : PROGRESS: at 55.88% examples, 574633 words/s, in_qsize 7, out_qsize 0\n",
      "2017-04-04 17:45:55,813 : INFO : PROGRESS: at 56.44% examples, 574952 words/s, in_qsize 7, out_qsize 0\n",
      "2017-04-04 17:45:56,824 : INFO : PROGRESS: at 56.99% examples, 575313 words/s, in_qsize 7, out_qsize 0\n",
      "2017-04-04 17:45:57,824 : INFO : PROGRESS: at 57.55% examples, 575760 words/s, in_qsize 7, out_qsize 0\n",
      "2017-04-04 17:45:58,829 : INFO : PROGRESS: at 58.14% examples, 576731 words/s, in_qsize 7, out_qsize 0\n",
      "2017-04-04 17:45:59,838 : INFO : PROGRESS: at 58.74% examples, 577511 words/s, in_qsize 7, out_qsize 0\n",
      "2017-04-04 17:46:00,854 : INFO : PROGRESS: at 59.36% examples, 578338 words/s, in_qsize 7, out_qsize 0\n",
      "2017-04-04 17:46:01,867 : INFO : PROGRESS: at 59.97% examples, 579026 words/s, in_qsize 7, out_qsize 0\n",
      "2017-04-04 17:46:02,870 : INFO : PROGRESS: at 67.84% examples, 580880 words/s, in_qsize 7, out_qsize 0\n",
      "2017-04-04 17:46:03,872 : INFO : PROGRESS: at 68.40% examples, 581598 words/s, in_qsize 7, out_qsize 0\n",
      "2017-04-04 17:46:04,880 : INFO : PROGRESS: at 68.97% examples, 582394 words/s, in_qsize 7, out_qsize 0\n",
      "2017-04-04 17:46:05,882 : INFO : PROGRESS: at 69.54% examples, 583080 words/s, in_qsize 7, out_qsize 0\n",
      "2017-04-04 17:46:06,888 : INFO : PROGRESS: at 70.12% examples, 583844 words/s, in_qsize 7, out_qsize 0\n",
      "2017-04-04 17:46:07,891 : INFO : PROGRESS: at 70.71% examples, 584488 words/s, in_qsize 7, out_qsize 0\n",
      "2017-04-04 17:46:08,904 : INFO : PROGRESS: at 71.30% examples, 585166 words/s, in_qsize 7, out_qsize 0\n",
      "2017-04-04 17:46:09,906 : INFO : PROGRESS: at 71.88% examples, 585898 words/s, in_qsize 7, out_qsize 0\n",
      "2017-04-04 17:46:10,918 : INFO : PROGRESS: at 72.46% examples, 586670 words/s, in_qsize 7, out_qsize 0\n",
      "2017-04-04 17:46:11,929 : INFO : PROGRESS: at 73.05% examples, 587314 words/s, in_qsize 7, out_qsize 0\n",
      "2017-04-04 17:46:12,938 : INFO : PROGRESS: at 73.65% examples, 587837 words/s, in_qsize 7, out_qsize 0\n",
      "2017-04-04 17:46:13,953 : INFO : PROGRESS: at 74.26% examples, 588527 words/s, in_qsize 7, out_qsize 0\n",
      "2017-04-04 17:46:14,960 : INFO : PROGRESS: at 74.86% examples, 589038 words/s, in_qsize 7, out_qsize 0\n",
      "2017-04-04 17:46:15,968 : INFO : PROGRESS: at 75.46% examples, 589629 words/s, in_qsize 7, out_qsize 0\n",
      "2017-04-04 17:46:16,980 : INFO : PROGRESS: at 76.06% examples, 590197 words/s, in_qsize 7, out_qsize 0\n",
      "2017-04-04 17:46:17,989 : INFO : PROGRESS: at 76.64% examples, 590651 words/s, in_qsize 7, out_qsize 0\n",
      "2017-04-04 17:46:19,016 : INFO : PROGRESS: at 77.23% examples, 591083 words/s, in_qsize 7, out_qsize 0\n",
      "2017-04-04 17:46:20,033 : INFO : PROGRESS: at 77.83% examples, 591684 words/s, in_qsize 7, out_qsize 0\n",
      "2017-04-04 17:46:21,039 : INFO : PROGRESS: at 78.43% examples, 592241 words/s, in_qsize 7, out_qsize 0\n",
      "2017-04-04 17:46:22,052 : INFO : PROGRESS: at 79.05% examples, 592743 words/s, in_qsize 7, out_qsize 0\n",
      "2017-04-04 17:46:23,057 : INFO : PROGRESS: at 79.66% examples, 593283 words/s, in_qsize 7, out_qsize 0\n",
      "2017-04-04 17:46:24,058 : INFO : PROGRESS: at 87.55% examples, 594367 words/s, in_qsize 7, out_qsize 0\n",
      "2017-04-04 17:46:25,062 : INFO : PROGRESS: at 88.04% examples, 594037 words/s, in_qsize 7, out_qsize 0\n",
      "2017-04-04 17:46:26,070 : INFO : PROGRESS: at 88.61% examples, 594520 words/s, in_qsize 7, out_qsize 0\n",
      "2017-04-04 17:46:27,074 : INFO : PROGRESS: at 89.19% examples, 595025 words/s, in_qsize 7, out_qsize 0\n",
      "2017-04-04 17:46:28,094 : INFO : PROGRESS: at 89.76% examples, 595318 words/s, in_qsize 7, out_qsize 0\n",
      "2017-04-04 17:46:29,111 : INFO : PROGRESS: at 90.36% examples, 595827 words/s, in_qsize 7, out_qsize 0\n",
      "2017-04-04 17:46:30,116 : INFO : PROGRESS: at 90.93% examples, 596187 words/s, in_qsize 7, out_qsize 0\n",
      "2017-04-04 17:46:31,134 : INFO : PROGRESS: at 91.51% examples, 596468 words/s, in_qsize 7, out_qsize 0\n",
      "2017-04-04 17:46:32,160 : INFO : PROGRESS: at 92.09% examples, 596895 words/s, in_qsize 7, out_qsize 0\n",
      "2017-04-04 17:46:33,164 : INFO : PROGRESS: at 92.66% examples, 597153 words/s, in_qsize 7, out_qsize 0\n",
      "2017-04-04 17:46:34,174 : INFO : PROGRESS: at 93.27% examples, 597665 words/s, in_qsize 7, out_qsize 0\n",
      "2017-04-04 17:46:35,183 : INFO : PROGRESS: at 93.85% examples, 597870 words/s, in_qsize 7, out_qsize 0\n",
      "2017-04-04 17:46:36,191 : INFO : PROGRESS: at 94.45% examples, 598182 words/s, in_qsize 7, out_qsize 0\n",
      "2017-04-04 17:46:37,200 : INFO : PROGRESS: at 95.04% examples, 598484 words/s, in_qsize 8, out_qsize 0\n",
      "2017-04-04 17:46:38,204 : INFO : PROGRESS: at 95.61% examples, 598520 words/s, in_qsize 7, out_qsize 0\n",
      "2017-04-04 17:46:39,222 : INFO : PROGRESS: at 96.19% examples, 598764 words/s, in_qsize 7, out_qsize 0\n",
      "2017-04-04 17:46:40,249 : INFO : PROGRESS: at 96.79% examples, 599125 words/s, in_qsize 7, out_qsize 0\n",
      "2017-04-04 17:46:41,251 : INFO : PROGRESS: at 97.37% examples, 599443 words/s, in_qsize 7, out_qsize 0\n",
      "2017-04-04 17:46:42,256 : INFO : PROGRESS: at 97.96% examples, 599737 words/s, in_qsize 7, out_qsize 0\n",
      "2017-04-04 17:46:43,261 : INFO : PROGRESS: at 98.55% examples, 600037 words/s, in_qsize 7, out_qsize 0\n",
      "2017-04-04 17:46:44,268 : INFO : PROGRESS: at 99.05% examples, 599270 words/s, in_qsize 8, out_qsize 0\n",
      "2017-04-04 17:46:45,281 : INFO : PROGRESS: at 99.55% examples, 598575 words/s, in_qsize 7, out_qsize 0\n",
      "2017-04-04 17:46:46,289 : INFO : PROGRESS: at 99.97% examples, 597228 words/s, in_qsize 3, out_qsize 1\n",
      "2017-04-04 17:46:46,292 : INFO : worker thread finished; awaiting finish of 3 more threads\n",
      "2017-04-04 17:46:46,293 : INFO : worker thread finished; awaiting finish of 2 more threads\n",
      "2017-04-04 17:46:46,296 : INFO : worker thread finished; awaiting finish of 1 more threads\n",
      "2017-04-04 17:46:46,314 : INFO : worker thread finished; awaiting finish of 0 more threads\n",
      "2017-04-04 17:46:46,315 : INFO : training on 69577900 raw words (69577900 effective words) took 116.5s, 597328 effective words/s\n",
      "2017-04-04 17:46:46,316 : INFO : precomputing L2-norms of word weight vectors\n",
      "2017-04-04 17:46:47,520 : INFO : saving Word2Vec object under model/word2vec.model, separately None\n",
      "2017-04-04 17:46:47,521 : INFO : not storing attribute syn0norm\n",
      "2017-04-04 17:46:47,522 : INFO : not storing attribute cum_table\n",
      "2017-04-04 17:46:48,574 : INFO : saved model/word2vec.model\n"
     ]
    }
   ],
   "source": [
    "# Import the built-in logging module and configure it so that Word2Vec \n",
    "# creates nice output messages\n",
    "import logging\n",
    "logging.basicConfig(format='%(asctime)s : %(levelname)s : %(message)s',\\\n",
    "    level=logging.INFO)\n",
    "\n",
    "# Set values for various parameters\n",
    "num_features = 100#50#300    # Word vector dimensionality                      \n",
    "min_word_count = 1#5#40   # Minimum word count                        \n",
    "num_workers = 4       # Number of threads to run in parallel\n",
    "context = 10          # Context window size                                                                                    \n",
    "downsampling = 0 #1e-3   # Downsample setting for frequent words\n",
    "\n",
    "# Initialize and train the model (this will take some time)\n",
    "from gensim.models import word2vec\n",
    "print(\"Training model...\")\n",
    "word2vec_model = word2vec.Word2Vec(sentences, workers=num_workers, \\\n",
    "            size=num_features, min_count = min_word_count, \\\n",
    "            window = context, sample = downsampling)\n",
    "\n",
    "# If you don't plan to train the model any further, calling \n",
    "# init_sims will make the model much more memory-efficient.\n",
    "word2vec_model.init_sims(replace=True)\n",
    "\n",
    "# It can be helpful to create a meaningful model name and \n",
    "# save the model for later use. You can load it later using Word2Vec.load()\n",
    "#model_name = \"300features_40minwords_10context\"\n",
    "word2vec_model.save(word2vec_model_path)"
   ]
  },
  {
   "cell_type": "code",
   "execution_count": 50,
   "metadata": {
    "collapsed": false
   },
   "outputs": [
    {
     "name": "stdout",
     "output_type": "stream",
     "text": [
      "104590\n"
     ]
    }
   ],
   "source": [
    "print(len(word2vec_model.wv.vocab))\n",
    "#word2vec_model.wv.vocab"
   ]
  },
  {
   "cell_type": "code",
   "execution_count": 51,
   "metadata": {
    "collapsed": false
   },
   "outputs": [
    {
     "name": "stdout",
     "output_type": "stream",
     "text": [
      "[('hardwood', 0.6149548888206482), ('hardwoods', 0.5928762555122375), ('pine', 0.5321435332298279)]\n"
     ]
    }
   ],
   "source": [
    "print(word2vec_model.most_similar('wood', [], 3))\n",
    "#print(word2vec_model.most_similar('temperature'))"
   ]
  },
  {
   "cell_type": "code",
   "execution_count": 52,
   "metadata": {
    "collapsed": false
   },
   "outputs": [],
   "source": [
    "# #w2v=Feature_Word2Vec(modelFilename=word2vec_model_path)#modelFilename=word2vec_model_path\n",
    "# w2v=Feature_Word2Vec()\n",
    "# #sentences=w2v.convertDFIntoSentences(product_df,'content')\n",
    "# #print(sentences)\n",
    "# w2v.trainModel(sentences)"
   ]
  },
  {
   "cell_type": "code",
   "execution_count": 53,
   "metadata": {
    "collapsed": false
   },
   "outputs": [],
   "source": [
    "# len(w2v.model.wv.vocab)"
   ]
  },
  {
   "cell_type": "code",
   "execution_count": 54,
   "metadata": {
    "collapsed": false
   },
   "outputs": [],
   "source": [
    "# w2vExpand=Word2VecQueryExpansion(modelFilename=word2vec_model_path)\n",
    "# query=\"cooking\"\n",
    "# print(\"Expanding query: \")\n",
    "# print(w2vExpand.getExpandedQuery(query,maxNoOfAdditionalWords=2,minSimilarityLevel=0.65,))"
   ]
  },
  {
   "cell_type": "code",
   "execution_count": 55,
   "metadata": {
    "collapsed": false
   },
   "outputs": [],
   "source": [
    "# print(w2v.getVectorFromWord('wood'))\n",
    "# print(w2v.getSimilarWordVectors('wood',5))\n",
    "# print(len(w2v.getVectorFromWord('wood')))"
   ]
  },
  {
   "cell_type": "markdown",
   "metadata": {},
   "source": [
    "# embeddings to keras\n",
    "http://ben.bolte.cc/resources/embeddings/embeddings.html"
   ]
  },
  {
   "cell_type": "code",
   "execution_count": 56,
   "metadata": {
    "collapsed": false
   },
   "outputs": [],
   "source": [
    "#vocab = dict([(k, v.index) for k, v in w2v.model.wv.vocab.items()])\n",
    "#vocab = dict([(k, v.index) for k, v in word2vec_model.wv.vocab.items()])\n",
    "word2vec_vocab = dict([(k, v.index+2) for k, v in word2vec_model.wv.vocab.items()]) # Leave room for <pad>\n",
    "word2vec_vocab['<PAD>']=0\n",
    "word2vec_vocab['<OOV>']=1\n",
    "with open(vocab_path, 'w') as f:\n",
    "    f.write(json.dumps(word2vec_vocab))"
   ]
  },
  {
   "cell_type": "code",
   "execution_count": 57,
   "metadata": {
    "collapsed": false
   },
   "outputs": [],
   "source": [
    "#weights = w2v.model.wv.syn0\n",
    "weights = word2vec_model.wv.syn0\n",
    "np.save(open(embeddings_path, 'wb'), weights)"
   ]
  },
  {
   "cell_type": "code",
   "execution_count": 58,
   "metadata": {
    "collapsed": true
   },
   "outputs": [],
   "source": [
    "def load_vocab(vocab_path):\n",
    "    \"\"\"\n",
    "    Load word -> index and index -> word mappings\n",
    "    :param vocab_path: where the word-index map is saved\n",
    "    :return: word2idx, idx2word\n",
    "    \"\"\"\n",
    "\n",
    "    with open(vocab_path, 'r') as f:\n",
    "        data = json.loads(f.read())\n",
    "    word2idx = data\n",
    "    idx2word = dict([(v, k) for k, v in data.items()])\n",
    "    return word2idx, idx2word"
   ]
  },
  {
   "cell_type": "code",
   "execution_count": 59,
   "metadata": {
    "collapsed": false
   },
   "outputs": [],
   "source": [
    "word2idx, idx2word = load_vocab(vocab_path)"
   ]
  },
  {
   "cell_type": "code",
   "execution_count": 60,
   "metadata": {
    "collapsed": true
   },
   "outputs": [],
   "source": [
    "def word2vec_embedding_layer(embeddings_path):\n",
    "    \"\"\"\n",
    "    Generate an embedding layer word2vec embeddings\n",
    "    :param embeddings_path: where the embeddings are saved (as a numpy file)\n",
    "    :return: the generated embedding layer\n",
    "    \"\"\"\n",
    "\n",
    "    saved_weights = np.load(open(embeddings_path, 'rb'))\n",
    "    padding_weight = np.zeros(num_features)\n",
    "    padding_weight=np.expand_dims(padding_weight,axis=0)\n",
    "    oov_weight = np.random.rand(num_features)\n",
    "    oov_weight=np.expand_dims(oov_weight,axis=0)    \n",
    "    weights=np.concatenate((padding_weight,saved_weights), axis=0)\n",
    "    layer = Embedding(input_dim=weights.shape[0], output_dim=weights.shape[1], weights=[weights],mask_zero=True, trainable=False)\n",
    "    return layer"
   ]
  },
  {
   "cell_type": "code",
   "execution_count": 61,
   "metadata": {
    "collapsed": false
   },
   "outputs": [],
   "source": [
    "# a = np.load(open(embeddings_path, 'rb'))\n",
    "# b = np.zeros(50)\n",
    "# b=np.expand_dims(b,axis=0)\n",
    "# b.shape"
   ]
  },
  {
   "cell_type": "code",
   "execution_count": 62,
   "metadata": {
    "collapsed": false
   },
   "outputs": [],
   "source": [
    "# c=np.concatenate((b,a), axis=0)\n",
    "# c[0:2]"
   ]
  },
  {
   "cell_type": "code",
   "execution_count": 63,
   "metadata": {
    "collapsed": false
   },
   "outputs": [],
   "source": [
    "# idx2word = []\n",
    "# idx2word=[dict([(v, k) for k, v in word2idx.items()])]\n",
    "# idx2word.insert(0, '<PAD>')"
   ]
  },
  {
   "cell_type": "code",
   "execution_count": 64,
   "metadata": {
    "collapsed": false
   },
   "outputs": [
    {
     "data": {
      "text/plain": [
       "'<PAD>'"
      ]
     },
     "execution_count": 64,
     "metadata": {},
     "output_type": "execute_result"
    }
   ],
   "source": [
    "idx2word[0]"
   ]
  },
  {
   "cell_type": "code",
   "execution_count": 65,
   "metadata": {
    "collapsed": false
   },
   "outputs": [
    {
     "data": {
      "text/plain": [
       "'<OOV>'"
      ]
     },
     "execution_count": 65,
     "metadata": {},
     "output_type": "execute_result"
    }
   ],
   "source": [
    "idx2word[1]"
   ]
  },
  {
   "cell_type": "code",
   "execution_count": 66,
   "metadata": {
    "collapsed": false
   },
   "outputs": [
    {
     "data": {
      "text/plain": [
       "'1'"
      ]
     },
     "execution_count": 66,
     "metadata": {},
     "output_type": "execute_result"
    }
   ],
   "source": [
    "idx2word[2]"
   ]
  },
  {
   "cell_type": "code",
   "execution_count": 67,
   "metadata": {
    "collapsed": false
   },
   "outputs": [],
   "source": [
    "print_tokens=False"
   ]
  },
  {
   "cell_type": "code",
   "execution_count": 68,
   "metadata": {
    "collapsed": false
   },
   "outputs": [],
   "source": [
    "# variable arguments are passed to gensim's word2vec model\n",
    "# if options.train:\n",
    "#     print('Training Word2Vec...')\n",
    "#     create_embeddings(options.data, options.embeddings, options.vocab, size=100, min_count=5, window=5, sg=1, iter=25)\n",
    "\n",
    "word2idx, idx2word = load_vocab(vocab_path)\n",
    "\n",
    "if print_tokens:\n",
    "    print('Tokens:', ', '.join(word2idx.keys()))\n",
    "\n"
   ]
  },
  {
   "cell_type": "markdown",
   "metadata": {},
   "source": [
    "# convert to idx"
   ]
  },
  {
   "cell_type": "code",
   "execution_count": 69,
   "metadata": {
    "collapsed": false
   },
   "outputs": [
    {
     "data": {
      "text/plain": [
       "104592"
      ]
     },
     "execution_count": 69,
     "metadata": {},
     "output_type": "execute_result"
    }
   ],
   "source": [
    "len(word2idx.keys())"
   ]
  },
  {
   "cell_type": "code",
   "execution_count": 77,
   "metadata": {
    "collapsed": true
   },
   "outputs": [],
   "source": [
    "#todo need to pass in word2idx\n",
    "def convert_word2idx(word,verbose=False):\n",
    "    if verbose:\n",
    "        print(\"word: {}\".format(word))\n",
    "    if str(word) not in word2idx.keys():\n",
    "        return 1\n",
    "    else:\n",
    "        return word2idx[word]"
   ]
  },
  {
   "cell_type": "code",
   "execution_count": 78,
   "metadata": {
    "collapsed": false
   },
   "outputs": [],
   "source": [
    "#convert_word2idx('bracket')\n",
    "for word in doc_sentences[100]:\n",
    "    idx=convert_word2idx(word)\n",
    "    #print(idx)"
   ]
  },
  {
   "cell_type": "code",
   "execution_count": 79,
   "metadata": {
    "collapsed": false
   },
   "outputs": [],
   "source": [
    "def query_sent2idx(sentences):\n",
    "    query_word2vec_idx_list=[]\n",
    "    queries=sentences #w2v.convertDFIntoSentences(df,col)\n",
    "    print(len(queries))\n",
    "    for query in queries:\n",
    "        idx_list = []\n",
    "        for word in query:\n",
    "#             if word not in word2idx.keys():\n",
    "#                 idx_list+=[0]#[len(word2idx.keys())] # use last as special key #TODO: well we need to fix this. Using 0 for now so it's in range To OOV or something random\n",
    "#             else:\n",
    "#                 idx_list+=[word2idx[word]]\n",
    "            idx_list+=[convert_word2idx(word)]\n",
    "        query_word2vec_idx_list+=[idx_list]\n",
    "        #print(\"=====\")\n",
    "        #print(idx_list)\n",
    "        #print(\"=====\")\n",
    "    return query_word2vec_idx_list\n"
   ]
  },
  {
   "cell_type": "code",
   "execution_count": 80,
   "metadata": {
    "collapsed": false
   },
   "outputs": [
    {
     "name": "stdout",
     "output_type": "stream",
     "text": [
      "74067\n"
     ]
    }
   ],
   "source": [
    "#query_word2vec_idx_list = query_sent2idx(train_query_df['search_term'])\n",
    "query_word2vec_idx_list = query_sent2idx(query_sentences)\n",
    "#print(query_word2vec_idx_list)"
   ]
  },
  {
   "cell_type": "code",
   "execution_count": 81,
   "metadata": {
    "collapsed": false
   },
   "outputs": [],
   "source": [
    "# def doc_sent2idx(df,col):\n",
    "#     doc_word2vec_idx_list=[]\n",
    "#     for row in df.iteritems():\n",
    "#         a=w2v.convertDFIntoSentences(row,col)\n",
    "#         print(a)\n",
    "# #    print(len(queries))\n",
    "# #     for query in queries:\n",
    "# #         idx_list = []\n",
    "# #         for word in query:\n",
    "# #             if word not in word2idx.keys():\n",
    "# #                 idx_list+=[len(word2idx.keys())] # use last as special key\n",
    "# #             else:\n",
    "# #                 idx_list+=[word2idx[word]]\n",
    "# #         query_word2vec_idx_list+=[idx_list]\n",
    "# #         print(\"=====\")\n",
    "# #         print(idx_list)\n",
    "# #         print(\"=====\")\n",
    "#     return doc_word2vec_idx_list"
   ]
  },
  {
   "cell_type": "code",
   "execution_count": 94,
   "metadata": {
    "collapsed": false
   },
   "outputs": [
    {
     "name": "stdout",
     "output_type": "stream",
     "text": [
      "74067\n"
     ]
    }
   ],
   "source": [
    "#TODO: this is fucked. just bodge for testing nn\n",
    "#doc_word2vec_idx_list = query_sent2idx(product_df,'product_title')\n",
    "joined_df=train_query_df.join(product_df.set_index('product_uid'), on='product_uid')\n",
    "\n",
    "joined_doc_sentences=[]\n",
    "for doc in joined_df['content']:\n",
    "    words,vocab = doc_to_wordlist(doc,vocab, remove_stopwords=True)\n",
    "    joined_doc_sentences+=[words]\n",
    "    \n",
    "doc_word2vec_idx_list = query_sent2idx(joined_doc_sentences)\n",
    "#print(doc_word2vec_idx_list)"
   ]
  },
  {
   "cell_type": "code",
   "execution_count": 95,
   "metadata": {
    "collapsed": false
   },
   "outputs": [
    {
     "data": {
      "text/plain": [
       "74067"
      ]
     },
     "execution_count": 95,
     "metadata": {},
     "output_type": "execute_result"
    }
   ],
   "source": [
    "len(joined_doc_sentences)"
   ]
  },
  {
   "cell_type": "code",
   "execution_count": 99,
   "metadata": {
    "collapsed": false
   },
   "outputs": [
    {
     "data": {
      "text/plain": [
       "[[1867,\n",
       "  399,\n",
       "  1191,\n",
       "  47,\n",
       "  344,\n",
       "  652,\n",
       "  2876,\n",
       "  196,\n",
       "  1362,\n",
       "  2016,\n",
       "  106,\n",
       "  65,\n",
       "  1271,\n",
       "  886,\n",
       "  1020,\n",
       "  1867,\n",
       "  399,\n",
       "  1191,\n",
       "  90,\n",
       "  138,\n",
       "  211,\n",
       "  2876,\n",
       "  1133,\n",
       "  439,\n",
       "  5102,\n",
       "  75,\n",
       "  16,\n",
       "  114,\n",
       "  1716,\n",
       "  544,\n",
       "  1497,\n",
       "  557,\n",
       "  492,\n",
       "  4695,\n",
       "  11148,\n",
       "  510,\n",
       "  404,\n",
       "  8,\n",
       "  544,\n",
       "  423,\n",
       "  2460,\n",
       "  5,\n",
       "  9686,\n",
       "  509,\n",
       "  321,\n",
       "  1143,\n",
       "  65,\n",
       "  271,\n",
       "  358,\n",
       "  311,\n",
       "  49,\n",
       "  1853,\n",
       "  304,\n",
       "  481,\n",
       "  1180,\n",
       "  521,\n",
       "  801,\n",
       "  1133,\n",
       "  551,\n",
       "  971,\n",
       "  11,\n",
       "  883,\n",
       "  544,\n",
       "  2016,\n",
       "  2051,\n",
       "  2841,\n",
       "  372,\n",
       "  1355,\n",
       "  3099,\n",
       "  127,\n",
       "  477,\n",
       "  1362,\n",
       "  4957,\n",
       "  886,\n",
       "  399,\n",
       "  326,\n",
       "  6,\n",
       "  3,\n",
       "  6,\n",
       "  3,\n",
       "  2,\n",
       "  2,\n",
       "  4,\n",
       "  28,\n",
       "  47,\n",
       "  344,\n",
       "  15,\n",
       "  463,\n",
       "  271,\n",
       "  311,\n",
       "  358,\n",
       "  121,\n",
       "  7029,\n",
       "  761,\n",
       "  702,\n",
       "  173,\n",
       "  3,\n",
       "  2,\n",
       "  2,\n",
       "  4,\n",
       "  399,\n",
       "  446,\n",
       "  4364,\n",
       "  252],\n",
       " [1867,\n",
       "  399,\n",
       "  1191,\n",
       "  47,\n",
       "  344,\n",
       "  652,\n",
       "  2876,\n",
       "  196,\n",
       "  1362,\n",
       "  2016,\n",
       "  106,\n",
       "  65,\n",
       "  1271,\n",
       "  886,\n",
       "  1020,\n",
       "  1867,\n",
       "  399,\n",
       "  1191,\n",
       "  90,\n",
       "  138,\n",
       "  211,\n",
       "  2876,\n",
       "  1133,\n",
       "  439,\n",
       "  5102,\n",
       "  75,\n",
       "  16,\n",
       "  114,\n",
       "  1716,\n",
       "  544,\n",
       "  1497,\n",
       "  557,\n",
       "  492,\n",
       "  4695,\n",
       "  11148,\n",
       "  510,\n",
       "  404,\n",
       "  8,\n",
       "  544,\n",
       "  423,\n",
       "  2460,\n",
       "  5,\n",
       "  9686,\n",
       "  509,\n",
       "  321,\n",
       "  1143,\n",
       "  65,\n",
       "  271,\n",
       "  358,\n",
       "  311,\n",
       "  49,\n",
       "  1853,\n",
       "  304,\n",
       "  481,\n",
       "  1180,\n",
       "  521,\n",
       "  801,\n",
       "  1133,\n",
       "  551,\n",
       "  971,\n",
       "  11,\n",
       "  883,\n",
       "  544,\n",
       "  2016,\n",
       "  2051,\n",
       "  2841,\n",
       "  372,\n",
       "  1355,\n",
       "  3099,\n",
       "  127,\n",
       "  477,\n",
       "  1362,\n",
       "  4957,\n",
       "  886,\n",
       "  399,\n",
       "  326,\n",
       "  6,\n",
       "  3,\n",
       "  6,\n",
       "  3,\n",
       "  2,\n",
       "  2,\n",
       "  4,\n",
       "  28,\n",
       "  47,\n",
       "  344,\n",
       "  15,\n",
       "  463,\n",
       "  271,\n",
       "  311,\n",
       "  358,\n",
       "  121,\n",
       "  7029,\n",
       "  761,\n",
       "  702,\n",
       "  173,\n",
       "  3,\n",
       "  2,\n",
       "  2,\n",
       "  4,\n",
       "  399,\n",
       "  446,\n",
       "  4364,\n",
       "  252],\n",
       " [596,\n",
       "  179,\n",
       "  825,\n",
       "  362,\n",
       "  2,\n",
       "  257,\n",
       "  4066,\n",
       "  15389,\n",
       "  39014,\n",
       "  20,\n",
       "  289,\n",
       "  432,\n",
       "  596,\n",
       "  179,\n",
       "  825,\n",
       "  362,\n",
       "  826,\n",
       "  93,\n",
       "  34,\n",
       "  432,\n",
       "  809,\n",
       "  928,\n",
       "  2676,\n",
       "  20,\n",
       "  289,\n",
       "  186,\n",
       "  37,\n",
       "  675,\n",
       "  133,\n",
       "  295,\n",
       "  1015,\n",
       "  447,\n",
       "  567,\n",
       "  35,\n",
       "  432,\n",
       "  5869,\n",
       "  2131,\n",
       "  362,\n",
       "  9381,\n",
       "  1608,\n",
       "  170,\n",
       "  49,\n",
       "  281,\n",
       "  905,\n",
       "  593,\n",
       "  1616,\n",
       "  3224,\n",
       "  50,\n",
       "  180,\n",
       "  1804,\n",
       "  596,\n",
       "  117,\n",
       "  5162,\n",
       "  60,\n",
       "  71,\n",
       "  45,\n",
       "  74,\n",
       "  73,\n",
       "  58,\n",
       "  98,\n",
       "  11241,\n",
       "  20,\n",
       "  581,\n",
       "  1228,\n",
       "  3078,\n",
       "  3322,\n",
       "  3405,\n",
       "  4125,\n",
       "  106,\n",
       "  108,\n",
       "  289,\n",
       "  848,\n",
       "  1228,\n",
       "  1973,\n",
       "  11703,\n",
       "  295,\n",
       "  93,\n",
       "  34,\n",
       "  432,\n",
       "  309,\n",
       "  1481,\n",
       "  2571,\n",
       "  4670,\n",
       "  6916,\n",
       "  2266,\n",
       "  2,\n",
       "  9,\n",
       "  26,\n",
       "  35,\n",
       "  393,\n",
       "  25,\n",
       "  13,\n",
       "  305,\n",
       "  441,\n",
       "  183,\n",
       "  10,\n",
       "  4,\n",
       "  1896,\n",
       "  137,\n",
       "  1498,\n",
       "  567,\n",
       "  825,\n",
       "  553,\n",
       "  25,\n",
       "  13,\n",
       "  281,\n",
       "  905,\n",
       "  3224,\n",
       "  1983,\n",
       "  596,\n",
       "  70,\n",
       "  20,\n",
       "  289,\n",
       "  50,\n",
       "  437,\n",
       "  39,\n",
       "  132,\n",
       "  54,\n",
       "  142,\n",
       "  266,\n",
       "  885,\n",
       "  1832,\n",
       "  132,\n",
       "  72,\n",
       "  3883,\n",
       "  17700,\n",
       "  465,\n",
       "  29,\n",
       "  39,\n",
       "  420,\n",
       "  796,\n",
       "  645,\n",
       "  709,\n",
       "  718,\n",
       "  461,\n",
       "  784,\n",
       "  816,\n",
       "  822,\n",
       "  821],\n",
       " [888,\n",
       "  8091,\n",
       "  2,\n",
       "  75,\n",
       "  53,\n",
       "  144,\n",
       "  123,\n",
       "  56,\n",
       "  176,\n",
       "  267,\n",
       "  24,\n",
       "  2225,\n",
       "  205,\n",
       "  888,\n",
       "  8091,\n",
       "  126,\n",
       "  75,\n",
       "  53,\n",
       "  144,\n",
       "  123,\n",
       "  56,\n",
       "  176,\n",
       "  605,\n",
       "  410,\n",
       "  10613,\n",
       "  2309,\n",
       "  297,\n",
       "  370,\n",
       "  656,\n",
       "  267,\n",
       "  679,\n",
       "  17,\n",
       "  191,\n",
       "  843,\n",
       "  6,\n",
       "  944,\n",
       "  2126,\n",
       "  127,\n",
       "  284,\n",
       "  259,\n",
       "  6273,\n",
       "  60,\n",
       "  71,\n",
       "  45,\n",
       "  74,\n",
       "  73,\n",
       "  58,\n",
       "  98,\n",
       "  29,\n",
       "  123,\n",
       "  56,\n",
       "  902,\n",
       "  56,\n",
       "  7718,\n",
       "  8172,\n",
       "  146,\n",
       "  172,\n",
       "  29,\n",
       "  75,\n",
       "  2159,\n",
       "  2315,\n",
       "  216,\n",
       "  401,\n",
       "  626,\n",
       "  17,\n",
       "  277,\n",
       "  267,\n",
       "  2907,\n",
       "  9014,\n",
       "  51,\n",
       "  774,\n",
       "  17,\n",
       "  942,\n",
       "  1972,\n",
       "  960,\n",
       "  170,\n",
       "  2091,\n",
       "  343,\n",
       "  2169,\n",
       "  1196,\n",
       "  2020,\n",
       "  919,\n",
       "  2531,\n",
       "  5,\n",
       "  383,\n",
       "  532,\n",
       "  17,\n",
       "  942,\n",
       "  3507],\n",
       " [888,\n",
       "  8091,\n",
       "  2,\n",
       "  75,\n",
       "  53,\n",
       "  144,\n",
       "  123,\n",
       "  56,\n",
       "  176,\n",
       "  267,\n",
       "  24,\n",
       "  2225,\n",
       "  205,\n",
       "  888,\n",
       "  8091,\n",
       "  126,\n",
       "  75,\n",
       "  53,\n",
       "  144,\n",
       "  123,\n",
       "  56,\n",
       "  176,\n",
       "  605,\n",
       "  410,\n",
       "  10613,\n",
       "  2309,\n",
       "  297,\n",
       "  370,\n",
       "  656,\n",
       "  267,\n",
       "  679,\n",
       "  17,\n",
       "  191,\n",
       "  843,\n",
       "  6,\n",
       "  944,\n",
       "  2126,\n",
       "  127,\n",
       "  284,\n",
       "  259,\n",
       "  6273,\n",
       "  60,\n",
       "  71,\n",
       "  45,\n",
       "  74,\n",
       "  73,\n",
       "  58,\n",
       "  98,\n",
       "  29,\n",
       "  123,\n",
       "  56,\n",
       "  902,\n",
       "  56,\n",
       "  7718,\n",
       "  8172,\n",
       "  146,\n",
       "  172,\n",
       "  29,\n",
       "  75,\n",
       "  2159,\n",
       "  2315,\n",
       "  216,\n",
       "  401,\n",
       "  626,\n",
       "  17,\n",
       "  277,\n",
       "  267,\n",
       "  2907,\n",
       "  9014,\n",
       "  51,\n",
       "  774,\n",
       "  17,\n",
       "  942,\n",
       "  1972,\n",
       "  960,\n",
       "  170,\n",
       "  2091,\n",
       "  343,\n",
       "  2169,\n",
       "  1196,\n",
       "  2020,\n",
       "  919,\n",
       "  2531,\n",
       "  5,\n",
       "  383,\n",
       "  532,\n",
       "  17,\n",
       "  942,\n",
       "  3507],\n",
       " [1543,\n",
       "  2,\n",
       "  173,\n",
       "  373,\n",
       "  10,\n",
       "  241,\n",
       "  1581,\n",
       "  1424,\n",
       "  86,\n",
       "  15,\n",
       "  965,\n",
       "  411,\n",
       "  6937,\n",
       "  3714,\n",
       "  905,\n",
       "  1352,\n",
       "  2532,\n",
       "  1543,\n",
       "  241,\n",
       "  1424,\n",
       "  1518,\n",
       "  1581,\n",
       "  411,\n",
       "  2,\n",
       "  173,\n",
       "  373,\n",
       "  10,\n",
       "  250,\n",
       "  102,\n",
       "  3224,\n",
       "  319,\n",
       "  1409,\n",
       "  1021,\n",
       "  5053,\n",
       "  411,\n",
       "  976,\n",
       "  2340,\n",
       "  965,\n",
       "  411,\n",
       "  388,\n",
       "  965,\n",
       "  411,\n",
       "  4052,\n",
       "  411,\n",
       "  2067,\n",
       "  851,\n",
       "  1388,\n",
       "  411,\n",
       "  33,\n",
       "  1581,\n",
       "  5770,\n",
       "  1960,\n",
       "  100,\n",
       "  2226,\n",
       "  8782,\n",
       "  5782,\n",
       "  8719,\n",
       "  5642,\n",
       "  4506,\n",
       "  513,\n",
       "  43,\n",
       "  270,\n",
       "  655,\n",
       "  1559,\n",
       "  43,\n",
       "  1176,\n",
       "  140,\n",
       "  997,\n",
       "  104,\n",
       "  50,\n",
       "  103,\n",
       "  5831,\n",
       "  5368,\n",
       "  474,\n",
       "  165,\n",
       "  5,\n",
       "  1489,\n",
       "  1370,\n",
       "  1157,\n",
       "  1147,\n",
       "  2113,\n",
       "  492,\n",
       "  624,\n",
       "  5368,\n",
       "  1986,\n",
       "  6605,\n",
       "  60,\n",
       "  71,\n",
       "  45,\n",
       "  74,\n",
       "  73,\n",
       "  58,\n",
       "  98,\n",
       "  2132,\n",
       "  2,\n",
       "  173,\n",
       "  373,\n",
       "  10,\n",
       "  250,\n",
       "  1172,\n",
       "  1399,\n",
       "  1139,\n",
       "  6577,\n",
       "  1409,\n",
       "  39015,\n",
       "  1753,\n",
       "  411,\n",
       "  62,\n",
       "  42,\n",
       "  411,\n",
       "  1279,\n",
       "  196,\n",
       "  411,\n",
       "  6606,\n",
       "  21864,\n",
       "  1360,\n",
       "  1862,\n",
       "  51,\n",
       "  12837,\n",
       "  1440,\n",
       "  914,\n",
       "  1605,\n",
       "  752,\n",
       "  805,\n",
       "  41,\n",
       "  223,\n",
       "  164,\n",
       "  61,\n",
       "  182,\n",
       "  126,\n",
       "  84,\n",
       "  8,\n",
       "  189,\n",
       "  197,\n",
       "  2121,\n",
       "  89,\n",
       "  3423,\n",
       "  16924,\n",
       "  159,\n",
       "  605,\n",
       "  410,\n",
       "  49,\n",
       "  7,\n",
       "  1739,\n",
       "  805,\n",
       "  2550,\n",
       "  965,\n",
       "  4228,\n",
       "  411,\n",
       "  1892,\n",
       "  388,\n",
       "  965,\n",
       "  1892,\n",
       "  588,\n",
       "  914,\n",
       "  4208,\n",
       "  31402,\n",
       "  9759,\n",
       "  345,\n",
       "  3295,\n",
       "  668,\n",
       "  39016,\n",
       "  7120,\n",
       "  270,\n",
       "  345,\n",
       "  1710,\n",
       "  7120,\n",
       "  3080,\n",
       "  411,\n",
       "  983,\n",
       "  62,\n",
       "  1279,\n",
       "  211,\n",
       "  5215,\n",
       "  333,\n",
       "  3784,\n",
       "  5747,\n",
       "  9757,\n",
       "  4365,\n",
       "  6237,\n",
       "  7909,\n",
       "  61247,\n",
       "  273,\n",
       "  1100,\n",
       "  1581,\n",
       "  411,\n",
       "  278,\n",
       "  5291,\n",
       "  110,\n",
       "  1001,\n",
       "  195,\n",
       "  5077,\n",
       "  162,\n",
       "  480,\n",
       "  474,\n",
       "  345,\n",
       "  411,\n",
       "  277,\n",
       "  5813,\n",
       "  655,\n",
       "  1559,\n",
       "  43,\n",
       "  1176,\n",
       "  140,\n",
       "  997,\n",
       "  104,\n",
       "  438,\n",
       "  814,\n",
       "  2711,\n",
       "  1157,\n",
       "  1147,\n",
       "  2113,\n",
       "  492,\n",
       "  624,\n",
       "  5368,\n",
       "  1986,\n",
       "  6605,\n",
       "  708,\n",
       "  4179,\n",
       "  279,\n",
       "  1885,\n",
       "  2487,\n",
       "  411,\n",
       "  1139,\n",
       "  950,\n",
       "  4179,\n",
       "  874,\n",
       "  104,\n",
       "  516,\n",
       "  16,\n",
       "  145,\n",
       "  240,\n",
       "  127,\n",
       "  511,\n",
       "  411,\n",
       "  27123,\n",
       "  299,\n",
       "  195,\n",
       "  949,\n",
       "  741,\n",
       "  195,\n",
       "  659,\n",
       "  223,\n",
       "  1424,\n",
       "  368,\n",
       "  4159,\n",
       "  741,\n",
       "  195,\n",
       "  851,\n",
       "  538,\n",
       "  22,\n",
       "  299,\n",
       "  191,\n",
       "  241,\n",
       "  805,\n",
       "  41,\n",
       "  1424,\n",
       "  368,\n",
       "  3281,\n",
       "  401,\n",
       "  2753,\n",
       "  1737,\n",
       "  1094,\n",
       "  253,\n",
       "  735,\n",
       "  1084,\n",
       "  2054,\n",
       "  1764,\n",
       "  4838,\n",
       "  28920,\n",
       "  1112,\n",
       "  826,\n",
       "  1112,\n",
       "  14,\n",
       "  121,\n",
       "  481,\n",
       "  1614,\n",
       "  21,\n",
       "  1977,\n",
       "  455,\n",
       "  8,\n",
       "  103,\n",
       "  119,\n",
       "  2,\n",
       "  76,\n",
       "  40,\n",
       "  2794,\n",
       "  1862,\n",
       "  254,\n",
       "  2611,\n",
       "  140,\n",
       "  2611,\n",
       "  6677,\n",
       "  136,\n",
       "  211,\n",
       "  19,\n",
       "  61248,\n",
       "  884,\n",
       "  4596,\n",
       "  87,\n",
       "  1453,\n",
       "  426,\n",
       "  33,\n",
       "  3739,\n",
       "  411,\n",
       "  33,\n",
       "  180,\n",
       "  880,\n",
       "  965,\n",
       "  992,\n",
       "  33,\n",
       "  6136,\n",
       "  2047,\n",
       "  699,\n",
       "  109,\n",
       "  4638,\n",
       "  19703,\n",
       "  12699,\n",
       "  4909,\n",
       "  2824,\n",
       "  8548,\n",
       "  1424,\n",
       "  24,\n",
       "  383,\n",
       "  1581,\n",
       "  725,\n",
       "  593,\n",
       "  3199,\n",
       "  6822,\n",
       "  411,\n",
       "  725,\n",
       "  24,\n",
       "  411,\n",
       "  725,\n",
       "  1052,\n",
       "  1424,\n",
       "  175,\n",
       "  1279,\n",
       "  805,\n",
       "  2306,\n",
       "  383,\n",
       "  365,\n",
       "  954,\n",
       "  1474,\n",
       "  24,\n",
       "  776,\n",
       "  1230,\n",
       "  570,\n",
       "  19,\n",
       "  388,\n",
       "  70],\n",
       " [1543,\n",
       "  2,\n",
       "  173,\n",
       "  373,\n",
       "  10,\n",
       "  241,\n",
       "  1581,\n",
       "  1424,\n",
       "  86,\n",
       "  15,\n",
       "  965,\n",
       "  411,\n",
       "  6937,\n",
       "  3714,\n",
       "  905,\n",
       "  1352,\n",
       "  2532,\n",
       "  1543,\n",
       "  241,\n",
       "  1424,\n",
       "  1518,\n",
       "  1581,\n",
       "  411,\n",
       "  2,\n",
       "  173,\n",
       "  373,\n",
       "  10,\n",
       "  250,\n",
       "  102,\n",
       "  3224,\n",
       "  319,\n",
       "  1409,\n",
       "  1021,\n",
       "  5053,\n",
       "  411,\n",
       "  976,\n",
       "  2340,\n",
       "  965,\n",
       "  411,\n",
       "  388,\n",
       "  965,\n",
       "  411,\n",
       "  4052,\n",
       "  411,\n",
       "  2067,\n",
       "  851,\n",
       "  1388,\n",
       "  411,\n",
       "  33,\n",
       "  1581,\n",
       "  5770,\n",
       "  1960,\n",
       "  100,\n",
       "  2226,\n",
       "  8782,\n",
       "  5782,\n",
       "  8719,\n",
       "  5642,\n",
       "  4506,\n",
       "  513,\n",
       "  43,\n",
       "  270,\n",
       "  655,\n",
       "  1559,\n",
       "  43,\n",
       "  1176,\n",
       "  140,\n",
       "  997,\n",
       "  104,\n",
       "  50,\n",
       "  103,\n",
       "  5831,\n",
       "  5368,\n",
       "  474,\n",
       "  165,\n",
       "  5,\n",
       "  1489,\n",
       "  1370,\n",
       "  1157,\n",
       "  1147,\n",
       "  2113,\n",
       "  492,\n",
       "  624,\n",
       "  5368,\n",
       "  1986,\n",
       "  6605,\n",
       "  60,\n",
       "  71,\n",
       "  45,\n",
       "  74,\n",
       "  73,\n",
       "  58,\n",
       "  98,\n",
       "  2132,\n",
       "  2,\n",
       "  173,\n",
       "  373,\n",
       "  10,\n",
       "  250,\n",
       "  1172,\n",
       "  1399,\n",
       "  1139,\n",
       "  6577,\n",
       "  1409,\n",
       "  39015,\n",
       "  1753,\n",
       "  411,\n",
       "  62,\n",
       "  42,\n",
       "  411,\n",
       "  1279,\n",
       "  196,\n",
       "  411,\n",
       "  6606,\n",
       "  21864,\n",
       "  1360,\n",
       "  1862,\n",
       "  51,\n",
       "  12837,\n",
       "  1440,\n",
       "  914,\n",
       "  1605,\n",
       "  752,\n",
       "  805,\n",
       "  41,\n",
       "  223,\n",
       "  164,\n",
       "  61,\n",
       "  182,\n",
       "  126,\n",
       "  84,\n",
       "  8,\n",
       "  189,\n",
       "  197,\n",
       "  2121,\n",
       "  89,\n",
       "  3423,\n",
       "  16924,\n",
       "  159,\n",
       "  605,\n",
       "  410,\n",
       "  49,\n",
       "  7,\n",
       "  1739,\n",
       "  805,\n",
       "  2550,\n",
       "  965,\n",
       "  4228,\n",
       "  411,\n",
       "  1892,\n",
       "  388,\n",
       "  965,\n",
       "  1892,\n",
       "  588,\n",
       "  914,\n",
       "  4208,\n",
       "  31402,\n",
       "  9759,\n",
       "  345,\n",
       "  3295,\n",
       "  668,\n",
       "  39016,\n",
       "  7120,\n",
       "  270,\n",
       "  345,\n",
       "  1710,\n",
       "  7120,\n",
       "  3080,\n",
       "  411,\n",
       "  983,\n",
       "  62,\n",
       "  1279,\n",
       "  211,\n",
       "  5215,\n",
       "  333,\n",
       "  3784,\n",
       "  5747,\n",
       "  9757,\n",
       "  4365,\n",
       "  6237,\n",
       "  7909,\n",
       "  61247,\n",
       "  273,\n",
       "  1100,\n",
       "  1581,\n",
       "  411,\n",
       "  278,\n",
       "  5291,\n",
       "  110,\n",
       "  1001,\n",
       "  195,\n",
       "  5077,\n",
       "  162,\n",
       "  480,\n",
       "  474,\n",
       "  345,\n",
       "  411,\n",
       "  277,\n",
       "  5813,\n",
       "  655,\n",
       "  1559,\n",
       "  43,\n",
       "  1176,\n",
       "  140,\n",
       "  997,\n",
       "  104,\n",
       "  438,\n",
       "  814,\n",
       "  2711,\n",
       "  1157,\n",
       "  1147,\n",
       "  2113,\n",
       "  492,\n",
       "  624,\n",
       "  5368,\n",
       "  1986,\n",
       "  6605,\n",
       "  708,\n",
       "  4179,\n",
       "  279,\n",
       "  1885,\n",
       "  2487,\n",
       "  411,\n",
       "  1139,\n",
       "  950,\n",
       "  4179,\n",
       "  874,\n",
       "  104,\n",
       "  516,\n",
       "  16,\n",
       "  145,\n",
       "  240,\n",
       "  127,\n",
       "  511,\n",
       "  411,\n",
       "  27123,\n",
       "  299,\n",
       "  195,\n",
       "  949,\n",
       "  741,\n",
       "  195,\n",
       "  659,\n",
       "  223,\n",
       "  1424,\n",
       "  368,\n",
       "  4159,\n",
       "  741,\n",
       "  195,\n",
       "  851,\n",
       "  538,\n",
       "  22,\n",
       "  299,\n",
       "  191,\n",
       "  241,\n",
       "  805,\n",
       "  41,\n",
       "  1424,\n",
       "  368,\n",
       "  3281,\n",
       "  401,\n",
       "  2753,\n",
       "  1737,\n",
       "  1094,\n",
       "  253,\n",
       "  735,\n",
       "  1084,\n",
       "  2054,\n",
       "  1764,\n",
       "  4838,\n",
       "  28920,\n",
       "  1112,\n",
       "  826,\n",
       "  1112,\n",
       "  14,\n",
       "  121,\n",
       "  481,\n",
       "  1614,\n",
       "  21,\n",
       "  1977,\n",
       "  455,\n",
       "  8,\n",
       "  103,\n",
       "  119,\n",
       "  2,\n",
       "  76,\n",
       "  40,\n",
       "  2794,\n",
       "  1862,\n",
       "  254,\n",
       "  2611,\n",
       "  140,\n",
       "  2611,\n",
       "  6677,\n",
       "  136,\n",
       "  211,\n",
       "  19,\n",
       "  61248,\n",
       "  884,\n",
       "  4596,\n",
       "  87,\n",
       "  1453,\n",
       "  426,\n",
       "  33,\n",
       "  3739,\n",
       "  411,\n",
       "  33,\n",
       "  180,\n",
       "  880,\n",
       "  965,\n",
       "  992,\n",
       "  33,\n",
       "  6136,\n",
       "  2047,\n",
       "  699,\n",
       "  109,\n",
       "  4638,\n",
       "  19703,\n",
       "  12699,\n",
       "  4909,\n",
       "  2824,\n",
       "  8548,\n",
       "  1424,\n",
       "  24,\n",
       "  383,\n",
       "  1581,\n",
       "  725,\n",
       "  593,\n",
       "  3199,\n",
       "  6822,\n",
       "  411,\n",
       "  725,\n",
       "  24,\n",
       "  411,\n",
       "  725,\n",
       "  1052,\n",
       "  1424,\n",
       "  175,\n",
       "  1279,\n",
       "  805,\n",
       "  2306,\n",
       "  383,\n",
       "  365,\n",
       "  954,\n",
       "  1474,\n",
       "  24,\n",
       "  776,\n",
       "  1230,\n",
       "  570,\n",
       "  19,\n",
       "  388,\n",
       "  70],\n",
       " [1543,\n",
       "  2,\n",
       "  173,\n",
       "  373,\n",
       "  10,\n",
       "  241,\n",
       "  1581,\n",
       "  1424,\n",
       "  86,\n",
       "  15,\n",
       "  965,\n",
       "  411,\n",
       "  6937,\n",
       "  3714,\n",
       "  905,\n",
       "  1352,\n",
       "  2532,\n",
       "  1543,\n",
       "  241,\n",
       "  1424,\n",
       "  1518,\n",
       "  1581,\n",
       "  411,\n",
       "  2,\n",
       "  173,\n",
       "  373,\n",
       "  10,\n",
       "  250,\n",
       "  102,\n",
       "  3224,\n",
       "  319,\n",
       "  1409,\n",
       "  1021,\n",
       "  5053,\n",
       "  411,\n",
       "  976,\n",
       "  2340,\n",
       "  965,\n",
       "  411,\n",
       "  388,\n",
       "  965,\n",
       "  411,\n",
       "  4052,\n",
       "  411,\n",
       "  2067,\n",
       "  851,\n",
       "  1388,\n",
       "  411,\n",
       "  33,\n",
       "  1581,\n",
       "  5770,\n",
       "  1960,\n",
       "  100,\n",
       "  2226,\n",
       "  8782,\n",
       "  5782,\n",
       "  8719,\n",
       "  5642,\n",
       "  4506,\n",
       "  513,\n",
       "  43,\n",
       "  270,\n",
       "  655,\n",
       "  1559,\n",
       "  43,\n",
       "  1176,\n",
       "  140,\n",
       "  997,\n",
       "  104,\n",
       "  50,\n",
       "  103,\n",
       "  5831,\n",
       "  5368,\n",
       "  474,\n",
       "  165,\n",
       "  5,\n",
       "  1489,\n",
       "  1370,\n",
       "  1157,\n",
       "  1147,\n",
       "  2113,\n",
       "  492,\n",
       "  624,\n",
       "  5368,\n",
       "  1986,\n",
       "  6605,\n",
       "  60,\n",
       "  71,\n",
       "  45,\n",
       "  74,\n",
       "  73,\n",
       "  58,\n",
       "  98,\n",
       "  2132,\n",
       "  2,\n",
       "  173,\n",
       "  373,\n",
       "  10,\n",
       "  250,\n",
       "  1172,\n",
       "  1399,\n",
       "  1139,\n",
       "  6577,\n",
       "  1409,\n",
       "  39015,\n",
       "  1753,\n",
       "  411,\n",
       "  62,\n",
       "  42,\n",
       "  411,\n",
       "  1279,\n",
       "  196,\n",
       "  411,\n",
       "  6606,\n",
       "  21864,\n",
       "  1360,\n",
       "  1862,\n",
       "  51,\n",
       "  12837,\n",
       "  1440,\n",
       "  914,\n",
       "  1605,\n",
       "  752,\n",
       "  805,\n",
       "  41,\n",
       "  223,\n",
       "  164,\n",
       "  61,\n",
       "  182,\n",
       "  126,\n",
       "  84,\n",
       "  8,\n",
       "  189,\n",
       "  197,\n",
       "  2121,\n",
       "  89,\n",
       "  3423,\n",
       "  16924,\n",
       "  159,\n",
       "  605,\n",
       "  410,\n",
       "  49,\n",
       "  7,\n",
       "  1739,\n",
       "  805,\n",
       "  2550,\n",
       "  965,\n",
       "  4228,\n",
       "  411,\n",
       "  1892,\n",
       "  388,\n",
       "  965,\n",
       "  1892,\n",
       "  588,\n",
       "  914,\n",
       "  4208,\n",
       "  31402,\n",
       "  9759,\n",
       "  345,\n",
       "  3295,\n",
       "  668,\n",
       "  39016,\n",
       "  7120,\n",
       "  270,\n",
       "  345,\n",
       "  1710,\n",
       "  7120,\n",
       "  3080,\n",
       "  411,\n",
       "  983,\n",
       "  62,\n",
       "  1279,\n",
       "  211,\n",
       "  5215,\n",
       "  333,\n",
       "  3784,\n",
       "  5747,\n",
       "  9757,\n",
       "  4365,\n",
       "  6237,\n",
       "  7909,\n",
       "  61247,\n",
       "  273,\n",
       "  1100,\n",
       "  1581,\n",
       "  411,\n",
       "  278,\n",
       "  5291,\n",
       "  110,\n",
       "  1001,\n",
       "  195,\n",
       "  5077,\n",
       "  162,\n",
       "  480,\n",
       "  474,\n",
       "  345,\n",
       "  411,\n",
       "  277,\n",
       "  5813,\n",
       "  655,\n",
       "  1559,\n",
       "  43,\n",
       "  1176,\n",
       "  140,\n",
       "  997,\n",
       "  104,\n",
       "  438,\n",
       "  814,\n",
       "  2711,\n",
       "  1157,\n",
       "  1147,\n",
       "  2113,\n",
       "  492,\n",
       "  624,\n",
       "  5368,\n",
       "  1986,\n",
       "  6605,\n",
       "  708,\n",
       "  4179,\n",
       "  279,\n",
       "  1885,\n",
       "  2487,\n",
       "  411,\n",
       "  1139,\n",
       "  950,\n",
       "  4179,\n",
       "  874,\n",
       "  104,\n",
       "  516,\n",
       "  16,\n",
       "  145,\n",
       "  240,\n",
       "  127,\n",
       "  511,\n",
       "  411,\n",
       "  27123,\n",
       "  299,\n",
       "  195,\n",
       "  949,\n",
       "  741,\n",
       "  195,\n",
       "  659,\n",
       "  223,\n",
       "  1424,\n",
       "  368,\n",
       "  4159,\n",
       "  741,\n",
       "  195,\n",
       "  851,\n",
       "  538,\n",
       "  22,\n",
       "  299,\n",
       "  191,\n",
       "  241,\n",
       "  805,\n",
       "  41,\n",
       "  1424,\n",
       "  368,\n",
       "  3281,\n",
       "  401,\n",
       "  2753,\n",
       "  1737,\n",
       "  1094,\n",
       "  253,\n",
       "  735,\n",
       "  1084,\n",
       "  2054,\n",
       "  1764,\n",
       "  4838,\n",
       "  28920,\n",
       "  1112,\n",
       "  826,\n",
       "  1112,\n",
       "  14,\n",
       "  121,\n",
       "  481,\n",
       "  1614,\n",
       "  21,\n",
       "  1977,\n",
       "  455,\n",
       "  8,\n",
       "  103,\n",
       "  119,\n",
       "  2,\n",
       "  76,\n",
       "  40,\n",
       "  2794,\n",
       "  1862,\n",
       "  254,\n",
       "  2611,\n",
       "  140,\n",
       "  2611,\n",
       "  6677,\n",
       "  136,\n",
       "  211,\n",
       "  19,\n",
       "  61248,\n",
       "  884,\n",
       "  4596,\n",
       "  87,\n",
       "  1453,\n",
       "  426,\n",
       "  33,\n",
       "  3739,\n",
       "  411,\n",
       "  33,\n",
       "  180,\n",
       "  880,\n",
       "  965,\n",
       "  992,\n",
       "  33,\n",
       "  6136,\n",
       "  2047,\n",
       "  699,\n",
       "  109,\n",
       "  4638,\n",
       "  19703,\n",
       "  12699,\n",
       "  4909,\n",
       "  2824,\n",
       "  8548,\n",
       "  1424,\n",
       "  24,\n",
       "  383,\n",
       "  1581,\n",
       "  725,\n",
       "  593,\n",
       "  3199,\n",
       "  6822,\n",
       "  411,\n",
       "  725,\n",
       "  24,\n",
       "  411,\n",
       "  725,\n",
       "  1052,\n",
       "  1424,\n",
       "  175,\n",
       "  1279,\n",
       "  805,\n",
       "  2306,\n",
       "  383,\n",
       "  365,\n",
       "  954,\n",
       "  1474,\n",
       "  24,\n",
       "  776,\n",
       "  1230,\n",
       "  570,\n",
       "  19,\n",
       "  388,\n",
       "  70],\n",
       " [2217,\n",
       "  139,\n",
       "  9874,\n",
       "  4,\n",
       "  16,\n",
       "  85,\n",
       "  82,\n",
       "  1910,\n",
       "  360,\n",
       "  306,\n",
       "  9874,\n",
       "  99,\n",
       "  4,\n",
       "  16,\n",
       "  82,\n",
       "  85,\n",
       "  1910,\n",
       "  139,\n",
       "  306,\n",
       "  2217,\n",
       "  139,\n",
       "  26,\n",
       "  574,\n",
       "  551,\n",
       "  517,\n",
       "  1657,\n",
       "  2269,\n",
       "  2588,\n",
       "  62,\n",
       "  926,\n",
       "  1727,\n",
       "  16,\n",
       "  180,\n",
       "  258,\n",
       "  511,\n",
       "  1055,\n",
       "  14,\n",
       "  4,\n",
       "  1318,\n",
       "  306,\n",
       "  55,\n",
       "  69,\n",
       "  2022,\n",
       "  610,\n",
       "  676,\n",
       "  148,\n",
       "  19,\n",
       "  675,\n",
       "  82,\n",
       "  190,\n",
       "  2304,\n",
       "  67,\n",
       "  61249,\n",
       "  99,\n",
       "  1318,\n",
       "  349,\n",
       "  933,\n",
       "  16,\n",
       "  492,\n",
       "  3601,\n",
       "  116,\n",
       "  2034,\n",
       "  849,\n",
       "  464,\n",
       "  25,\n",
       "  1103,\n",
       "  25,\n",
       "  311,\n",
       "  635,\n",
       "  781,\n",
       "  82,\n",
       "  1285,\n",
       "  337,\n",
       "  188,\n",
       "  2807,\n",
       "  37,\n",
       "  82,\n",
       "  42,\n",
       "  251,\n",
       "  231,\n",
       "  94,\n",
       "  322,\n",
       "  85,\n",
       "  849,\n",
       "  467,\n",
       "  64,\n",
       "  587,\n",
       "  14,\n",
       "  963,\n",
       "  231,\n",
       "  94,\n",
       "  3112,\n",
       "  5029,\n",
       "  203,\n",
       "  568,\n",
       "  551,\n",
       "  1519,\n",
       "  250,\n",
       "  46023,\n",
       "  906,\n",
       "  3066,\n",
       "  2254,\n",
       "  649,\n",
       "  4653,\n",
       "  149,\n",
       "  103,\n",
       "  850,\n",
       "  21,\n",
       "  227,\n",
       "  342,\n",
       "  1157,\n",
       "  1465,\n",
       "  285],\n",
       " [536,\n",
       "  4197,\n",
       "  6,\n",
       "  9,\n",
       "  3,\n",
       "  6,\n",
       "  3,\n",
       "  18,\n",
       "  10,\n",
       "  1317,\n",
       "  2629,\n",
       "  2386,\n",
       "  341,\n",
       "  536,\n",
       "  4197,\n",
       "  6,\n",
       "  9,\n",
       "  3,\n",
       "  6,\n",
       "  3,\n",
       "  18,\n",
       "  10,\n",
       "  1317,\n",
       "  2629,\n",
       "  2386,\n",
       "  184,\n",
       "  452,\n",
       "  49,\n",
       "  102,\n",
       "  245,\n",
       "  664,\n",
       "  50,\n",
       "  94,\n",
       "  4154,\n",
       "  274,\n",
       "  409,\n",
       "  510,\n",
       "  160,\n",
       "  476,\n",
       "  850,\n",
       "  103,\n",
       "  46,\n",
       "  49,\n",
       "  315,\n",
       "  258,\n",
       "  1163,\n",
       "  184,\n",
       "  1332,\n",
       "  197,\n",
       "  102,\n",
       "  404,\n",
       "  60,\n",
       "  71,\n",
       "  45,\n",
       "  74,\n",
       "  73,\n",
       "  58,\n",
       "  98,\n",
       "  28,\n",
       "  664,\n",
       "  25454,\n",
       "  409,\n",
       "  510,\n",
       "  160,\n",
       "  25,\n",
       "  423,\n",
       "  104,\n",
       "  16925,\n",
       "  163]]"
      ]
     },
     "execution_count": 99,
     "metadata": {},
     "output_type": "execute_result"
    }
   ],
   "source": [
    "doc_word2vec_idx_list[0:10]\n",
    "#query_word2vec_idx_list[100:110]\n",
    "#query_sent2idx(joined_doc_sentences[0])"
   ]
  },
  {
   "cell_type": "code",
   "execution_count": 97,
   "metadata": {
    "collapsed": false
   },
   "outputs": [],
   "source": [
    "# # cosine similarity model\n",
    "# print('Building model...')\n",
    "# input_a = Input(shape=(1,), dtype='int32', name='input_a')\n",
    "# input_b = Input(shape=(1,), dtype='int32', name='input_b')\n",
    "# embeddings = word2vec_embedding_layer(embeddings_path)\n",
    "# embedding_a = embeddings(input_a)\n",
    "# embedding_b = embeddings(input_b)\n",
    "# similarity = merge([embedding_a, embedding_b], mode='cos', dot_axes=2)\n",
    "# model = Model(input=[input_a, input_b], output=similarity)\n",
    "# model.compile(optimizer='sgd', loss='mse') # optimizer and loss don't matter\n",
    "\n",
    "\n",
    "# word_a = 'wood'#raw_input('First word: ')\n",
    "# if word_a not in word2idx:\n",
    "#     print('\"%s\" is not in the index' % word_a)\n",
    "# word_b = 'fan'#raw_input('Second word: ')\n",
    "# if word_b not in word2idx:\n",
    "#     print('\"%s\" is not in the index' % word_b)\n",
    "# output = model.predict([np.asarray([word2idx[word_a]]), np.asarray([word2idx[word_b]])])\n",
    "# print('%f' % output)"
   ]
  },
  {
   "cell_type": "markdown",
   "metadata": {},
   "source": [
    "# Define model"
   ]
  },
  {
   "cell_type": "code",
   "execution_count": 100,
   "metadata": {
    "collapsed": false
   },
   "outputs": [
    {
     "name": "stdout",
     "output_type": "stream",
     "text": [
      "100\n",
      "6\n",
      "24\n",
      "0\n"
     ]
    }
   ],
   "source": [
    "query_min_len = len(min(query_word2vec_idx_list,key=len)) #400 # todo: confirm this is sensible\n",
    "doc_min_len = len(min(doc_word2vec_idx_list,key=len)) #400 # todo: confirm this is sensible\n",
    "query_max_len = 6 #covers 95.74% of the search lengths (see data exploration)\n",
    "# find longest sub list\n",
    "doc_max_len = 100 #len(max(doc_word2vec_idx_list,key=len)) #400 # todo: confirm this is sensible\n",
    "print(doc_max_len)\n",
    "print(query_max_len)\n",
    "print(doc_min_len)\n",
    "print(query_min_len)"
   ]
  },
  {
   "cell_type": "code",
   "execution_count": 101,
   "metadata": {
    "collapsed": false
   },
   "outputs": [],
   "source": [
    "lengths=[]\n",
    "for i in doc_word2vec_idx_list:\n",
    "    lengths+=[len(i)]"
   ]
  },
  {
   "cell_type": "code",
   "execution_count": 102,
   "metadata": {
    "collapsed": false
   },
   "outputs": [
    {
     "data": {
      "text/plain": [
       "(array([  7.26000000e+02,   7.45400000e+03,   1.34520000e+04,\n",
       "          1.20920000e+04,   1.03880000e+04,   8.10700000e+03,\n",
       "          5.58600000e+03,   4.32800000e+03,   3.15900000e+03,\n",
       "          2.48700000e+03,   1.82500000e+03,   1.36700000e+03,\n",
       "          8.76000000e+02,   5.84000000e+02,   4.39000000e+02,\n",
       "          3.75000000e+02,   2.24000000e+02,   1.41000000e+02,\n",
       "          1.10000000e+02,   8.40000000e+01,   8.90000000e+01,\n",
       "          4.30000000e+01,   3.40000000e+01,   2.00000000e+01,\n",
       "          1.30000000e+01,   1.50000000e+01,   1.50000000e+01,\n",
       "          2.00000000e+00,   1.00000000e+00,   1.10000000e+01,\n",
       "          0.00000000e+00,   3.00000000e+00,   8.00000000e+00,\n",
       "          5.00000000e+00,   2.00000000e+00,   1.00000000e+00,\n",
       "          0.00000000e+00,   0.00000000e+00,   0.00000000e+00,\n",
       "          0.00000000e+00,   0.00000000e+00,   0.00000000e+00,\n",
       "          0.00000000e+00,   0.00000000e+00,   0.00000000e+00,\n",
       "          0.00000000e+00,   0.00000000e+00,   0.00000000e+00,\n",
       "          0.00000000e+00,   1.00000000e+00]),\n",
       " array([  24.  ,   41.96,   59.92,   77.88,   95.84,  113.8 ,  131.76,\n",
       "         149.72,  167.68,  185.64,  203.6 ,  221.56,  239.52,  257.48,\n",
       "         275.44,  293.4 ,  311.36,  329.32,  347.28,  365.24,  383.2 ,\n",
       "         401.16,  419.12,  437.08,  455.04,  473.  ,  490.96,  508.92,\n",
       "         526.88,  544.84,  562.8 ,  580.76,  598.72,  616.68,  634.64,\n",
       "         652.6 ,  670.56,  688.52,  706.48,  724.44,  742.4 ,  760.36,\n",
       "         778.32,  796.28,  814.24,  832.2 ,  850.16,  868.12,  886.08,\n",
       "         904.04,  922.  ]),\n",
       " <a list of 50 Patch objects>)"
      ]
     },
     "execution_count": 102,
     "metadata": {},
     "output_type": "execute_result"
    },
    {
     "data": {
      "image/png": "[encoded data removed]",
      "text/plain": [
       "<matplotlib.figure.Figure at 0x7fe7ae851438>"
      ]
     },
     "metadata": {},
     "output_type": "display_data"
    }
   ],
   "source": [
    "import matplotlib.pyplot as plt\n",
    "%matplotlib inline\n",
    "plt.hist(lengths,bins=50)"
   ]
  },
  {
   "cell_type": "code",
   "execution_count": 103,
   "metadata": {
    "collapsed": false
   },
   "outputs": [
    {
     "name": "stdout",
     "output_type": "stream",
     "text": [
      "Building model...\n",
      "____________________________________________________________________________________________________\n",
      "Layer (type)                     Output Shape          Param #     Connected to                     \n",
      "====================================================================================================\n",
      "input_query (InputLayer)         (None, 6)             0                                            \n",
      "____________________________________________________________________________________________________\n",
      "input_doc (InputLayer)           (None, 100)           0                                            \n",
      "____________________________________________________________________________________________________\n",
      "embedding_1 (Embedding)          multiple              10459100                                     \n",
      "____________________________________________________________________________________________________\n",
      "dense_1 (Dense)                  multiple              4040                                         \n",
      "____________________________________________________________________________________________________\n",
      "bidirectional_1 (Bidirectional)  (None, 6, 30)         17040                                        \n",
      "____________________________________________________________________________________________________\n",
      "bidirectional_2 (Bidirectional)  (None, 100, 30)       17040                                        \n",
      "____________________________________________________________________________________________________\n",
      "dense_2 (Dense)                  (None, 6, 50)         1550                                         \n",
      "____________________________________________________________________________________________________\n",
      "dense_3 (Dense)                  (None, 100, 50)       1550                                         \n",
      "____________________________________________________________________________________________________\n",
      "input_exact_match (InputLayer)   (None, 6, 100)        0                                            \n",
      "____________________________________________________________________________________________________\n",
      "dot_1 (Dot)                      (None, 6, 100)        0                                            \n",
      "____________________________________________________________________________________________________\n",
      "dense_4 (Dense)                  (None, 6, 100)        10100                                        \n",
      "____________________________________________________________________________________________________\n",
      "lambda_1 (Lambda)                (None, 6, 100, 1)     0                                            \n",
      "____________________________________________________________________________________________________\n",
      "lambda_2 (Lambda)                (None, 6, 100, 1)     0                                            \n",
      "____________________________________________________________________________________________________\n",
      "concatenate_1 (Concatenate)      (None, 6, 100, 2)     0                                            \n",
      "____________________________________________________________________________________________________\n",
      "conv2d_1 (Conv2D)                (None, 4, 98, 18)     342                                          \n",
      "____________________________________________________________________________________________________\n",
      "conv2d_2 (Conv2D)                (None, 4, 97, 18)     450                                          \n",
      "____________________________________________________________________________________________________\n",
      "conv2d_3 (Conv2D)                (None, 4, 96, 18)     558                                          \n",
      "____________________________________________________________________________________________________\n",
      "conv2d_4 (Conv2D)                (None, 4, 98, 20)     380                                          \n",
      "____________________________________________________________________________________________________\n",
      "conv2d_5 (Conv2D)                (None, 4, 97, 20)     380                                          \n",
      "____________________________________________________________________________________________________\n",
      "conv2d_6 (Conv2D)                (None, 4, 96, 20)     380                                          \n",
      "____________________________________________________________________________________________________\n",
      "global_max_pooling2d_1 (GlobalMa (None, 20)            0                                            \n",
      "____________________________________________________________________________________________________\n",
      "global_max_pooling2d_2 (GlobalMa (None, 20)            0                                            \n",
      "____________________________________________________________________________________________________\n",
      "global_max_pooling2d_3 (GlobalMa (None, 20)            0                                            \n",
      "____________________________________________________________________________________________________\n",
      "add_1 (Add)                      (None, 20)            0                                            \n",
      "____________________________________________________________________________________________________\n",
      "dense_5 (Dense)                  (None, 13)            273                                          \n",
      "====================================================================================================\n",
      "Total params: 10,513,183\n",
      "Trainable params: 54,083\n",
      "Non-trainable params: 10,459,100\n",
      "____________________________________________________________________________________________________\n"
     ]
    }
   ],
   "source": [
    "#TODO testing\n",
    "#doc_max_len=doc_min_len\n",
    "print('Building model...')\n",
    "\n",
    "def get_R(x):\n",
    "    a, b = x.values()\n",
    "    return K.dot(a, b)\n",
    "\n",
    "\n",
    "embeddings = word2vec_embedding_layer(embeddings_path)\n",
    "\n",
    "#embedding lookup\n",
    "# TODO: replace this with embedding with mask zero rather than padding, need to change index for encoding too, imput dim too.\n",
    "# TODO: OOV embedding\n",
    "input_query = Input(shape=(query_max_len,), dtype='int32', name='input_query')\n",
    "input_doc = Input(shape=(doc_max_len,), dtype='int32', name='input_doc')\n",
    "input_exact_match = Input(shape=(query_max_len,doc_max_len), dtype='float32', name='input_exact_match')\n",
    "input_doc = Input(shape=(doc_max_len,), dtype='int32', name='input_doc')\n",
    "embedding_query = embeddings(input_query)  # (None, 6, 100)\n",
    "embedding_doc = embeddings(input_doc)      # (None, 400, 100)\n",
    "\n",
    "#shared linear projection\n",
    "shared_lp = Dense(40,activation='linear')\n",
    "query_output = shared_lp(embedding_query) # (None, 6, 40) \n",
    "doc_output = shared_lp(embedding_doc) #(None, 400, 40) \n",
    "\n",
    "#query: bi LSTM, lp -- implementation = 0 for CPU option, 1 or 2 for GPU\n",
    "query_output = Bidirectional(LSTM(30, dropout=0.0, implementation=2, return_sequences=True, go_backwards=True,use_bias=True,unit_forget_bias=True,)\\\n",
    "                             ,merge_mode='mul'#TODO: alts are 'sum','mul','ave','concat'<--default, None\n",
    "                            )(query_output) #(None, 6, 30) unless concat (None, 6, 60)  \n",
    "query_output = Dense(50,activation='linear')(query_output) #(None, 50)\n",
    "\n",
    "#doc: bi LSTM, lp\n",
    "doc_output = Bidirectional(LSTM(30, dropout=0.0, implementation=2, return_sequences=True, go_backwards=True,use_bias=True,unit_forget_bias=True,)\\\n",
    "                             ,merge_mode='mul'#TODO: alts are 'sum','mul','ave','concat'<--default, None\n",
    "                            )(doc_output) #(None, 6, 400) unless concat (None, 6, 800)  \n",
    "doc_output = Dense(50,activation='linear')(doc_output) #(None, 50)\n",
    "\n",
    "#2d product\n",
    "#mt_input = batch_dot(query_output,doc_output,axes=None) #axes=[2,2])\n",
    "#query_output = Flatten()(query_output)\n",
    "#doc_output = Flatten()(doc_output)\n",
    "#mt_input = multiply([query_output, doc_output])\n",
    "#mt_input = dot([query_output, doc_output], axes=(0), normalize=False)  \n",
    "dot_product_output = dot([query_output, doc_output], axes=(2), normalize=True)  \n",
    "#output is (11, 6, 400), where did 50 go?\n",
    "def func_expand_dims(x):\n",
    "    return expand_dims(x, axis=-1)\n",
    "\n",
    "def expand_dims_output_shape(input_shape):\n",
    "    return (input_shape[0], input_shape[1],input_shape[2],1)\n",
    "\n",
    "mt_input_1 = Lambda(func_expand_dims, expand_dims_output_shape)(dot_product_output)\n",
    "\n",
    "#mt_input = dot([transpose(query_output), transpose(doc_output)], axes=(0), normalize=False)  \n",
    "######################################\n",
    "\n",
    "def state_layer_dot_prod(x):\n",
    "    output_list=[]\n",
    "#    output = dot([x[0], x[1]], axes=(2), normalize=False)  \n",
    "    for i in range(50):\n",
    "        print(i)\n",
    "        print(x[0][i])\n",
    "        print(x[1][i])\n",
    "        #output = multiply([transpose(x[0][i]), x[1][i]])\n",
    "        #output_list += output\n",
    "        #output = dot([x[0][i], transpose(x[1][i])])\n",
    "        #transpose(x[1][i])\n",
    "    print(output_list)\n",
    "    return output_list\n",
    "\n",
    "def state_layer_dot_prod_shape(input_shape):\n",
    "    'Merge output shape'\n",
    "    shape = list(input_shape)\n",
    "    #print(input_shape)\n",
    "    #print(shape)\n",
    "    outshape = (shape[0][0],shape[1][1],shape[0][1],shape[0][2])\n",
    "    #print(outshape)\n",
    "    return tuple(outshape)\n",
    "\n",
    "######################################\n",
    "#mt_input = Lambda(state_layer_dot_prod,output_shape=state_layer_dot_prod_shape)([transpose(query_output), transpose(doc_output)])\n",
    "#mt_input = Lambda(state_layer_dot_prod,output_shape=state_layer_dot_prod_shape)([query_output, doc_output])\n",
    "\n",
    "##TODO fix error:\n",
    "#InvalidArgumentError: Input to reshape is a tensor with 4800 values, but the requested shape requires a multiple of 120000\n",
    "#[[Node: reshape_23/Reshape = Reshape[T=DT_FLOAT, Tshape=DT_INT32, _device=\"/job:localhost/replica:0/task:0/cpu:0\"](lambda_40/dot_42/MatMul, reshape_23/Reshape/shape)]]\n",
    "#mt_input = Reshape((doc_max_len, query_max_len,50))(mt_input)\n",
    "\n",
    "#Append exact match channel\n",
    "output_exact_match = Dense(doc_max_len,activation='linear')(input_exact_match)\n",
    "mt_input_2 = Lambda(func_expand_dims, expand_dims_output_shape)(output_exact_match)\n",
    "# mt_input = concatenate([mt_input_1,mt_input_2],axis=0)\n",
    "mt_input = concatenate([mt_input_1,mt_input_2],axis=3)\n",
    "#TODO testing\n",
    "#mt_input = mt_input_1\n",
    "\n",
    "# Conv layers 1\n",
    "output1 = Conv2D(filters=18, kernel_size=(3, 3), strides=(1,1), padding='valid', data_format='channels_last', \\\n",
    "                dilation_rate=(1, 1), activation='relu', use_bias=True, kernel_initializer='glorot_uniform', \\\n",
    "                bias_initializer='zeros', kernel_regularizer=None, bias_regularizer=None, \\\n",
    "                activity_regularizer=None, kernel_constraint=None, bias_constraint=None)(mt_input)\n",
    "\n",
    "output2 = Conv2D(filters=18, kernel_size=(3, 4), strides=(1,1), padding='valid', data_format='channels_last', \\\n",
    "                dilation_rate=(1, 1), activation='relu', use_bias=True, kernel_initializer='glorot_uniform', \\\n",
    "                bias_initializer='zeros', kernel_regularizer=None, bias_regularizer=None, \\\n",
    "                activity_regularizer=None, kernel_constraint=None, bias_constraint=None)(mt_input)\n",
    "\n",
    "output3 = Conv2D(filters=18, kernel_size=(3, 5), strides=(1,1), padding='valid', data_format='channels_last', \\\n",
    "                dilation_rate=(1, 1), activation='relu', use_bias=True, kernel_initializer='glorot_uniform', \\\n",
    "                bias_initializer='zeros', kernel_regularizer=None, bias_regularizer=None, \\\n",
    "                activity_regularizer=None, kernel_constraint=None, bias_constraint=None)(mt_input)\n",
    "\n",
    "# Conv layers 2\n",
    "output1 = Conv2D(filters=20, kernel_size=(1, 1), strides=(1,1), padding='valid', data_format='channels_last', \\\n",
    "                dilation_rate=(1, 1), activation='relu', use_bias=True, kernel_initializer='glorot_uniform', \\\n",
    "                bias_initializer='zeros', kernel_regularizer=None, bias_regularizer=None, \\\n",
    "                activity_regularizer=None, kernel_constraint=None, bias_constraint=None)(output1)\n",
    "\n",
    "output2 = Conv2D(filters=20, kernel_size=(1, 1), strides=(1,1), padding='valid', data_format='channels_last', \\\n",
    "                dilation_rate=(1, 1), activation='relu', use_bias=True, kernel_initializer='glorot_uniform', \\\n",
    "                bias_initializer='zeros', kernel_regularizer=None, bias_regularizer=None, \\\n",
    "                activity_regularizer=None, kernel_constraint=None, bias_constraint=None)(output2)\n",
    "\n",
    "output3 = Conv2D(filters=20, kernel_size=(1, 1), strides=(1,1), padding='valid', data_format='channels_last', \\\n",
    "                dilation_rate=(1, 1), activation='relu', use_bias=True, kernel_initializer='glorot_uniform', \\\n",
    "                bias_initializer='zeros', kernel_regularizer=None, bias_regularizer=None, \\\n",
    "                activity_regularizer=None, kernel_constraint=None, bias_constraint=None)(output3)\n",
    "\n",
    "# Max pool layer\n",
    "output1 = GlobalMaxPooling2D(data_format='channels_last')(output1)\n",
    "output2 = GlobalMaxPooling2D(data_format='channels_last')(output2)\n",
    "output3 = GlobalMaxPooling2D(data_format='channels_last')(output3)\n",
    "\n",
    "# Merge\n",
    "output_combined = add([output1,output2,output3])\n",
    "#TODO testing\n",
    "#output_combined = output1\n",
    "\n",
    "# Final layer\n",
    "#output = Dense(1,activation='sigmoid')(output_combined)\n",
    "#categorical\n",
    "output = Dense(13, activation='softmax', kernel_initializer='glorot_uniform')(output_combined)\n",
    "\n",
    "\n",
    "# build model\n",
    "#model = Model([input_query], [query_output])\n",
    "#model = Model([input_doc], [encoded_doc])\n",
    "#model = Model([input_query,input_doc], [output1,output2,output3])\n",
    "#model = Model([input_query,input_doc], [output_combined])\n",
    "#model = Model([input_query,input_doc,input_exact_match], [query_output])\n",
    "#model = Model([input_query,input_doc], [query_output,doc_output])\n",
    "#model = Model([input_query,input_doc], [output])\n",
    "#model = Model([input_query,input_doc,input_exact_match], [mt_input])\n",
    "#model = Model([input_query,input_doc,input_exact_match], [mt_input_1,mt_input_2])\n",
    "model = Model([input_query,input_doc,input_exact_match], [output])\n",
    "#model = Model([input_query,input_doc,input_exact_match], [dot_product_output])\n",
    "\n",
    "\n",
    "model.summary()"
   ]
  },
  {
   "cell_type": "code",
   "execution_count": 104,
   "metadata": {
    "collapsed": false
   },
   "outputs": [],
   "source": [
    "# #TODO SSM\n",
    "# #doc_max_len=doc_min_len\n",
    "# print('Building model...')\n",
    "\n",
    "# def get_R(x):\n",
    "#     a, b = x.values()\n",
    "#     return K.dot(a, b)\n",
    "\n",
    "\n",
    "# embeddings = word2vec_embedding_layer(embeddings_path)\n",
    "\n",
    "# #embedding lookup\n",
    "# # TODO: replace this with embedding with mask zero rather than padding, need to change index for encoding too, imput dim too.\n",
    "# # TODO: OOV embedding\n",
    "# input_query = Input(shape=(query_max_len,), dtype='int32', name='input_query')\n",
    "# input_doc = Input(shape=(doc_max_len,), dtype='int32', name='input_doc')\n",
    "# input_exact_match = Input(shape=(query_max_len,doc_max_len), dtype='float32', name='input_exact_match')\n",
    "# input_doc = Input(shape=(doc_max_len,), dtype='int32', name='input_doc')\n",
    "# embedding_query = embeddings(input_query)  # (None, 6, 100)\n",
    "# embedding_doc = embeddings(input_doc)      # (None, 400, 100)\n",
    "\n",
    "# #shared linear projection\n",
    "# shared_lp = Dense(40,activation='linear')\n",
    "# query_output = shared_lp(embedding_query) # (None, 6, 40) \n",
    "# doc_output = shared_lp(embedding_doc) #(None, 400, 40) \n",
    "\n",
    "# #query: bi LSTM, lp -- implementation = 0 for CPU option, 1 or 2 for GPU\n",
    "# query_output = Bidirectional(LSTM(16, dropout=0.0, implementation=0, return_sequences=True, go_backwards=True)\\\n",
    "#                              ,merge_mode='mul'#TODO: alts are 'sum','mul','ave','concat'<--default, None\n",
    "#                             )(query_output) #(None, 6, 30) unless concat (None, 6, 60)  \n",
    "# query_output = Dense(50,activation='linear')(query_output) #(None, 50)\n",
    "\n",
    "# #doc: bi LSTM, lp\n",
    "# doc_output = Bidirectional(LSTM(64, dropout=0.0, implementation=0, return_sequences=True, go_backwards=True)\\\n",
    "#                              ,merge_mode='mul'#TODO: alts are 'sum','mul','ave','concat'<--default, None\n",
    "#                             )(doc_output) #(None, 6, 400) unless concat (None, 6, 800)  \n",
    "# doc_output = Dense(50,activation='linear')(doc_output) #(None, 50)\n",
    "\n",
    "# #2d product\n",
    "# #mt_input = batch_dot(query_output,doc_output,axes=None) #axes=[2,2])\n",
    "# #query_output = Flatten()(query_output)\n",
    "# #doc_output = Flatten()(doc_output)\n",
    "# #mt_input = multiply([query_output, doc_output])\n",
    "# #mt_input = dot([query_output, doc_output], axes=(0), normalize=False)  \n",
    "# dot_product_output = dot([query_output, doc_output], axes=(2), normalize=True)  \n",
    "# #output is (11, 6, 400), where did 50 go?\n",
    "# def func_expand_dims(x):\n",
    "#     return expand_dims(x, axis=-1)\n",
    "\n",
    "# def expand_dims_output_shape(input_shape):\n",
    "#     return (input_shape[0], input_shape[1],input_shape[2],1)\n",
    "\n",
    "# mt_input_1 = Lambda(func_expand_dims, expand_dims_output_shape)(dot_product_output)\n",
    "\n",
    "\n",
    "# # Merge\n",
    "# #output_combined = add([output1,output2,output3])\n",
    "# #TODO testing\n",
    "# output1 = GlobalMaxPooling2D(data_format='channels_last')(mt_input_1)\n",
    "# output_combined = output1\n",
    "\n",
    "\n",
    "# # Final layer\n",
    "# output = Dense(1,activation='sigmoid')(output_combined)\n",
    "# #categorical\n",
    "# #output = Dense(13, activation='softmax', kernel_initializer='glorot_uniform', use_bias=True)(output_combined)\n",
    "\n",
    "\n",
    "# # build model\n",
    "# #model = Model([input_query], [query_output])\n",
    "# #model = Model([input_doc], [encoded_doc])\n",
    "# #model = Model([input_query,input_doc], [output1,output2,output3])\n",
    "# #model = Model([input_query,input_doc], [output_combined])\n",
    "# #model = Model([input_query,input_doc,input_exact_match], [query_output])\n",
    "# #model = Model([input_query,input_doc], [query_output,doc_output])\n",
    "# #model = Model([input_query,input_doc], [output])\n",
    "# #model = Model([input_query,input_doc,input_exact_match], [mt_input])\n",
    "# #model = Model([input_query,input_doc,input_exact_match], [mt_input_1,mt_input_2])\n",
    "# model = Model([input_query,input_doc,input_exact_match], [output])\n",
    "\n",
    "\n",
    "# model.summary()"
   ]
  },
  {
   "cell_type": "code",
   "execution_count": 105,
   "metadata": {
    "collapsed": false
   },
   "outputs": [],
   "source": [
    "# # from keras.layers import Input, merge\n",
    "# # from keras.models import Model\n",
    "# # import numpy as np\n",
    "\n",
    "# # input_a = np.reshape([[1, 2, 3],[1, 2, 3],],[[1, 2, 3],[1, 2, 3]])\n",
    "# # input_b = np.reshape([4, 5, 6], (1, 1, 3))\n",
    "\n",
    "# # print(input_a)\n",
    "# # print(input_b)\n",
    "# # a = Input(shape=(1, 3))\n",
    "# # b = Input(shape=(1, 3))\n",
    "\n",
    "# # concat = merge([a, b], mode='concat', concat_axis=-1)\n",
    "# # dot = merge([a, b], mode='dot', dot_axes=2)\n",
    "# # cos = merge([a, b], mode='cos', dot_axes=2)\n",
    "\n",
    "# # model_concat = Model(input=[a, b], output=concat)\n",
    "# # model_dot = Model(input=[a, b], output=dot)\n",
    "# # model_cos = Model(input=[a, b], output=cos)\n",
    "\n",
    "# # print(model_concat.predict([input_a, input_b]))\n",
    "# # print(model_dot.predict([input_a, input_b]))\n",
    "# # print(model_cos.predict([input_a, input_b]))\n",
    "\n",
    "# from keras import backend as K\n",
    "# x_batch = K.ones(shape=(11, 6,50 ))\n",
    "# y_batch = K.ones(shape=(11, 400,50))\n",
    "# x_batch=K.batch_flatten(x_batch)\n",
    "# y_batch=K.batch_flatten(y_batch)\n",
    "# #xy_batch_dot = K.dot(transpose(y_batch),x_batch )#, axes=[0,0])\n",
    "# xy_batch_dot = K.batch_dot(x_batch,y_batch, axes=[0,0])\n",
    "# K.int_shape(xy_batch_dot)\n",
    "# # K.int_shape(x_batch)\n",
    "# # K.int_shape(y_batch)\n",
    "\n"
   ]
  },
  {
   "cell_type": "code",
   "execution_count": null,
   "metadata": {
    "collapsed": false
   },
   "outputs": [],
   "source": []
  },
  {
   "cell_type": "code",
   "execution_count": 106,
   "metadata": {
    "collapsed": false
   },
   "outputs": [],
   "source": [
    "optimizer = optimizers.Adam(lr=0.001)\n",
    "#optimizer = optimizers.SGD(lr = 0.001, momentum = 0.9, decay = 0.0, nesterov = True)\n",
    "model.compile(optimizer=optimizer, loss='mse', metrics=['accuracy'])\n",
    "#model.compile(optimizer=optimizer, loss='categorical_crossentropy', metrics=['accuracy'])"
   ]
  },
  {
   "cell_type": "code",
   "execution_count": 107,
   "metadata": {
    "collapsed": false
   },
   "outputs": [
    {
     "name": "stdout",
     "output_type": "stream",
     "text": [
      "Pad sequences (samples x time)\n",
      "x_query_train shape: (74067, 6)\n",
      "x_doc_train shape: (74067, 100)\n",
      "y_train shape: (74067, 13)\n"
     ]
    }
   ],
   "source": [
    "x_query_train=np.array(query_word2vec_idx_list)[0:74067]\n",
    "x_doc_train=np.array(doc_word2vec_idx_list)[0:74067]#[0:len(x_query_train)]\n",
    "\n",
    "# TODO: replace this with embedding with mask zero rather than padding, need to change index for encoding too, imput dim too.\n",
    "print(\"Pad sequences (samples x time)\")\n",
    "x_query_train = sequence.pad_sequences(x_query_train, maxlen=query_max_len,padding='post', truncating='post', value=0.)\n",
    "x_doc_train = sequence.pad_sequences(x_doc_train, maxlen=doc_max_len,padding='post', truncating='post', value=0.)\n",
    "# x_query_test = sequence.pad_sequences(x_query_test, maxlen=query_max_len)\n",
    "# x_doc_test = sequence.pad_sequences(x_doc_test, maxlen=doc_max_len)\n",
    "\n",
    "print('x_query_train shape:', x_query_train.shape)\n",
    "print('x_doc_train shape:', x_doc_train.shape)\n",
    "# print('x_query_test shape:', x_query_test.shape)\n",
    "# print('x_doc_test shape:', x_doc_test.shape)\n",
    "\n",
    "#TODO: y label on 0-1 scale from 1-3\n",
    "#y_train=(train_query_df['relevance'].as_matrix()-1)/3\n",
    "\n",
    "# TODO: as categorical\n",
    "y_train=to_categorical(train_query_df['relevance_int'].as_matrix(),13)\n",
    "# y_test=test_query_df['relevance_int'].as_matrix()\n",
    "print('y_train shape:', y_train.shape)"
   ]
  },
  {
   "cell_type": "code",
   "execution_count": 108,
   "metadata": {
    "collapsed": false
   },
   "outputs": [
    {
     "data": {
      "text/plain": [
       "6"
      ]
     },
     "execution_count": 108,
     "metadata": {},
     "output_type": "execute_result"
    }
   ],
   "source": [
    "len(max(query_word2vec_idx_list,key=len)) \n",
    "len(max(x_query_train,key=len)) "
   ]
  },
  {
   "cell_type": "code",
   "execution_count": 109,
   "metadata": {
    "collapsed": false
   },
   "outputs": [
    {
     "data": {
      "text/plain": [
       "array([ 0.,  0.,  0.,  0.,  0.,  0.,  0.,  0.,  1.,  0.,  0.,  0.,  0.])"
      ]
     },
     "execution_count": 109,
     "metadata": {},
     "output_type": "execute_result"
    }
   ],
   "source": [
    "x_doc_train[100]\n",
    "y_train[100]"
   ]
  },
  {
   "cell_type": "code",
   "execution_count": 110,
   "metadata": {
    "collapsed": false
   },
   "outputs": [],
   "source": [
    "exact_match_list=[]\n",
    "for i in range(x_query_train.shape[0]):\n",
    "    #print(i)\n",
    "    c1=x_query_train[i]\n",
    "    c2=x_doc_train[i]\n",
    "    #print(c1.shape[0])\n",
    "    #print(c2.shape[0])\n",
    "\n",
    "    c1_inp=np.repeat(c1,c2.shape[0],axis=0)\n",
    "    c1_inp=c1_inp.reshape((c1.shape[0],c2.shape[0]))\n",
    "    #print(c1_inp.shape)\n",
    "    #print(c1_inp)\n",
    "\n",
    "    #print(c2)\n",
    "    c2_inp=np.tile(c2,(c1.shape[0],1))\n",
    "    #print(c2_inp.shape)\n",
    "    #print(c2_inp)    \n",
    "    #print(c1_inp == c2_inp)\n",
    "    exact_match_list+=[(c1_inp == c2_inp).astype(int)]"
   ]
  },
  {
   "cell_type": "code",
   "execution_count": 111,
   "metadata": {
    "collapsed": false
   },
   "outputs": [],
   "source": [
    "exact_match_inp_train=np.array(exact_match_list)"
   ]
  },
  {
   "cell_type": "code",
   "execution_count": 112,
   "metadata": {
    "collapsed": false
   },
   "outputs": [
    {
     "data": {
      "text/plain": [
       "(74067, 6, 100)"
      ]
     },
     "execution_count": 112,
     "metadata": {},
     "output_type": "execute_result"
    }
   ],
   "source": [
    "exact_match_inp_train.shape"
   ]
  },
  {
   "cell_type": "code",
   "execution_count": 113,
   "metadata": {
    "collapsed": false
   },
   "outputs": [
    {
     "name": "stdout",
     "output_type": "stream",
     "text": [
      "angle bracket\n",
      "simpson strong tie 12 gauge angle\n",
      "[ 979 5124 1571 2864 2489    0]\n",
      "[14620   848   473  9621 12823 14014 14380   794  5124  1571   129   324\n",
      "   125     3  2864   490  9621 12823 14014 14380   794   583  5124  1571\n",
      "  2192    93   414  3878   934   197   160   845  1595   977   690    16\n",
      "  2608   264    43   270    66  1505   714    41    14    38    78   204\n",
      "  1571   456  1387   510  3693  6596    49  5124   129  2608  1084    16\n",
      "  2945   714    41   129   562  1270   138  2465   132   590 20849   745\n",
      "   594     2  1571   129     0     0     0     0     0     0     0     0\n",
      "     0     0     0     0     0     0     0     0     0     0     0     0\n",
      "     0     0     0     0]\n",
      "[[0 0 0 0 0 1 0 0 0 0 0 0 0 0 0 0 0 0 0 0 0 0 0 0 0 0 0 0 0 0 0 0 0 0 0 0 0\n",
      "  0 0 0 0 0 0 0 0 0 0 0 0 0 0 0 0 0 0 0 0 0 0 0 0 0 0 0 0 0 0 0 0 0 0 0 0 0\n",
      "  0 0 0 0 0 0 0 0 0 0 0 0 0 0 0 0 0 0 0 0 0 0 0 0 0 0]\n",
      " [0 0 0 0 0 0 0 0 0 0 0 0 0 0 0 0 0 0 0 0 0 0 0 0 0 0 0 0 0 0 0 0 0 0 0 0 0\n",
      "  0 0 0 0 0 0 0 0 0 0 0 0 0 0 0 0 0 0 0 0 0 0 0 0 0 0 0 0 0 0 0 0 0 0 0 0 0\n",
      "  0 0 0 0 0 0 0 0 0 0 0 0 0 0 0 0 0 0 0 0 0 0 0 0 0 0]\n",
      " [0 0 0 0 0 0 0 0 0 0 0 0 0 0 0 0 0 0 0 0 0 0 0 0 0 0 0 0 0 0 0 0 0 0 0 0 0\n",
      "  0 0 0 0 0 0 0 0 0 0 0 0 0 0 0 0 0 0 0 0 0 0 0 0 0 0 0 0 0 0 0 0 0 0 0 0 0\n",
      "  0 0 0 0 0 0 0 0 0 0 0 0 0 0 0 0 0 0 0 0 0 0 0 0 0 0]\n",
      " [0 0 0 0 0 0 0 0 0 0 0 0 0 0 0 0 0 0 0 0 0 0 0 0 0 0 0 0 0 0 0 0 0 0 0 0 0\n",
      "  0 0 0 0 0 0 0 0 0 0 0 0 0 0 0 0 0 0 0 0 0 0 0 0 0 0 0 0 0 0 0 0 0 0 0 0 0\n",
      "  0 0 0 0 0 0 0 0 0 0 0 0 0 0 0 0 0 0 0 0 0 0 0 0 0 0]\n",
      " [0 0 0 0 0 0 0 0 0 0 0 0 0 0 0 0 0 0 0 0 0 0 0 0 0 0 0 0 0 0 0 0 0 0 0 0 0\n",
      "  0 0 0 0 0 0 0 0 0 0 0 0 0 0 0 0 0 0 0 0 0 0 0 0 0 0 0 0 0 0 0 0 0 0 0 0 0\n",
      "  0 0 0 0 0 0 0 0 0 0 0 0 0 0 0 0 0 0 0 0 0 0 0 0 0 0]\n",
      " [0 0 0 0 0 0 0 0 0 0 0 0 0 0 0 0 0 0 0 0 0 0 0 0 0 0 0 0 0 0 0 0 0 0 0 0 0\n",
      "  0 0 0 0 0 0 0 0 0 0 0 0 0 0 0 0 0 0 0 0 0 0 0 0 0 0 0 0 0 0 0 0 0 0 0 0 0\n",
      "  0 0 0 0 0 0 0 0 0 0 0 0 0 0 0 0 0 0 0 0 0 0 0 0 0 0]]\n"
     ]
    }
   ],
   "source": [
    "print(train_query_df['search_term'][0])\n",
    "print(product_df['product_title'][0])\n",
    "print(x_query_train[i])\n",
    "print(x_doc_train[i])\n",
    "print(exact_match_inp_train[0])\n"
   ]
  },
  {
   "cell_type": "code",
   "execution_count": null,
   "metadata": {
    "collapsed": false
   },
   "outputs": [],
   "source": []
  },
  {
   "cell_type": "code",
   "execution_count": 114,
   "metadata": {
    "collapsed": false
   },
   "outputs": [
    {
     "name": "stdout",
     "output_type": "stream",
     "text": [
      "Train...\n",
      "Train on 59253 samples, validate on 14814 samples\n",
      "Epoch 1/10\n",
      "141s - loss: 0.0630 - acc: 0.2727 - val_loss: 0.0658 - val_acc: 0.1402\n",
      "Epoch 2/10\n",
      "139s - loss: 0.0604 - acc: 0.3125 - val_loss: 0.0654 - val_acc: 0.1791\n",
      "Epoch 3/10\n",
      "136s - loss: 0.0595 - acc: 0.3270 - val_loss: 0.0643 - val_acc: 0.2153\n",
      "Epoch 4/10\n",
      "132s - loss: 0.0590 - acc: 0.3353 - val_loss: 0.0648 - val_acc: 0.2004\n",
      "Epoch 5/10\n",
      "130s - loss: 0.0585 - acc: 0.3397 - val_loss: 0.0634 - val_acc: 0.2357\n",
      "Epoch 6/10\n",
      "174s - loss: 0.0581 - acc: 0.3477 - val_loss: 0.0639 - val_acc: 0.2209\n",
      "Epoch 7/10\n",
      "133s - loss: 0.0577 - acc: 0.3531 - val_loss: 0.0642 - val_acc: 0.2322\n",
      "Epoch 8/10\n",
      "131s - loss: 0.0573 - acc: 0.3585 - val_loss: 0.0644 - val_acc: 0.2209\n",
      "Epoch 9/10\n",
      "131s - loss: 0.0569 - acc: 0.3637 - val_loss: 0.0634 - val_acc: 0.2393\n",
      "Epoch 10/10\n",
      "218s - loss: 0.0565 - acc: 0.3689 - val_loss: 0.0644 - val_acc: 0.2295\n"
     ]
    }
   ],
   "source": [
    "batch_size=200#2 #200\n",
    "print('Train...')\n",
    "hist=model.fit([x_query_train,x_doc_train,exact_match_inp_train], [y_train],\n",
    "          batch_size=batch_size,\n",
    "          epochs=10,\n",
    "          validation_split=0.2,\n",
    "          shuffle=True,\n",
    "          verbose=2,\n",
    "          #validation_data=[x_test, y_test])\n",
    "         )\n"
   ]
  },
  {
   "cell_type": "code",
   "execution_count": 115,
   "metadata": {
    "collapsed": false
   },
   "outputs": [
    {
     "data": {
      "image/png": "[encoded data removed]",
      "text/plain": [
       "<matplotlib.figure.Figure at 0x7fe79315fba8>"
      ]
     },
     "metadata": {},
     "output_type": "display_data"
    }
   ],
   "source": [
    "# summarize history for accuracy\n",
    "plt.figure(figsize=(15, 5))\n",
    "plt.subplot(1, 2, 1)\n",
    "plt.plot(hist.history['acc']); plt.plot(hist.history['val_acc']);\n",
    "plt.title('model accuracy'); plt.ylabel('accuracy');\n",
    "plt.xlabel('epoch'); plt.legend(['train', 'valid'], loc='upper left');\n",
    "\n",
    "# summarize history for loss\n",
    "plt.subplot(1, 2, 2)\n",
    "plt.plot(hist.history['loss']); plt.plot(hist.history['val_loss']);\n",
    "plt.title('model loss'); plt.ylabel('loss');\n",
    "plt.xlabel('epoch'); plt.legend(['train', 'valid'], loc='upper left');\n",
    "plt.show()"
   ]
  },
  {
   "cell_type": "code",
   "execution_count": 116,
   "metadata": {
    "collapsed": false
   },
   "outputs": [],
   "source": [
    "batch_size=200 #200\n",
    "prediction=model.predict([x_query_train,x_doc_train,exact_match_inp_train],\n",
    "          batch_size=batch_size,\n",
    "         )"
   ]
  },
  {
   "cell_type": "code",
   "execution_count": 117,
   "metadata": {
    "collapsed": false
   },
   "outputs": [
    {
     "data": {
      "text/plain": [
       "(74067, 13)"
      ]
     },
     "execution_count": 117,
     "metadata": {},
     "output_type": "execute_result"
    }
   ],
   "source": [
    "prediction.shape"
   ]
  },
  {
   "cell_type": "code",
   "execution_count": 118,
   "metadata": {
    "collapsed": false
   },
   "outputs": [
    {
     "data": {
      "text/plain": [
       "array([ 0.03997641,  0.00103513,  0.03729727,  0.00056168,  0.09402336,\n",
       "        0.00057674,  0.14152159,  0.00077425,  0.21090187,  0.00030859,\n",
       "        0.21045884,  0.00105888,  0.26150534], dtype=float32)"
      ]
     },
     "execution_count": 118,
     "metadata": {},
     "output_type": "execute_result"
    }
   ],
   "source": [
    "prediction[0]"
   ]
  },
  {
   "cell_type": "code",
   "execution_count": 119,
   "metadata": {
    "collapsed": true
   },
   "outputs": [],
   "source": [
    "def pred2relevance(prediction):\n",
    "    orig_labels = [ 1.  ,  1.25 , 1.33 , 1.5 ,  1.67,  1.75,  2. ,   2.25 , 2.33  ,2.5 ,  2.67  ,2.75 ,3.  ]\n",
    "    new_labels= [ 0 , 1 , 2 , 3 , 4 , 5,  6 , 7 , 8,  9, 10 ,11, 12]\n",
    "    orig_labels_prediction=[]\n",
    "    for preds in prediction:\n",
    "        #print(preds)\n",
    "        max_idx=np.argmax(preds)\n",
    "        orig_labels_prediction+=[orig_labels[max_idx]]\n",
    "    return np.array(orig_labels_prediction)"
   ]
  },
  {
   "cell_type": "code",
   "execution_count": 120,
   "metadata": {
    "collapsed": false
   },
   "outputs": [],
   "source": [
    "orig_labels_prediction =  pred2relevance(prediction)"
   ]
  },
  {
   "cell_type": "code",
   "execution_count": 121,
   "metadata": {
    "collapsed": false
   },
   "outputs": [
    {
     "data": {
      "text/plain": [
       "3.0"
      ]
     },
     "execution_count": 121,
     "metadata": {},
     "output_type": "execute_result"
    }
   ],
   "source": [
    "orig_labels_prediction[0]"
   ]
  },
  {
   "cell_type": "code",
   "execution_count": 122,
   "metadata": {
    "collapsed": true
   },
   "outputs": [],
   "source": [
    "from sklearn.metrics import mean_squared_error\n",
    "RMSE = mean_squared_error(train_query_df['relevance'].as_matrix(), orig_labels_prediction)**0.5"
   ]
  },
  {
   "cell_type": "code",
   "execution_count": 123,
   "metadata": {
    "collapsed": false
   },
   "outputs": [
    {
     "data": {
      "text/plain": [
       "0.59858401734415356"
      ]
     },
     "execution_count": 123,
     "metadata": {},
     "output_type": "execute_result"
    }
   ],
   "source": [
    "RMSE"
   ]
  },
  {
   "cell_type": "markdown",
   "metadata": {
    "collapsed": false
   },
   "source": [
    "# print(\"Predict\")\n",
    "word_a = 'wood'#raw_input('First word: ')\n",
    "if word_a not in word2idx:\n",
    "    print('\"%s\" is not in the index' % word_a)\n",
    "word_b = 'fan'#raw_input('Second word: ')\n",
    "if word_b not in word2idx:\n",
    "    print('\"%s\" is not in the index' % word_b)\n",
    "output = model.predict([np.asarray([word2idx[word_a]]), np.asarray([word2idx[word_b]])])\n",
    "print('%f' % output)"
   ]
  },
  {
   "cell_type": "code",
   "execution_count": 124,
   "metadata": {
    "collapsed": false
   },
   "outputs": [],
   "source": [
    "test_df=test_private_df"
   ]
  },
  {
   "cell_type": "code",
   "execution_count": 125,
   "metadata": {
    "collapsed": false
   },
   "outputs": [
    {
     "name": "stdout",
     "output_type": "stream",
     "text": [
      "Parsing sentences from search string\n"
     ]
    }
   ],
   "source": [
    "test_query_sentences = []\n",
    "\n",
    "print(\"Parsing sentences from search string\")\n",
    "for query in test_df[\"search_term\"]:\n",
    "    words,vocab = doc_to_wordlist(query, vocab, remove_stopwords=True)\n",
    "    test_query_sentences += [words]\n",
    "    "
   ]
  },
  {
   "cell_type": "code",
   "execution_count": 126,
   "metadata": {
    "collapsed": false
   },
   "outputs": [
    {
     "data": {
      "text/plain": [
       "78419"
      ]
     },
     "execution_count": 126,
     "metadata": {},
     "output_type": "execute_result"
    }
   ],
   "source": [
    "len(test_query_sentences)"
   ]
  },
  {
   "cell_type": "code",
   "execution_count": 127,
   "metadata": {
    "collapsed": false
   },
   "outputs": [
    {
     "name": "stdout",
     "output_type": "stream",
     "text": [
      "78419\n"
     ]
    }
   ],
   "source": [
    "test_query_word2vec_idx_list = query_sent2idx(test_query_sentences)"
   ]
  },
  {
   "cell_type": "code",
   "execution_count": 128,
   "metadata": {
    "collapsed": false
   },
   "outputs": [
    {
     "name": "stdout",
     "output_type": "stream",
     "text": [
      "78419\n"
     ]
    }
   ],
   "source": [
    "test_joined_df=test_df.join(product_df.set_index('product_uid'), on='product_uid')\n",
    "\n",
    "test_joined_doc_sentences=[]\n",
    "for doc in test_joined_df['content']:\n",
    "    words,vocab = doc_to_wordlist(doc, vocab, remove_stopwords=True)\n",
    "    test_joined_doc_sentences += [words]\n",
    "    \n",
    "test_doc_word2vec_idx_list = query_sent2idx(test_joined_doc_sentences)"
   ]
  },
  {
   "cell_type": "code",
   "execution_count": 129,
   "metadata": {
    "collapsed": false
   },
   "outputs": [
    {
     "name": "stdout",
     "output_type": "stream",
     "text": [
      "Pad sequences (samples x time)\n",
      "x_query_test shape: (78419, 6)\n",
      "x_doc_test shape: (78419, 100)\n"
     ]
    }
   ],
   "source": [
    "x_query_test=np.array(test_query_word2vec_idx_list)[0:78419]\n",
    "x_doc_test=np.array(test_doc_word2vec_idx_list)[0:78419]\n",
    "\n",
    "# TODO: replace this with embedding with mask zero rather than padding, need to change index for encoding too, imput dim too.\n",
    "print(\"Pad sequences (samples x time)\")\n",
    "x_query_test = sequence.pad_sequences(x_query_test, maxlen=query_max_len,padding='post', truncating='post', value=0.)\n",
    "x_doc_test = sequence.pad_sequences(x_doc_test, maxlen=doc_max_len,padding='post', truncating='post', value=0.)\n",
    "# x_query_test = sequence.pad_sequences(x_query_test, maxlen=query_max_len)\n",
    "# x_doc_test = sequence.pad_sequences(x_doc_test, maxlen=doc_max_len)\n",
    "\n",
    "print('x_query_test shape:', x_query_test.shape)\n",
    "print('x_doc_test shape:', x_doc_test.shape)\n",
    "\n",
    "#TODO: y label on 0-1 scale from 1-3\n",
    "#y_train=(train_query_df['relevance'].as_matrix()-1)/3\n",
    "\n",
    "# TODO: as categorical\n",
    "#y_test=to_categorical(train_query_df['relevance_int'].as_matrix(),13)\n",
    "# y_test=test_query_df['relevance_int'].as_matrix()\n",
    "#print('y_train shape:', y_train.shape)"
   ]
  },
  {
   "cell_type": "code",
   "execution_count": 130,
   "metadata": {
    "collapsed": false
   },
   "outputs": [
    {
     "data": {
      "text/plain": [
       "(78419, 6, 100)"
      ]
     },
     "execution_count": 130,
     "metadata": {},
     "output_type": "execute_result"
    }
   ],
   "source": [
    "exact_match_list_test=[]\n",
    "for i in range(x_query_test.shape[0]):\n",
    "    #print(i)\n",
    "    c1=x_query_test[i]\n",
    "    c2=x_doc_test[i]\n",
    "    #print(c1.shape[0])\n",
    "    #print(c2.shape[0])\n",
    "\n",
    "    c1_inp=np.repeat(c1,c2.shape[0],axis=0)\n",
    "    c1_inp=c1_inp.reshape((c1.shape[0],c2.shape[0]))\n",
    "    #print(c1_inp.shape)\n",
    "    #print(c1_inp)\n",
    "\n",
    "    #print(c2)\n",
    "    c2_inp=np.tile(c2,(c1.shape[0],1))\n",
    "    #print(c2_inp.shape)\n",
    "    #print(c2_inp)    \n",
    "    #print(c1_inp == c2_inp)\n",
    "    exact_match_list_test+=[(c1_inp == c2_inp).astype(int)]\n",
    "\n",
    "exact_match_inp_test=np.array(exact_match_list_test)\n",
    "exact_match_inp_test.shape"
   ]
  },
  {
   "cell_type": "code",
   "execution_count": 131,
   "metadata": {
    "collapsed": false
   },
   "outputs": [
    {
     "name": "stdout",
     "output_type": "stream",
     "text": [
      "90 degree bracket\n",
      "[1867 5365  488    0    0    0]\n",
      "[ 1867   399  1191    47   344   652  2876   196  1362  2016   106    65\n",
      "  1271   886  1020  1867   399  1191    90   138   211  2876  1133   439\n",
      "  5102    75    16   114  1716   544  1497   557   492  4695 11148   510\n",
      "   404     8   544   423  2460     5  9686   509   321  1143    65   271\n",
      "   358   311    49  1853   304   481  1180   521   801  1133   551   971\n",
      "    11   883   544  2016  2051  2841   372  1355  3099   127   477  1362\n",
      "  4957   886   399   326     6     3     6     3     2     2     4    28\n",
      "    47   344    15   463   271   311   358   121  7029   761   702   173\n",
      "     3     2     2     4]\n",
      "[[1 0 0 0 0 0 0 0 0 0 0 0 0 0 0 1 0 0 0 0 0 0 0 0 0 0 0 0 0 0 0 0 0 0 0 0 0\n",
      "  0 0 0 0 0 0 0 0 0 0 0 0 0 0 0 0 0 0 0 0 0 0 0 0 0 0 0 0 0 0 0 0 0 0 0 0 0\n",
      "  0 0 0 0 0 0 0 0 0 0 0 0 0 0 0 0 0 0 0 0 0 0 0 0 0 0]\n",
      " [0 0 0 0 0 0 0 0 0 0 0 0 0 0 0 0 0 0 0 0 0 0 0 0 0 0 0 0 0 0 0 0 0 0 0 0 0\n",
      "  0 0 0 0 0 0 0 0 0 0 0 0 0 0 0 0 0 0 0 0 0 0 0 0 0 0 0 0 0 0 0 0 0 0 0 0 0\n",
      "  0 0 0 0 0 0 0 0 0 0 0 0 0 0 0 0 0 0 0 0 0 0 0 0 0 0]\n",
      " [0 0 0 0 0 0 0 0 0 0 0 0 0 0 0 0 0 0 0 0 0 0 0 0 0 0 0 0 0 0 0 0 0 0 0 0 0\n",
      "  0 0 0 0 0 0 0 0 0 0 0 0 0 0 0 0 0 0 0 0 0 0 0 0 0 0 0 0 0 0 0 0 0 0 0 0 0\n",
      "  0 0 0 0 0 0 0 0 0 0 0 0 0 0 0 0 0 0 0 0 0 0 0 0 0 0]\n",
      " [0 0 0 0 0 0 0 0 0 0 0 0 0 0 0 0 0 0 0 0 0 0 0 0 0 0 0 0 0 0 0 0 0 0 0 0 0\n",
      "  0 0 0 0 0 0 0 0 0 0 0 0 0 0 0 0 0 0 0 0 0 0 0 0 0 0 0 0 0 0 0 0 0 0 0 0 0\n",
      "  0 0 0 0 0 0 0 0 0 0 0 0 0 0 0 0 0 0 0 0 0 0 0 0 0 0]\n",
      " [0 0 0 0 0 0 0 0 0 0 0 0 0 0 0 0 0 0 0 0 0 0 0 0 0 0 0 0 0 0 0 0 0 0 0 0 0\n",
      "  0 0 0 0 0 0 0 0 0 0 0 0 0 0 0 0 0 0 0 0 0 0 0 0 0 0 0 0 0 0 0 0 0 0 0 0 0\n",
      "  0 0 0 0 0 0 0 0 0 0 0 0 0 0 0 0 0 0 0 0 0 0 0 0 0 0]\n",
      " [0 0 0 0 0 0 0 0 0 0 0 0 0 0 0 0 0 0 0 0 0 0 0 0 0 0 0 0 0 0 0 0 0 0 0 0 0\n",
      "  0 0 0 0 0 0 0 0 0 0 0 0 0 0 0 0 0 0 0 0 0 0 0 0 0 0 0 0 0 0 0 0 0 0 0 0 0\n",
      "  0 0 0 0 0 0 0 0 0 0 0 0 0 0 0 0 0 0 0 0 0 0 0 0 0 0]]\n"
     ]
    }
   ],
   "source": [
    "print(test_query_df['search_term'][0])\n",
    "print(x_query_test[0])\n",
    "print(x_doc_test[0])\n",
    "print(exact_match_inp_test[0])"
   ]
  },
  {
   "cell_type": "code",
   "execution_count": 132,
   "metadata": {
    "collapsed": true
   },
   "outputs": [],
   "source": [
    "batch_size=200 #200\n",
    "test_prediction=model.predict([x_query_test,x_doc_test,exact_match_inp_test],\n",
    "          batch_size=batch_size,\n",
    "         )"
   ]
  },
  {
   "cell_type": "code",
   "execution_count": 133,
   "metadata": {
    "collapsed": false
   },
   "outputs": [
    {
     "data": {
      "text/plain": [
       "(78419, 13)"
      ]
     },
     "execution_count": 133,
     "metadata": {},
     "output_type": "execute_result"
    }
   ],
   "source": [
    "test_prediction.shape"
   ]
  },
  {
   "cell_type": "code",
   "execution_count": 134,
   "metadata": {
    "collapsed": false
   },
   "outputs": [
    {
     "data": {
      "text/plain": [
       "array([  3.37288789e-02,   1.74667584e-04,   4.28897664e-02,\n",
       "         3.60229242e-05,   9.47519615e-02,   1.39450101e-04,\n",
       "         2.41705105e-01,   3.70574911e-04,   2.88672209e-01,\n",
       "         6.37196354e-05,   1.96962118e-01,   1.92192630e-04,\n",
       "         1.00313239e-01], dtype=float32)"
      ]
     },
     "execution_count": 134,
     "metadata": {},
     "output_type": "execute_result"
    }
   ],
   "source": [
    "test_prediction[0]"
   ]
  },
  {
   "cell_type": "code",
   "execution_count": 135,
   "metadata": {
    "collapsed": true
   },
   "outputs": [],
   "source": [
    "test_orig_labels_prediction =  pred2relevance(test_prediction)"
   ]
  },
  {
   "cell_type": "code",
   "execution_count": 136,
   "metadata": {
    "collapsed": false
   },
   "outputs": [
    {
     "data": {
      "text/plain": [
       "2.3300000000000001"
      ]
     },
     "execution_count": 136,
     "metadata": {},
     "output_type": "execute_result"
    }
   ],
   "source": [
    "test_orig_labels_prediction[0]"
   ]
  },
  {
   "cell_type": "code",
   "execution_count": 137,
   "metadata": {
    "collapsed": false
   },
   "outputs": [
    {
     "data": {
      "text/plain": [
       "0.64102161798549973"
      ]
     },
     "execution_count": 137,
     "metadata": {},
     "output_type": "execute_result"
    }
   ],
   "source": [
    "test_RMSE = mean_squared_error(test_df['relevance'].as_matrix(), test_orig_labels_prediction)**0.5\n",
    "test_RMSE "
   ]
  },
  {
   "cell_type": "code",
   "execution_count": null,
   "metadata": {
    "collapsed": true
   },
   "outputs": [],
   "source": []
  },
  {
   "cell_type": "code",
   "execution_count": null,
   "metadata": {
    "collapsed": true
   },
   "outputs": [],
   "source": []
  }
 ],
 "metadata": {
  "kernelspec": {
   "display_name": "Python 3",
   "language": "python",
   "name": "python3"
  },
  "language_info": {
   "codemirror_mode": {
    "name": "ipython",
    "version": 3
   },
   "file_extension": ".py",
   "mimetype": "text/x-python",
   "name": "python",
   "nbconvert_exporter": "python",
   "pygments_lexer": "ipython3",
   "version": "3.6.0"
  }
 },
 "nbformat": 4,
 "nbformat_minor": 2
}
