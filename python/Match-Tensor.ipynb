{
 "cells": [
  {
   "cell_type": "markdown",
   "metadata": {},
   "source": [
    "# Match tensor\n",
    "## NOTE: no where close to fully functional."
   ]
  },
  {
   "cell_type": "code",
   "execution_count": 143,
   "metadata": {
    "collapsed": false
   },
   "outputs": [],
   "source": [
    "import json\n",
    "import os\n",
    "import sys\n",
    "import numpy as np\n",
    "from gensim.models import Word2Vec\n",
    "from keras.preprocessing import sequence\n",
    "from keras.layers import merge, Dense, Input,Dropout, Embedding, LSTM, Bidirectional, Activation\n",
    "from keras.layers import Conv2D\n",
    "from keras.layers.merge import dot, multiply, add\n",
    "from keras.layers import Merge\n",
    "from keras.layers.core import Lambda,Reshape\n",
    "from keras.layers.pooling import GlobalMaxPooling2D\n",
    "from keras.models import Model\n",
    "from keras.backend import transpose\n",
    "from HomeDepotCSVReader import HomeDepotReader\n",
    "import Utilities\n",
    "from DataPreprocessing import DataPreprocessing\n",
    "from Feature_Word2Vec import Feature_Word2Vec\n",
    "from AutomaticQueryExpansion import Word2VecQueryExpansion"
   ]
  },
  {
   "cell_type": "code",
   "execution_count": 2,
   "metadata": {
    "collapsed": true
   },
   "outputs": [],
   "source": [
    "train_filename = '../data/train_play.csv'\n",
    "test_filename = '../data/test_play.csv'\n",
    "attribute_filename = '../data/attributes_play.csv'\n",
    "description_filename = '../data/product_descriptions_play.csv'\n",
    "word2vec_model_path='model/word2vec_play.model'\n",
    "vocab_path='model/word2vec_play_vocab.json'\n",
    "embeddings_path='model/embeddings_play.npz'\n",
    "\n",
    "# train_filename = '../data/train.csv'\n",
    "# test_filename = '../data/test.csv'\n",
    "# attribute_filename = '../data/attributes.csv'\n",
    "# description_filename = '../data/product_descriptions.csv'\n",
    "# word2vec_model_path='model/word2vec.model'\n",
    "# vocab_path='model/word2vec_vocab.json'\n",
    "# embeddings_path='model/embeddings.npz'"
   ]
  },
  {
   "cell_type": "code",
   "execution_count": 3,
   "metadata": {
    "collapsed": false
   },
   "outputs": [
    {
     "name": "stdout",
     "output_type": "stream",
     "text": [
      "===========Tranforming labels...\n",
      "showing current values\n",
      "trainDF: ['id', 'product_uid', 'search_term', 'relevance']\n",
      "trainDF:    id  product_uid    search_term  relevance\n",
      "0   2       100001  angle bracket        3.0\n",
      "self.mergedLabelDF: ['relevance'] \n",
      " <class 'pandas.core.frame.DataFrame'> (11, 1)    relevance\n",
      "0        3.0\n",
      "Old unique Labels: [ 2.33  2.5   2.67  3.  ]\n",
      "newLabels: [0 1 2 3]\n",
      "Creating new column for training:  relevance_int\n",
      "===========Transform labels completed\n",
      "train_query_df: ['id', 'product_uid', 'search_term', 'relevance', 'relevance_int', 'product_idx']\n",
      "product_df: ['product_title', 'product_uid', 'product_description']\n",
      "attribute_df: ['product_uid', 'name', 'value']\n",
      "test_query_df: ['id', 'product_uid', 'search_term']\n"
     ]
    }
   ],
   "source": [
    "reader = HomeDepotReader()\n",
    "\n",
    "train_query_df, product_df, attribute_df, test_query_df = reader.getQueryProductAttributeDataFrame(train_filename,\n",
    "                                              test_filename,\n",
    "                                              attribute_filename,\n",
    "                                              description_filename)\n",
    "print(\"train_query_df:\",list(train_query_df))\n",
    "print(\"product_df:\", list(product_df))\n",
    "print(\"attribute_df:\", list(attribute_df))\n",
    "print(\"test_query_df:\", list(test_query_df))"
   ]
  },
  {
   "cell_type": "code",
   "execution_count": 4,
   "metadata": {
    "collapsed": false
   },
   "outputs": [],
   "source": [
    "#transform attribute into doc\n",
    "dp = DataPreprocessing()\n",
    "attribute_doc_df = dp.getAttributeDoc(attribute_df)\n",
    "#attribute_doc_df\n",
    "product_df=product_df.join(attribute_doc_df.set_index('product_uid'), on = 'product_uid')"
   ]
  },
  {
   "cell_type": "code",
   "execution_count": 5,
   "metadata": {
    "collapsed": false
   },
   "outputs": [
    {
     "data": {
      "text/plain": [
       "0    angle bracket Simpson Strong-Tie 12-Gauge Angl...\n",
       "1    l bracket BEHR Premium Textured DeckOver 1-gal...\n",
       "2    deck over Delta Vero 1-Handle Shower Only Fauc...\n",
       "3    rain shower head Whirlpool 1.9 cu. ft. Over th...\n",
       "4    shower only faucet Lithonia Lighting Quantum 2...\n",
       "5    convection otr House of Fara 3/4 in. x 3 in. x...\n",
       "6    microwave over stove Valley View Industries Me...\n",
       "Name: content, dtype: object"
      ]
     },
     "execution_count": 5,
     "metadata": {},
     "output_type": "execute_result"
    }
   ],
   "source": [
    "product_df['content'] = train_query_df['search_term'].map(str) + \" \" + \\\n",
    "                        product_df['product_title'].map(str) + \" \" + \\\n",
    "                        product_df['product_description'].map(str) + \" \" + \\\n",
    "                        product_df['attr_json'].map(str)\n",
    "        \n",
    "# ## no attribute\n",
    "# product_df['content'] = product_df['product_title'].map(str) + \" \" + \\\n",
    "#                         product_df['product_description'].map(str) \n",
    "        \n",
    "product_df['content']"
   ]
  },
  {
   "cell_type": "code",
   "execution_count": 6,
   "metadata": {
    "collapsed": false
   },
   "outputs": [
    {
     "name": "stdout",
     "output_type": "stream",
     "text": [
      "Loading Word2Vec model\n",
      "[['angle', 'bracket', 'Simpson', 'Strong-Tie', '12-Gauge', 'Angle', 'Not', 'only', 'do', 'angles', 'make', 'joints', 'stronger,', 'they', 'also', 'provide', 'more', 'consistent,', 'straight', 'corners'], ['Simpson', 'Strong-Tie', 'offers', 'a', 'wide', 'variety', 'of', 'angles', 'in', 'various', 'sizes', 'and', 'thicknesses', 'to', 'handle', 'light-duty', 'jobs', 'or', 'projects', 'where', 'a', 'structural', 'connection', 'is', 'needed'], ['Some', 'can', 'be', 'bent', '(skewed)', 'to', 'match', 'the', 'project'], ['For', 'outdoor', 'projects', 'or', 'those', 'where', 'moisture', 'is', 'present,', 'use', 'our', 'ZMAX', 'zinc-coated', 'connectors,', 'which', 'provide', 'extra', 'resistance', 'against', 'corrosion', '(look', 'for', 'a', '\"Z\"', 'at', 'the', 'end', 'of', 'the', 'model', 'number)'], ['Versatile', 'connector', 'for', 'various', '90', 'connections', 'and', 'home', 'repair', 'projectsStronger', 'than', 'angled', 'nailing', 'or', 'screw', 'fastening', 'aloneHelp', 'ensure', 'joints', 'are', 'consistently', 'straight', 'and', 'strongDimensions:', '3', 'in'], ['x', '3', 'in'], ['x', '1-1/2', 'in'], ['Made', 'from', '12-Gauge', 'steelGalvanized', 'for', 'extra', 'corrosion', 'resistanceInstall', 'with', '10d', 'common', 'nails', 'or', '#9', 'x', '1-1/2', 'in'], ['Strong-Drive', 'SD', 'screws', \"{'Bullet01':\", \"'Versatile\", 'connector', 'for', 'various', '90°', 'connections', 'and', 'home', 'repair', \"projects',\", \"'Bullet02':\", \"'Stronger\", 'than', 'angled', 'nailing', 'or', 'screw', 'fastening', \"alone',\", \"'Bullet03':\", \"'Help\", 'ensure', 'joints', 'are', 'consistently', 'straight', 'and', \"strong',\", \"'Bullet04':\", \"'Dimensions:\", '3', 'in'], ['x', '3', 'in'], ['x', '1-1/2', 'in'], [\"',\", \"'Bullet05':\", \"'Made\", 'from', '12-Gauge', \"steel',\", \"'Bullet06':\", \"'Galvanized\", 'for', 'extra', 'corrosion', \"resistance',\", \"'Bullet07':\", \"'Install\", 'with', '10d', 'common', 'nails', 'or', '#9', 'x', '1-1/2', 'in'], ['Strong-Drive', 'SD', \"screws',\", \"'Gauge':\", \"'12',\", \"'Material':\", \"'Galvanized\", \"Steel',\", \"'MFG\", 'Brand', \"Name':\", \"'Simpson\", \"Strong-Tie',\", \"'Number\", 'of', \"Pieces':\", \"'1',\", \"'Product\", 'Depth', '(in'], [\")':\", \"'1\"], [\"5',\", \"'Product\", 'Height', '(in'], [\")':\", \"'3',\", \"'Product\", 'Weight', '(lb'], [\")':\", \"'0\"], [\"26',\", \"'Product\", 'Width', '(in'], [\")':\", \"'3'}\"], ['l', 'bracket', 'BEHR', 'Premium', 'Textured', 'DeckOver', '1-gal'], ['#SC-141', 'Tugboat', 'Wood', 'and', 'Concrete', 'Coating', 'BEHR', 'Premium', 'Textured', 'DECKOVER', 'is', 'an', 'innovative', 'solid', 'color', 'coating'], ['It', 'will', 'bring', 'your', 'old,', 'weathered', 'wood', 'or', 'concrete', 'back', 'to', 'life'], ['The', 'advanced', '100%', 'acrylic', 'resin', 'formula', 'creates', 'a', 'durable', 'coating', 'for', 'your', 'tired', 'and', 'worn', 'out', 'deck,', 'rejuvenating', 'to', 'a', 'whole', 'new', 'look'], ['For', 'the', 'best', 'results,', 'be', 'sure', 'to', 'properly', 'prepare', 'the', 'surface', 'using', 'other', 'applicable', 'BEHR', 'products', 'displayed', 'above'], ['California', 'residents:', 'see&nbsp;Proposition', '65', 'informationRevives', 'wood', 'and', 'composite', 'decks,', 'railings,', 'porches', 'and', 'boat', 'docks,', 'also', 'great', 'for', 'concrete', 'pool', 'decks,', 'patios', 'and', 'sidewalks100%', 'acrylic', 'solid', 'color', 'coatingResists', 'cracking', 'and', 'peeling', 'and', 'conceals', 'splinters', 'and', 'cracks', 'up', 'to', '1/4', 'in'], ['Provides', 'a', 'durable,', 'mildew', 'resistant', 'finishCovers', 'up', 'to', '75', 'sq'], ['ft'], ['in', '2', 'coats', 'per', 'gallonCreates', 'a', 'textured,', 'slip-resistant', 'finishFor', 'best', 'results,', 'prepare', 'with', 'the', 'appropriate', 'BEHR', 'product', 'for', 'your', 'wood', 'or', 'concrete', 'surfaceActual', 'paint', 'colors', 'may', 'vary', 'from', 'on-screen', 'and', 'printer', 'representationsColors', 'available', 'to', 'be', 'tinted', 'in', 'most', 'storesOnline', 'Price', 'includes', 'Paint', 'Care', 'fee', 'in', 'the', 'following', 'states:', 'CA,', 'CO,', 'CT,', 'ME,', 'MN,', 'OR,', 'RI,', 'VT', \"{'Application\", \"Method':\", \"'Brush,Roller,Spray',\", \"'Assembled\", 'Depth', '(in'], [\")':\", \"'6\"], ['63', \"in',\", \"'Assembled\", 'Height', '(in'], [\")':\", \"'7\"], ['76', \"in',\", \"'Assembled\", 'Width', '(in'], [\")':\", \"'6\"], ['63', \"in',\", \"'Bullet01':\", \"'Revives\", 'wood', 'and', 'composite', 'decks,', 'railings,', 'porches', 'and', 'boat', 'docks,', 'also', 'great', 'for', 'concrete', 'pool', 'decks,', 'patios', 'and', \"sidewalks',\", \"'Bullet02':\", \"'100%\", 'acrylic', 'solid', 'color', \"coating',\", \"'Bullet03':\", \"'Resists\", 'cracking', 'and', 'peeling', 'and', 'conceals', 'splinters', 'and', 'cracks', 'up', 'to', '1/4', 'in'], [\"',\", \"'Bullet04':\", \"'Provides\", 'a', 'durable,', 'mildew', 'resistant', \"finish',\", \"'Bullet05':\", \"'Covers\", 'up', 'to', '75', 'sq'], ['ft'], ['in', '2', 'coats', 'per', \"gallon',\", \"'Bullet06':\", \"'Creates\", 'a', 'textured,', 'slip-resistant', \"finish',\", \"'Bullet07':\", \"'For\", 'best', 'results,', 'prepare', 'with', 'the', 'appropriate', 'BEHR', 'product', 'for', 'your', 'wood', 'or', 'concrete', \"surface',\", \"'Bullet08':\", \"'Actual\", 'paint', 'colors', 'may', 'vary', 'from', 'on-screen', 'and', 'printer', \"representations',\", \"'Bullet10':\", \"'Colors\", 'available', 'to', 'be', 'tinted', 'in', 'most', \"stores',\", \"'Bullet18':\", \"'Online\", 'Price', 'includes', 'Paint', 'Care', 'fee', 'in', 'the', 'following', 'states:', 'CA,', 'CO,', 'CT,', 'ME,', 'MN,', 'OR,', 'RI,', \"VT',\", \"'Cleanup':\", \"'Soap\", 'and', \"Water',\", \"'Color\", \"Family':\", \"'Browns\", '/', \"Tans',\", \"'Color/Finish':\", \"'Tugboat',\", \"'Concrete\", \"Use':\", \"'Yes',\", \"'Container\", \"Size':\", \"'1\", \"GA-Gallon',\", \"'Coverage\", 'Area', '(sq'], ['ft'], [\")':\", \"'75',\", \"'Deck\", \"Use':\", \"'Yes',\", \"'Interior/Exterior':\", \"'Exterior',\", \"'MFG\", 'Brand', \"Name':\", \"'BEHR\", 'Premium', 'Textured', \"DeckOver',\", \"'Mildew\", \"Resistant':\", \"'Yes',\", \"'Opacity':\", \"'Solid',\", \"'Paint\", 'Product', \"Type':\", \"'Exterior\", \"Paint/Stain',\", \"'Patching\", '&', 'Repair', 'Product', \"Type':\", \"'Restoration\", \"Coating',\", \"'Product\", \"Style':\", \"'Cottage',\", \"'RGB\", \"Value':\", \"'119:100:086',\", \"'Sealer':\", \"'No',\", \"'Time\", 'before', 'recoating', \"(hours)':\", \"'6',\", \"'Tintable':\", \"'No',\", \"'Transparency':\", \"'Solid',\", \"'UV\", \"Resistant':\", \"'Yes',\", \"'Waterproof':\", \"'No'}\"], ['deck', 'over', 'Delta', 'Vero', '1-Handle', 'Shower', 'Only', 'Faucet', 'Trim', 'Kit', 'in', 'Chrome', '(Valve', 'Not', 'Included)', 'Update', 'your', 'bathroom', 'with', 'the', 'Delta', 'Vero', 'Single-Handle', 'Shower', 'Faucet', 'Trim', 'Kit', 'in', 'Chrome'], ['It', 'has', 'a', 'sleek,', 'modern', 'and', 'minimalistic', 'aesthetic'], ['The', 'MultiChoice', 'universal', 'valve', 'keeps', 'the', 'water', 'temperature', 'within', '+/-3', 'degrees', 'Fahrenheit', 'to', 'help', 'prevent', 'scalding'], ['California', 'residents:', 'see&nbsp;Proposition', '65', 'informationIncludes', 'the', 'trim', 'kit', 'only,', 'the', 'rough-in', 'kit', '(R10000-UNBX)', 'is', 'sold', 'separatelyIncludes', 'the', 'handleMaintains', 'a', 'balanced', 'pressure', 'of', 'hot', 'and', 'cold', 'water', 'even', 'when', 'a', 'valve', 'is', 'turned', 'on', 'or', 'off', 'elsewhere', 'in', 'the', 'systemDue', 'to', 'WaterSense', 'regulations', 'in', 'the', 'state', 'of', 'New', 'York,', 'please', 'confirm', 'your', 'shipping', 'zip', 'code', 'is', 'not', 'restricted', 'from', 'use', 'of', 'items', 'that', 'do', 'not', 'meet', 'WaterSense', 'qualifications', \"{'Bath\", 'Faucet', \"Type':\", \"'Combo\", 'Tub', 'and', \"Shower',\", \"'Built-in\", 'Water', \"Filter':\", \"'No',\", \"'Bullet01':\", \"'Includes\", 'the', 'trim', 'kit', 'only,', 'the', 'rough-in', 'kit', '(R10000-UNBX)', 'is', 'sold', \"separately',\", \"'Bullet02':\", \"'Includes\", 'the', \"handle',\", \"'Bullet03':\", \"'Maintains\", 'a', 'balanced', 'pressure', 'of', 'hot', 'and', 'cold', 'water', 'even', 'when', 'a', 'valve', 'is', 'turned', 'on', 'or', 'off', 'elsewhere', 'in', 'the', \"system',\", \"'Bullet04':\", \"'Due\", 'to', 'WaterSense', 'regulations', 'in', 'the', 'state', 'of', 'New', 'York,', 'please', 'confirm', 'your', 'shipping', 'zip', 'code', 'is', 'not', 'restricted', 'from', 'use', 'of', 'items', 'that', 'do', 'not', 'meet', 'WaterSense', \"qualifications',\", \"'Certifications\", 'and', \"Listings':\", \"'ADA\", 'Compliant,CSA', 'Certified,IAPMO', \"Certified',\", \"'Color\", \"Family':\", \"'Chrome',\", \"'Color/Finish':\", \"'Chrome',\", \"'Connection\", 'size', '(in'], [\")':\", \"'1/2\", 'In'], [\"',\", \"'Faucet\", \"Features':\", \"'No\", 'Additional', \"Features',\", \"'Faucet\", 'Included', \"Components':\", \"'Handles,Pressure\", 'Balance/Scald', \"Guard',\", \"'Faucet\", \"type':\", \"'Bath\", \"Faucet',\", \"'Flow\", 'rate', '(gallons', 'per', \"minute)':\", \"'2\"], [\"5',\", \"'Handle\", \"type':\", \"'Lever',\", \"'MFG\", 'Brand', \"Name':\", \"'Delta',\", \"'Number\", 'of', 'Faucet', \"Handles':\", \"'Single\", \"Handle',\", \"'Number\", 'of', \"showerheads':\", \"'1',\", \"'Number\", 'of', 'Spray', \"Settings':\", \"'1',\", \"'Product\", 'Depth', '(in'], [\")':\", \"'15\"], [\"28',\", \"'Product\", 'Height', '(in'], [\")':\", \"'24',\", \"'Product\", 'Width', '(in'], [\")':\", \"'7\"], [\"09',\", \"'Showerhead\", 'face', 'diameter', '(in'], [\")':\", \"'4\"], [\"06',\", \"'Showerhead\", \"type':\", \"'Fixed\", \"Mount',\", \"'Spray\", \"Pattern':\", \"'Rain'}\"], ['rain', 'shower', 'head', 'Whirlpool', '1'], ['9', 'cu'], ['ft'], ['Over', 'the', 'Range', 'Convection', 'Microwave', 'in', 'Stainless', 'Steel', 'with', 'Sensor', 'Cooking', 'Achieving', 'delicious', 'results', 'is', 'almost', 'effortless', 'with', 'this', 'Whirlpool', 'over-the-range', 'microwave', 'hood', 'with', 'convection', 'cooking'], ['With', '1'], ['9', 'cu'], ['ft'], ['capacity,', \"you'll\", 'have', 'room', 'to', 'prepare', 'multiple', 'dishes', 'at', 'once'], ['And,', 'you', \"won't\", 'have', 'to', 'micro-manage', 'the', 'cooking', 'process', 'thanks', 'to', 'the', 'sensor', 'cooking', 'options'], ['Sensor', 'cooking', 'tracks', 'cooking', 'progress', 'and', 'automatically', 'adjusts', 'cooking', 'time'], ['Convection', 'roasting', 'and', 'baking', 'allows', 'you', 'to', 'bake', 'cakes,', 'bread,', 'cookies', 'and', 'roast', 'meats', 'with', 'ease'], ['Clean-up', 'is', 'simple', 'too', 'with', 'the', 'industry', 'leading', 'CleanRelease', 'non-stick', 'interior', 'surface'], ['It', 'easily', 'releases', 'cooked-on', 'food', 'without', 'the', 'use', 'of', 'harsh', 'chemicals'], ['A', 'damp', 'cloth', 'or', 'sponge', 'is', 'all', 'that', 'is', 'needed', 'to', 'remove', 'cooked-on', 'spills', 'and', 'splashes'], ['California', 'residents:', 'see&nbsp;Proposition', '65', 'informationSpacious', '1'], ['9', 'cu'], ['ft'], ['capacity', 'accommodates', 'dinner', 'plates', 'and', 'casserole', 'dishes', 'with', 'ease1100', 'watts', 'of', 'cooking', 'power', 'and', '10', 'cooking', 'levels', 'make', 'cooking', 'and', 'reheating', 'a', 'snap400', 'CFM', 'venting', 'system', 'whisks', 'smoke,', 'steam', 'and', 'odors', 'away', 'from', 'the', 'cooktop', 'to', 'keep', 'your', 'kitchen', 'air', 'clearSingle', 'piece', 'door', 'with', 'built-in', 'touch-activated', 'control', 'console', 'streamlines', 'the', 'exterior', 'for', 'a', 'sleek,', 'modern', 'look', 'and', 'easy', 'cleanupCook', 'with', 'confidence', 'with', 'the', 'Sensor', 'and', 'Programmed', 'cooking', 'cycles', 'and', 'options'], ['Sensor', 'cycles', 'include:', 'Steam/Simmer,', 'AccuPop', 'and', 'Potato', 'for', 'fast', 'prep', 'of', 'family', \"favoritesKids'\", 'Menu:', \"it's\", 'simple,', \"it's\", 'fast'], ['The', \"Kids'\", 'Menu', 'is', 'preset', 'with', 'cooking', 'times', 'and', 'power', 'levels', 'for', 'a', 'variety', 'of', 'favorites', 'like', 'pizza', 'and', 'chicken', 'nuggets'], ['Now', 'after', 'school', 'snacks', \"don't\", 'have', 'to', 'be', 'an', 'afternoon', 'hassleTimeSavor', 'Plus', 'True', 'Convection', 'cooking', 'uses', 'a', '1600-watt', 'element', 'and', 'a', 'fan', 'to', 'circulate', 'heat', 'over,', 'under', 'and', 'around', 'food', 'for', 'fast', 'cooking', 'and', 'even', 'browningIndustry', 'leading', 'CleanRelease', 'non-stick', 'interior', 'requires', 'no', 'special', 'cleaners'], ['A', 'damp', 'cloth', 'or', 'sponge', 'is', 'all', \"that's\", 'needed', 'to', 'remove', 'cooked-on', 'spills', 'and', 'splashesRecessed', \"turntable's\", 'on/off', 'feature', 'is', 'especially', 'helpful', 'when', 'cooking', 'with', 'plates', 'that', 'are', 'larger', 'than', 'the', 'turntableAutomatic', 'interior', 'incandescent', 'light', 'and', 'large', 'window', 'help', 'you', 'track', 'cooking', 'progress4-speed', 'fan', 'with', 'Auto', 'Vent', 'Fan', 'function'], ['To', 'keep', 'the', 'microwave', 'oven', 'from', 'overheating,', 'the', 'vent', 'fan', 'will', 'automatically', 'turn', 'on', 'at', 'high', 'speed', 'if', 'the', 'temperature', 'from', 'the', 'range', 'or', 'cooktop', 'below', 'the', 'microwave', 'oven', 'gets', 'too', 'hotReplaceable', 'charcoal', 'and', 'dishwasher', 'safe', 'mesh', 'filters', 'takes', 'grease', 'and', 'other', 'impurities', 'out', 'of', 'the', 'air90', 'hinge'], ['With', 'this', 'innovative', 'hinge', 'design', 'you', 'can', 'install', 'this', 'model', 'next', 'to', 'a', 'wall', 'and', 'still', 'open', 'the', 'door', 'easilyLimited', '1-year', 'warrantyConvertible', 'venting'], ['Can', 'be', 'installed', 'as', 'vented', 'or', 'non-vented', '(recirculating)', 'to', 'fit', 'a', 'variety', 'of', 'installation', 'needsAccuPop', 'cycle', 'senses', 'the', 'perfect', 'pop', 'every', 'time'], ['It', 'adapts', 'cooking', 'time', 'using', 'a', 'sound', 'sensor', 'that', 'measures', 'the', 'time', 'between', 'pops', 'so', 'you', \"don't\", 'have', 'to', 'worry', 'about', 'bag', 'size', 'or', 'excessive', 'unpopped', 'kernels'], ['Now', 'you', 'can', 'finally', 'watch', 'the', 'movie,', 'not', 'the', 'microwaveIncluded', 'items:', 'convection', 'rack,', 'SureMist', 'steamer', 'and', 'cooking', 'rack'], ['Included', 'cooking', 'rack', 'lets', 'you', 'microwave', 'on', 'two', 'levels,', 'so', 'you', 'can', 'cook', 'several', 'items', 'at', 'onceClick', 'Here', 'for', 'details', 'on', 'the', 'services', 'included', 'with', 'Delivery', '&', 'Basic', 'Hook-up', 'and', 'Installation', 'options', 'for', 'this', 'product', \"{'Appliance\", \"Type':\", \"'Over\", 'the', 'Range', \"Microwave',\", \"'Assembled\", 'Depth', '(in'], [\")':\", \"'18\"], ['5', \"in',\", \"'Assembled\", 'Height', '(in'], [\")':\", \"'17\"], ['13', \"in',\", \"'Assembled\", 'Width', '(in'], [\")':\", \"'29\"], ['94', \"in',\", \"'Bullet01':\", \"'Spacious\", '1'], ['9', 'cu'], ['ft'], ['capacity', 'accommodates', 'dinner', 'plates', 'and', 'casserole', 'dishes', 'with', \"ease',\", \"'Bullet02':\", \"'1100\", 'watts', 'of', 'cooking', 'power', 'and', '10', 'cooking', 'levels', 'make', 'cooking', 'and', 'reheating', 'a', \"snap',\", \"'Bullet03':\", \"'400\", 'CFM', 'venting', 'system', 'whisks', 'smoke,', 'steam', 'and', 'odors', 'away', 'from', 'the', 'cooktop', 'to', 'keep', 'your', 'kitchen', 'air', \"clear',\", \"'Bullet04':\", \"'Single\", 'piece', 'door', 'with', 'built-in', 'touch-activated', 'control', 'console', 'streamlines', 'the', 'exterior', 'for', 'a', 'sleek,', 'modern', 'look', 'and', 'easy', \"cleanup',\", \"'Bullet05':\", \"'Cook\", 'with', 'confidence', 'with', 'the', 'Sensor', 'and', 'Programmed', 'cooking', 'cycles', 'and', 'options'], ['Sensor', 'cycles', 'include:', 'Steam/Simmer,', 'AccuPop', 'and', 'Potato', 'for', 'fast', 'prep', 'of', 'family', \"favorites',\", \"'Bullet06':\", '\"Kids\\'', 'Menu:', \"it's\", 'simple,', \"it's\", 'fast'], ['The', \"Kids'\", 'Menu', 'is', 'preset', 'with', 'cooking', 'times', 'and', 'power', 'levels', 'for', 'a', 'variety', 'of', 'favorites', 'like', 'pizza', 'and', 'chicken', 'nuggets'], ['Now', 'after', 'school', 'snacks', \"don't\", 'have', 'to', 'be', 'an', 'afternoon', 'hassle\",', \"'Bullet07':\", \"'TimeSavor\", 'Plus', 'True', 'Convection', 'cooking', 'uses', 'a', '1600-watt', 'element', 'and', 'a', 'fan', 'to', 'circulate', 'heat', 'over,', 'under', 'and', 'around', 'food', 'for', 'fast', 'cooking', 'and', 'even', \"browning',\", \"'Bullet08':\", \"'Industry\", 'leading', 'CleanRelease', 'non-stick', 'interior', 'requires', 'no', 'special', 'cleaners'], ['A', 'damp', 'cloth', 'or', 'sponge', 'is', 'all', 'that’s', 'needed', 'to', 'remove', 'cooked-on', 'spills', 'and', \"splashes',\", \"'Bullet09':\", '\"Recessed', \"turntable's\", 'on/off', 'feature', 'is', 'especially', 'helpful', 'when', 'cooking', 'with', 'plates', 'that', 'are', 'larger', 'than', 'the', 'turntable\",', \"'Bullet10':\", \"'Automatic\", 'interior', 'incandescent', 'light', 'and', 'large', 'window', 'help', 'you', 'track', 'cooking', \"progress',\", \"'Bullet11':\", \"'4-speed\", 'fan', 'with', 'Auto', 'Vent', 'Fan', 'function'], ['To', 'keep', 'the', 'microwave', 'oven', 'from', 'overheating,', 'the', 'vent', 'fan', 'will', 'automatically', 'turn', 'on', 'at', 'high', 'speed', 'if', 'the', 'temperature', 'from', 'the', 'range', 'or', 'cooktop', 'below', 'the', 'microwave', 'oven', 'gets', 'too', \"hot',\", \"'Bullet12':\", \"'Replaceable\", 'charcoal', 'and', 'dishwasher', 'safe', 'mesh', 'filters', 'takes', 'grease', 'and', 'other', 'impurities', 'out', 'of', 'the', \"air',\", \"'Bullet13':\", \"'90°\", 'hinge'], ['With', 'this', 'innovative', 'hinge', 'design', 'you', 'can', 'install', 'this', 'model', 'next', 'to', 'a', 'wall', 'and', 'still', 'open', 'the', 'door', \"easily',\", \"'Bullet14':\", \"'Limited\", '1-year', \"warranty',\", \"'Bullet15':\", \"'Convertible\", 'venting'], ['Can', 'be', 'installed', 'as', 'vented', 'or', 'non-vented', '(recirculating)', 'to', 'fit', 'a', 'variety', 'of', 'installation', \"needs',\", \"'Bullet16':\", '\"AccuPop', 'cycle', 'senses', 'the', 'perfect', 'pop', 'every', 'time'], ['It', 'adapts', 'cooking', 'time', 'using', 'a', 'sound', 'sensor', 'that', 'measures', 'the', 'time', 'between', 'pops', 'so', 'you', \"don't\", 'have', 'to', 'worry', 'about', 'bag', 'size', 'or', 'excessive', 'unpopped', 'kernels'], ['Now', 'you', 'can', 'finally', 'watch', 'the', 'movie,', 'not', 'the', 'microwave\",', \"'Bullet17':\", \"'Included\", 'items:', 'convection', 'rack,', 'SureMist', 'steamer', 'and', 'cooking', 'rack'], ['Included', 'cooking', 'rack', 'lets', 'you', 'microwave', 'on', 'two', 'levels,', 'so', 'you', 'can', 'cook', 'several', 'items', 'at', \"once',\", \"'Capacity\", 'of', 'Microwave', '(cu'], ['ft'], [\")':\", \"'1\"], [\"9',\", \"'Certifications\", 'and', \"Listings':\", \"'1-UL\", \"Listed',\", \"'Color/Finish':\", \"'Stainless\", \"Steel',\", \"'Color/Finish\", \"Family':\", \"'Stainless',\", \"'Cut-Out\", 'Front', 'to', 'Back', 'Width', '(in'], [\")':\", \"'12',\", \"'Cut-Out\", 'Height', '(in'], [\")':\", \"'17\"], [\"13',\", \"'Cut-Out\", 'Left', 'to', 'Right', 'Length', '(in'], [\")':\", \"'30',\", \"'Door\", \"Swing/Style':\", \"'Right\", 'to', 'Left', \"Swing',\", \"'Exhaust\", 'Fan', \"Speeds':\", \"'4',\", \"'Exhaust\", 'Maximum', \"CFM':\", \"'400',\", \"'MFG\", 'Brand', \"Name':\", \"'Whirlpool',\", \"'Microwave\", 'Door', \"Release':\", \"'Pull',\", \"'Microwave\", \"Features':\", \"'Charcoal\", 'Filter,Clock,Convection,Cooktop', 'Lighting,Interior', 'Light,Microwave', 'Rack,Nightlight,One', 'Touch', 'Cooking,Removable', 'Filter,Steam', 'Cook,Timer,Turntable,Turntable', 'On/Off', \"Option',\", \"'Microwave\", \"Size':\", \"'30\", 'in'], [\"',\", \"'Number\", 'of', 'One-Touch', \"Settings':\", \"'6',\", \"'Number\", 'of', 'Power', \"Levels':\", \"'10',\", \"'Oven\", \"Settings':\", \"'Defrost,Keep\", 'Warm,Sensor', \"Cook',\", \"'Product\", 'Depth', '(in'], [\")':\", \"'18\"], [\"5',\", \"'Product\", 'Height', '(in'], [\")':\", \"'17\"], [\"13',\", \"'Product\", 'Weight', '(lb'], [\")':\", \"'67\"], [\"1',\", \"'Product\", 'Width', '(in'], [\")':\", \"'29\"], [\"94',\", \"'Safety\", \"Listing':\", \"'UL',\", \"'Sensor\", \"Cook':\", \"'Yes',\", \"'Turntable':\", \"'Yes',\", \"'Turntable\", \"Diameter':\", \"'14',\", \"'Vent\", \"Type':\", \"'Convertible',\", \"'Wattage\", \"(watts)':\", \"'1100'}\"], ['shower', 'only', 'faucet', 'Lithonia', 'Lighting', 'Quantum', '2-Light', 'Black', 'LED', 'Emergency', 'Fixture', 'Unit', 'The', 'Quantum', 'Adjustable', '2-Light', 'LED', 'Black', 'Emergency', 'Lighting', 'Unit', 'from', 'Lithonia', 'Lighting', 'provides', 'a', 'minimum', 'of', '90', 'minutes', 'of', 'illumination', 'upon', 'loss', 'of', 'power'], ['Adjust', 'the', 'direction', 'of', 'light', 'using', 'the', 'unique', 'track-and-swivel', 'design', 'of', 'the', '2', 'heads'], ['This', 'unit', 'is', 'ideal', 'for', 'applications', 'requiring', 'attractive', 'equipment', 'with', 'quick', 'installation'], ['Advanced', 'LED', 'technology', 'is', 'dependable', 'and', 'energy', 'efficient2', 'adjustable', 'heads', 'allow', 'you', 'to', 'direct', 'light', 'where', 'it', 'is', 'neededEngineering-grade', 'thermoplastic', 'housing', 'is', 'impact-resistant,', 'scratch-resistant', 'and', 'corrosion-proofIntegrated', 'LEDs', 'means', 'no', 'bulbs', 'are', 'requiredTypical', 'life', 'of', 'the', 'LEDs', 'is', '10', 'years', 'of', 'maintenance-free', 'operationBlack', 'housing', 'has', 'a', 'compact', 'low-profile', 'designSealed,', 'maintenance-free', 'Ni-cad', 'battery', 'delivers', '90', 'minute', 'capacity', 'to', 'the', 'LEDsDual', 'voltage', 'input', 'capability', '(120', 'to', '277-volt)Easily', 'installs', 'to', 'wall', 'or', 'ceilingUL', 'damp-location', 'listed', \"{'Battery\", 'Power', \"Type':\", \"'Ni-Cad',\", \"'Battery\", \"Size':\", \"'\"], [\"Built-In',\", \"'Bulb\", 'Type', \"Included':\", \"'LED',\", \"'Bullet01':\", \"'Advanced\", 'LED', 'technology', 'is', 'dependable', 'and', 'energy', \"efficient',\", \"'Bullet02':\", \"'2\", 'adjustable', 'heads', 'allow', 'you', 'to', 'direct', 'light', 'where', 'it', 'is', \"needed',\", \"'Bullet03':\", \"'Engineering-grade\", 'thermoplastic', 'housing', 'is', 'impact-resistant,', 'scratch-resistant', 'and', \"corrosion-proof',\", \"'Bullet04':\", \"'Integrated\", 'LEDs', 'means', 'no', 'bulbs', 'are', \"required',\", \"'Bullet05':\", \"'Typical\", 'life', 'of', 'the', 'LEDs', 'is', '10', 'years', 'of', 'maintenance-free', \"operation',\", \"'Bullet06':\", \"'Black\", 'housing', 'has', 'a', 'compact', 'low-profile', \"design',\", \"'Bullet07':\", \"'Sealed,\", 'maintenance-free', 'Ni-cad', 'battery', 'delivers', '90', 'minute', 'capacity', 'to', 'the', \"LEDs',\", \"'Bullet08':\", \"'Dual\", 'voltage', 'input', 'capability', '(120', 'to', \"277-volt)',\", \"'Bullet09':\", \"'Easily\", 'installs', 'to', 'wall', 'or', \"ceiling',\", \"'Bullet10':\", \"'UL\", 'damp-location', \"listed',\", \"'Certifications\", 'and', \"Listings':\", \"'1-UL\", 'Listed,OSHA', \"Compliant',\", \"'Commercial\", 'Light', \"Type':\", \"'Exit\", 'and', \"Emergency',\", \"'Connection\", \"Type':\", \"'Hardwired',\", \"'Emergency\", 'run', 'time', '(min'], [\")':\", \"'90',\", \"'ENERGY\", 'STAR', \"Certified':\", \"'No',\", \"'Fixture\", \"Color/Finish':\", \"'Black',\", \"'Fixture\", 'Color/Finish', \"Family':\", \"'Black',\", \"'Lamp\", \"heads':\", \"'Yes',\", \"'Light\", \"Source':\", \"'LED',\", \"'Material':\", \"'Plastic',\", \"'Maximum\", 'Wattage', \"(watts)':\", \"'0',\", \"'MFG\", 'Brand', \"Name':\", \"'Lithonia\", \"Lighting',\", \"'Number\", 'of', 'Bulbs', \"Required':\", \"'0',\", \"'Product\", 'Depth', '(in'], [\")':\", \"'2\"], [\"75',\", \"'Product\", 'Height', '(in'], [\")':\", \"'4\"], [\"25',\", \"'Product\", 'Weight', '(lb'], [\")':\", \"'1\"], [\"5',\", \"'Product\", 'Width', '(in'], [\")':\", \"'10\"], [\"25'}\"], ['convection', 'otr', 'House', 'of', 'Fara', '3/4', 'in'], ['x', '3', 'in'], ['x', '8', 'ft'], ['MDF', 'Fluted', 'Casing', 'Get', 'the', 'House', 'of', 'Fara', '3/4', 'in'], ['x', '3', 'in'], ['x', '8', 'ft'], ['MDF', 'Fluted', 'Casing', 'to', 'add', 'an', 'elegant', 'look', 'to', 'a', 'room'], ['Its', 'pre-primed', 'surface', 'is', 'free', 'of', 'knots,', 'ready', 'to', 'be', 'painted', 'to', 'match', 'your', 'decor'], ['It', 'cuts', 'and', 'installs', 'easily', 'for', 'a', 'quality', 'look', 'when', 'finished'], ['Its', 'unique', 'detail', 'will', 'add', 'an', 'architectural', 'touch', 'to', 'any', 'room', 'or', 'project'], ['California', 'residents:', 'see&nbsp;Proposition', '65', 'informationMade', 'of', 'primed', 'MDFCan', 'be', 'painted', 'to', 'match', 'your', 'decorResistant', 'to', 'moistureFor', 'interior', 'use96', 'in'], ['Length', \"{'Application':\", \"'Door\", '&', \"Window',\", \"'Bullet01':\", \"'Made\", 'of', 'primed', \"MDF',\", \"'Bullet02':\", \"'Can\", 'be', 'painted', 'to', 'match', 'your', \"decor',\", \"'Bullet03':\", \"'Resistant\", 'to', \"moisture',\", \"'Bullet04':\", \"'For\", 'interior', \"use',\", \"'Bullet05':\", \"'96\", 'in'], [\"Length',\", \"'Color\", \"Family':\", \"'White',\", \"'Flexible':\", \"'No',\", \"'Interior/Exterior':\", \"'Interior',\", \"'Kits':\", \"'No',\", \"'Material':\", \"'Medium\", 'Density', 'Fiberboard', \"(MDF)',\", \"'MFG\", 'Brand', \"Name':\", \"'House\", 'of', \"Fara',\", \"'Moisture\", \"Resistant':\", \"'Yes',\", \"'Moulding\", \"Features':\", \"'Moisture\", \"Resistant',\", \"'Moulding\", \"Type':\", \"'Casing',\", \"'Paintable/Stainable':\", \"'Yes',\", \"'Pattern\", \"Number':\", \"'8583',\", \"'Prefinished':\", \"'No',\", \"'Pro\", \"Pack':\", \"'No',\", \"'Product\", 'Depth', '(in'], [\")':\", \"'0\"], [\"75',\", \"'Product\", 'Height', '(in'], [\")':\", \"'96',\", \"'Product\", 'Length', '(in'], [\")':\", \"'96',\", \"'Product\", 'Width', '(in'], [\")':\", \"'3',\", \"'Rot\", \"Resistant':\", \"'No',\", \"'Sell\", 'Pack', \"Options':\", \"'Single\", \"Item',\", \"'Termite\", \"Resistant':\", \"'No',\", \"'Wood\", \"Veneer':\", \"'No'}\"], ['microwave', 'over', 'stove', 'Valley', 'View', 'Industries', 'Metal', 'Stakes', '(4-Pack)', 'Valley', 'View', 'Industries', 'Metal', 'Stakes', '(4-Pack)', 'are', '9', 'in'], ['galvanized', 'steel', 'stakes', 'for', 'use', 'with', 'all', 'Valley', 'View', 'lawn', 'edgings', 'and', 'brick', 'and', 'paver', 'edgings'], ['These', 'utility', 'stakes', 'can', 'also', 'be', 'used', 'for', 'many', 'other', 'purposes'], ['It', 'is', 'recommended', 'that', 'anchor', 'stakes', 'are', 'used', 'every', 'five', 'feet', 'on', 'designs', 'that', 'have', 'the', 'edging', 'in', 'straight', 'lengths'], ['Where', 'there', 'are', 'curved', 'designs', 'for', 'edgings,', 'additional', 'anchor', 'stakes', 'are', 'recommended', 'at', 'the', 'curve', 'points'], ['Anchor', 'stakes', 'should', 'be', 'staked', 'in', 'at', 'a', '45', 'degree', 'angle'], ['Gloves', 'and', 'eye', 'protection', 'are', 'recommended'], ['Can', 'be', 'used', 'with', 'all', 'valley', 'View', 'lawn', 'edgings', 'and', 'brick/', 'paver', 'edgingsUtility', 'stakes', 'can', 'be', 'used', 'for', 'many', 'purposesGalvanized', 'steel', 'for', 'strength9', 'in'], ['lengthPriced', 'competitively', 'yet', 'provides', 'much', 'more', 'value', 'in', 'product', 'nan']]\n",
      "Initialise/Train Word2Vec model\n",
      "('Time taken: ', 0, ' secs')\n",
      "Saving vectors to disk\n",
      "('Time taken: ', 0, ' secs')\n"
     ]
    }
   ],
   "source": [
    "\n",
    "w2v=Feature_Word2Vec(modelFilename=word2vec_model_path)\n",
    "sentences=w2v.convertDFIntoSentences(product_df,'content')\n",
    "print(sentences)\n",
    "w2v.trainModel(sentences)"
   ]
  },
  {
   "cell_type": "code",
   "execution_count": 7,
   "metadata": {
    "collapsed": false
   },
   "outputs": [
    {
     "data": {
      "text/plain": [
       "{\"'Assembled\": <gensim.models.keyedvectors.Vocab at 0x7f5b79454b38>,\n",
       " \"'Bullet01':\": <gensim.models.keyedvectors.Vocab at 0x7f5b79454ba8>,\n",
       " \"'Bullet02':\": <gensim.models.keyedvectors.Vocab at 0x7f5b79454630>,\n",
       " \"'Bullet03':\": <gensim.models.keyedvectors.Vocab at 0x7f5b79454668>,\n",
       " \"'Bullet04':\": <gensim.models.keyedvectors.Vocab at 0x7f5b794546a0>,\n",
       " \"'Bullet05':\": <gensim.models.keyedvectors.Vocab at 0x7f5b794546d8>,\n",
       " \"'MFG\": <gensim.models.keyedvectors.Vocab at 0x7f5b79454710>,\n",
       " \"'No',\": <gensim.models.keyedvectors.Vocab at 0x7f5b79454cc0>,\n",
       " \"'Number\": <gensim.models.keyedvectors.Vocab at 0x7f5b794547b8>,\n",
       " \"'Product\": <gensim.models.keyedvectors.Vocab at 0x7f5b794547f0>,\n",
       " \"'Yes',\": <gensim.models.keyedvectors.Vocab at 0x7f5b79454c18>,\n",
       " '(in': <gensim.models.keyedvectors.Vocab at 0x7f5b79454860>,\n",
       " \")':\": <gensim.models.keyedvectors.Vocab at 0x7f5b79454898>,\n",
       " '3': <gensim.models.keyedvectors.Vocab at 0x7f5b79454550>,\n",
       " '9': <gensim.models.keyedvectors.Vocab at 0x7f5b79454dd8>,\n",
       " 'BEHR': <gensim.models.keyedvectors.Vocab at 0x7f5b79454940>,\n",
       " 'Brand': <gensim.models.keyedvectors.Vocab at 0x7f5b79454748>,\n",
       " 'Depth': <gensim.models.keyedvectors.Vocab at 0x7f5b79454828>,\n",
       " \"Family':\": <gensim.models.keyedvectors.Vocab at 0x7f5b79454be0>,\n",
       " 'Height': <gensim.models.keyedvectors.Vocab at 0x7f5b794548d0>,\n",
       " 'It': <gensim.models.keyedvectors.Vocab at 0x7f5b794549b0>,\n",
       " \"Name':\": <gensim.models.keyedvectors.Vocab at 0x7f5b79454780>,\n",
       " \"Resistant':\": <gensim.models.keyedvectors.Vocab at 0x7f5b79454c50>,\n",
       " 'Sensor': <gensim.models.keyedvectors.Vocab at 0x7f5b79454e10>,\n",
       " 'The': <gensim.models.keyedvectors.Vocab at 0x7f5b79454a90>,\n",
       " \"Type':\": <gensim.models.keyedvectors.Vocab at 0x7f5b79454c88>,\n",
       " 'Width': <gensim.models.keyedvectors.Vocab at 0x7f5b79454908>,\n",
       " 'a': <gensim.models.keyedvectors.Vocab at 0x7f5b7944cb38>,\n",
       " 'all': <gensim.models.keyedvectors.Vocab at 0x7f5b79454fd0>,\n",
       " 'an': <gensim.models.keyedvectors.Vocab at 0x7f5b79454978>,\n",
       " 'and': <gensim.models.keyedvectors.Vocab at 0x7f5b794542e8>,\n",
       " 'are': <gensim.models.keyedvectors.Vocab at 0x7f5b79454518>,\n",
       " 'at': <gensim.models.keyedvectors.Vocab at 0x7f5b794544e0>,\n",
       " 'be': <gensim.models.keyedvectors.Vocab at 0x7f5b79454400>,\n",
       " 'can': <gensim.models.keyedvectors.Vocab at 0x7f5b794543c8>,\n",
       " 'concrete': <gensim.models.keyedvectors.Vocab at 0x7f5b79454a58>,\n",
       " 'cooking': <gensim.models.keyedvectors.Vocab at 0x7f5b79454eb8>,\n",
       " 'fan': <gensim.models.keyedvectors.Vocab at 0x7f5b794570b8>,\n",
       " 'fast': <gensim.models.keyedvectors.Vocab at 0x7f5b79457080>,\n",
       " 'for': <gensim.models.keyedvectors.Vocab at 0x7f5b794544a8>,\n",
       " 'from': <gensim.models.keyedvectors.Vocab at 0x7f5b794545c0>,\n",
       " 'ft': <gensim.models.keyedvectors.Vocab at 0x7f5b79454b00>,\n",
       " 'have': <gensim.models.keyedvectors.Vocab at 0x7f5b79454ef0>,\n",
       " 'in': <gensim.models.keyedvectors.Vocab at 0x7f5b794542b0>,\n",
       " \"in',\": <gensim.models.keyedvectors.Vocab at 0x7f5b79454b70>,\n",
       " 'interior': <gensim.models.keyedvectors.Vocab at 0x7f5b79454f98>,\n",
       " 'is': <gensim.models.keyedvectors.Vocab at 0x7f5b79454390>,\n",
       " 'light': <gensim.models.keyedvectors.Vocab at 0x7f5b794570f0>,\n",
       " 'look': <gensim.models.keyedvectors.Vocab at 0x7f5b79454ac8>,\n",
       " 'microwave': <gensim.models.keyedvectors.Vocab at 0x7f5b79454e80>,\n",
       " 'not': <gensim.models.keyedvectors.Vocab at 0x7f5b79454d68>,\n",
       " 'of': <gensim.models.keyedvectors.Vocab at 0x7f5b79454278>,\n",
       " 'on': <gensim.models.keyedvectors.Vocab at 0x7f5b79454d30>,\n",
       " 'or': <gensim.models.keyedvectors.Vocab at 0x7f5b79454358>,\n",
       " 'power': <gensim.models.keyedvectors.Vocab at 0x7f5b79457048>,\n",
       " 'stakes': <gensim.models.keyedvectors.Vocab at 0x7f5b79457128>,\n",
       " 'that': <gensim.models.keyedvectors.Vocab at 0x7f5b79454da0>,\n",
       " 'the': <gensim.models.keyedvectors.Vocab at 0x7f5b79454438>,\n",
       " 'this': <gensim.models.keyedvectors.Vocab at 0x7f5b79454e48>,\n",
       " 'time': <gensim.models.keyedvectors.Vocab at 0x7f5b79454f60>,\n",
       " 'to': <gensim.models.keyedvectors.Vocab at 0x7f5b79454320>,\n",
       " 'use': <gensim.models.keyedvectors.Vocab at 0x7f5b79454470>,\n",
       " 'variety': <gensim.models.keyedvectors.Vocab at 0x7f5b79454240>,\n",
       " 'when': <gensim.models.keyedvectors.Vocab at 0x7f5b79454cf8>,\n",
       " 'with': <gensim.models.keyedvectors.Vocab at 0x7f5b794545f8>,\n",
       " 'wood': <gensim.models.keyedvectors.Vocab at 0x7f5b79454a20>,\n",
       " 'x': <gensim.models.keyedvectors.Vocab at 0x7f5b79454588>,\n",
       " 'you': <gensim.models.keyedvectors.Vocab at 0x7f5b79454f28>,\n",
       " 'your': <gensim.models.keyedvectors.Vocab at 0x7f5b794549e8>}"
      ]
     },
     "execution_count": 7,
     "metadata": {},
     "output_type": "execute_result"
    }
   ],
   "source": [
    "w2v.model.wv.vocab"
   ]
  },
  {
   "cell_type": "code",
   "execution_count": 8,
   "metadata": {
    "collapsed": false
   },
   "outputs": [
    {
     "name": "stdout",
     "output_type": "stream",
     "text": [
      "Expanding query: \n",
      "Loading Word2Vec model\n",
      " cooking\n"
     ]
    }
   ],
   "source": [
    "w2vExpand=Word2VecQueryExpansion(modelFilename=word2vec_model_path)\n",
    "query=\"cooking\"\n",
    "print(\"Expanding query: \")\n",
    "print(w2vExpand.getExpandedQuery(query,maxNoOfAdditionalWords=2,minSimilarityLevel=0.65,))"
   ]
  },
  {
   "cell_type": "code",
   "execution_count": 9,
   "metadata": {
    "collapsed": false
   },
   "outputs": [
    {
     "name": "stdout",
     "output_type": "stream",
     "text": [
      "[  5.41748479e-03   2.85501708e-03  -2.32536742e-03   3.81654385e-03\n",
      "  -5.53219579e-03   4.81992261e-03  -1.71320245e-03  -4.32056870e-04\n",
      "   5.07620350e-03   2.30746693e-03  -3.32578900e-03  -5.37868077e-03\n",
      "  -4.37597558e-03  -3.07537848e-03   5.89979289e-04   5.18816058e-03\n",
      "   1.27569947e-03  -4.78184735e-03   1.07518479e-03  -3.17750615e-03\n",
      "   3.96114076e-03   5.20368107e-03   4.35851980e-03  -5.95842139e-05\n",
      "   9.96039133e-04  -9.07552079e-04  -2.17679935e-03   4.56288131e-03\n",
      "  -5.00325160e-03  -1.98955205e-03   1.28543680e-03   2.35484052e-03\n",
      "   4.29834286e-03  -2.53780192e-04  -2.26583797e-03  -1.39929564e-03\n",
      "  -3.99282231e-04   1.23241718e-03   2.32636376e-04  -7.93315587e-04\n",
      "   3.55244172e-03   1.62934652e-03   1.88487791e-03   4.02611418e-04\n",
      "  -6.59624988e-04  -4.34085540e-03   1.72889128e-03   3.54781095e-03\n",
      "   7.43209559e-04  -2.58179102e-03   2.15714425e-03  -4.63416893e-03\n",
      "  -2.86066136e-03  -1.75713294e-03   1.03036780e-03  -2.07389891e-03\n",
      "  -1.19056075e-03   1.38393091e-03  -1.67003460e-03  -3.96589516e-03\n",
      "  -1.45826733e-03   4.96881967e-03  -5.67920785e-03   1.56943177e-04\n",
      "   1.42896210e-03   2.30610487e-03  -4.65610763e-03  -2.37037358e-03\n",
      "  -4.70216526e-03  -4.17059986e-03   1.47872767e-03  -1.59925874e-03\n",
      "  -5.10650221e-03   7.83276104e-04   3.31169949e-03   1.74027937e-03\n",
      "   2.42338004e-03  -4.06579440e-03   3.01716872e-03  -1.16076972e-03\n",
      "   2.28046812e-03   2.30123173e-03   2.56038574e-03  -3.17049492e-03\n",
      "   1.50305755e-03   1.81993784e-03   1.91572739e-03   8.24548653e-04\n",
      "  -2.19084555e-03  -4.48546867e-04  -9.01076564e-05  -2.02391366e-03\n",
      "   1.78307795e-03  -4.20066761e-03   4.31158813e-03  -1.11365334e-04\n",
      "  -2.67707364e-04   1.37610070e-03   7.41691969e-04   3.91458208e-03]\n",
      "[('interior', 0.31781676411628723), ('(in', 0.3036072254180908), ('in', 0.2869771718978882), ('on', 0.26583021879196167), ('light', 0.2602822184562683)]\n",
      "100\n"
     ]
    }
   ],
   "source": [
    "print(w2v.getVectorFromWord('wood'))\n",
    "print(w2v.getSimilarWordVectors('wood',5))\n",
    "print(len(w2v.getVectorFromWord('wood')))"
   ]
  },
  {
   "cell_type": "markdown",
   "metadata": {},
   "source": [
    "# embeddings to keras\n",
    "http://ben.bolte.cc/resources/embeddings/embeddings.html"
   ]
  },
  {
   "cell_type": "code",
   "execution_count": 10,
   "metadata": {
    "collapsed": true
   },
   "outputs": [],
   "source": [
    "vocab = dict([(k, v.index) for k, v in w2v.model.wv.vocab.items()])\n",
    "with open(vocab_path, 'w') as f:\n",
    "    f.write(json.dumps(vocab))"
   ]
  },
  {
   "cell_type": "code",
   "execution_count": 11,
   "metadata": {
    "collapsed": true
   },
   "outputs": [],
   "source": [
    "weights = w2v.model.wv.syn0\n",
    "np.save(open(embeddings_path, 'wb'), weights)"
   ]
  },
  {
   "cell_type": "code",
   "execution_count": 12,
   "metadata": {
    "collapsed": true
   },
   "outputs": [],
   "source": [
    "def load_vocab(vocab_path):\n",
    "    \"\"\"\n",
    "    Load word -> index and index -> word mappings\n",
    "    :param vocab_path: where the word-index map is saved\n",
    "    :return: word2idx, idx2word\n",
    "    \"\"\"\n",
    "\n",
    "    with open(vocab_path, 'r') as f:\n",
    "        data = json.loads(f.read())\n",
    "    word2idx = data\n",
    "    idx2word = dict([(v, k) for k, v in data.items()])\n",
    "    return word2idx, idx2word"
   ]
  },
  {
   "cell_type": "code",
   "execution_count": 13,
   "metadata": {
    "collapsed": false
   },
   "outputs": [],
   "source": [
    "word2idx, idx2word = load_vocab(vocab_path)"
   ]
  },
  {
   "cell_type": "code",
   "execution_count": 14,
   "metadata": {
    "collapsed": true
   },
   "outputs": [],
   "source": [
    "def word2vec_embedding_layer(embeddings_path):\n",
    "    \"\"\"\n",
    "    Generate an embedding layer word2vec embeddings\n",
    "    :param embeddings_path: where the embeddings are saved (as a numpy file)\n",
    "    :return: the generated embedding layer\n",
    "    \"\"\"\n",
    "\n",
    "    weights = np.load(open(embeddings_path, 'rb'))\n",
    "    layer = Embedding(input_dim=weights.shape[0], output_dim=weights.shape[1], weights=[weights])\n",
    "    return layer"
   ]
  },
  {
   "cell_type": "code",
   "execution_count": 15,
   "metadata": {
    "collapsed": false
   },
   "outputs": [],
   "source": [
    "print_tokens=True"
   ]
  },
  {
   "cell_type": "code",
   "execution_count": 16,
   "metadata": {
    "collapsed": false
   },
   "outputs": [
    {
     "name": "stdout",
     "output_type": "stream",
     "text": [
      "Tokens: a, variety, of, in, and, to, or, is, can, be, the, use, for, at, are, 3, x, from, with, 'Bullet02':, 'Bullet03':, 'Bullet04':, 'Bullet05':, 'MFG, Brand, Name':, 'Number, 'Product, Depth, (in, )':, Height, Width, BEHR, an, It, your, wood, concrete, The, look, ft, 'Assembled, in',, 'Bullet01':, Family':, 'Yes',, Resistant':, Type':, 'No',, when, on, not, that, 9, Sensor, this, microwave, cooking, have, you, time, interior, all, power, fast, fan, light, stakes\n"
     ]
    }
   ],
   "source": [
    "# variable arguments are passed to gensim's word2vec model\n",
    "# if options.train:\n",
    "#     print('Training Word2Vec...')\n",
    "#     create_embeddings(options.data, options.embeddings, options.vocab, size=100, min_count=5, window=5, sg=1, iter=25)\n",
    "\n",
    "word2idx, idx2word = load_vocab(vocab_path)\n",
    "\n",
    "if print_tokens:\n",
    "    print('Tokens:', ', '.join(word2idx.keys()))\n",
    "\n"
   ]
  },
  {
   "cell_type": "markdown",
   "metadata": {},
   "source": [
    "# convert to idx"
   ]
  },
  {
   "cell_type": "code",
   "execution_count": 95,
   "metadata": {
    "collapsed": false
   },
   "outputs": [],
   "source": [
    "def query_sent2idx(df,col):\n",
    "    query_word2vec_idx_list=[]\n",
    "    queries=w2v.convertDFIntoSentences(df,col)\n",
    "    print(len(queries))\n",
    "    for query in queries:\n",
    "        idx_list = []\n",
    "        for word in query:\n",
    "            if word not in word2idx.keys():\n",
    "                idx_list+=[0]#[len(word2idx.keys())] # use last as special key #TODO: well we need to fix this. Using 0 for now so it's in range To OOV or something random\n",
    "            else:\n",
    "                idx_list+=[word2idx[word]]\n",
    "        query_word2vec_idx_list+=[idx_list]\n",
    "        print(\"=====\")\n",
    "        print(idx_list)\n",
    "        print(\"=====\")\n",
    "    return query_word2vec_idx_list\n"
   ]
  },
  {
   "cell_type": "code",
   "execution_count": 96,
   "metadata": {
    "collapsed": false
   },
   "outputs": [
    {
     "name": "stdout",
     "output_type": "stream",
     "text": [
      "11\n",
      "=====\n",
      "[0, 0]\n",
      "=====\n",
      "=====\n",
      "[0, 0]\n",
      "=====\n",
      "=====\n",
      "[0, 0]\n",
      "=====\n",
      "=====\n",
      "[0, 0, 0]\n",
      "=====\n",
      "=====\n",
      "[0, 0, 0]\n",
      "=====\n",
      "=====\n",
      "[0, 0]\n",
      "=====\n",
      "=====\n",
      "[30, 0, 0]\n",
      "=====\n",
      "=====\n",
      "[0]\n",
      "=====\n",
      "=====\n",
      "[0, 68]\n",
      "=====\n",
      "=====\n",
      "[0, 0]\n",
      "=====\n",
      "=====\n",
      "[0, 0]\n",
      "=====\n",
      "[[0, 0], [0, 0], [0, 0], [0, 0, 0], [0, 0, 0], [0, 0], [30, 0, 0], [0], [0, 68], [0, 0], [0, 0]]\n"
     ]
    }
   ],
   "source": [
    "query_word2vec_idx_list = query_sent2idx(train_query_df,'search_term')\n",
    "print(query_word2vec_idx_list)"
   ]
  },
  {
   "cell_type": "code",
   "execution_count": 97,
   "metadata": {
    "collapsed": false
   },
   "outputs": [],
   "source": [
    "# def doc_sent2idx(df,col):\n",
    "#     doc_word2vec_idx_list=[]\n",
    "#     for row in df.iteritems():\n",
    "#         a=w2v.convertDFIntoSentences(row,col)\n",
    "#         print(a)\n",
    "# #    print(len(queries))\n",
    "# #     for query in queries:\n",
    "# #         idx_list = []\n",
    "# #         for word in query:\n",
    "# #             if word not in word2idx.keys():\n",
    "# #                 idx_list+=[len(word2idx.keys())] # use last as special key\n",
    "# #             else:\n",
    "# #                 idx_list+=[word2idx[word]]\n",
    "# #         query_word2vec_idx_list+=[idx_list]\n",
    "# #         print(\"=====\")\n",
    "# #         print(idx_list)\n",
    "# #         print(\"=====\")\n",
    "#     return doc_word2vec_idx_list"
   ]
  },
  {
   "cell_type": "code",
   "execution_count": 98,
   "metadata": {
    "collapsed": false
   },
   "outputs": [
    {
     "name": "stdout",
     "output_type": "stream",
     "text": [
      "14\n",
      "=====\n",
      "[0, 0, 0, 0]\n",
      "=====\n",
      "=====\n",
      "[55, 0, 0, 0, 0]\n",
      "=====\n",
      "=====\n",
      "[0, 0, 0, 0, 0, 0]\n",
      "=====\n",
      "=====\n",
      "[0, 0, 0, 0, 0, 0, 0, 0, 5, 0, 0, 0, 0]\n",
      "=====\n",
      "=====\n",
      "[0, 0]\n",
      "=====\n",
      "=====\n",
      "[65, 0]\n",
      "=====\n",
      "=====\n",
      "[20]\n",
      "=====\n",
      "=====\n",
      "[0, 1, 0, 0, 0, 5, 0, 0, 9, 47, 0]\n",
      "=====\n",
      "=====\n",
      "[0, 0, 0, 0, 0, 0, 0, 0, 0]\n",
      "=====\n",
      "=====\n",
      "[0, 3, 0, 0, 5]\n",
      "=====\n",
      "=====\n",
      "[19, 37, 5]\n",
      "=====\n",
      "=====\n",
      "[19, 0, 20]\n",
      "=====\n",
      "=====\n",
      "[0, 0, 0]\n",
      "=====\n",
      "=====\n",
      "[0, 0, 0, 0, 0, 0]\n",
      "=====\n",
      "[[0, 0, 0, 0], [55, 0, 0, 0, 0], [0, 0, 0, 0, 0, 0], [0, 0, 0, 0, 0, 0, 0, 0, 5, 0, 0, 0, 0], [0, 0], [65, 0], [20], [0, 1, 0, 0, 0, 5, 0, 0, 9, 47, 0], [0, 0, 0, 0, 0, 0, 0, 0, 0], [0, 3, 0, 0, 5], [19, 37, 5], [19, 0, 20], [0, 0, 0], [0, 0, 0, 0, 0, 0]]\n"
     ]
    }
   ],
   "source": [
    "#TODO: this is fucked. just bodge for testing nn\n",
    "doc_word2vec_idx_list = query_sent2idx(product_df,'product_title')\n",
    "print(doc_word2vec_idx_list)"
   ]
  },
  {
   "cell_type": "code",
   "execution_count": 99,
   "metadata": {
    "collapsed": false
   },
   "outputs": [],
   "source": [
    "# # cosine similarity model\n",
    "# print('Building model...')\n",
    "# input_a = Input(shape=(1,), dtype='int32', name='input_a')\n",
    "# input_b = Input(shape=(1,), dtype='int32', name='input_b')\n",
    "# embeddings = word2vec_embedding_layer(embeddings_path)\n",
    "# embedding_a = embeddings(input_a)\n",
    "# embedding_b = embeddings(input_b)\n",
    "# similarity = merge([embedding_a, embedding_b], mode='cos', dot_axes=2)\n",
    "# model = Model(input=[input_a, input_b], output=similarity)\n",
    "# model.compile(optimizer='sgd', loss='mse') # optimizer and loss don't matter\n",
    "\n",
    "\n",
    "# word_a = 'wood'#raw_input('First word: ')\n",
    "# if word_a not in word2idx:\n",
    "#     print('\"%s\" is not in the index' % word_a)\n",
    "# word_b = 'fan'#raw_input('Second word: ')\n",
    "# if word_b not in word2idx:\n",
    "#     print('\"%s\" is not in the index' % word_b)\n",
    "# output = model.predict([np.asarray([word2idx[word_a]]), np.asarray([word2idx[word_b]])])\n",
    "# print('%f' % output)"
   ]
  },
  {
   "cell_type": "markdown",
   "metadata": {},
   "source": [
    "# Define model"
   ]
  },
  {
   "cell_type": "code",
   "execution_count": 100,
   "metadata": {
    "collapsed": true
   },
   "outputs": [],
   "source": [
    "query_max_len = 6 #covers 95.74% of the search lengths (see data exploration)\n",
    "doc_max_len = 400 # todo: confirm this is sensible"
   ]
  },
  {
   "cell_type": "code",
   "execution_count": 145,
   "metadata": {
    "collapsed": false
   },
   "outputs": [
    {
     "name": "stdout",
     "output_type": "stream",
     "text": [
      "Building model...\n",
      "Tensor(\"lambda_51/strided_slice:0\", shape=(6, 50), dtype=float32)\n"
     ]
    },
    {
     "ename": "IndexError",
     "evalue": "tuple index out of range",
     "output_type": "error",
     "traceback": [
      "\u001b[0;31m---------------------------------------------------------------------------\u001b[0m",
      "\u001b[0;31mIndexError\u001b[0m                                Traceback (most recent call last)",
      "\u001b[0;32m<ipython-input-145-fb7336e72e3d>\u001b[0m in \u001b[0;36m<module>\u001b[0;34m()\u001b[0m\n\u001b[1;32m     54\u001b[0m \u001b[0;34m\u001b[0m\u001b[0m\n\u001b[1;32m     55\u001b[0m \u001b[0;31m######################################\u001b[0m\u001b[0;34m\u001b[0m\u001b[0;34m\u001b[0m\u001b[0m\n\u001b[0;32m---> 56\u001b[0;31m \u001b[0mmt_input\u001b[0m \u001b[0;34m=\u001b[0m \u001b[0mLambda\u001b[0m\u001b[0;34m(\u001b[0m\u001b[0mstate_layer_dot_prod\u001b[0m\u001b[0;34m,\u001b[0m\u001b[0moutput_shape\u001b[0m\u001b[0;34m=\u001b[0m\u001b[0mstate_layer_dot_prod_shape\u001b[0m\u001b[0;34m)\u001b[0m\u001b[0;34m(\u001b[0m\u001b[0;34m[\u001b[0m\u001b[0mquery_output\u001b[0m\u001b[0;34m,\u001b[0m \u001b[0mdoc_output\u001b[0m\u001b[0;34m]\u001b[0m\u001b[0;34m)\u001b[0m\u001b[0;34m\u001b[0m\u001b[0m\n\u001b[0m\u001b[1;32m     57\u001b[0m \u001b[0;34m\u001b[0m\u001b[0m\n\u001b[1;32m     58\u001b[0m \u001b[0;31m##TODO fix error:\u001b[0m\u001b[0;34m\u001b[0m\u001b[0;34m\u001b[0m\u001b[0m\n",
      "\u001b[0;32m/home/ongmin/anaconda3/lib/python3.6/site-packages/keras/engine/topology.py\u001b[0m in \u001b[0;36m__call__\u001b[0;34m(self, inputs, **kwargs)\u001b[0m\n\u001b[1;32m    554\u001b[0m \u001b[0;34m\u001b[0m\u001b[0m\n\u001b[1;32m    555\u001b[0m             \u001b[0;31m# Actually call the layer, collecting output(s), mask(s), and shape(s).\u001b[0m\u001b[0;34m\u001b[0m\u001b[0;34m\u001b[0m\u001b[0m\n\u001b[0;32m--> 556\u001b[0;31m             \u001b[0moutput\u001b[0m \u001b[0;34m=\u001b[0m \u001b[0mself\u001b[0m\u001b[0;34m.\u001b[0m\u001b[0mcall\u001b[0m\u001b[0;34m(\u001b[0m\u001b[0minputs\u001b[0m\u001b[0;34m,\u001b[0m \u001b[0;34m**\u001b[0m\u001b[0mkwargs\u001b[0m\u001b[0;34m)\u001b[0m\u001b[0;34m\u001b[0m\u001b[0m\n\u001b[0m\u001b[1;32m    557\u001b[0m             \u001b[0moutput_mask\u001b[0m \u001b[0;34m=\u001b[0m \u001b[0mself\u001b[0m\u001b[0;34m.\u001b[0m\u001b[0mcompute_mask\u001b[0m\u001b[0;34m(\u001b[0m\u001b[0minputs\u001b[0m\u001b[0;34m,\u001b[0m \u001b[0mprevious_mask\u001b[0m\u001b[0;34m)\u001b[0m\u001b[0;34m\u001b[0m\u001b[0m\n\u001b[1;32m    558\u001b[0m \u001b[0;34m\u001b[0m\u001b[0m\n",
      "\u001b[0;32m/home/ongmin/anaconda3/lib/python3.6/site-packages/keras/layers/core.py\u001b[0m in \u001b[0;36mcall\u001b[0;34m(self, inputs, mask)\u001b[0m\n\u001b[1;32m    657\u001b[0m         \u001b[0;32mif\u001b[0m \u001b[0;34m'mask'\u001b[0m \u001b[0;32min\u001b[0m \u001b[0marg_spec\u001b[0m\u001b[0;34m.\u001b[0m\u001b[0margs\u001b[0m\u001b[0;34m:\u001b[0m\u001b[0;34m\u001b[0m\u001b[0m\n\u001b[1;32m    658\u001b[0m             \u001b[0marguments\u001b[0m\u001b[0;34m[\u001b[0m\u001b[0;34m'mask'\u001b[0m\u001b[0;34m]\u001b[0m \u001b[0;34m=\u001b[0m \u001b[0mmask\u001b[0m\u001b[0;34m\u001b[0m\u001b[0m\n\u001b[0;32m--> 659\u001b[0;31m         \u001b[0;32mreturn\u001b[0m \u001b[0mself\u001b[0m\u001b[0;34m.\u001b[0m\u001b[0mfunction\u001b[0m\u001b[0;34m(\u001b[0m\u001b[0minputs\u001b[0m\u001b[0;34m,\u001b[0m \u001b[0;34m**\u001b[0m\u001b[0marguments\u001b[0m\u001b[0;34m)\u001b[0m\u001b[0;34m\u001b[0m\u001b[0m\n\u001b[0m\u001b[1;32m    660\u001b[0m \u001b[0;34m\u001b[0m\u001b[0m\n\u001b[1;32m    661\u001b[0m     \u001b[0;32mdef\u001b[0m \u001b[0mcompute_mask\u001b[0m\u001b[0;34m(\u001b[0m\u001b[0mself\u001b[0m\u001b[0;34m,\u001b[0m \u001b[0minputs\u001b[0m\u001b[0;34m,\u001b[0m \u001b[0mmask\u001b[0m\u001b[0;34m=\u001b[0m\u001b[0;32mNone\u001b[0m\u001b[0;34m)\u001b[0m\u001b[0;34m:\u001b[0m\u001b[0;34m\u001b[0m\u001b[0m\n",
      "\u001b[0;32m<ipython-input-145-fb7336e72e3d>\u001b[0m in \u001b[0;36mstate_layer_dot_prod\u001b[0;34m(x)\u001b[0m\n\u001b[1;32m     40\u001b[0m     \u001b[0;32mfor\u001b[0m \u001b[0mi\u001b[0m \u001b[0;32min\u001b[0m \u001b[0mrange\u001b[0m\u001b[0;34m(\u001b[0m\u001b[0;36m50\u001b[0m\u001b[0;34m)\u001b[0m\u001b[0;34m:\u001b[0m\u001b[0;34m\u001b[0m\u001b[0m\n\u001b[1;32m     41\u001b[0m         \u001b[0;31m#output = dot([x[0], x[1]], axes=(2), normalize=False)\u001b[0m\u001b[0;34m\u001b[0m\u001b[0;34m\u001b[0m\u001b[0m\n\u001b[0;32m---> 42\u001b[0;31m         \u001b[0moutput\u001b[0m \u001b[0;34m=\u001b[0m \u001b[0mdot\u001b[0m\u001b[0;34m(\u001b[0m\u001b[0;34m[\u001b[0m\u001b[0mx\u001b[0m\u001b[0;34m[\u001b[0m\u001b[0;36m0\u001b[0m\u001b[0;34m]\u001b[0m\u001b[0;34m[\u001b[0m\u001b[0mi\u001b[0m\u001b[0;34m]\u001b[0m\u001b[0;34m,\u001b[0m \u001b[0mtranspose\u001b[0m\u001b[0;34m(\u001b[0m\u001b[0mx\u001b[0m\u001b[0;34m[\u001b[0m\u001b[0;36m1\u001b[0m\u001b[0;34m]\u001b[0m\u001b[0;34m[\u001b[0m\u001b[0mi\u001b[0m\u001b[0;34m]\u001b[0m\u001b[0;34m)\u001b[0m\u001b[0;34m]\u001b[0m\u001b[0;34m,\u001b[0m \u001b[0maxes\u001b[0m\u001b[0;34m=\u001b[0m\u001b[0;34m(\u001b[0m\u001b[0;36m1\u001b[0m\u001b[0;34m,\u001b[0m\u001b[0;36m2\u001b[0m\u001b[0;34m)\u001b[0m\u001b[0;34m,\u001b[0m \u001b[0mnormalize\u001b[0m\u001b[0;34m=\u001b[0m\u001b[0;32mFalse\u001b[0m\u001b[0;34m)\u001b[0m\u001b[0;34m\u001b[0m\u001b[0m\n\u001b[0m\u001b[1;32m     43\u001b[0m \u001b[0;34m\u001b[0m\u001b[0m\n\u001b[1;32m     44\u001b[0m     \u001b[0;32mreturn\u001b[0m \u001b[0moutput\u001b[0m\u001b[0;34m\u001b[0m\u001b[0m\n",
      "\u001b[0;32m/home/ongmin/anaconda3/lib/python3.6/site-packages/keras/layers/merge.py\u001b[0m in \u001b[0;36mdot\u001b[0;34m(inputs, axes, normalize, **kwargs)\u001b[0m\n\u001b[1;32m    525\u001b[0m         \u001b[0mA\u001b[0m \u001b[0mtensor\u001b[0m\u001b[0;34m,\u001b[0m \u001b[0mthe\u001b[0m \u001b[0mdot\u001b[0m \u001b[0mproduct\u001b[0m \u001b[0mof\u001b[0m \u001b[0mthe\u001b[0m \u001b[0msamples\u001b[0m \u001b[0;32mfrom\u001b[0m \u001b[0mthe\u001b[0m \u001b[0minputs\u001b[0m\u001b[0;34m.\u001b[0m\u001b[0;34m\u001b[0m\u001b[0m\n\u001b[1;32m    526\u001b[0m     \"\"\"\n\u001b[0;32m--> 527\u001b[0;31m     \u001b[0;32mreturn\u001b[0m \u001b[0mDot\u001b[0m\u001b[0;34m(\u001b[0m\u001b[0maxes\u001b[0m\u001b[0;34m=\u001b[0m\u001b[0maxes\u001b[0m\u001b[0;34m,\u001b[0m \u001b[0mnormalize\u001b[0m\u001b[0;34m=\u001b[0m\u001b[0mnormalize\u001b[0m\u001b[0;34m,\u001b[0m \u001b[0;34m**\u001b[0m\u001b[0mkwargs\u001b[0m\u001b[0;34m)\u001b[0m\u001b[0;34m(\u001b[0m\u001b[0minputs\u001b[0m\u001b[0;34m)\u001b[0m\u001b[0;34m\u001b[0m\u001b[0m\n\u001b[0m",
      "\u001b[0;32m/home/ongmin/anaconda3/lib/python3.6/site-packages/keras/engine/topology.py\u001b[0m in \u001b[0;36m__call__\u001b[0;34m(self, inputs, **kwargs)\u001b[0m\n\u001b[1;32m    530\u001b[0m                     \u001b[0mself\u001b[0m\u001b[0;34m.\u001b[0m\u001b[0mbuild\u001b[0m\u001b[0;34m(\u001b[0m\u001b[0minput_shapes\u001b[0m\u001b[0;34m[\u001b[0m\u001b[0;36m0\u001b[0m\u001b[0;34m]\u001b[0m\u001b[0;34m)\u001b[0m\u001b[0;34m\u001b[0m\u001b[0m\n\u001b[1;32m    531\u001b[0m                 \u001b[0;32melse\u001b[0m\u001b[0;34m:\u001b[0m\u001b[0;34m\u001b[0m\u001b[0m\n\u001b[0;32m--> 532\u001b[0;31m                     \u001b[0mself\u001b[0m\u001b[0;34m.\u001b[0m\u001b[0mbuild\u001b[0m\u001b[0;34m(\u001b[0m\u001b[0minput_shapes\u001b[0m\u001b[0;34m)\u001b[0m\u001b[0;34m\u001b[0m\u001b[0m\n\u001b[0m\u001b[1;32m    533\u001b[0m                 \u001b[0mself\u001b[0m\u001b[0;34m.\u001b[0m\u001b[0mbuilt\u001b[0m \u001b[0;34m=\u001b[0m \u001b[0;32mTrue\u001b[0m\u001b[0;34m\u001b[0m\u001b[0m\n\u001b[1;32m    534\u001b[0m \u001b[0;34m\u001b[0m\u001b[0m\n",
      "\u001b[0;32m/home/ongmin/anaconda3/lib/python3.6/site-packages/keras/layers/merge.py\u001b[0m in \u001b[0;36mbuild\u001b[0;34m(self, input_shape)\u001b[0m\n\u001b[1;32m    383\u001b[0m         \u001b[0;32melse\u001b[0m\u001b[0;34m:\u001b[0m\u001b[0;34m\u001b[0m\u001b[0m\n\u001b[1;32m    384\u001b[0m             \u001b[0maxes\u001b[0m \u001b[0;34m=\u001b[0m \u001b[0mself\u001b[0m\u001b[0;34m.\u001b[0m\u001b[0maxes\u001b[0m\u001b[0;34m\u001b[0m\u001b[0m\n\u001b[0;32m--> 385\u001b[0;31m         \u001b[0;32mif\u001b[0m \u001b[0mshape1\u001b[0m\u001b[0;34m[\u001b[0m\u001b[0maxes\u001b[0m\u001b[0;34m[\u001b[0m\u001b[0;36m0\u001b[0m\u001b[0;34m]\u001b[0m\u001b[0;34m]\u001b[0m \u001b[0;34m!=\u001b[0m \u001b[0mshape2\u001b[0m\u001b[0;34m[\u001b[0m\u001b[0maxes\u001b[0m\u001b[0;34m[\u001b[0m\u001b[0;36m1\u001b[0m\u001b[0;34m]\u001b[0m\u001b[0;34m]\u001b[0m\u001b[0;34m:\u001b[0m\u001b[0;34m\u001b[0m\u001b[0m\n\u001b[0m\u001b[1;32m    386\u001b[0m             raise ValueError(\n\u001b[1;32m    387\u001b[0m                 \u001b[0;34m'Dimension incompatibility '\u001b[0m\u001b[0;34m\u001b[0m\u001b[0m\n",
      "\u001b[0;31mIndexError\u001b[0m: tuple index out of range"
     ]
    }
   ],
   "source": [
    "print('Building model...')\n",
    "\n",
    "def get_R(x):\n",
    "    a, b = x.values()\n",
    "    return K.dot(a, b)\n",
    "\n",
    "\n",
    "embeddings = word2vec_embedding_layer(embeddings_path)\n",
    "\n",
    "#embedding lookup\n",
    "# TODO: replace this with embedding with mask zero rather than padding, need to change index for encoding too, imput dim too.\n",
    "# TODO: OOV embedding\n",
    "input_query = Input(shape=(query_max_len,), dtype='int32', name='input_query')\n",
    "input_doc = Input(shape=(doc_max_len,), dtype='int32', name='input_doc')\n",
    "embedding_query = embeddings(input_query)  # (None, 6, 100)\n",
    "embedding_doc = embeddings(input_doc)      # (None, 400, 100)\n",
    "\n",
    "#shared linear projection\n",
    "shared_lp = Dense(40,activation='linear')\n",
    "query_output = shared_lp(embedding_query) # (None, 6, 40) \n",
    "doc_output = shared_lp(embedding_doc) #(None, 400, 40) \n",
    "\n",
    "#query: bi LSTM, lp -- implementation = 0 for CPU option, 1 or 2 for GPU\n",
    "query_output = Bidirectional(LSTM(30, dropout=0.5, implementation=0, return_sequences=True, go_backwards=True)\\\n",
    "                             ,merge_mode='mul'#TODO: alts are 'sum','mul','ave','concat'<--default, None\n",
    "                            )(query_output) #(None, 6, 30) unless concat (None, 6, 60)  \n",
    "query_output = Dense(50,activation='linear')(query_output) #(None, 50)\n",
    "\n",
    "#doc: bi LSTM, lp\n",
    "doc_output = Bidirectional(LSTM(30, dropout=0.5, implementation=0, return_sequences=True, go_backwards=True)\\\n",
    "                             ,merge_mode='mul'#TODO: alts are 'sum','mul','ave','concat'<--default, None\n",
    "                            )(doc_output) #(None, 6, 400) unless concat (None, 6, 800)  \n",
    "doc_output = Dense(50,activation='linear')(doc_output) #(None, 50)\n",
    "\n",
    "#2d product\n",
    "#mt_input = dot([query_output, doc_output], axes=(2), normalize=False)  \n",
    "#output is (11, 6, 400), where did 50 go?\n",
    "######################################\n",
    "\n",
    "def state_layer_dot_prod(x):\n",
    "    print(x[0][0])\n",
    "    for i in range(50):\n",
    "        #output = dot([x[0], x[1]], axes=(2), normalize=False)  \n",
    "        output = dot([x[0][i], transpose(x[1][i])], axes=(0,1), normalize=False)  \n",
    "    \n",
    "    return output\n",
    "\n",
    "def state_layer_dot_prod_shape(input_shape):\n",
    "    'Merge output shape'\n",
    "    shape = list(input_shape)\n",
    "    #print(input_shape)\n",
    "    #print(shape)\n",
    "    outshape = (shape[0][0],shape[1][1],shape[0][1],shape[0][2])\n",
    "    #print(outshape)\n",
    "    return tuple(outshape)\n",
    "\n",
    "######################################\n",
    "mt_input = Lambda(state_layer_dot_prod,output_shape=state_layer_dot_prod_shape)([query_output, doc_output])\n",
    "\n",
    "##TODO fix error:\n",
    "#InvalidArgumentError: Input to reshape is a tensor with 4800 values, but the requested shape requires a multiple of 120000\n",
    "#[[Node: reshape_23/Reshape = Reshape[T=DT_FLOAT, Tshape=DT_INT32, _device=\"/job:localhost/replica:0/task:0/cpu:0\"](lambda_40/dot_42/MatMul, reshape_23/Reshape/shape)]]\n",
    "#mt_input = Reshape((doc_max_len, query_max_len,50))(mt_input)\n",
    "\n",
    "# #Append exact match channel\n",
    "# #TODO:\n",
    "\n",
    "# # Conv layers 1\n",
    "# output1 = Conv2D(filters=18, kernel_size=(3, 3), strides=(1,1), padding='valid', data_format='channels_last', \\\n",
    "#                 dilation_rate=(1, 1), activation='relu', use_bias=True, kernel_initializer='glorot_uniform', \\\n",
    "#                 bias_initializer='zeros', kernel_regularizer=None, bias_regularizer=None, \\\n",
    "#                 activity_regularizer=None, kernel_constraint=None, bias_constraint=None)(mt_input)\n",
    "\n",
    "# output2 = Conv2D(filters=18, kernel_size=(3, 4), strides=(1,1), padding='valid', data_format='channels_last', \\\n",
    "#                 dilation_rate=(1, 1), activation='relu', use_bias=True, kernel_initializer='glorot_uniform', \\\n",
    "#                 bias_initializer='zeros', kernel_regularizer=None, bias_regularizer=None, \\\n",
    "#                 activity_regularizer=None, kernel_constraint=None, bias_constraint=None)(mt_input)\n",
    "\n",
    "# output3 = Conv2D(filters=18, kernel_size=(3, 5), strides=(1,1), padding='valid', data_format='channels_last', \\\n",
    "#                 dilation_rate=(1, 1), activation='relu', use_bias=True, kernel_initializer='glorot_uniform', \\\n",
    "#                 bias_initializer='zeros', kernel_regularizer=None, bias_regularizer=None, \\\n",
    "#                 activity_regularizer=None, kernel_constraint=None, bias_constraint=None)(mt_input)\n",
    "\n",
    "# # Conv layers 2\n",
    "# output1 = Conv2D(filters=20, kernel_size=(1, 1), strides=(1,1), padding='valid', data_format='channels_last', \\\n",
    "#                 dilation_rate=(1, 1), activation='relu', use_bias=True, kernel_initializer='glorot_uniform', \\\n",
    "#                 bias_initializer='zeros', kernel_regularizer=None, bias_regularizer=None, \\\n",
    "#                 activity_regularizer=None, kernel_constraint=None, bias_constraint=None)(output1)\n",
    "\n",
    "# output2 = Conv2D(filters=20, kernel_size=(1, 1), strides=(1,1), padding='valid', data_format='channels_last', \\\n",
    "#                 dilation_rate=(1, 1), activation='relu', use_bias=True, kernel_initializer='glorot_uniform', \\\n",
    "#                 bias_initializer='zeros', kernel_regularizer=None, bias_regularizer=None, \\\n",
    "#                 activity_regularizer=None, kernel_constraint=None, bias_constraint=None)(output2)\n",
    "\n",
    "# output3 = Conv2D(filters=20, kernel_size=(1, 1), strides=(1,1), padding='valid', data_format='channels_last', \\\n",
    "#                 dilation_rate=(1, 1), activation='relu', use_bias=True, kernel_initializer='glorot_uniform', \\\n",
    "#                 bias_initializer='zeros', kernel_regularizer=None, bias_regularizer=None, \\\n",
    "#                 activity_regularizer=None, kernel_constraint=None, bias_constraint=None)(output3)\n",
    "\n",
    "# # Max pool layer\n",
    "# output1 = GlobalMaxPooling2D(data_format='channels_last')(output1)\n",
    "# output2 = GlobalMaxPooling2D(data_format='channels_last')(output2)\n",
    "# output3 = GlobalMaxPooling2D(data_format='channels_last')(output3)\n",
    "\n",
    "# # Merge\n",
    "# output_combined = add([output1,output2,output3])\n",
    "\n",
    "# # Final layer\n",
    "# output = Dense(1,activation='sigmoid')(output_combined)\n",
    "\n",
    "\n",
    "# build model\n",
    "#model = Model([input_query], [query_output])\n",
    "#model = Model([input_doc], [encoded_doc])\n",
    "#model = Model([input_query,input_doc], [output1,output2,output3])\n",
    "#model = Model([input_query,input_doc], [output_combined])\n",
    "#model = Model([input_query,input_doc], [query_output])\n",
    "#model = Model([input_query,input_doc], [query_output,doc_output])\n",
    "#model = Model([input_query,input_doc], [output])\n",
    "model = Model([input_query,input_doc], [mt_input])\n",
    "\n",
    "\n",
    "model.summary()"
   ]
  },
  {
   "cell_type": "code",
   "execution_count": null,
   "metadata": {
    "collapsed": false
   },
   "outputs": [],
   "source": [
    "# from keras.layers import Input, merge\n",
    "# from keras.models import Model\n",
    "# import numpy as np\n",
    "\n",
    "# input_a = np.reshape([[1, 2, 3],[1, 2, 3],],[[1, 2, 3],[1, 2, 3]])\n",
    "# input_b = np.reshape([4, 5, 6], (1, 1, 3))\n",
    "\n",
    "# print(input_a)\n",
    "# print(input_b)\n",
    "# a = Input(shape=(1, 3))\n",
    "# b = Input(shape=(1, 3))\n",
    "\n",
    "# concat = merge([a, b], mode='concat', concat_axis=-1)\n",
    "# dot = merge([a, b], mode='dot', dot_axes=2)\n",
    "# cos = merge([a, b], mode='cos', dot_axes=2)\n",
    "\n",
    "# model_concat = Model(input=[a, b], output=concat)\n",
    "# model_dot = Model(input=[a, b], output=dot)\n",
    "# model_cos = Model(input=[a, b], output=cos)\n",
    "\n",
    "# print(model_concat.predict([input_a, input_b]))\n",
    "# print(model_dot.predict([input_a, input_b]))\n",
    "# print(model_cos.predict([input_a, input_b]))"
   ]
  },
  {
   "cell_type": "code",
   "execution_count": null,
   "metadata": {
    "collapsed": false
   },
   "outputs": [],
   "source": []
  },
  {
   "cell_type": "code",
   "execution_count": 138,
   "metadata": {
    "collapsed": true
   },
   "outputs": [],
   "source": [
    "model.compile(optimizer='adam', loss='mse', metrics=['accuracy'])"
   ]
  },
  {
   "cell_type": "code",
   "execution_count": 139,
   "metadata": {
    "collapsed": false
   },
   "outputs": [
    {
     "name": "stdout",
     "output_type": "stream",
     "text": [
      "Pad sequences (samples x time)\n",
      "x_query_train shape: (11, 6)\n",
      "x_doc_train shape: (11, 400)\n"
     ]
    }
   ],
   "source": [
    "x_query_train=np.array(query_word2vec_idx_list)\n",
    "x_doc_train=np.array(doc_word2vec_idx_list)[0:len(x_query_train)]\n",
    "\n",
    "# TODO: replace this with embedding with mask zero rather than padding, need to change index for encoding too, imput dim too.\n",
    "print(\"Pad sequences (samples x time)\")\n",
    "x_query_train = sequence.pad_sequences(x_query_train, maxlen=query_max_len)\n",
    "x_doc_train = sequence.pad_sequences(x_doc_train, maxlen=doc_max_len)\n",
    "# x_query_test = sequence.pad_sequences(x_query_test, maxlen=query_max_len)\n",
    "# x_doc_test = sequence.pad_sequences(x_doc_test, maxlen=doc_max_len)\n",
    "\n",
    "print('x_query_train shape:', x_query_train.shape)\n",
    "print('x_doc_train shape:', x_doc_train.shape)\n",
    "# print('x_query_test shape:', x_query_test.shape)\n",
    "# print('x_doc_test shape:', x_doc_test.shape)\n",
    "\n",
    "#TODO: y label on 0-1 scale\n",
    "y_train=train_query_df['relevance_int'].as_matrix()\n",
    "# y_test=test_query_df['relevance_int'].as_matrix()\n"
   ]
  },
  {
   "cell_type": "code",
   "execution_count": 140,
   "metadata": {
    "collapsed": false
   },
   "outputs": [
    {
     "name": "stdout",
     "output_type": "stream",
     "text": [
      "Train...\n"
     ]
    },
    {
     "ename": "ValueError",
     "evalue": "Error when checking model target: expected lambda_47 to have 4 dimensions, but got array with shape (11, 1)",
     "output_type": "error",
     "traceback": [
      "\u001b[0;31m---------------------------------------------------------------------------\u001b[0m",
      "\u001b[0;31mValueError\u001b[0m                                Traceback (most recent call last)",
      "\u001b[0;32m<ipython-input-140-86aa116d7061>\u001b[0m in \u001b[0;36m<module>\u001b[0;34m()\u001b[0m\n\u001b[1;32m      3\u001b[0m hist=model.fit([x_query_train,x_doc_train], [y_train],\n\u001b[1;32m      4\u001b[0m           \u001b[0mbatch_size\u001b[0m\u001b[0;34m=\u001b[0m\u001b[0mbatch_size\u001b[0m\u001b[0;34m,\u001b[0m\u001b[0;34m\u001b[0m\u001b[0m\n\u001b[0;32m----> 5\u001b[0;31m           \u001b[0mepochs\u001b[0m\u001b[0;34m=\u001b[0m\u001b[0;36m3\u001b[0m\u001b[0;34m,\u001b[0m\u001b[0;34m\u001b[0m\u001b[0m\n\u001b[0m\u001b[1;32m      6\u001b[0m           \u001b[0;31m#validation_data=[x_test, y_test])\u001b[0m\u001b[0;34m\u001b[0m\u001b[0;34m\u001b[0m\u001b[0m\n\u001b[1;32m      7\u001b[0m          )\n",
      "\u001b[0;32m/home/ongmin/anaconda3/lib/python3.6/site-packages/keras/engine/training.py\u001b[0m in \u001b[0;36mfit\u001b[0;34m(self, x, y, batch_size, epochs, verbose, callbacks, validation_split, validation_data, shuffle, class_weight, sample_weight, initial_epoch, **kwargs)\u001b[0m\n\u001b[1;32m   1403\u001b[0m             \u001b[0mclass_weight\u001b[0m\u001b[0;34m=\u001b[0m\u001b[0mclass_weight\u001b[0m\u001b[0;34m,\u001b[0m\u001b[0;34m\u001b[0m\u001b[0m\n\u001b[1;32m   1404\u001b[0m             \u001b[0mcheck_batch_axis\u001b[0m\u001b[0;34m=\u001b[0m\u001b[0;32mFalse\u001b[0m\u001b[0;34m,\u001b[0m\u001b[0;34m\u001b[0m\u001b[0m\n\u001b[0;32m-> 1405\u001b[0;31m             batch_size=batch_size)\n\u001b[0m\u001b[1;32m   1406\u001b[0m         \u001b[0;31m# prepare validation data\u001b[0m\u001b[0;34m\u001b[0m\u001b[0;34m\u001b[0m\u001b[0m\n\u001b[1;32m   1407\u001b[0m         \u001b[0;32mif\u001b[0m \u001b[0mvalidation_data\u001b[0m\u001b[0;34m:\u001b[0m\u001b[0;34m\u001b[0m\u001b[0m\n",
      "\u001b[0;32m/home/ongmin/anaconda3/lib/python3.6/site-packages/keras/engine/training.py\u001b[0m in \u001b[0;36m_standardize_user_data\u001b[0;34m(self, x, y, sample_weight, class_weight, check_batch_axis, batch_size)\u001b[0m\n\u001b[1;32m   1297\u001b[0m                                     \u001b[0moutput_shapes\u001b[0m\u001b[0;34m,\u001b[0m\u001b[0;34m\u001b[0m\u001b[0m\n\u001b[1;32m   1298\u001b[0m                                     \u001b[0mcheck_batch_axis\u001b[0m\u001b[0;34m=\u001b[0m\u001b[0;32mFalse\u001b[0m\u001b[0;34m,\u001b[0m\u001b[0;34m\u001b[0m\u001b[0m\n\u001b[0;32m-> 1299\u001b[0;31m                                     exception_prefix='model target')\n\u001b[0m\u001b[1;32m   1300\u001b[0m         sample_weights = _standardize_sample_weights(sample_weight,\n\u001b[1;32m   1301\u001b[0m                                                      self._feed_output_names)\n",
      "\u001b[0;32m/home/ongmin/anaconda3/lib/python3.6/site-packages/keras/engine/training.py\u001b[0m in \u001b[0;36m_standardize_input_data\u001b[0;34m(data, names, shapes, check_batch_axis, exception_prefix)\u001b[0m\n\u001b[1;32m    119\u001b[0m                                  \u001b[0;34m' to have '\u001b[0m \u001b[0;34m+\u001b[0m \u001b[0mstr\u001b[0m\u001b[0;34m(\u001b[0m\u001b[0mlen\u001b[0m\u001b[0;34m(\u001b[0m\u001b[0mshapes\u001b[0m\u001b[0;34m[\u001b[0m\u001b[0mi\u001b[0m\u001b[0;34m]\u001b[0m\u001b[0;34m)\u001b[0m\u001b[0;34m)\u001b[0m \u001b[0;34m+\u001b[0m\u001b[0;34m\u001b[0m\u001b[0m\n\u001b[1;32m    120\u001b[0m                                  \u001b[0;34m' dimensions, but got array with shape '\u001b[0m \u001b[0;34m+\u001b[0m\u001b[0;34m\u001b[0m\u001b[0m\n\u001b[0;32m--> 121\u001b[0;31m                                  str(array.shape))\n\u001b[0m\u001b[1;32m    122\u001b[0m             \u001b[0;32mfor\u001b[0m \u001b[0mj\u001b[0m\u001b[0;34m,\u001b[0m \u001b[0;34m(\u001b[0m\u001b[0mdim\u001b[0m\u001b[0;34m,\u001b[0m \u001b[0mref_dim\u001b[0m\u001b[0;34m)\u001b[0m \u001b[0;32min\u001b[0m \u001b[0menumerate\u001b[0m\u001b[0;34m(\u001b[0m\u001b[0mzip\u001b[0m\u001b[0;34m(\u001b[0m\u001b[0marray\u001b[0m\u001b[0;34m.\u001b[0m\u001b[0mshape\u001b[0m\u001b[0;34m,\u001b[0m \u001b[0mshapes\u001b[0m\u001b[0;34m[\u001b[0m\u001b[0mi\u001b[0m\u001b[0;34m]\u001b[0m\u001b[0;34m)\u001b[0m\u001b[0;34m)\u001b[0m\u001b[0;34m:\u001b[0m\u001b[0;34m\u001b[0m\u001b[0m\n\u001b[1;32m    123\u001b[0m                 \u001b[0;32mif\u001b[0m \u001b[0;32mnot\u001b[0m \u001b[0mj\u001b[0m \u001b[0;32mand\u001b[0m \u001b[0;32mnot\u001b[0m \u001b[0mcheck_batch_axis\u001b[0m\u001b[0;34m:\u001b[0m\u001b[0;34m\u001b[0m\u001b[0m\n",
      "\u001b[0;31mValueError\u001b[0m: Error when checking model target: expected lambda_47 to have 4 dimensions, but got array with shape (11, 1)"
     ]
    }
   ],
   "source": [
    "batch_size=2\n",
    "print('Train...')\n",
    "hist=model.fit([x_query_train,x_doc_train], [y_train],\n",
    "          batch_size=batch_size,\n",
    "          epochs=3,\n",
    "          #validation_data=[x_test, y_test])\n",
    "         )\n"
   ]
  },
  {
   "cell_type": "code",
   "execution_count": null,
   "metadata": {
    "collapsed": false
   },
   "outputs": [],
   "source": [
    "batch_size=2\n",
    "prediction=model.predict([x_query_train,x_doc_train],\n",
    "          batch_size=batch_size,\n",
    "         )"
   ]
  },
  {
   "cell_type": "code",
   "execution_count": null,
   "metadata": {
    "collapsed": false
   },
   "outputs": [],
   "source": [
    "prediction.shape"
   ]
  },
  {
   "cell_type": "code",
   "execution_count": null,
   "metadata": {
    "collapsed": false
   },
   "outputs": [],
   "source": [
    "print(\"Predict\")\n",
    "word_a = 'wood'#raw_input('First word: ')\n",
    "if word_a not in word2idx:\n",
    "    print('\"%s\" is not in the index' % word_a)\n",
    "word_b = 'fan'#raw_input('Second word: ')\n",
    "if word_b not in word2idx:\n",
    "    print('\"%s\" is not in the index' % word_b)\n",
    "output = model.predict([np.asarray([word2idx[word_a]]), np.asarray([word2idx[word_b]])])\n",
    "print('%f' % output)"
   ]
  },
  {
   "cell_type": "code",
   "execution_count": null,
   "metadata": {
    "collapsed": true
   },
   "outputs": [],
   "source": []
  }
 ],
 "metadata": {
  "kernelspec": {
   "display_name": "Python 3",
   "language": "python",
   "name": "python3"
  },
  "language_info": {
   "codemirror_mode": {
    "name": "ipython",
    "version": 3
   },
   "file_extension": ".py",
   "mimetype": "text/x-python",
   "name": "python",
   "nbconvert_exporter": "python",
   "pygments_lexer": "ipython3",
   "version": "3.6.0"
  }
 },
 "nbformat": 4,
 "nbformat_minor": 2
}
