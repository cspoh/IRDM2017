{
 "cells": [
  {
   "cell_type": "markdown",
   "metadata": {},
   "source": [
    "# CNN"
   ]
  },
  {
   "cell_type": "code",
   "execution_count": 1,
   "metadata": {
    "collapsed": false
   },
   "outputs": [
    {
     "name": "stderr",
     "output_type": "stream",
     "text": [
      "Using TensorFlow backend.\n"
     ]
    }
   ],
   "source": [
    "import json\n",
    "import os\n",
    "import sys\n",
    "import numpy as np\n",
    "from gensim.models import Word2Vec\n",
    "from keras.preprocessing import sequence\n",
    "from keras.layers import merge, Dense, Input,Dropout, Embedding, LSTM, Bidirectional, Activation\n",
    "from keras.layers import Conv2D,Conv1D\n",
    "from keras.layers.merge import dot, multiply, add, concatenate\n",
    "from keras.layers import Merge\n",
    "from keras.layers.core import Lambda,Reshape, Flatten, Dropout\n",
    "from keras.layers.pooling import GlobalMaxPooling2D, GlobalMaxPooling1D,MaxPooling1D\n",
    "from keras.models import Model\n",
    "from keras.backend import transpose,batch_dot,expand_dims\n",
    "from keras import optimizers\n",
    "from HomeDepotCSVReader import HomeDepotReader\n",
    "import Utilities\n",
    "from DataPreprocessing import DataPreprocessing\n",
    "from Feature_Word2Vec import Feature_Word2Vec\n",
    "from AutomaticQueryExpansion import Word2VecQueryExpansion\n",
    "import re\n",
    "from nltk.corpus import stopwords\n",
    "from keras.utils.np_utils import to_categorical\n",
    "import pandas as pd\n",
    "from FeatureEngineering import HomeDepotFeature\n",
    "from keras.layers.wrappers import TimeDistributed\n",
    "from keras.callbacks import ModelCheckpoint,EarlyStopping"
   ]
  },
  {
   "cell_type": "code",
   "execution_count": 2,
   "metadata": {
    "collapsed": true
   },
   "outputs": [],
   "source": [
    "# train_filename = '../data/train_play.csv'\n",
    "# test_filename = '../data/test_play.csv'\n",
    "# soln_filename = '../data/solution.csv'\n",
    "# attribute_filename = '../data/attributes_play.csv'\n",
    "# description_filename = '../data/product_descriptions_play.csv'\n",
    "# word2vec_model_path='model/word2vec_play.model'\n",
    "# vocab_path='model/word2vec_play_vocab.json'\n",
    "# embeddings_path='model/embeddings_play.npz'\n",
    "\n",
    "train_filename = '../data/train.csv'\n",
    "test_filename = '../data/test.csv'\n",
    "soln_filename = '../data/solution.csv'\n",
    "attribute_filename = '../data/attributes.csv'\n",
    "description_filename = '../data/product_descriptions.csv'\n",
    "word2vec_model_path='model/word2vec_cnn.model'\n",
    "vocab_path='model/word2vec_cnn_vocab.json'\n",
    "embeddings_path='model/embeddings_cnn.npz'"
   ]
  },
  {
   "cell_type": "code",
   "execution_count": 3,
   "metadata": {
    "collapsed": false
   },
   "outputs": [
    {
     "name": "stdout",
     "output_type": "stream",
     "text": [
      "===========Tranforming labels...\n",
      "showing current values\n",
      "trainDF: ['id', 'product_uid', 'search_term', 'relevance']\n",
      "trainDF:    id  product_uid    search_term  relevance\n",
      "0   2       100001  angle bracket        3.0\n",
      "self.mergedLabelDF: ['relevance'] \n",
      " <class 'pandas.core.frame.DataFrame'> (74067, 1)    relevance\n",
      "0        3.0\n",
      "Old unique Labels: [ 1.    1.25  1.33  1.5   1.67  1.75  2.    2.25  2.33  2.5   2.67  2.75\n",
      "  3.  ]\n",
      "newLabels: [ 0  1  2  3  4  5  6  7  8  9 10 11 12]\n",
      "Creating new column for training:  relevance_int\n",
      "===========Transform labels completed\n",
      "train_query_df: ['id', 'product_uid', 'search_term', 'relevance', 'relevance_int', 'product_idx']\n",
      "product_df: ['product_title', 'product_uid', 'product_description']\n",
      "attribute_df: ['product_uid', 'name', 'value']\n",
      "test_query_df: ['id', 'product_uid', 'search_term']\n"
     ]
    }
   ],
   "source": [
    "reader = HomeDepotReader()\n",
    "\n",
    "train_query_df, product_df, attribute_df, test_query_df = reader.getQueryProductAttributeDataFrame(train_filename,\n",
    "                                              test_filename,\n",
    "                                              attribute_filename,\n",
    "                                              description_filename)\n",
    "print(\"train_query_df:\",list(train_query_df))\n",
    "print(\"product_df:\", list(product_df))\n",
    "print(\"attribute_df:\", list(attribute_df))\n",
    "print(\"test_query_df:\", list(test_query_df))"
   ]
  },
  {
   "cell_type": "code",
   "execution_count": 4,
   "metadata": {
    "collapsed": false
   },
   "outputs": [],
   "source": [
    "#transform attribute into doc\n",
    "dp = DataPreprocessing()\n",
    "attribute_doc_df = dp.getAttributeDoc(attribute_df)\n",
    "#attribute_doc_df\n",
    "product_df=product_df.join(attribute_doc_df.set_index('product_uid'), on = 'product_uid')"
   ]
  },
  {
   "cell_type": "code",
   "execution_count": 5,
   "metadata": {
    "collapsed": false
   },
   "outputs": [],
   "source": [
    "### test data\n",
    "soln_df = pd.read_csv(soln_filename, delimiter=',', low_memory=False, encoding=\"ISO-8859-1\")\n",
    "test_private_df = dp.getGoldTestSet(test_query_df, soln_df, testsetoption='Private')#,savepath='../data/test_private_gold.csv')\n",
    "test_public_df = dp.getGoldTestSet(test_query_df, soln_df, testsetoption='Public')# savepath='../data/test_public_gold.csv')"
   ]
  },
  {
   "cell_type": "code",
   "execution_count": 6,
   "metadata": {
    "collapsed": false
   },
   "outputs": [
    {
     "name": "stdout",
     "output_type": "stream",
     "text": [
      "Performing spell correction\n",
      "Performing non-ascii removal\n",
      "Non-ascii clean on search_term took: 0.01 minutes\n",
      "Non-ascii clean on product_title took: 0.03 minutes\n",
      "<class 'pandas.core.frame.DataFrame'>\n",
      "RangeIndex: 74067 entries, 0 to 74066\n",
      "Data columns (total 6 columns):\n",
      "id               74067 non-null int64\n",
      "product_uid      74067 non-null int64\n",
      "search_term      74067 non-null object\n",
      "relevance        74067 non-null float64\n",
      "relevance_int    74067 non-null int64\n",
      "product_idx      74067 non-null object\n",
      "dtypes: float64(1), int64(3), object(2)\n",
      "memory usage: 3.4+ MB\n",
      "None\n"
     ]
    }
   ],
   "source": [
    "\n",
    "train_query_df = HomeDepotFeature().getFeature(train_query_df, product_df, attribute_df, test_private_df,\n",
    "                        features=\"spelling,nonascii\")\n",
    "#,stopwords,stemming\n",
    "#\"spelling,nonascii\" no diff."
   ]
  },
  {
   "cell_type": "code",
   "execution_count": 7,
   "metadata": {
    "collapsed": false
   },
   "outputs": [
    {
     "name": "stdout",
     "output_type": "stream",
     "text": [
      "Performing spell correction\n",
      "Performing non-ascii removal\n",
      "Non-ascii clean on search_term took: 0.01 minutes\n",
      "Non-ascii clean on product_title took: 0.03 minutes\n",
      "<class 'pandas.core.frame.DataFrame'>\n",
      "Int64Index: 78419 entries, 2 to 147405\n",
      "Data columns (total 4 columns):\n",
      "id             78419 non-null int64\n",
      "product_uid    78419 non-null int64\n",
      "search_term    78419 non-null object\n",
      "relevance      78419 non-null float64\n",
      "dtypes: float64(1), int64(2), object(1)\n",
      "memory usage: 3.0+ MB\n",
      "None\n"
     ]
    }
   ],
   "source": [
    "test_private_df = HomeDepotFeature().getFeature(test_private_df, product_df, attribute_df, test_private_df,\n",
    "                        features=\"spelling,nonascii\")"
   ]
  },
  {
   "cell_type": "code",
   "execution_count": 8,
   "metadata": {
    "collapsed": false
   },
   "outputs": [
    {
     "name": "stdout",
     "output_type": "stream",
     "text": [
      "Performing spell correction\n",
      "Performing non-ascii removal\n",
      "Non-ascii clean on search_term took: 0.0 minutes\n",
      "Non-ascii clean on product_title took: 0.03 minutes\n",
      "<class 'pandas.core.frame.DataFrame'>\n",
      "Int64Index: 33648 entries, 1 to 147404\n",
      "Data columns (total 4 columns):\n",
      "id             33648 non-null int64\n",
      "product_uid    33648 non-null int64\n",
      "search_term    33648 non-null object\n",
      "relevance      33648 non-null float64\n",
      "dtypes: float64(1), int64(2), object(1)\n",
      "memory usage: 1.3+ MB\n",
      "None\n"
     ]
    }
   ],
   "source": [
    "test_public_df = HomeDepotFeature().getFeature(test_public_df, product_df, attribute_df, test_public_df,\n",
    "                        features=\"spelling,nonascii\")"
   ]
  },
  {
   "cell_type": "code",
   "execution_count": 9,
   "metadata": {
    "collapsed": true
   },
   "outputs": [],
   "source": [
    "# product_df['content'] = train_query_df['search_term'].map(str) + \" \" + \\\n",
    "#                         product_df['product_title'].map(str) + \" \" + \\\n",
    "#                         product_df['product_description'].map(str) + \" \" + \\\n",
    "#                         product_df['attr_json'].map(str)\n",
    "\n",
    "# product_df['content'] = product_df['product_title'].map(str) + \" \" + \\\n",
    "#                         product_df['product_description'].map(str) \n",
    "\n",
    "product_df['content'] = product_df['product_title'].map(str)# + \" \" + \\\n",
    "#                         product_df['product_description'].map(str) \n",
    "\n",
    "# ## no attribute\n",
    "# product_df['content'] = product_df['product_title'].map(str) + \" \" + \\\n",
    "#                         product_df['product_description'].map(str) \n",
    "        \n",
    "#product_df['content']"
   ]
  },
  {
   "cell_type": "code",
   "execution_count": 10,
   "metadata": {
    "collapsed": false
   },
   "outputs": [
    {
     "data": {
      "text/plain": [
       "33648"
      ]
     },
     "execution_count": 10,
     "metadata": {},
     "output_type": "execute_result"
    }
   ],
   "source": [
    "len(test_public_df)"
   ]
  },
  {
   "cell_type": "code",
   "execution_count": 11,
   "metadata": {
    "collapsed": false
   },
   "outputs": [],
   "source": [
    "#https://www.kaggle.com/c/word2vec-nlp-tutorial/details/part-2-word-vectors\n",
    "def doc_to_wordlist( doc, vocab=['<PAD>', '<OOV>'], remove_stopwords=False, remove_non_letters=False, remove_non_letters_numbers=True):\n",
    "    # Function to convert a document to a sequence of words,\n",
    "    # optionally removing stop words.  Returns a list of words.\n",
    "    #\n",
    "    # 1. Remove HTML\n",
    "    #review_text = BeautifulSoup(review).get_text()\n",
    "    #  \n",
    "    # 2. Remove non-letters\n",
    "    if remove_non_letters:\n",
    "        doc = re.sub(\"[^a-zA-Z]\",\" \", doc)\n",
    "    # 2a. remove non-letters, numbers\n",
    "    if remove_non_letters_numbers:\n",
    "        doc = re.sub(\"[^a-zA-Z0-9]\",\" \", doc)\n",
    "    #\n",
    "    # 3. Convert words to lower case and split them\n",
    "    words = doc.lower().split()\n",
    "    #\n",
    "    # 4. Optionally remove stop words (false by default)\n",
    "    if remove_stopwords:\n",
    "        stops = set(stopwords.words(\"english\"))\n",
    "        #words = [w for w in words if not w in stops]\n",
    "        new_words = []\n",
    "        for w in words:\n",
    "            if not w in stops:\n",
    "                new_words.append(w)\n",
    "                #if w not in vocab: #TODO: temp removal, too slow\n",
    "                #    vocab.append(w)\n",
    "    \n",
    "    # 5. Return a list of words\n",
    "    return new_words,vocab\n",
    "\n",
    "# words,vocab=doc_to_wordlist(product_df['content'][0],remove_stopwords=True, remove_non_letters=False, remove_non_letters_numbers=True)\n",
    "# print(len(words),len(vocab))\n",
    "# print(vocab)\n",
    "# words,vocab=doc_to_wordlist(product_df['content'][0],remove_stopwords=False, remove_non_letters=False, remove_non_letters_numbers=True)\n",
    "# print(len(words),len(vocab))\n",
    "# print(vocab)\n",
    "# product_df['content'][0]"
   ]
  },
  {
   "cell_type": "code",
   "execution_count": 12,
   "metadata": {
    "collapsed": false
   },
   "outputs": [],
   "source": [
    "# # Download the punkt tokenizer for sentence splitting\n",
    "import nltk.data\n",
    "# nltk.download()   \n",
    "\n",
    "# Load the punkt tokenizer\n",
    "tokenizer = nltk.data.load('tokenizers/punkt/english.pickle')"
   ]
  },
  {
   "cell_type": "code",
   "execution_count": 13,
   "metadata": {
    "collapsed": true
   },
   "outputs": [],
   "source": [
    "### tokenisation\n",
    "class alt_tokenizer():\n",
    "    def tokenize(self,sentence):\n",
    "        token = re.compile(\"[\\w]+(?=n't)|n't|\\'s|\\'m|\\'ll|[\\w]+|[.?!;,\\-\\(\\)—\\:'\\\"]\")\n",
    "        return token.findall(sentence)\n",
    "\n",
    "#load alt tokenizer\n",
    "my_alt_tokenizer = alt_tokenizer()"
   ]
  },
  {
   "cell_type": "code",
   "execution_count": 14,
   "metadata": {
    "collapsed": false
   },
   "outputs": [],
   "source": [
    "# Define a function to split a doc into parsed sentences\n",
    "def doc_to_sentences( doc, tokenizer, vocab=None, remove_stopwords=False, remove_non_letters=False, remove_non_letters_numbers=True ):\n",
    "    if vocab is None:\n",
    "        vocab = ['<PAD>', '<OOV>']\n",
    "    \n",
    "    # Function to split a doc into parsed sentences. Returns a \n",
    "    # list of sentences, where each sentence is a list of words\n",
    "    #\n",
    "    # 1. Use the NLTK tokenizer to split the paragraph into sentences\n",
    "    raw_sentences = tokenizer.tokenize(doc.strip())\n",
    "    #\n",
    "    # 2. Loop over each sentence\n",
    "    sentences = []\n",
    "    for raw_sentence in raw_sentences:\n",
    "        # If a sentence is empty, skip it\n",
    "        if len(raw_sentence) > 0:\n",
    "            # Otherwise, call review_to_wordlist to get a list of words\n",
    "            (words,vocab) = doc_to_wordlist( raw_sentence, vocab, remove_stopwords )\n",
    "            sentences.append(words)\n",
    "    #\n",
    "    # Return the list of sentences (each sentence is a list of words,\n",
    "    # so this returns a list of lists\n",
    "    return sentences,vocab\n"
   ]
  },
  {
   "cell_type": "code",
   "execution_count": null,
   "metadata": {
    "collapsed": true
   },
   "outputs": [],
   "source": []
  },
  {
   "cell_type": "code",
   "execution_count": 15,
   "metadata": {
    "collapsed": false
   },
   "outputs": [
    {
     "name": "stdout",
     "output_type": "stream",
     "text": [
      "make grilling great with this handsome and functional grill gazebo this grill gazebo is a great gift to anyone who loves to grill yourself included providing shade and protection from harmful uv rays rain and debris this grill gazebo will help keep your grill looking great and keep you cool when grilling in the hot summer sun this grill gazebo comes with a rich brown canopy and black frame its 8 foot width means that you can easily fit most size grills beneath and standing at 8 feet tall even the tallest grill afficionado will fit beneath comfortably upgrade your grilling today with the addition of this stunning grill gazebo vented canopy built in lattice work is great for holding grill accessories2 built in tile shelves versatile design will coordinate easily durable powder coated finish low maintenance easy to clean\n",
      "sun joy calais 8 ft. x 5 ft. x 8 ft. steel tile fabric grill gazebo\n",
      "['sun', 'joy', 'calais', '8', 'ft', '.', 'x', '5', 'ft', '.', 'x', '8', 'ft', '.', 'steel', 'tile', 'fabric', 'grill', 'gazebo']\n",
      "16\n",
      "2\n",
      "['<PAD>', '<OOV>']\n"
     ]
    }
   ],
   "source": [
    "print(product_df['product_description'][10])\n",
    "print(product_df['content'][10])\n",
    "vocab=['<PAD>', '<OOV>']\n",
    "#retokenise:\n",
    "tokens=my_alt_tokenizer.tokenize(product_df['content'][10])\n",
    "print(tokens)\n",
    "words,vocab=doc_to_wordlist(str(tokens),remove_stopwords=True, \\\n",
    "                            remove_non_letters=False, remove_non_letters_numbers=True)\n",
    "print(len(words))\n",
    "#print(len(doc_to_wordlist(product_df['content'][0],remove_stopwords=False)))\n",
    "print(len(vocab))\n",
    "print(vocab)"
   ]
  },
  {
   "cell_type": "code",
   "execution_count": 16,
   "metadata": {
    "collapsed": false
   },
   "outputs": [
    {
     "name": "stdout",
     "output_type": "stream",
     "text": [
      "1\n",
      "2\n"
     ]
    }
   ],
   "source": [
    "product_df['content'][100]\n",
    "vocab=None\n",
    "sentences,vocab = doc_to_sentences(product_df['content'][100],tokenizer,remove_stopwords=True, \\\n",
    "                            remove_non_letters=False, remove_non_letters_numbers=True)\n",
    "print(len(sentences))\n",
    "print(len(vocab))\n",
    "# print(len(doc_to_sentences(product_df['content'][0],tokenizer,remove_stopwords=True)))\n",
    "# print(len(doc_to_sentences(product_df['content'][0],tokenizer,remove_stopwords=False)))\n",
    "# product_df['content'][0]"
   ]
  },
  {
   "cell_type": "code",
   "execution_count": null,
   "metadata": {
    "collapsed": true
   },
   "outputs": [],
   "source": []
  },
  {
   "cell_type": "code",
   "execution_count": 17,
   "metadata": {
    "collapsed": false
   },
   "outputs": [
    {
     "name": "stdout",
     "output_type": "stream",
     "text": [
      "Parsing sentences from search string\n"
     ]
    }
   ],
   "source": [
    "sentences = []  # Initialize an empty list of sentences\n",
    "query_sentences = []\n",
    "doc_sentences = []\n",
    "vocab=['<PAD>', '<OOV>']\n",
    "print(\"Parsing sentences from search string\")\n",
    "for query in train_query_df[\"search_term\"]:\n",
    "    words,vocab=doc_to_wordlist(query,vocab, remove_stopwords=True, remove_non_letters=False, remove_non_letters_numbers=True)\n",
    "    query_sentences += [words]\n",
    " "
   ]
  },
  {
   "cell_type": "code",
   "execution_count": 18,
   "metadata": {
    "collapsed": false
   },
   "outputs": [
    {
     "name": "stdout",
     "output_type": "stream",
     "text": [
      "74067\n",
      "2\n"
     ]
    }
   ],
   "source": [
    "print(len(query_sentences))\n",
    "print(len(vocab))"
   ]
  },
  {
   "cell_type": "code",
   "execution_count": 19,
   "metadata": {
    "collapsed": false
   },
   "outputs": [
    {
     "name": "stdout",
     "output_type": "stream",
     "text": [
      "Parsing sentences from unlabeled set\n"
     ]
    }
   ],
   "source": [
    "print(\"Parsing sentences from unlabeled set\")\n",
    "for doc in product_df['content']:\n",
    "    words,vocab=doc_to_wordlist(doc,vocab, remove_stopwords=True,remove_non_letters=False, remove_non_letters_numbers=True)\n",
    "    doc_sentences += [words]\n",
    "\n",
    "sentences = query_sentences+doc_sentences   "
   ]
  },
  {
   "cell_type": "code",
   "execution_count": 20,
   "metadata": {
    "collapsed": false
   },
   "outputs": [
    {
     "name": "stdout",
     "output_type": "stream",
     "text": [
      "198495\n",
      "2\n"
     ]
    }
   ],
   "source": [
    "print(len(sentences))\n",
    "print(len(vocab))"
   ]
  },
  {
   "cell_type": "code",
   "execution_count": null,
   "metadata": {
    "collapsed": true
   },
   "outputs": [],
   "source": []
  },
  {
   "cell_type": "code",
   "execution_count": 125,
   "metadata": {
    "collapsed": false
   },
   "outputs": [
    {
     "name": "stderr",
     "output_type": "stream",
     "text": [
      "2017-04-05 11:18:50,640 : INFO : collecting all words and their counts\n",
      "2017-04-05 11:18:50,641 : INFO : PROGRESS: at sentence #0, processed 0 words, keeping 0 word types\n",
      "2017-04-05 11:18:50,653 : INFO : PROGRESS: at sentence #10000, processed 29172 words, keeping 3572 word types\n",
      "2017-04-05 11:18:50,664 : INFO : PROGRESS: at sentence #20000, processed 59500 words, keeping 4877 word types\n",
      "2017-04-05 11:18:50,676 : INFO : PROGRESS: at sentence #30000, processed 89924 words, keeping 5430 word types\n",
      "2017-04-05 11:18:50,687 : INFO : PROGRESS: at sentence #40000, processed 119667 words, keeping 5752 word types\n",
      "2017-04-05 11:18:50,698 : INFO : PROGRESS: at sentence #50000, processed 149568 words, keeping 6001 word types\n",
      "2017-04-05 11:18:50,709 : INFO : PROGRESS: at sentence #60000, processed 183701 words, keeping 6510 word types\n",
      "2017-04-05 11:18:50,721 : INFO : PROGRESS: at sentence #70000, processed 220154 words, keeping 6767 word types\n",
      "2017-04-05 11:18:50,745 : INFO : PROGRESS: at sentence #80000, processed 301175 words, keeping 9525 word types\n",
      "2017-04-05 11:18:50,773 : INFO : PROGRESS: at sentence #90000, processed 414350 words, keeping 12343 word types\n",
      "2017-04-05 11:18:50,803 : INFO : PROGRESS: at sentence #100000, processed 527505 words, keeping 14306 word types\n",
      "2017-04-05 11:18:50,833 : INFO : PROGRESS: at sentence #110000, processed 639964 words, keeping 15914 word types\n"
     ]
    },
    {
     "name": "stdout",
     "output_type": "stream",
     "text": [
      "Training model...\n"
     ]
    },
    {
     "name": "stderr",
     "output_type": "stream",
     "text": [
      "2017-04-05 11:18:50,864 : INFO : PROGRESS: at sentence #120000, processed 760715 words, keeping 17720 word types\n",
      "2017-04-05 11:18:50,895 : INFO : PROGRESS: at sentence #130000, processed 877727 words, keeping 19133 word types\n",
      "2017-04-05 11:18:50,922 : INFO : PROGRESS: at sentence #140000, processed 989816 words, keeping 20489 word types\n",
      "2017-04-05 11:18:50,951 : INFO : PROGRESS: at sentence #150000, processed 1101386 words, keeping 21516 word types\n",
      "2017-04-05 11:18:50,984 : INFO : PROGRESS: at sentence #160000, processed 1215308 words, keeping 22616 word types\n",
      "2017-04-05 11:18:51,018 : INFO : PROGRESS: at sentence #170000, processed 1334055 words, keeping 23694 word types\n",
      "2017-04-05 11:18:51,051 : INFO : PROGRESS: at sentence #180000, processed 1452891 words, keeping 24550 word types\n",
      "2017-04-05 11:18:51,082 : INFO : PROGRESS: at sentence #190000, processed 1564299 words, keeping 25332 word types\n",
      "2017-04-05 11:18:51,107 : INFO : collected 25971 word types from a corpus of 1658493 raw words and 198495 sentences\n",
      "2017-04-05 11:18:51,107 : INFO : Loading a fresh vocabulary\n",
      "2017-04-05 11:18:51,187 : INFO : min_count=1 retains 25971 unique words (100% of original 25971, drops 0)\n",
      "2017-04-05 11:18:51,188 : INFO : min_count=1 leaves 1658493 word corpus (100% of original 1658493, drops 0)\n",
      "2017-04-05 11:18:51,315 : INFO : deleting the raw counts dictionary of 25971 items\n",
      "2017-04-05 11:18:51,317 : INFO : sample=0 downsamples 0 most-common words\n",
      "2017-04-05 11:18:51,317 : INFO : downsampling leaves estimated 1658493 word corpus (100.0% of prior 1658493)\n",
      "2017-04-05 11:18:51,318 : INFO : estimated required memory for 25971 words and 300 dimensions: 75315900 bytes\n",
      "2017-04-05 11:18:51,421 : INFO : resetting layer weights\n",
      "2017-04-05 11:18:51,985 : INFO : training model with 4 workers on 25971 vocabulary and 300 features, using sg=0 hs=0 sample=0 negative=5 window=10\n",
      "2017-04-05 11:18:51,986 : INFO : expecting 198495 sentences, matching count from corpus used for vocabulary survey\n",
      "2017-04-05 11:18:53,016 : INFO : PROGRESS: at 3.85% examples, 254349 words/s, in_qsize 7, out_qsize 0\n",
      "2017-04-05 11:18:54,022 : INFO : PROGRESS: at 4.74% examples, 226682 words/s, in_qsize 7, out_qsize 0\n",
      "2017-04-05 11:18:55,029 : INFO : PROGRESS: at 6.00% examples, 247017 words/s, in_qsize 7, out_qsize 0\n",
      "2017-04-05 11:18:56,029 : INFO : PROGRESS: at 7.32% examples, 260067 words/s, in_qsize 7, out_qsize 0\n",
      "2017-04-05 11:18:57,056 : INFO : PROGRESS: at 8.63% examples, 266549 words/s, in_qsize 7, out_qsize 0\n",
      "2017-04-05 11:18:58,106 : INFO : PROGRESS: at 9.87% examples, 266515 words/s, in_qsize 7, out_qsize 0\n",
      "2017-04-05 11:18:59,110 : INFO : PROGRESS: at 13.85% examples, 269654 words/s, in_qsize 7, out_qsize 0\n",
      "2017-04-05 11:19:00,154 : INFO : PROGRESS: at 14.78% examples, 260898 words/s, in_qsize 7, out_qsize 0\n",
      "2017-04-05 11:19:01,158 : INFO : PROGRESS: at 16.00% examples, 262835 words/s, in_qsize 7, out_qsize 0\n",
      "2017-04-05 11:19:02,161 : INFO : PROGRESS: at 17.14% examples, 262457 words/s, in_qsize 7, out_qsize 0\n",
      "2017-04-05 11:19:03,181 : INFO : PROGRESS: at 18.42% examples, 264455 words/s, in_qsize 7, out_qsize 0\n",
      "2017-04-05 11:19:04,272 : INFO : PROGRESS: at 19.64% examples, 263751 words/s, in_qsize 7, out_qsize 0\n",
      "2017-04-05 11:19:05,300 : INFO : PROGRESS: at 23.94% examples, 270416 words/s, in_qsize 8, out_qsize 0\n",
      "2017-04-05 11:19:06,425 : INFO : PROGRESS: at 25.32% examples, 270800 words/s, in_qsize 7, out_qsize 0\n",
      "2017-04-05 11:19:07,442 : INFO : PROGRESS: at 26.30% examples, 267848 words/s, in_qsize 7, out_qsize 0\n",
      "2017-04-05 11:19:08,540 : INFO : PROGRESS: at 27.56% examples, 266997 words/s, in_qsize 7, out_qsize 0\n",
      "2017-04-05 11:19:09,568 : INFO : PROGRESS: at 28.46% examples, 263312 words/s, in_qsize 7, out_qsize 0\n",
      "2017-04-05 11:19:10,703 : INFO : PROGRESS: at 29.55% examples, 260698 words/s, in_qsize 8, out_qsize 0\n",
      "2017-04-05 11:19:11,705 : INFO : PROGRESS: at 33.00% examples, 261649 words/s, in_qsize 7, out_qsize 0\n",
      "2017-04-05 11:19:12,753 : INFO : PROGRESS: at 34.75% examples, 261918 words/s, in_qsize 7, out_qsize 0\n",
      "2017-04-05 11:19:13,770 : INFO : PROGRESS: at 36.09% examples, 263911 words/s, in_qsize 7, out_qsize 0\n",
      "2017-04-05 11:19:14,804 : INFO : PROGRESS: at 37.38% examples, 264651 words/s, in_qsize 8, out_qsize 0\n",
      "2017-04-05 11:19:15,806 : INFO : PROGRESS: at 38.47% examples, 264012 words/s, in_qsize 7, out_qsize 0\n",
      "2017-04-05 11:19:16,823 : INFO : PROGRESS: at 39.51% examples, 262855 words/s, in_qsize 7, out_qsize 0\n",
      "2017-04-05 11:19:17,860 : INFO : PROGRESS: at 43.01% examples, 263533 words/s, in_qsize 7, out_qsize 0\n",
      "2017-04-05 11:19:18,873 : INFO : PROGRESS: at 44.70% examples, 263640 words/s, in_qsize 8, out_qsize 0\n",
      "2017-04-05 11:19:19,932 : INFO : PROGRESS: at 45.93% examples, 263659 words/s, in_qsize 8, out_qsize 0\n",
      "2017-04-05 11:19:20,952 : INFO : PROGRESS: at 47.06% examples, 263347 words/s, in_qsize 7, out_qsize 0\n",
      "2017-04-05 11:19:21,959 : INFO : PROGRESS: at 48.30% examples, 263838 words/s, in_qsize 7, out_qsize 0\n",
      "2017-04-05 11:19:22,981 : INFO : PROGRESS: at 49.52% examples, 264169 words/s, in_qsize 7, out_qsize 0\n",
      "2017-04-05 11:19:23,983 : INFO : PROGRESS: at 53.82% examples, 267138 words/s, in_qsize 7, out_qsize 0\n",
      "2017-04-05 11:19:24,986 : INFO : PROGRESS: at 55.02% examples, 267194 words/s, in_qsize 7, out_qsize 0\n",
      "2017-04-05 11:19:25,989 : INFO : PROGRESS: at 56.18% examples, 267255 words/s, in_qsize 7, out_qsize 0\n",
      "2017-04-05 11:19:27,011 : INFO : PROGRESS: at 57.43% examples, 267440 words/s, in_qsize 7, out_qsize 0\n",
      "2017-04-05 11:19:28,053 : INFO : PROGRESS: at 58.68% examples, 267749 words/s, in_qsize 7, out_qsize 0\n",
      "2017-04-05 11:19:29,059 : INFO : PROGRESS: at 59.75% examples, 266955 words/s, in_qsize 7, out_qsize 0\n",
      "2017-04-05 11:19:30,061 : INFO : PROGRESS: at 64.00% examples, 269121 words/s, in_qsize 7, out_qsize 0\n",
      "2017-04-05 11:19:31,068 : INFO : PROGRESS: at 65.38% examples, 270116 words/s, in_qsize 8, out_qsize 0\n",
      "2017-04-05 11:19:32,098 : INFO : PROGRESS: at 66.35% examples, 268907 words/s, in_qsize 8, out_qsize 0\n",
      "2017-04-05 11:19:33,110 : INFO : PROGRESS: at 67.66% examples, 269337 words/s, in_qsize 7, out_qsize 0\n",
      "2017-04-05 11:19:34,178 : INFO : PROGRESS: at 68.98% examples, 269863 words/s, in_qsize 7, out_qsize 0\n",
      "2017-04-05 11:19:35,212 : INFO : PROGRESS: at 70.08% examples, 268724 words/s, in_qsize 8, out_qsize 0\n",
      "2017-04-05 11:19:36,212 : INFO : PROGRESS: at 73.78% examples, 268073 words/s, in_qsize 7, out_qsize 0\n",
      "2017-04-05 11:19:37,232 : INFO : PROGRESS: at 74.76% examples, 266890 words/s, in_qsize 8, out_qsize 0\n",
      "2017-04-05 11:19:38,297 : INFO : PROGRESS: at 75.47% examples, 264204 words/s, in_qsize 7, out_qsize 0\n",
      "2017-04-05 11:19:39,339 : INFO : PROGRESS: at 76.31% examples, 262614 words/s, in_qsize 7, out_qsize 0\n",
      "2017-04-05 11:19:40,363 : INFO : PROGRESS: at 77.25% examples, 261392 words/s, in_qsize 7, out_qsize 0\n",
      "2017-04-05 11:19:41,374 : INFO : PROGRESS: at 78.14% examples, 260087 words/s, in_qsize 7, out_qsize 0\n",
      "2017-04-05 11:19:42,509 : INFO : PROGRESS: at 78.99% examples, 258199 words/s, in_qsize 7, out_qsize 0\n",
      "2017-04-05 11:19:43,516 : INFO : PROGRESS: at 80.27% examples, 257808 words/s, in_qsize 8, out_qsize 0\n",
      "2017-04-05 11:19:44,571 : INFO : PROGRESS: at 84.05% examples, 258153 words/s, in_qsize 7, out_qsize 0\n",
      "2017-04-05 11:19:45,571 : INFO : PROGRESS: at 85.12% examples, 257807 words/s, in_qsize 7, out_qsize 0\n",
      "2017-04-05 11:19:46,594 : INFO : PROGRESS: at 86.06% examples, 257007 words/s, in_qsize 7, out_qsize 0\n",
      "2017-04-05 11:19:47,680 : INFO : PROGRESS: at 87.07% examples, 256122 words/s, in_qsize 7, out_qsize 0\n",
      "2017-04-05 11:19:48,761 : INFO : PROGRESS: at 88.14% examples, 255470 words/s, in_qsize 7, out_qsize 0\n",
      "2017-04-05 11:19:49,840 : INFO : PROGRESS: at 89.16% examples, 254853 words/s, in_qsize 7, out_qsize 0\n",
      "2017-04-05 11:19:50,872 : INFO : PROGRESS: at 91.11% examples, 254629 words/s, in_qsize 8, out_qsize 0\n",
      "2017-04-05 11:19:51,898 : INFO : PROGRESS: at 94.05% examples, 254275 words/s, in_qsize 6, out_qsize 1\n",
      "2017-04-05 11:19:52,913 : INFO : PROGRESS: at 94.98% examples, 253482 words/s, in_qsize 7, out_qsize 0\n",
      "2017-04-05 11:19:53,966 : INFO : PROGRESS: at 95.61% examples, 251431 words/s, in_qsize 7, out_qsize 0\n",
      "2017-04-05 11:19:55,008 : INFO : PROGRESS: at 96.23% examples, 249655 words/s, in_qsize 7, out_qsize 0\n",
      "2017-04-05 11:19:56,109 : INFO : PROGRESS: at 97.08% examples, 248328 words/s, in_qsize 7, out_qsize 0\n",
      "2017-04-05 11:19:57,128 : INFO : PROGRESS: at 97.89% examples, 247204 words/s, in_qsize 7, out_qsize 0\n",
      "2017-04-05 11:19:58,235 : INFO : PROGRESS: at 98.48% examples, 245186 words/s, in_qsize 7, out_qsize 0\n",
      "2017-04-05 11:19:59,241 : INFO : PROGRESS: at 99.21% examples, 244045 words/s, in_qsize 7, out_qsize 0\n",
      "2017-04-05 11:20:00,134 : INFO : worker thread finished; awaiting finish of 3 more threads\n",
      "2017-04-05 11:20:00,139 : INFO : worker thread finished; awaiting finish of 2 more threads\n",
      "2017-04-05 11:20:00,211 : INFO : worker thread finished; awaiting finish of 1 more threads\n",
      "2017-04-05 11:20:00,223 : INFO : worker thread finished; awaiting finish of 0 more threads\n",
      "2017-04-05 11:20:00,223 : INFO : training on 16584930 raw words (16584930 effective words) took 68.2s, 243074 effective words/s\n",
      "2017-04-05 11:20:00,230 : INFO : precomputing L2-norms of word weight vectors\n",
      "2017-04-05 11:20:00,564 : INFO : saving Word2Vec object under model/word2vec_cnn.model, separately None\n",
      "2017-04-05 11:20:00,565 : INFO : not storing attribute syn0norm\n",
      "2017-04-05 11:20:00,565 : INFO : not storing attribute cum_table\n",
      "2017-04-05 11:20:01,205 : INFO : saved model/word2vec_cnn.model\n"
     ]
    }
   ],
   "source": [
    "# Import the built-in logging module and configure it so that Word2Vec \n",
    "# creates nice output messages\n",
    "import logging\n",
    "logging.basicConfig(format='%(asctime)s : %(levelname)s : %(message)s',\\\n",
    "    level=logging.INFO)\n",
    "\n",
    "# Set values for various parameters\n",
    "num_features = 300#50#300    # Word vector dimensionality                      \n",
    "min_word_count = 1#5#40   # Minimum word count                        \n",
    "num_workers = 4       # Number of threads to run in parallel\n",
    "context = 10          # Context window size                                                                                    \n",
    "downsampling = 0 #1e-3   # Downsample setting for frequent words\n",
    "iterations = 10\n",
    "\n",
    "# Initialize and train the model (this will take some time)\n",
    "from gensim.models import word2vec\n",
    "print(\"Training model...\")\n",
    "word2vec_model = word2vec.Word2Vec(sentences, workers=num_workers, \\\n",
    "            size=num_features, min_count = min_word_count, \\\n",
    "            window = context, sample = downsampling, iter=iterations)\n",
    "\n",
    "# If you don't plan to train the model any further, calling \n",
    "# init_sims will make the model much more memory-efficient.\n",
    "word2vec_model.init_sims(replace=True)\n",
    "\n",
    "# It can be helpful to create a meaningful model name and \n",
    "# save the model for later use. You can load it later using Word2Vec.load()\n",
    "#model_name = \"300features_40minwords_10context\"\n",
    "word2vec_model.save(word2vec_model_path)"
   ]
  },
  {
   "cell_type": "code",
   "execution_count": 22,
   "metadata": {
    "collapsed": false
   },
   "outputs": [
    {
     "name": "stdout",
     "output_type": "stream",
     "text": [
      "25971\n"
     ]
    }
   ],
   "source": [
    "print(len(word2vec_model.wv.vocab))\n",
    "#word2vec_model.wv.vocab"
   ]
  },
  {
   "cell_type": "code",
   "execution_count": 23,
   "metadata": {
    "collapsed": false
   },
   "outputs": [
    {
     "name": "stdout",
     "output_type": "stream",
     "text": [
      "[('mahogany', 0.541217565536499), ('cedar', 0.5299957394599915), ('maple', 0.4930189549922943)]\n"
     ]
    }
   ],
   "source": [
    "print(word2vec_model.most_similar('wood', [], 3))\n",
    "#print(word2vec_model.most_similar('temperature'))"
   ]
  },
  {
   "cell_type": "code",
   "execution_count": 24,
   "metadata": {
    "collapsed": false
   },
   "outputs": [],
   "source": [
    "# #w2v=Feature_Word2Vec(modelFilename=word2vec_model_path)#modelFilename=word2vec_model_path\n",
    "# w2v=Feature_Word2Vec()\n",
    "# #sentences=w2v.convertDFIntoSentences(product_df,'content')\n",
    "# #print(sentences)\n",
    "# w2v.trainModel(sentences)"
   ]
  },
  {
   "cell_type": "code",
   "execution_count": 25,
   "metadata": {
    "collapsed": false
   },
   "outputs": [],
   "source": [
    "# len(w2v.model.wv.vocab)"
   ]
  },
  {
   "cell_type": "code",
   "execution_count": 26,
   "metadata": {
    "collapsed": false
   },
   "outputs": [],
   "source": [
    "# w2vExpand=Word2VecQueryExpansion(modelFilename=word2vec_model_path)\n",
    "# query=\"cooking\"\n",
    "# print(\"Expanding query: \")\n",
    "# print(w2vExpand.getExpandedQuery(query,maxNoOfAdditionalWords=2,minSimilarityLevel=0.65,))"
   ]
  },
  {
   "cell_type": "code",
   "execution_count": 27,
   "metadata": {
    "collapsed": false
   },
   "outputs": [],
   "source": [
    "# print(w2v.getVectorFromWord('wood'))\n",
    "# print(w2v.getSimilarWordVectors('wood',5))\n",
    "# print(len(w2v.getVectorFromWord('wood')))"
   ]
  },
  {
   "cell_type": "code",
   "execution_count": null,
   "metadata": {
    "collapsed": true
   },
   "outputs": [],
   "source": [
    "    "
   ]
  },
  {
   "cell_type": "markdown",
   "metadata": {},
   "source": [
    "# embeddings to keras\n",
    "http://ben.bolte.cc/resources/embeddings/embeddings.html"
   ]
  },
  {
   "cell_type": "code",
   "execution_count": 28,
   "metadata": {
    "collapsed": false
   },
   "outputs": [],
   "source": [
    "#vocab = dict([(k, v.index) for k, v in w2v.model.wv.vocab.items()])\n",
    "#vocab = dict([(k, v.index) for k, v in word2vec_model.wv.vocab.items()])\n",
    "word2vec_vocab = dict([(k, v.index+2) for k, v in word2vec_model.wv.vocab.items()]) # Leave room for <pad>\n",
    "word2vec_vocab['<PAD>']=0\n",
    "word2vec_vocab['<OOV>']=1\n",
    "with open(vocab_path, 'w') as f:\n",
    "    f.write(json.dumps(word2vec_vocab))"
   ]
  },
  {
   "cell_type": "code",
   "execution_count": 29,
   "metadata": {
    "collapsed": false
   },
   "outputs": [],
   "source": [
    "#weights = w2v.model.wv.syn0\n",
    "weights = word2vec_model.wv.syn0\n",
    "np.save(open(embeddings_path, 'wb'), weights)"
   ]
  },
  {
   "cell_type": "code",
   "execution_count": 30,
   "metadata": {
    "collapsed": true
   },
   "outputs": [],
   "source": [
    "def load_vocab(vocab_path):\n",
    "    \"\"\"\n",
    "    Load word -> index and index -> word mappings\n",
    "    :param vocab_path: where the word-index map is saved\n",
    "    :return: word2idx, idx2word\n",
    "    \"\"\"\n",
    "\n",
    "    with open(vocab_path, 'r') as f:\n",
    "        data = json.loads(f.read())\n",
    "    word2idx = data\n",
    "    idx2word = dict([(v, k) for k, v in data.items()])\n",
    "    return word2idx, idx2word"
   ]
  },
  {
   "cell_type": "code",
   "execution_count": 31,
   "metadata": {
    "collapsed": false
   },
   "outputs": [],
   "source": [
    "word2idx, idx2word = load_vocab(vocab_path)"
   ]
  },
  {
   "cell_type": "code",
   "execution_count": 32,
   "metadata": {
    "collapsed": true
   },
   "outputs": [],
   "source": [
    "def word2vec_embedding_layer(embeddings_path,masking=True,trainable=False):\n",
    "    \"\"\"\n",
    "    Generate an embedding layer word2vec embeddings\n",
    "    :param embeddings_path: where the embeddings are saved (as a numpy file)\n",
    "    :return: the generated embedding layer\n",
    "    \"\"\"\n",
    "\n",
    "    saved_weights = np.load(open(embeddings_path, 'rb'))\n",
    "    padding_weight = np.zeros(num_features)\n",
    "    padding_weight=np.expand_dims(padding_weight,axis=0)\n",
    "    oov_weight = np.random.rand(num_features)\n",
    "    oov_weight=np.expand_dims(oov_weight,axis=0)    \n",
    "    weights=np.concatenate((padding_weight,saved_weights), axis=0)\n",
    "    layer = Embedding(input_dim=weights.shape[0], output_dim=weights.shape[1], weights=[weights],mask_zero=masking, trainable=trainable)\n",
    "    return layer"
   ]
  },
  {
   "cell_type": "code",
   "execution_count": 33,
   "metadata": {
    "collapsed": false
   },
   "outputs": [],
   "source": [
    "#a = np.load(open(embeddings_path, 'rb'))\n",
    "# b = np.zeros(50)\n",
    "# b=np.expand_dims(b,axis=0)\n",
    "# b.shape"
   ]
  },
  {
   "cell_type": "code",
   "execution_count": 34,
   "metadata": {
    "collapsed": false
   },
   "outputs": [],
   "source": [
    "# c=np.concatenate((b,a), axis=0)\n",
    "# c[0:2]"
   ]
  },
  {
   "cell_type": "code",
   "execution_count": 35,
   "metadata": {
    "collapsed": false
   },
   "outputs": [],
   "source": [
    "# idx2word = []\n",
    "# idx2word=[dict([(v, k) for k, v in word2idx.items()])]\n",
    "# idx2word.insert(0, '<PAD>')"
   ]
  },
  {
   "cell_type": "code",
   "execution_count": 36,
   "metadata": {
    "collapsed": false
   },
   "outputs": [
    {
     "data": {
      "text/plain": [
       "'<PAD>'"
      ]
     },
     "execution_count": 36,
     "metadata": {},
     "output_type": "execute_result"
    }
   ],
   "source": [
    "idx2word[0]"
   ]
  },
  {
   "cell_type": "code",
   "execution_count": 37,
   "metadata": {
    "collapsed": false
   },
   "outputs": [
    {
     "data": {
      "text/plain": [
       "'<OOV>'"
      ]
     },
     "execution_count": 37,
     "metadata": {},
     "output_type": "execute_result"
    }
   ],
   "source": [
    "idx2word[1]"
   ]
  },
  {
   "cell_type": "code",
   "execution_count": 38,
   "metadata": {
    "collapsed": false
   },
   "outputs": [
    {
     "data": {
      "text/plain": [
       "'x'"
      ]
     },
     "execution_count": 38,
     "metadata": {},
     "output_type": "execute_result"
    }
   ],
   "source": [
    "idx2word[2]"
   ]
  },
  {
   "cell_type": "code",
   "execution_count": 39,
   "metadata": {
    "collapsed": false
   },
   "outputs": [],
   "source": [
    "print_tokens=False"
   ]
  },
  {
   "cell_type": "code",
   "execution_count": 40,
   "metadata": {
    "collapsed": false
   },
   "outputs": [],
   "source": [
    "# variable arguments are passed to gensim's word2vec model\n",
    "# if options.train:\n",
    "#     print('Training Word2Vec...')\n",
    "#     create_embeddings(options.data, options.embeddings, options.vocab, size=100, min_count=5, window=5, sg=1, iter=25)\n",
    "\n",
    "word2idx, idx2word = load_vocab(vocab_path)\n",
    "\n",
    "if print_tokens:\n",
    "    print('Tokens:', ', '.join(word2idx.keys()))\n",
    "\n"
   ]
  },
  {
   "cell_type": "markdown",
   "metadata": {},
   "source": [
    "# convert to idx"
   ]
  },
  {
   "cell_type": "code",
   "execution_count": 41,
   "metadata": {
    "collapsed": false
   },
   "outputs": [
    {
     "data": {
      "text/plain": [
       "25973"
      ]
     },
     "execution_count": 41,
     "metadata": {},
     "output_type": "execute_result"
    }
   ],
   "source": [
    "len(word2idx.keys())"
   ]
  },
  {
   "cell_type": "code",
   "execution_count": 42,
   "metadata": {
    "collapsed": true
   },
   "outputs": [],
   "source": [
    "#todo need to pass in word2idx\n",
    "def convert_word2idx(word,verbose=False):\n",
    "    if verbose:\n",
    "        print(\"word: {}\".format(word))\n",
    "    if str(word) not in word2idx.keys():\n",
    "        return 1\n",
    "    else:\n",
    "        return word2idx[word]"
   ]
  },
  {
   "cell_type": "code",
   "execution_count": 43,
   "metadata": {
    "collapsed": false
   },
   "outputs": [],
   "source": [
    "#convert_word2idx('bracket')\n",
    "for word in doc_sentences[100]:\n",
    "    idx=convert_word2idx(word)\n",
    "    #print(idx)"
   ]
  },
  {
   "cell_type": "code",
   "execution_count": 44,
   "metadata": {
    "collapsed": false
   },
   "outputs": [],
   "source": [
    "def query_sent2idx(sentences):\n",
    "    query_word2vec_idx_list=[]\n",
    "    queries=sentences #w2v.convertDFIntoSentences(df,col)\n",
    "    print(len(queries))\n",
    "    for query in queries:\n",
    "        idx_list = []\n",
    "        for word in query:\n",
    "#             if word not in word2idx.keys():\n",
    "#                 idx_list+=[0]#[len(word2idx.keys())] # use last as special key #TODO: well we need to fix this. Using 0 for now so it's in range To OOV or something random\n",
    "#             else:\n",
    "#                 idx_list+=[word2idx[word]]\n",
    "            idx_list+=[convert_word2idx(word)]\n",
    "        query_word2vec_idx_list+=[idx_list]\n",
    "        #print(\"=====\")\n",
    "        #print(idx_list)\n",
    "        #print(\"=====\")\n",
    "    return query_word2vec_idx_list\n"
   ]
  },
  {
   "cell_type": "code",
   "execution_count": 45,
   "metadata": {
    "collapsed": false
   },
   "outputs": [
    {
     "name": "stdout",
     "output_type": "stream",
     "text": [
      "74067\n"
     ]
    }
   ],
   "source": [
    "#query_word2vec_idx_list = query_sent2idx(train_query_df['search_term'])\n",
    "query_word2vec_idx_list = query_sent2idx(query_sentences)\n",
    "#print(query_word2vec_idx_list)"
   ]
  },
  {
   "cell_type": "code",
   "execution_count": 46,
   "metadata": {
    "collapsed": false
   },
   "outputs": [],
   "source": [
    "# def doc_sent2idx(df,col):\n",
    "#     doc_word2vec_idx_list=[]\n",
    "#     for row in df.iteritems():\n",
    "#         a=w2v.convertDFIntoSentences(row,col)\n",
    "#         print(a)\n",
    "# #    print(len(queries))\n",
    "# #     for query in queries:\n",
    "# #         idx_list = []\n",
    "# #         for word in query:\n",
    "# #             if word not in word2idx.keys():\n",
    "# #                 idx_list+=[len(word2idx.keys())] # use last as special key\n",
    "# #             else:\n",
    "# #                 idx_list+=[word2idx[word]]\n",
    "# #         query_word2vec_idx_list+=[idx_list]\n",
    "# #         print(\"=====\")\n",
    "# #         print(idx_list)\n",
    "# #         print(\"=====\")\n",
    "#     return doc_word2vec_idx_list"
   ]
  },
  {
   "cell_type": "code",
   "execution_count": 47,
   "metadata": {
    "collapsed": false
   },
   "outputs": [
    {
     "name": "stdout",
     "output_type": "stream",
     "text": [
      "74067\n"
     ]
    }
   ],
   "source": [
    "#TODO: this is fucked. just bodge for testing nn\n",
    "#doc_word2vec_idx_list = query_sent2idx(product_df,'product_title')\n",
    "joined_df=train_query_df.join(product_df.set_index('product_uid'), on='product_uid')\n",
    "\n",
    "joined_doc_sentences=[]\n",
    "for doc in joined_df['content']:\n",
    "    words,vocab = doc_to_wordlist(doc,vocab, remove_stopwords=True)\n",
    "    joined_doc_sentences+=[words]\n",
    "    \n",
    "doc_word2vec_idx_list = query_sent2idx(joined_doc_sentences)\n",
    "#print(doc_word2vec_idx_list)"
   ]
  },
  {
   "cell_type": "code",
   "execution_count": 48,
   "metadata": {
    "collapsed": false
   },
   "outputs": [
    {
     "data": {
      "text/plain": [
       "74067"
      ]
     },
     "execution_count": 48,
     "metadata": {},
     "output_type": "execute_result"
    }
   ],
   "source": [
    "len(joined_doc_sentences)"
   ]
  },
  {
   "cell_type": "code",
   "execution_count": 49,
   "metadata": {
    "collapsed": false
   },
   "outputs": [
    {
     "data": {
      "text/plain": [
       "[[484, 523, 391, 16, 256, 369],\n",
       " [484, 523, 391, 16, 256, 369],\n",
       " [120, 78, 907, 188, 3, 36, 1335, 10807, 12932, 23, 276, 921],\n",
       " [192, 3260, 3, 50, 24, 57, 92, 20, 42, 115, 452],\n",
       " [192, 3260, 3, 50, 24, 57, 92, 20, 42, 115, 452],\n",
       " [342, 3, 55, 113, 5, 181, 721, 548, 31, 17, 593, 1346],\n",
       " [342, 3, 55, 113, 5, 181, 721, 548, 31, 17, 593, 1346],\n",
       " [342, 3, 55, 113, 5, 181, 721, 548, 31, 17, 593, 1346],\n",
       " [564, 47, 4840, 4, 12, 18, 35, 1644, 351, 679],\n",
       " [212, 1383, 7, 6, 2, 7, 2, 9, 5, 751, 1910, 1267]]"
      ]
     },
     "execution_count": 49,
     "metadata": {},
     "output_type": "execute_result"
    }
   ],
   "source": [
    "doc_word2vec_idx_list[0:10]\n",
    "#query_word2vec_idx_list[100:110]\n",
    "#query_sent2idx(joined_doc_sentences[0])"
   ]
  },
  {
   "cell_type": "code",
   "execution_count": 50,
   "metadata": {
    "collapsed": false
   },
   "outputs": [],
   "source": [
    "# # cosine similarity model\n",
    "# print('Building model...')\n",
    "# input_a = Input(shape=(1,), dtype='int32', name='input_a')\n",
    "# input_b = Input(shape=(1,), dtype='int32', name='input_b')\n",
    "# embeddings = word2vec_embedding_layer(embeddings_path)\n",
    "# embedding_a = embeddings(input_a)\n",
    "# embedding_b = embeddings(input_b)\n",
    "# similarity = merge([embedding_a, embedding_b], mode='cos', dot_axes=2)\n",
    "# model = Model(input=[input_a, input_b], output=similarity)\n",
    "# model.compile(optimizer='sgd', loss='mse') # optimizer and loss don't matter\n",
    "\n",
    "\n",
    "# word_a = 'wood'#raw_input('First word: ')\n",
    "# if word_a not in word2idx:\n",
    "#     print('\"%s\" is not in the index' % word_a)\n",
    "# word_b = 'fan'#raw_input('Second word: ')\n",
    "# if word_b not in word2idx:\n",
    "#     print('\"%s\" is not in the index' % word_b)\n",
    "# output = model.predict([np.asarray([word2idx[word_a]]), np.asarray([word2idx[word_b]])])\n",
    "# print('%f' % output)"
   ]
  },
  {
   "cell_type": "markdown",
   "metadata": {},
   "source": [
    "# GLOVE"
   ]
  },
  {
   "cell_type": "code",
   "execution_count": 51,
   "metadata": {
    "collapsed": false
   },
   "outputs": [
    {
     "data": {
      "text/plain": [
       "23"
      ]
     },
     "execution_count": 51,
     "metadata": {},
     "output_type": "execute_result"
    }
   ],
   "source": [
    "word2vec_vocab['wood']"
   ]
  },
  {
   "cell_type": "code",
   "execution_count": 52,
   "metadata": {
    "collapsed": false
   },
   "outputs": [],
   "source": [
    "import csv\n",
    "### GLOVE\n",
    "vocab_size=len(word2vec_vocab)#word2vec_model.wv.vocab)\n",
    "input_size=num_features\n",
    "LOAD_GLOVE=False\n",
    "pretrainedEmbedding='../data/glove.6B.100d.txt'\n",
    "### Load GloVe Pre-Trained Embedding ###\n",
    "\n",
    "if LOAD_GLOVE:\n",
    "    # Read in the pre-trained embeddings. Delimiter by space, without any quote\n",
    "    pretrain_embeddings = pd.read_csv(pretrainedEmbedding, header=None, delimiter=' ', quoting=csv.QUOTE_NONE)\n",
    "\n",
    "    # Convert data frame into a dict\n",
    "    pretrain_embeddings = pretrain_embeddings.set_index(0).T.to_dict('list')\n",
    "\n",
    "    pretrain_embeddings_sorted = np.random.rand(vocab_size, input_size)\n",
    "\n",
    "    count = 0\n",
    "    for word,index in word2vec_vocab.items():\n",
    "        if word in pretrain_embeddings:\n",
    "            count+=1\n",
    "            pretrain_embeddings_sorted[index] = pretrain_embeddings[word]\n",
    "\n",
    "    print(\"Number of pre-trained word/embedding matched: \", count, \" out of \", vocab_size)"
   ]
  },
  {
   "cell_type": "markdown",
   "metadata": {},
   "source": [
    "# Define model"
   ]
  },
  {
   "cell_type": "code",
   "execution_count": 53,
   "metadata": {
    "collapsed": false
   },
   "outputs": [],
   "source": [
    "lengths=[]\n",
    "for i in doc_word2vec_idx_list:\n",
    "    lengths+=[len(i)]"
   ]
  },
  {
   "cell_type": "code",
   "execution_count": 54,
   "metadata": {
    "collapsed": false
   },
   "outputs": [
    {
     "data": {
      "text/plain": [
       "(array([  1.00000000e+00,   2.50000000e+01,   0.00000000e+00,\n",
       "          1.56000000e+02,   7.17000000e+02,   0.00000000e+00,\n",
       "          1.71700000e+03,   3.11900000e+03,   0.00000000e+00,\n",
       "          4.87300000e+03,   6.46700000e+03,   0.00000000e+00,\n",
       "          7.25600000e+03,   7.65100000e+03,   0.00000000e+00,\n",
       "          7.52800000e+03,   6.83900000e+03,   0.00000000e+00,\n",
       "          6.40900000e+03,   5.32300000e+03,   0.00000000e+00,\n",
       "          4.27700000e+03,   3.23200000e+03,   0.00000000e+00,\n",
       "          2.69900000e+03,   1.88300000e+03,   0.00000000e+00,\n",
       "          1.16500000e+03,   8.39000000e+02,   0.00000000e+00,\n",
       "          6.56000000e+02,   3.86000000e+02,   0.00000000e+00,\n",
       "          3.17000000e+02,   2.18000000e+02,   0.00000000e+00,\n",
       "          1.48000000e+02,   1.08000000e+02,   0.00000000e+00,\n",
       "          3.30000000e+01,   1.40000000e+01,   0.00000000e+00,\n",
       "          8.00000000e+00,   0.00000000e+00,   0.00000000e+00,\n",
       "          0.00000000e+00,   2.00000000e+00,   0.00000000e+00,\n",
       "          0.00000000e+00,   1.00000000e+00]),\n",
       " array([  1.  ,   1.66,   2.32,   2.98,   3.64,   4.3 ,   4.96,   5.62,\n",
       "          6.28,   6.94,   7.6 ,   8.26,   8.92,   9.58,  10.24,  10.9 ,\n",
       "         11.56,  12.22,  12.88,  13.54,  14.2 ,  14.86,  15.52,  16.18,\n",
       "         16.84,  17.5 ,  18.16,  18.82,  19.48,  20.14,  20.8 ,  21.46,\n",
       "         22.12,  22.78,  23.44,  24.1 ,  24.76,  25.42,  26.08,  26.74,\n",
       "         27.4 ,  28.06,  28.72,  29.38,  30.04,  30.7 ,  31.36,  32.02,\n",
       "         32.68,  33.34,  34.  ]),\n",
       " <a list of 50 Patch objects>)"
      ]
     },
     "execution_count": 54,
     "metadata": {},
     "output_type": "execute_result"
    },
    {
     "data": {
      "image/png": "[encoded data removed]",
      "text/plain": [
       "<matplotlib.figure.Figure at 0x7fc206513f98>"
      ]
     },
     "metadata": {},
     "output_type": "display_data"
    }
   ],
   "source": [
    "import matplotlib.pyplot as plt\n",
    "%matplotlib inline\n",
    "plt.hist(lengths,bins=50)"
   ]
  },
  {
   "cell_type": "code",
   "execution_count": 90,
   "metadata": {
    "collapsed": false
   },
   "outputs": [
    {
     "name": "stdout",
     "output_type": "stream",
     "text": [
      "6\n",
      "6\n",
      "1\n",
      "0\n"
     ]
    }
   ],
   "source": [
    "query_min_len = len(min(query_word2vec_idx_list,key=len)) #400 # todo: confirm this is sensible\n",
    "doc_min_len = len(min(doc_word2vec_idx_list,key=len)) #400 # todo: confirm this is sensible\n",
    "query_max_len = 6 #covers 95.74% of the search lengths (see data exploration)\n",
    "# find longest sub list\n",
    "doc_max_len = 6 #len(max(doc_word2vec_idx_list,key=len)) #400 # todo: confirm this is sensible\n",
    "query_filter_size_m=2\n",
    "doc_filter_size_m=2\n",
    "num_filters=100 #aka featuremaps\n",
    "\n",
    "# Model Hyperparameters\n",
    "embedding_dim = num_features#100 #50\n",
    "#filter_sizes = (3, 8)\n",
    "#num_filters = 10\n",
    "dropout_prob = 0.2 #0.5 from paper #(0.5, 0.8)\n",
    "hidden_dims = 50\n",
    "#https://github.com/alexander-rakhlin/CNN-for-Sentence-Classification-in-Keras/blob/master/sentiment_cnn.py\n",
    "\n",
    "print(doc_max_len)\n",
    "print(query_max_len)\n",
    "print(doc_min_len)\n",
    "print(query_min_len)"
   ]
  },
  {
   "cell_type": "code",
   "execution_count": 91,
   "metadata": {
    "collapsed": false
   },
   "outputs": [
    {
     "name": "stdout",
     "output_type": "stream",
     "text": [
      "Building model...\n",
      "____________________________________________________________________________________________________\n",
      "Layer (type)                     Output Shape          Param #     Connected to                     \n",
      "====================================================================================================\n",
      "input_doc (InputLayer)           (None, 8)             0                                            \n",
      "____________________________________________________________________________________________________\n",
      "embedding_2 (Embedding)          (None, 8, 300)        7791600                                      \n",
      "____________________________________________________________________________________________________\n",
      "input_query (InputLayer)         (None, 8)             0                                            \n",
      "____________________________________________________________________________________________________\n",
      "conv1d_4 (Conv1D)                (None, 8, 100)        60100                                        \n",
      "____________________________________________________________________________________________________\n",
      "conv1d_3 (Conv1D)                (None, 8, 100)        60100                                        \n",
      "____________________________________________________________________________________________________\n",
      "global_max_pooling1d_4 (GlobalMa (None, 100)           0                                            \n",
      "____________________________________________________________________________________________________\n",
      "global_max_pooling1d_3 (GlobalMa (None, 100)           0                                            \n",
      "____________________________________________________________________________________________________\n",
      "dense_4 (Dense)                  (None, 100)           10000                                        \n",
      "____________________________________________________________________________________________________\n",
      "dot_2 (Dot)                      (None, 1)             0                                            \n",
      "____________________________________________________________________________________________________\n",
      "concatenate_2 (Concatenate)      (None, 201)           0                                            \n",
      "____________________________________________________________________________________________________\n",
      "dense_5 (Dense)                  (None, 601)           121402                                       \n",
      "____________________________________________________________________________________________________\n",
      "dropout_2 (Dropout)              (None, 601)           0                                            \n",
      "____________________________________________________________________________________________________\n",
      "dense_6 (Dense)                  (None, 1)             602                                          \n",
      "====================================================================================================\n",
      "Total params: 8,043,804\n",
      "Trainable params: 8,043,804\n",
      "Non-trainable params: 0\n",
      "____________________________________________________________________________________________________\n"
     ]
    }
   ],
   "source": [
    "#TODO testing\n",
    "#doc_max_len=doc_min_len\n",
    "print('Building model...')\n",
    "\n",
    "embeddings = word2vec_embedding_layer(embeddings_path,masking=False,trainable=True)\n",
    "\n",
    "## embedding lookup\n",
    "input_query = Input(shape=(query_max_len+(query_filter_size_m-1)*2,), dtype='int32', name='input_query')\n",
    "input_doc = Input(shape=(doc_max_len+(doc_filter_size_m-1)*2,), dtype='int32', name='input_doc')\n",
    "input_exact_match = Input(shape=(query_max_len,doc_max_len), dtype='float32', name='input_exact_match')\n",
    "embedding_query = embeddings(input_query)  # (None, 6, 100)\n",
    "embedding_doc = embeddings(input_doc)      # (None, 400, 100)\n",
    "#TODO: do we want drop out here? \n",
    "\n",
    "## convolution layer\n",
    "# include bias vector to result of each feature map\n",
    "# relu activation\n",
    "conv_query_output = Conv1D(filters=num_filters,\n",
    "            kernel_size=query_filter_size_m,\n",
    "            strides=1, \n",
    "            padding='same', # 'valid', #The valid means there is no padding around input or feature map, while same means there are some padding around input or feature map, making the output feature map's size same as the input's\n",
    "            dilation_rate=1, \n",
    "            activation='relu', \n",
    "            use_bias=True, \n",
    "            kernel_initializer='glorot_uniform', \n",
    "            bias_initializer='glorot_uniform',#'zeros', \n",
    "            kernel_regularizer=None, bias_regularizer=None, activity_regularizer=None, \n",
    "            kernel_constraint=None, bias_constraint=None)(embedding_query)\n",
    "\n",
    "conv_doc_output = Conv1D(filters=num_filters,\n",
    "            kernel_size=doc_filter_size_m,\n",
    "            strides=1, \n",
    "            padding='same', # 'valid', #The valid means there is no padding around input or feature map, while same means there are some padding around input or feature map, making the output feature map's size same as the input's\n",
    "            dilation_rate=1, \n",
    "            activation='relu', \n",
    "            use_bias=True, \n",
    "            kernel_initializer='glorot_uniform', \n",
    "            bias_initializer='glorot_uniform',#'zeros', \n",
    "            kernel_regularizer=None, bias_regularizer=None, activity_regularizer=None, \n",
    "            kernel_constraint=None, bias_constraint=None)(embedding_doc)\n",
    "#TODO: do we want drop out here?\n",
    "\n",
    "## Pooling layer\n",
    "# TODO: sliding Max Pooling instead of original Global Pooling?\n",
    "conv_query_output=GlobalMaxPooling1D()(conv_query_output)\n",
    "conv_doc_output=GlobalMaxPooling1D()(conv_doc_output)\n",
    "\n",
    "## similarity matrix\n",
    "#cos_distance = merge([conv_query_output, conv_doc_output], mode='cos', dot_axes=1) # magic dot_axes works here!\n",
    "#cos_distance = Reshape((1,))(cos_distance)\n",
    "#cos_similarity = Lambda(lambda x: 1-x)(cos_distance)\n",
    "#similarity_output=dot([conv_query_output, conv_doc_output], axes=1, normalize=True)\n",
    "similarity_output = Dense(num_filters,activation='linear',use_bias=False, \\\n",
    "                          kernel_initializer='glorot_uniform', bias_initializer='zeros', kernel_regularizer=None, \\\n",
    "                          bias_regularizer=None, activity_regularizer=None, kernel_constraint=None, \\\n",
    "                          bias_constraint=None)(conv_doc_output)\n",
    "#TODO: is bias needed?\n",
    "similarity_output = dot([conv_query_output, similarity_output], axes=1, normalize=True)\n",
    "\n",
    "## Concatenate (join layer)\n",
    "concat_output = concatenate([conv_query_output,conv_doc_output,similarity_output])\n",
    "\n",
    "## Hidden layer\n",
    "hidden_output = Dense(embedding_dim*2+1,activation='relu',use_bias=True, \\\n",
    "                          kernel_initializer='glorot_uniform', bias_initializer='glorot_uniform', \\\n",
    "                          kernel_regularizer=None, \\\n",
    "                          bias_regularizer=None, activity_regularizer=None, kernel_constraint=None, \\\n",
    "                          bias_constraint=None)(concat_output)\n",
    "\n",
    "## dropout at softmax layer\n",
    "dropout_output = Dropout(dropout_prob)(hidden_output) #noise_shape=None, seed=None)\n",
    "\n",
    "## Final layer\n",
    "output = Dense(1,activation='sigmoid', kernel_initializer='glorot_uniform')(dropout_output)\n",
    "#categorical\n",
    "#output = Dense(13, activation='softmax', kernel_initializer='glorot_uniform')(dropout_output)\n",
    "\n",
    "# build model\n",
    "#model = Model([input_query], [query_output])\n",
    "#model = Model([input_doc], [encoded_doc])\n",
    "#model = Model([input_query,input_doc], [output1,output2,output3])\n",
    "#model = Model([input_query,input_doc], [output_combined])\n",
    "#model = Model([input_query,input_doc,input_exact_match], [query_output])\n",
    "#model = Model([input_query,input_doc], [query_output,doc_output])\n",
    "#model = Model([input_query,input_doc], [output])\n",
    "#model = Model([input_query,input_doc,input_exact_match], [mt_input])\n",
    "#model = Model([input_query,input_doc,input_exact_match], [mt_input_1,mt_input_2])\n",
    "model = Model([input_query,input_doc,input_exact_match], [output])\n",
    "#model = Model([input_query,input_doc,input_exact_match], [similarity_output])\n",
    "\n",
    "\n",
    "\n",
    "model.summary()"
   ]
  },
  {
   "cell_type": "code",
   "execution_count": null,
   "metadata": {
    "collapsed": false
   },
   "outputs": [],
   "source": []
  },
  {
   "cell_type": "code",
   "execution_count": 92,
   "metadata": {
    "collapsed": false
   },
   "outputs": [],
   "source": [
    "# # from keras.layers import Input, merge\n",
    "# # from keras.models import Model\n",
    "# # import numpy as np\n",
    "\n",
    "# # input_a = np.reshape([[1, 2, 3],[1, 2, 3],],[[1, 2, 3],[1, 2, 3]])\n",
    "# # input_b = np.reshape([4, 5, 6], (1, 1, 3))\n",
    "\n",
    "# # print(input_a)\n",
    "# # print(input_b)\n",
    "# # a = Input(shape=(1, 3))\n",
    "# # b = Input(shape=(1, 3))\n",
    "\n",
    "# # concat = merge([a, b], mode='concat', concat_axis=-1)\n",
    "# # dot = merge([a, b], mode='dot', dot_axes=2)\n",
    "# # cos = merge([a, b], mode='cos', dot_axes=2)\n",
    "\n",
    "# # model_concat = Model(input=[a, b], output=concat)\n",
    "# # model_dot = Model(input=[a, b], output=dot)\n",
    "# # model_cos = Model(input=[a, b], output=cos)\n",
    "\n",
    "# # print(model_concat.predict([input_a, input_b]))\n",
    "# # print(model_dot.predict([input_a, input_b]))\n",
    "# # print(model_cos.predict([input_a, input_b]))\n",
    "\n",
    "# from keras import backend as K\n",
    "# x_batch = K.ones(shape=(11, 6,50 ))\n",
    "# y_batch = K.ones(shape=(11, 400,50))\n",
    "# x_batch=K.batch_flatten(x_batch)\n",
    "# y_batch=K.batch_flatten(y_batch)\n",
    "# #xy_batch_dot = K.dot(transpose(y_batch),x_batch )#, axes=[0,0])\n",
    "# xy_batch_dot = K.batch_dot(x_batch,y_batch, axes=[0,0])\n",
    "# K.int_shape(xy_batch_dot)\n",
    "# # K.int_shape(x_batch)\n",
    "# # K.int_shape(y_batch)\n",
    "\n"
   ]
  },
  {
   "cell_type": "code",
   "execution_count": null,
   "metadata": {
    "collapsed": false
   },
   "outputs": [],
   "source": []
  },
  {
   "cell_type": "code",
   "execution_count": 93,
   "metadata": {
    "collapsed": false
   },
   "outputs": [],
   "source": [
    "optimizer = optimizers.Adam(lr=0.001)\n",
    "#optimizer = optimizers.SGD(lr = 0.001, momentum = 0.9, decay = 0.0, nesterov = True)\n",
    "model.compile(optimizer=optimizer, loss='mse', metrics=['accuracy'])\n",
    "#model.compile(optimizer=optimizer, loss='categorical_crossentropy', metrics=['accuracy'])"
   ]
  },
  {
   "cell_type": "code",
   "execution_count": 94,
   "metadata": {
    "collapsed": false
   },
   "outputs": [
    {
     "name": "stdout",
     "output_type": "stream",
     "text": [
      "Pad sequences (samples x time)\n",
      "x_query_train shape: (74067, 6)\n",
      "x_doc_train shape: (74067, 6)\n",
      "y_train shape: (74067,)\n"
     ]
    }
   ],
   "source": [
    "x_query_train=np.array(query_word2vec_idx_list)[0:74067]\n",
    "x_doc_train=np.array(doc_word2vec_idx_list)[0:74067]#[0:len(x_query_train)]\n",
    "\n",
    "# TODO: replace this with embedding with mask zero rather than padding, need to change index for encoding too, imput dim too.\n",
    "print(\"Pad sequences (samples x time)\")\n",
    "x_query_train = sequence.pad_sequences(x_query_train, maxlen=query_max_len,padding='post', truncating='post', value=0.)\n",
    "x_doc_train = sequence.pad_sequences(x_doc_train, maxlen=doc_max_len,padding='post', truncating='post', value=0.)\n",
    "# x_query_test = sequence.pad_sequences(x_query_test, maxlen=query_max_len)\n",
    "# x_doc_test = sequence.pad_sequences(x_doc_test, maxlen=doc_max_len)\n",
    "\n",
    "# Padding for wide convolution\n",
    "# Pad input with m-1 zeros from left and right. m is filter size\n",
    "padded_x_query_train = sequence.pad_sequences(x_query_train, maxlen=query_max_len+(query_filter_size_m-1),\\\n",
    "                                      padding='post', truncating='post', value=0.)\n",
    "padded_x_query_train = sequence.pad_sequences(padded_x_query_train, maxlen=query_max_len+(query_filter_size_m-1)*2,\\\n",
    "                                      padding='pre', truncating='pre', value=0.)\n",
    "padded_x_doc_train = sequence.pad_sequences(x_doc_train, maxlen=doc_max_len+(doc_filter_size_m-1),\\\n",
    "                                      padding='post', truncating='post', value=0.)\n",
    "padded_x_doc_train = sequence.pad_sequences(padded_x_doc_train, maxlen=doc_max_len+(doc_filter_size_m-1)*2,\\\n",
    "                                      padding='pre', truncating='pre', value=0.)\n",
    "\n",
    "\n",
    "print('x_query_train shape:', x_query_train.shape)\n",
    "print('x_doc_train shape:', x_doc_train.shape)\n",
    "# print('x_query_test shape:', x_query_test.shape)\n",
    "# print('x_doc_test shape:', x_doc_test.shape)\n",
    "\n",
    "#TODO: y label on 0-1 scale from 1-3\n",
    "y_train=(train_query_df['relevance'].as_matrix()-1)/3\n",
    "\n",
    "# TODO: as categorical\n",
    "#y_train=to_categorical(train_query_df['relevance_int'].as_matrix(),13)\n",
    "\n",
    "# y_test=test_query_df['relevance_int'].as_matrix()\n",
    "print('y_train shape:', y_train.shape)"
   ]
  },
  {
   "cell_type": "code",
   "execution_count": 95,
   "metadata": {
    "collapsed": false
   },
   "outputs": [
    {
     "data": {
      "text/plain": [
       "6"
      ]
     },
     "execution_count": 95,
     "metadata": {},
     "output_type": "execute_result"
    }
   ],
   "source": [
    "len(max(query_word2vec_idx_list,key=len)) \n",
    "len(max(x_query_train,key=len)) "
   ]
  },
  {
   "cell_type": "code",
   "execution_count": 96,
   "metadata": {
    "collapsed": false
   },
   "outputs": [
    {
     "data": {
      "text/plain": [
       "0.44333333333333336"
      ]
     },
     "execution_count": 96,
     "metadata": {},
     "output_type": "execute_result"
    }
   ],
   "source": [
    "x_doc_train[100]\n",
    "y_train[100]"
   ]
  },
  {
   "cell_type": "code",
   "execution_count": 97,
   "metadata": {
    "collapsed": false
   },
   "outputs": [],
   "source": [
    "exact_match_list=[]\n",
    "for i in range(x_query_train.shape[0]):\n",
    "    #print(i)\n",
    "    c1=x_query_train[i]\n",
    "    c2=x_doc_train[i]\n",
    "    #print(c1.shape[0])\n",
    "    #print(c2.shape[0])\n",
    "\n",
    "    c1_inp=np.repeat(c1,c2.shape[0],axis=0)\n",
    "    c1_inp=c1_inp.reshape((c1.shape[0],c2.shape[0]))\n",
    "    #print(c1_inp.shape)\n",
    "    #print(c1_inp)\n",
    "\n",
    "    #print(c2)\n",
    "    c2_inp=np.tile(c2,(c1.shape[0],1))\n",
    "    #print(c2_inp.shape)\n",
    "    #print(c2_inp)    \n",
    "    #print(c1_inp == c2_inp)\n",
    "    exact_match_list+=[(c1_inp == c2_inp).astype(int)]"
   ]
  },
  {
   "cell_type": "code",
   "execution_count": 98,
   "metadata": {
    "collapsed": false
   },
   "outputs": [],
   "source": [
    "exact_match_inp_train=np.array(exact_match_list)"
   ]
  },
  {
   "cell_type": "code",
   "execution_count": 99,
   "metadata": {
    "collapsed": false
   },
   "outputs": [
    {
     "data": {
      "text/plain": [
       "(74067, 6, 6)"
      ]
     },
     "execution_count": 99,
     "metadata": {},
     "output_type": "execute_result"
    }
   ],
   "source": [
    "exact_match_inp_train.shape"
   ]
  },
  {
   "cell_type": "code",
   "execution_count": 100,
   "metadata": {
    "collapsed": false
   },
   "outputs": [
    {
     "name": "stdout",
     "output_type": "stream",
     "text": [
      "angle bracket\n",
      "simpson strong tie 12 gauge angle\n",
      "[  0 369 346   0   0   0   0   0]\n",
      "[  0 484 523 391  16 256 369   0]\n",
      "[[0 0 0 0 0 1]\n",
      " [0 0 0 0 0 0]\n",
      " [0 0 0 0 0 0]\n",
      " [0 0 0 0 0 0]\n",
      " [0 0 0 0 0 0]\n",
      " [0 0 0 0 0 0]]\n"
     ]
    }
   ],
   "source": [
    "print(train_query_df['search_term'][0])\n",
    "print(product_df['product_title'][0])\n",
    "print(padded_x_query_train[0])\n",
    "print(padded_x_doc_train[0])\n",
    "print(exact_match_inp_train[0])\n"
   ]
  },
  {
   "cell_type": "code",
   "execution_count": null,
   "metadata": {
    "collapsed": false
   },
   "outputs": [],
   "source": []
  },
  {
   "cell_type": "code",
   "execution_count": 101,
   "metadata": {
    "collapsed": false
   },
   "outputs": [
    {
     "name": "stdout",
     "output_type": "stream",
     "text": [
      "Train...\n",
      "Train on 59253 samples, validate on 14814 samples\n",
      "Epoch 1/20\n",
      "Epoch 00000: val_loss improved from inf to 0.03017, saving model to ./model/cnn.h5\n",
      "5s - loss: 0.0291 - acc: 0.0220 - val_loss: 0.0302 - val_acc: 0.0333\n",
      "Epoch 2/20\n",
      "Epoch 00001: val_loss improved from 0.03017 to 0.02819, saving model to ./model/cnn.h5\n",
      "5s - loss: 0.0241 - acc: 0.0235 - val_loss: 0.0282 - val_acc: 0.0359\n",
      "Epoch 3/20\n",
      "Epoch 00002: val_loss did not improve\n",
      "4s - loss: 0.0213 - acc: 0.0244 - val_loss: 0.0304 - val_acc: 0.0326\n",
      "Epoch 4/20\n",
      "Epoch 00003: val_loss did not improve\n",
      "4s - loss: 0.0193 - acc: 0.0249 - val_loss: 0.0297 - val_acc: 0.0337\n",
      "Epoch 5/20\n",
      "Epoch 00004: val_loss did not improve\n",
      "4s - loss: 0.0178 - acc: 0.0252 - val_loss: 0.0298 - val_acc: 0.0348\n",
      "Epoch 00004: early stopping\n"
     ]
    }
   ],
   "source": [
    "batch_size=200#2 #200\n",
    "model_fn='./model/cnn.h5'\n",
    "# model_config_filepath='./model/cnn.json'\n",
    "# with open(model_config_filepath,'w') as f:\n",
    "#     json.dump(model.to_json(),f)\n",
    "\n",
    "print('Train...')\n",
    "ckpt = ModelCheckpoint(filepath=model_fn, monitor='val_loss',\n",
    "                       save_best_only=True, save_weights_only=True,verbose=1)\n",
    "earlystopper = EarlyStopping(monitor='val_loss', patience=2, verbose=1)\n",
    "hist=model.fit([padded_x_query_train,padded_x_doc_train,exact_match_inp_train], [y_train],\n",
    "          batch_size=batch_size,\n",
    "          epochs=20,\n",
    "          validation_split=0.2,\n",
    "          shuffle=True,\n",
    "          verbose=2,\n",
    "          #validation_data=[x_test, y_test]),\n",
    "          callbacks=[ckpt,earlystopper],\n",
    "         )\n"
   ]
  },
  {
   "cell_type": "code",
   "execution_count": 102,
   "metadata": {
    "collapsed": false
   },
   "outputs": [
    {
     "data": {
      "image/png": "[encoded data removed]",
      "text/plain": [
       "<matplotlib.figure.Figure at 0x7fc182aedac8>"
      ]
     },
     "metadata": {},
     "output_type": "display_data"
    }
   ],
   "source": [
    "# summarize history for accuracy\n",
    "plt.figure(figsize=(15, 5))\n",
    "plt.subplot(1, 2, 1)\n",
    "plt.plot(hist.history['acc']); plt.plot(hist.history['val_acc']);\n",
    "plt.title('model accuracy'); plt.ylabel('accuracy');\n",
    "plt.xlabel('epoch'); plt.legend(['train', 'valid'], loc='upper left');\n",
    "\n",
    "# summarize history for loss\n",
    "plt.subplot(1, 2, 2)\n",
    "plt.plot(hist.history['loss']); plt.plot(hist.history['val_loss']);\n",
    "plt.title('model loss'); plt.ylabel('loss');\n",
    "plt.xlabel('epoch'); plt.legend(['train', 'valid'], loc='upper left');\n",
    "plt.show()"
   ]
  },
  {
   "cell_type": "code",
   "execution_count": 103,
   "metadata": {
    "collapsed": false
   },
   "outputs": [
    {
     "name": "stdout",
     "output_type": "stream",
     "text": [
      "== Reload to best weights saved...\n"
     ]
    }
   ],
   "source": [
    "print(\"== Reload to best weights saved...\")\n",
    "model.load_weights(model_fn)"
   ]
  },
  {
   "cell_type": "code",
   "execution_count": 104,
   "metadata": {
    "collapsed": false
   },
   "outputs": [],
   "source": [
    "batch_size=200 #200\n",
    "prediction=model.predict([padded_x_query_train,padded_x_doc_train,exact_match_inp_train],\n",
    "          batch_size=batch_size,\n",
    "         )"
   ]
  },
  {
   "cell_type": "code",
   "execution_count": 105,
   "metadata": {
    "collapsed": false
   },
   "outputs": [
    {
     "data": {
      "text/plain": [
       "(74067, 1)"
      ]
     },
     "execution_count": 105,
     "metadata": {},
     "output_type": "execute_result"
    }
   ],
   "source": [
    "prediction.shape"
   ]
  },
  {
   "cell_type": "code",
   "execution_count": 106,
   "metadata": {
    "collapsed": false
   },
   "outputs": [
    {
     "data": {
      "text/plain": [
       "array([ 0.56328869], dtype=float32)"
      ]
     },
     "execution_count": 106,
     "metadata": {},
     "output_type": "execute_result"
    }
   ],
   "source": [
    "prediction[0]"
   ]
  },
  {
   "cell_type": "code",
   "execution_count": 107,
   "metadata": {
    "collapsed": true
   },
   "outputs": [],
   "source": [
    "def pred2relevance_categorical(prediction):\n",
    "    orig_labels = [ 1.  ,  1.25 , 1.33 , 1.5 ,  1.67,  1.75,  2. ,   2.25 , 2.33  ,2.5 ,  2.67  ,2.75 ,3.  ]\n",
    "    new_labels= [ 0 , 1 , 2 , 3 , 4 , 5,  6 , 7 , 8,  9, 10 ,11, 12]\n",
    "    orig_labels_prediction=[]\n",
    "    for preds in prediction:\n",
    "        #print(preds)\n",
    "        max_idx=np.argmax(preds)\n",
    "        orig_labels_prediction+=[orig_labels[max_idx]]\n",
    "    return np.array(orig_labels_prediction)"
   ]
  },
  {
   "cell_type": "code",
   "execution_count": 108,
   "metadata": {
    "collapsed": false
   },
   "outputs": [
    {
     "name": "stdout",
     "output_type": "stream",
     "text": [
      "1.0\n",
      "1.48123156189\n"
     ]
    }
   ],
   "source": [
    "### categorical\n",
    "orig_labels_prediction =  pred2relevance_categorical(prediction)\n",
    "print(orig_labels_prediction[0])\n",
    "from sklearn.metrics import mean_squared_error\n",
    "RMSE = mean_squared_error(train_query_df['relevance'].as_matrix(), orig_labels_prediction)**0.5\n",
    "print(RMSE)"
   ]
  },
  {
   "cell_type": "code",
   "execution_count": 109,
   "metadata": {
    "collapsed": false
   },
   "outputs": [
    {
     "name": "stdout",
     "output_type": "stream",
     "text": [
      "0.451254005288\n"
     ]
    }
   ],
   "source": [
    "### regression\n",
    "RMSE = mean_squared_error(train_query_df['relevance'].as_matrix(), (prediction*3)+1)**0.5\n",
    "print(RMSE)"
   ]
  },
  {
   "cell_type": "code",
   "execution_count": null,
   "metadata": {
    "collapsed": false
   },
   "outputs": [],
   "source": []
  },
  {
   "cell_type": "markdown",
   "metadata": {
    "collapsed": false
   },
   "source": [
    "# print(\"Predict\")\n",
    "word_a = 'wood'#raw_input('First word: ')\n",
    "if word_a not in word2idx:\n",
    "    print('\"%s\" is not in the index' % word_a)\n",
    "word_b = 'fan'#raw_input('Second word: ')\n",
    "if word_b not in word2idx:\n",
    "    print('\"%s\" is not in the index' % word_b)\n",
    "output = model.predict([np.asarray([word2idx[word_a]]), np.asarray([word2idx[word_b]])])\n",
    "print('%f' % output)"
   ]
  },
  {
   "cell_type": "code",
   "execution_count": 110,
   "metadata": {
    "collapsed": false
   },
   "outputs": [],
   "source": [
    "test_df=test_private_df"
   ]
  },
  {
   "cell_type": "code",
   "execution_count": 111,
   "metadata": {
    "collapsed": false
   },
   "outputs": [
    {
     "name": "stdout",
     "output_type": "stream",
     "text": [
      "Parsing sentences from search string\n"
     ]
    }
   ],
   "source": [
    "test_query_sentences = []\n",
    "\n",
    "print(\"Parsing sentences from search string\")\n",
    "for query in test_df[\"search_term\"]:\n",
    "    words,vocab = doc_to_wordlist(query, vocab, remove_stopwords=True)\n",
    "    test_query_sentences += [words]\n",
    "    "
   ]
  },
  {
   "cell_type": "code",
   "execution_count": 112,
   "metadata": {
    "collapsed": false
   },
   "outputs": [
    {
     "data": {
      "text/plain": [
       "78419"
      ]
     },
     "execution_count": 112,
     "metadata": {},
     "output_type": "execute_result"
    }
   ],
   "source": [
    "len(test_query_sentences)"
   ]
  },
  {
   "cell_type": "code",
   "execution_count": 113,
   "metadata": {
    "collapsed": false
   },
   "outputs": [
    {
     "name": "stdout",
     "output_type": "stream",
     "text": [
      "78419\n"
     ]
    }
   ],
   "source": [
    "test_query_word2vec_idx_list = query_sent2idx(test_query_sentences)"
   ]
  },
  {
   "cell_type": "code",
   "execution_count": 114,
   "metadata": {
    "collapsed": false
   },
   "outputs": [
    {
     "name": "stdout",
     "output_type": "stream",
     "text": [
      "78419\n"
     ]
    }
   ],
   "source": [
    "test_joined_df=test_df.join(product_df.set_index('product_uid'), on='product_uid')\n",
    "\n",
    "test_joined_doc_sentences=[]\n",
    "for doc in test_joined_df['content']:\n",
    "    words,vocab = doc_to_wordlist(doc, vocab, remove_stopwords=True)\n",
    "    test_joined_doc_sentences += [words]\n",
    "    \n",
    "test_doc_word2vec_idx_list = query_sent2idx(test_joined_doc_sentences)"
   ]
  },
  {
   "cell_type": "code",
   "execution_count": 115,
   "metadata": {
    "collapsed": false
   },
   "outputs": [
    {
     "name": "stdout",
     "output_type": "stream",
     "text": [
      "Pad sequences (samples x time)\n",
      "x_query_test shape: (78419, 6)\n",
      "x_doc_test shape: (78419, 6)\n",
      "padded_x_query_test shape: (78419, 8)\n",
      "padded_x_doc_test shape: (78419, 8)\n"
     ]
    }
   ],
   "source": [
    "x_query_test=np.array(test_query_word2vec_idx_list)[0:78419]\n",
    "x_doc_test=np.array(test_doc_word2vec_idx_list)[0:78419]\n",
    "\n",
    "# TODO: replace this with embedding with mask zero rather than padding, need to change index for encoding too, imput dim too.\n",
    "print(\"Pad sequences (samples x time)\")\n",
    "x_query_test = sequence.pad_sequences(x_query_test, maxlen=query_max_len,padding='post', truncating='post', value=0.)\n",
    "x_doc_test = sequence.pad_sequences(x_doc_test, maxlen=doc_max_len,padding='post', truncating='post', value=0.)\n",
    "# x_query_test = sequence.pad_sequences(x_query_test, maxlen=query_max_len)\n",
    "# x_doc_test = sequence.pad_sequences(x_doc_test, maxlen=doc_max_len)\n",
    "\n",
    "# Padding for wide convolution\n",
    "# Pad input with m-1 zeros from left and right. m is filter size\n",
    "padded_x_query_test = sequence.pad_sequences(x_query_test, maxlen=query_max_len+(query_filter_size_m-1),\\\n",
    "                                      padding='post', truncating='post', value=0.)\n",
    "padded_x_query_test = sequence.pad_sequences(padded_x_query_test, maxlen=query_max_len+(query_filter_size_m-1)*2,\\\n",
    "                                      padding='pre', truncating='pre', value=0.)\n",
    "padded_x_doc_test = sequence.pad_sequences(x_doc_test, maxlen=doc_max_len+(doc_filter_size_m-1),\\\n",
    "                                      padding='post', truncating='post', value=0.)\n",
    "padded_x_doc_test = sequence.pad_sequences(padded_x_doc_test, maxlen=doc_max_len+(doc_filter_size_m-1)*2,\\\n",
    "                                      padding='pre', truncating='pre', value=0.)\n",
    "\n",
    "print('x_query_test shape:', x_query_test.shape)\n",
    "print('x_doc_test shape:', x_doc_test.shape)\n",
    "print('padded_x_query_test shape:', padded_x_query_test.shape)\n",
    "print('padded_x_doc_test shape:', padded_x_doc_test.shape)\n",
    "\n",
    "#TODO: y label on 0-1 scale from 1-3\n",
    "#y_train=(train_query_df['relevance'].as_matrix()-1)/3\n",
    "\n",
    "# TODO: as categorical\n",
    "#y_test=to_categorical(train_query_df['relevance_int'].as_matrix(),13)\n",
    "# y_test=test_query_df['relevance_int'].as_matrix()\n",
    "#print('y_train shape:', y_train.shape)\n"
   ]
  },
  {
   "cell_type": "code",
   "execution_count": 116,
   "metadata": {
    "collapsed": false
   },
   "outputs": [
    {
     "data": {
      "text/plain": [
       "(78419, 6, 6)"
      ]
     },
     "execution_count": 116,
     "metadata": {},
     "output_type": "execute_result"
    }
   ],
   "source": [
    "exact_match_list_test=[]\n",
    "for i in range(x_query_test.shape[0]):\n",
    "    #print(i)\n",
    "    c1=x_query_test[i]\n",
    "    c2=x_doc_test[i]\n",
    "    #print(c1.shape[0])\n",
    "    #print(c2.shape[0])\n",
    "\n",
    "    c1_inp=np.repeat(c1,c2.shape[0],axis=0)\n",
    "    c1_inp=c1_inp.reshape((c1.shape[0],c2.shape[0]))\n",
    "    #print(c1_inp.shape)\n",
    "    #print(c1_inp)\n",
    "\n",
    "    #print(c2)\n",
    "    c2_inp=np.tile(c2,(c1.shape[0],1))\n",
    "    #print(c2_inp.shape)\n",
    "    #print(c2_inp)    \n",
    "    #print(c1_inp == c2_inp)\n",
    "    exact_match_list_test+=[(c1_inp == c2_inp).astype(int)]\n",
    "\n",
    "exact_match_inp_test=np.array(exact_match_list_test)\n",
    "exact_match_inp_test.shape"
   ]
  },
  {
   "cell_type": "code",
   "execution_count": 117,
   "metadata": {
    "collapsed": false
   },
   "outputs": [
    {
     "name": "stdout",
     "output_type": "stream",
     "text": [
      "90 degree bracket\n",
      "[ 484 3250  244    0    0    0]\n",
      "[484 523 391  16 256 369]\n",
      "[[1 0 0 0 0 0]\n",
      " [0 0 0 0 0 0]\n",
      " [0 0 0 0 0 0]\n",
      " [0 0 0 0 0 0]\n",
      " [0 0 0 0 0 0]\n",
      " [0 0 0 0 0 0]]\n"
     ]
    }
   ],
   "source": [
    "print(test_query_df['search_term'][0])\n",
    "print(x_query_test[0])\n",
    "print(x_doc_test[0])\n",
    "print(exact_match_inp_test[0])"
   ]
  },
  {
   "cell_type": "code",
   "execution_count": 118,
   "metadata": {
    "collapsed": false
   },
   "outputs": [],
   "source": [
    "batch_size=200 #200\n",
    "test_prediction=model.predict([padded_x_query_test,padded_x_doc_test,exact_match_inp_test],\n",
    "          batch_size=batch_size,\n",
    "         )"
   ]
  },
  {
   "cell_type": "code",
   "execution_count": 119,
   "metadata": {
    "collapsed": false
   },
   "outputs": [
    {
     "data": {
      "text/plain": [
       "(78419, 1)"
      ]
     },
     "execution_count": 119,
     "metadata": {},
     "output_type": "execute_result"
    }
   ],
   "source": [
    "test_prediction.shape"
   ]
  },
  {
   "cell_type": "code",
   "execution_count": 120,
   "metadata": {
    "collapsed": false
   },
   "outputs": [
    {
     "data": {
      "text/plain": [
       "array([ 0.27937871], dtype=float32)"
      ]
     },
     "execution_count": 120,
     "metadata": {},
     "output_type": "execute_result"
    }
   ],
   "source": [
    "test_prediction[0]"
   ]
  },
  {
   "cell_type": "code",
   "execution_count": 121,
   "metadata": {
    "collapsed": false
   },
   "outputs": [
    {
     "name": "stdout",
     "output_type": "stream",
     "text": [
      "1.0\n",
      "1.48151343796\n"
     ]
    }
   ],
   "source": [
    "### categorical\n",
    "test_orig_labels_prediction =  pred2relevance_categorical(test_prediction)\n",
    "print(test_orig_labels_prediction[0])\n",
    "test_RMSE = mean_squared_error(test_df['relevance'].as_matrix(), test_orig_labels_prediction)**0.5\n",
    "print(test_RMSE)"
   ]
  },
  {
   "cell_type": "code",
   "execution_count": 122,
   "metadata": {
    "collapsed": false
   },
   "outputs": [
    {
     "name": "stdout",
     "output_type": "stream",
     "text": [
      "0.544830636579\n"
     ]
    }
   ],
   "source": [
    "### regression\n",
    "test_RMSE = mean_squared_error(test_df['relevance'].as_matrix(), (test_prediction*3)+1)**0.5\n",
    "print(test_RMSE)"
   ]
  },
  {
   "cell_type": "code",
   "execution_count": 123,
   "metadata": {
    "collapsed": false
   },
   "outputs": [
    {
     "data": {
      "text/plain": [
       "array([ 2.33,  2.67,  2.67, ...,  1.  ,  2.67,  2.33])"
      ]
     },
     "execution_count": 123,
     "metadata": {},
     "output_type": "execute_result"
    }
   ],
   "source": [
    "test_df['relevance'].as_matrix()"
   ]
  },
  {
   "cell_type": "code",
   "execution_count": 124,
   "metadata": {
    "collapsed": false
   },
   "outputs": [
    {
     "data": {
      "text/plain": [
       "array([[ 1.8381362 ],\n",
       "       [ 2.6492672 ],\n",
       "       [ 2.35944319],\n",
       "       ..., \n",
       "       [ 2.02104449],\n",
       "       [ 2.15400457],\n",
       "       [ 2.32568264]], dtype=float32)"
      ]
     },
     "execution_count": 124,
     "metadata": {},
     "output_type": "execute_result"
    }
   ],
   "source": [
    "(test_prediction*3)+1"
   ]
  },
  {
   "cell_type": "code",
   "execution_count": null,
   "metadata": {
    "collapsed": true
   },
   "outputs": [],
   "source": []
  },
  {
   "cell_type": "code",
   "execution_count": null,
   "metadata": {
    "collapsed": true
   },
   "outputs": [],
   "source": []
  },
  {
   "cell_type": "code",
   "execution_count": null,
   "metadata": {
    "collapsed": true
   },
   "outputs": [],
   "source": []
  }
 ],
 "metadata": {
  "kernelspec": {
   "display_name": "Python 3",
   "language": "python",
   "name": "python3"
  },
  "language_info": {
   "codemirror_mode": {
    "name": "ipython",
    "version": 3
   },
   "file_extension": ".py",
   "mimetype": "text/x-python",
   "name": "python",
   "nbconvert_exporter": "python",
   "pygments_lexer": "ipython3",
   "version": "3.6.0"
  }
 },
 "nbformat": 4,
 "nbformat_minor": 2
}
